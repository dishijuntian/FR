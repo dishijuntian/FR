{
 "cells": [
  {
   "cell_type": "code",
   "execution_count": 2,
   "id": "27ac1202",
   "metadata": {},
   "outputs": [],
   "source": [
    "import pandas as pd\n",
    "import numpy as np\n",
    "import pyarrow.parquet as pq\n",
    "from memory_profiler import profile\n",
    "import matplotlib.pyplot as plt\n",
    "import seaborn as sns\n",
    "import os\n",
    "import warnings"
   ]
  },
  {
   "cell_type": "code",
   "execution_count": 3,
   "id": "5e66ba5b",
   "metadata": {},
   "outputs": [
    {
     "name": "stdout",
     "output_type": "stream",
     "text": [
      "ERROR: Could not find file C:\\Users\\25495\\AppData\\Local\\Temp\\ipykernel_158484\\1171195580.py\n"
     ]
    }
   ],
   "source": [
    "warnings.filterwarnings(\"ignore\")\n",
    "@profile\n",
    "def load_data_with_memory_optimization(file_path):\n",
    "    \"\"\"\n",
    "    内存优化的数据加载函数\n",
    "    使用PyArrow的Parquet读取器进行分块处理\n",
    "    \"\"\"\n",
    "    # 首先只读取元数据获取列信息\n",
    "    parquet_file = pq.ParquetFile(file_path)\n",
    "    \n",
    "    # 获取列的数据类型\n",
    "    schema = parquet_file.schema.to_arrow_schema()\n",
    "    column_types = {name: str(type_) for name, type_ in zip(schema.names, schema.types)}\n",
    "    \n",
    "    # 定义优化的数据类型\n",
    "    dtype_mapping = {}\n",
    "    for col, col_type in column_types.items():\n",
    "        if 'int' in col_type:\n",
    "            dtype_mapping[col] = 'int32'\n",
    "        elif 'float' in col_type:\n",
    "            dtype_mapping[col] = 'float32'\n",
    "        elif 'bool' in col_type:\n",
    "            dtype_mapping[col] = 'bool'\n",
    "        else:\n",
    "            # 对于对象类型，尝试转换为category如果基数低\n",
    "            dtype_mapping[col] = 'category'\n",
    "    \n",
    "    # 分块读取数据\n",
    "    chunk_size = 100000  # 根据内存调整\n",
    "    chunks = []\n",
    "    for batch in parquet_file.iter_batches(batch_size=chunk_size):\n",
    "        df_chunk = batch.to_pandas()\n",
    "        \n",
    "        # 优化数据类型\n",
    "        for col, dtype in dtype_mapping.items():\n",
    "            if col in df_chunk.columns:\n",
    "                try:\n",
    "                    if dtype == 'category':\n",
    "                        # 仅当唯一值较少时才转换为category\n",
    "                        if len(df_chunk[col].unique()) / len(df_chunk) < 0.1:\n",
    "                            df_chunk[col] = df_chunk[col].astype('category')\n",
    "                    else:\n",
    "                        df_chunk[col] = df_chunk[col].astype(dtype)\n",
    "                except (ValueError, TypeError):\n",
    "                    pass\n",
    "        \n",
    "        chunks.append(df_chunk)\n",
    "    \n",
    "    # 合并分块\n",
    "    df = pd.concat(chunks, ignore_index=True)\n",
    "    \n",
    "    return df\n",
    "\n",
    "# 使用示例\n",
    "train_path = 'E:/GIT PROJECT/FR/kaggle/input/data/aeroclub-recsys-2025/processed_train.parquet'\n",
    "train_df = load_data_with_memory_optimization(train_path)\n",
    "\n",
    "# 显示基本信息\n",
    "# print(f\"数据集维度: {train_df.shape}\")\n",
    "# print(\"\\n前5行数据:\")\n",
    "# print(train_df.head())\n",
    "# print(\"\\n数据类型:\")\n",
    "# print(train_df.dtypes)\n",
    "# print(\"\\n内存使用:\")\n",
    "# print(train_df.memory_usage(deep=True).sum() / (1024**2), \"MB\")"
   ]
  },
  {
   "cell_type": "code",
   "execution_count": null,
   "id": "4a28b0f1",
   "metadata": {},
   "outputs": [],
   "source": [
    "@profile\n",
    "def analyze_group_distribution(df, group_col='ranker_id'):\n",
    "    \"\"\"\n",
    "    分析组大小分布，内存优化版本\n",
    "    \"\"\"\n",
    "    # 使用groupby的size()方法，这是内存效率最高的方式\n",
    "    group_sizes = df.groupby(group_col).size()\n",
    "    \n",
    "    # 转换为更节省内存的Series\n",
    "    group_sizes = group_sizes.astype('int32')\n",
    "    \n",
    "    # 计算统计信息\n",
    "    stats = {\n",
    "        'total_groups': len(group_sizes),\n",
    "        'mean_size': group_sizes.mean(),\n",
    "        'median_size': group_sizes.median(),\n",
    "        'min_size': group_sizes.min(),\n",
    "        'max_size': group_sizes.max(),\n",
    "        'std_size': group_sizes.std(),\n",
    "        'percentiles': group_sizes.quantile([0.25, 0.5, 0.75, 0.9, 0.95, 0.99]).to_dict()\n",
    "    }\n",
    "    \n",
    "    # 可视化组大小分布（对数尺度）\n",
    "    import matplotlib.pyplot as plt\n",
    "    plt.figure(figsize=(10, 6))\n",
    "    plt.hist(group_sizes, bins=50, log=True)\n",
    "    plt.title(f'Distribution of {group_col} group sizes (log scale)')\n",
    "    plt.xlabel('Group size')\n",
    "    plt.ylabel('Frequency (log)')\n",
    "    plt.grid(True)\n",
    "    plt.savefig('group_size_distribution.png')\n",
    "    plt.close()\n",
    "    \n",
    "    return stats, group_sizes\n",
    "\n",
    "group_stats, group_sizes = analyze_group_distribution(train_df)\n",
    "print(\"\\n组大小统计信息:\")\n",
    "for k, v in group_stats.items():\n",
    "    print(f\"{k}: {v}\")"
   ]
  },
  {
   "cell_type": "code",
   "execution_count": null,
   "id": "6d33dd33",
   "metadata": {},
   "outputs": [],
   "source": [
    "@profile\n",
    "def analyze_user_segments(df):\n",
    "    \"\"\"\n",
    "    分析用户细分市场模式，内存优化版本\n",
    "    \"\"\"\n",
    "    # 选择关键用户特征进行分析\n",
    "    user_cols = ['profileId', 'companyID', 'sex', 'nationality', \n",
    "                'frequentFlyer', 'isVip', 'bySelf', 'isAccess3D']\n",
    "    \n",
    "    # 确保这些列存在\n",
    "    user_cols = [col for col in user_cols if col in df.columns]\n",
    "    \n",
    "    # 创建用户特征DataFrame，删除重复项\n",
    "    user_features = df[user_cols].drop_duplicates(subset=['profileId'])\n",
    "    \n",
    "    # 分析公司分布\n",
    "    company_dist = user_features['companyID'].value_counts(normalize=True)\n",
    "    \n",
    "    # 分析用户人口统计\n",
    "    demo_stats = {}\n",
    "    for col in ['sex', 'nationality', 'frequentFlyer', 'isVip', 'bySelf', 'isAccess3D']:\n",
    "        if col in user_features.columns:\n",
    "            demo_stats[col] = user_features[col].value_counts(normalize=True).to_dict()\n",
    "    \n",
    "    # 分析公司政策影响\n",
    "    if 'corporateTariffCode' in df.columns:\n",
    "        policy_impact = df.groupby(['companyID', 'corporateTariffCode']).size().unstack(fill_value=0)\n",
    "    else:\n",
    "        policy_impact = None\n",
    "    \n",
    "    return {\n",
    "        'company_distribution': company_dist.to_dict(),\n",
    "        'demographic_stats': demo_stats,\n",
    "        'policy_impact': policy_impact\n",
    "    }\n",
    "\n",
    "# 使用示例\n",
    "user_segment_stats = analyze_user_segments(train_df)\n",
    "print(\"\\n用户细分市场分析:\")\n",
    "print(\"公司分布:\", user_segment_stats['company_distribution'])\n",
    "print(\"\\n人口统计:\")\n",
    "for k, v in user_segment_stats['demographic_stats'].items():\n",
    "    print(f\"{k}: {v}\")"
   ]
  },
  {
   "cell_type": "code",
   "execution_count": null,
   "id": "107042f1",
   "metadata": {},
   "outputs": [],
   "source": [
    "@profile\n",
    "def analyze_flight_features(df, sample_size=100000):\n",
    "    \"\"\"\n",
    "    分析航班特征分布，使用采样减少内存使用\n",
    "    \"\"\"\n",
    "    # 对大型数据集进行采样\n",
    "    if len(df) > sample_size:\n",
    "        df_sample = df.sample(n=sample_size, random_state=42)\n",
    "    else:\n",
    "        df_sample = df.copy()\n",
    "    \n",
    "    # 选择关键航班特征\n",
    "    flight_cols = ['totalPrice', 'taxes', 'legs0_duration', 'legs1_duration',\n",
    "                  'legs0_segments0_cabinClass', 'legs1_segments0_cabinClass',\n",
    "                  'miniRules0_statusInfos', 'miniRules1_statusInfos',\n",
    "                  'pricingInfo_isAccessTP']\n",
    "    \n",
    "    # 确保这些列存在\n",
    "    flight_cols = [col for col in flight_cols if col in df_sample.columns]\n",
    "    \n",
    "    # 分析数值特征\n",
    "    num_features = ['totalPrice', 'taxes', 'legs0_duration', 'legs1_duration']\n",
    "    num_features = [col for col in num_features if col in flight_cols]\n",
    "    num_stats = df_sample[num_features].describe().to_dict()\n",
    "    \n",
    "    # 分析分类特征\n",
    "    cat_features = [col for col in flight_cols if col not in num_features]\n",
    "    cat_stats = {}\n",
    "    for col in cat_features:\n",
    "        cat_stats[col] = df_sample[col].value_counts(normalize=True).to_dict()\n",
    "    \n",
    "    # 可视化关键特征\n",
    "    import matplotlib.pyplot as plt\n",
    "    for col in num_features:\n",
    "        plt.figure(figsize=(10, 6))\n",
    "        plt.hist(df_sample[col].dropna(), bins=50)\n",
    "        plt.title(f'Distribution of {col}')\n",
    "        plt.xlabel(col)\n",
    "        plt.ylabel('Frequency')\n",
    "        plt.grid(True)\n",
    "        plt.savefig(f'{col}_distribution.png')\n",
    "        plt.close()\n",
    "    \n",
    "    return {\n",
    "        'numerical_stats': num_stats,\n",
    "        'categorical_stats': cat_stats\n",
    "    }\n",
    "\n",
    "# 使用示例\n",
    "flight_feature_stats = analyze_flight_features(train_df)\n",
    "print(\"\\n航班特征分析:\")\n",
    "print(\"数值特征统计:\")\n",
    "for k, v in flight_feature_stats['numerical_stats'].items():\n",
    "    print(f\"{k}: {v}\")\n",
    "print(\"\\n分类特征统计:\")\n",
    "for k, v in flight_feature_stats['categorical_stats'].items():\n",
    "    print(f\"{k}: {v}\")"
   ]
  },
  {
   "cell_type": "code",
   "execution_count": null,
   "id": "f5c1c6ce",
   "metadata": {},
   "outputs": [],
   "source": [
    "import pyarrow.parquet as pq\n",
    "import pandas as pd\n",
    "\n",
    "def analyze_null_columns(parquet_path, threshold=99):\n",
    "    \"\"\"\n",
    "    分析Parquet文件中空值比例过高的特征\n",
    "    \n",
    "    参数:\n",
    "        parquet_path: Parquet文件路径\n",
    "        threshold: 空值比例阈值(百分比)，默认99%\n",
    "    \n",
    "    返回:\n",
    "        DataFrame包含空值比例超过阈值的特征及其统计信息\n",
    "    \"\"\"\n",
    "    # 1. 打开Parquet文件\n",
    "    parquet_file = pq.ParquetFile(parquet_path)\n",
    "    \n",
    "    # 2. 获取列名和初始化计数器\n",
    "    schema = parquet_file.schema_arrow  # 使用schema_arrow替代schema\n",
    "    columns = schema.names\n",
    "    null_counts = {col: 0 for col in columns}\n",
    "    total_rows = parquet_file.metadata.num_rows\n",
    "    \n",
    "    print(f\"开始分析文件: {parquet_path}\")\n",
    "    print(f\"总行数: {total_rows:,}\")\n",
    "    print(f\"总特征数: {len(columns)}\")\n",
    "    \n",
    "    # 3. 分批次读取\n",
    "    batch_size = 5000  # 根据内存调整\n",
    "    processed_rows = 0\n",
    "    \n",
    "    for batch in parquet_file.iter_batches(batch_size=batch_size):\n",
    "        df_batch = batch.to_pandas()\n",
    "        processed_rows += len(df_batch)\n",
    "        \n",
    "        # 更新进度信息\n",
    "        progress = (processed_rows / total_rows) * 100\n",
    "        print(f\"\\r处理进度: {progress:.1f}% ({processed_rows:,}/{total_rows:,}行)\", end=\"\", flush=True)\n",
    "        \n",
    "        for col in columns:\n",
    "            if col in df_batch.columns:\n",
    "                null_counts[col] += df_batch[col].isnull().sum()\n",
    "    \n",
    "    print(\"\\n分析完成!\")\n",
    "    \n",
    "    # 4. 计算空值比例\n",
    "    null_percent = {col: (null_counts[col] / total_rows) * 100 for col in columns}\n",
    "    \n",
    "    # 5. 创建结果DataFrame\n",
    "    result_df = pd.DataFrame({\n",
    "        'feature': columns,\n",
    "        'null_count': [null_counts[col] for col in columns],\n",
    "        'null_percent': [null_percent[col] for col in columns],\n",
    "        'dtype': [str(schema.field(col).type) for col in columns]  # 使用schema.field\n",
    "    })\n",
    "    \n",
    "    # 6. 筛选并排序高比例空值特征\n",
    "    high_null_df = result_df[result_df['null_percent'] > threshold]\\\n",
    "                     .sort_values('null_percent', ascending=False)\n",
    "    \n",
    "    return high_null_df\n",
    "\n",
    "# 使用示例\n",
    "try:\n",
    "    high_null_features = analyze_null_columns(\n",
    "        'E:/GIT PROJECT/FR/kaggle/input/data/aeroclub-recsys-2025/train.parquet',\n",
    "        threshold=-1  # 可以调整此阈值\n",
    "    )\n",
    "\n",
    "    print(len(high_null_features))\n",
    "    # 打印结果\n",
    "    if not high_null_features.empty:\n",
    "        print(\"\\n空值比例超过阈值的特征:\")\n",
    "        print(high_null_features[['feature', 'null_percent', 'dtype']].to_string(index=False))\n",
    "        \n",
    "        # 保存结果到CSV\n",
    "        high_null_features.to_csv('high_null_features.csv', index=False)\n",
    "        print(\"\\n结果已保存到 high_null_features.csv\")\n",
    "    else:\n",
    "        print(\"\\n没有发现空值比例超过阈值的特征\")\n",
    "        \n",
    "except Exception as e:\n",
    "    print(f\"发生错误: {str(e)}\")"
   ]
  },
  {
   "cell_type": "code",
   "execution_count": 13,
   "id": "12dfbb8f",
   "metadata": {},
   "outputs": [
    {
     "name": "stdout",
     "output_type": "stream",
     "text": [
      "ERROR: Could not find file C:\\Users\\25495\\AppData\\Local\\Temp\\ipykernel_158484\\776362505.py\n",
      "\n",
      "改进版数据一致性检查:\n",
      "single_selected_per_group: False\n",
      "price_greater_than_taxes: Columns not available\n",
      "departure_before_arrival: {'leg0': np.False_, 'leg1': np.False_}\n",
      "invalid_count: 0\n",
      "time_format_errors: {'leg0_invalid_timestamps': np.int64(0), 'leg1_invalid_timestamps': np.int64(0)}\n",
      "valid_cabin_classes: False\n",
      "invalid_groups: 75\n"
     ]
    }
   ],
   "source": [
    "@profile\n",
    "def validate_data_consistency(df, sample_size=500000):\n",
    "    \"\"\"\n",
    "    验证数据一致性规则，使用采样减少内存使用\n",
    "    \"\"\"\n",
    "    # 对大型数据集进行采样\n",
    "    if len(df) > sample_size:\n",
    "        df_sample = df.sample(n=sample_size, random_state=42)\n",
    "    else:\n",
    "        df_sample = df.copy()\n",
    "    \n",
    "    # 检查1: 每个ranker_id组只有一个selected=1的记录或全部为0\n",
    "    selected_counts = df_sample.groupby('ranker_id')['selected'].sum()\n",
    "    # 修正条件判断：每个组的selected总和要么等于1，要么等于0\n",
    "    invalid_groups = selected_counts[(selected_counts != 1) & (selected_counts != 0)]\n",
    "    selected_check = len(invalid_groups) == 0\n",
    "    \n",
    "    if 'totalPrice' in df_sample.columns and 'taxes' in df_sample.columns:\n",
    "        price_check = (df_sample['totalPrice'] >= df_sample['taxes']).all()\n",
    "    else:\n",
    "        price_check = \"Columns not available\"\n",
    "    \n",
    "    # 检查3: 出发时间早于到达时间（改进部分）\n",
    "    time_checks = {}\n",
    "    time_format_errors = {}\n",
    "    \n",
    "    def safe_convert_to_datetime(series):\n",
    "        \"\"\"安全转换时间格式，记录错误\"\"\"\n",
    "        try:\n",
    "            return pd.to_datetime(series, errors='coerce')\n",
    "        except Exception as e:\n",
    "            print(f\"时间转换错误: {e}\")\n",
    "            return pd.Series([pd.NaT] * len(series), False)\n",
    "    \n",
    "    # 处理leg0的时间比较\n",
    "    if 'legs0_departureAt' in df_sample.columns and 'legs0_arrivalAt' in df_sample.columns:\n",
    "        # 转换时间格式\n",
    "        # leg0_departure = safe_convert_to_datetime(df_sample['legs0_departureAt'])\n",
    "        # leg0_arrival = safe_convert_to_datetime(df_sample['legs0_arrivalAt'])\n",
    "        leg0_departure = df_sample['legs0_departureAt']\n",
    "        leg0_arrival = df_sample['legs0_arrivalAt']\n",
    "        # 检查转换是否成功\n",
    "        if leg0_departure is not None and leg0_arrival is not None:\n",
    "            # 计算有效时间记录\n",
    "            valid_mask = (~leg0_departure.isna()) & (~leg0_arrival.isna())\n",
    "            valid_count = valid_mask.sum()\n",
    "            invalid_count = len(df_sample) - valid_count\n",
    "            \n",
    "            # 只比较有效时间记录\n",
    "            if valid_count > 0:\n",
    "                time_checks['leg0'] = (leg0_arrival[valid_mask] > leg0_departure[valid_mask]).all()\n",
    "                time_format_errors['leg0_invalid_timestamps'] = invalid_count\n",
    "            else:\n",
    "                time_checks['leg0'] = \"No valid timestamps\"\n",
    "        else:\n",
    "            time_checks['leg0'] = \"Time conversion failed\"\n",
    "    \n",
    "    # 处理leg1的时间比较\n",
    "    if 'legs1_departureAt' in df_sample.columns and 'legs1_arrivalAt' in df_sample.columns:\n",
    "        # 转换时间格式\n",
    "        # leg1_departure = safe_convert_to_datetime(df_sample['legs1_departureAt'])\n",
    "        # leg1_arrival = safe_convert_to_datetime(df_sample['legs1_arrivalAt'])\n",
    "        leg1_departure = df_sample['legs1_departureAt']\n",
    "        leg1_arrival = df_sample['legs1_arrivalAt']\n",
    "        # 检查转换是否成功\n",
    "        if leg1_departure is not None and leg1_arrival is not None:\n",
    "            # 计算有效时间记录\n",
    "            valid_mask = (~leg1_departure.isna()) & (~leg1_arrival.isna())\n",
    "            valid_count = valid_mask.sum()\n",
    "            invalid_count = len(df_sample) - valid_count\n",
    "            \n",
    "            # 只比较有效时间记录\n",
    "            if valid_count > 0:\n",
    "                time_checks['leg1'] = (leg1_arrival[valid_mask] > leg1_departure[valid_mask]).all()\n",
    "                time_format_errors['leg1_invalid_timestamps'] = invalid_count\n",
    "            else:\n",
    "                time_checks['leg1'] = \"No valid timestamps\"\n",
    "        else:\n",
    "            time_checks['leg1'] = \"Time conversion failed\"\n",
    "    \n",
    "    # 检查4: 舱位等级是否有效\n",
    "    if 'legs0_segments0_cabinClass' in df_sample.columns:\n",
    "        cabin_classes = df_sample['legs0_segments0_cabinClass'].dropna().unique()\n",
    "        valid_classes = {1.0, 2.0, 4.0}\n",
    "        cabin_check = all(x in valid_classes for x in cabin_classes)\n",
    "    else:\n",
    "        cabin_check = \"Column not available\"\n",
    "    \n",
    "    return {\n",
    "        'single_selected_per_group': selected_check,\n",
    "        'price_greater_than_taxes': price_check,\n",
    "        'departure_before_arrival': time_checks,\n",
    "        'invalid_count':invalid_count,\n",
    "        'time_format_errors': time_format_errors,\n",
    "        'valid_cabin_classes': cabin_check,\n",
    "        'invalid_groups': len(invalid_groups)\n",
    "    }\n",
    "\n",
    "# 使用示例\n",
    "consistency_checks = validate_data_consistency(train_df)\n",
    "print(\"\\n改进版数据一致性检查:\")\n",
    "for k, v in consistency_checks.items():\n",
    "    print(f\"{k}: {v}\")"
   ]
  },
  {
   "cell_type": "code",
   "execution_count": 2,
   "id": "02ceddd0",
   "metadata": {},
   "outputs": [
    {
     "name": "stdout",
     "output_type": "stream",
     "text": [
      "Found 4407328 invalid rows. Saved to E:/GIT PROJECT/FR/invalid_flight_times.csv\n"
     ]
    }
   ],
   "source": [
    "import pandas as pd\n",
    "import pyarrow.parquet as pq\n",
    "from pathlib import Path\n",
    "\n",
    "def validate_flight_times_large(input_path, output_path, chunksize=100000):\n",
    "    \"\"\"\n",
    "    Memory-efficient validation of flight times for large Parquet files.\n",
    "    \n",
    "    Args:\n",
    "        input_path (str): Path to input Parquet file\n",
    "        output_path (str): Path to output CSV file for invalid rows\n",
    "        chunksize (int): Number of rows to process at a time\n",
    "    \"\"\"\n",
    "    # Initialize variables\n",
    "    invalid_rows = []\n",
    "    first_chunk = True\n",
    "    output_file = Path(output_path)\n",
    "    \n",
    "    # Create Parquet file iterator\n",
    "    parquet_file = pq.ParquetFile(input_path)\n",
    "    \n",
    "    # Process file in chunks\n",
    "    for batch in parquet_file.iter_batches(batch_size=chunksize):\n",
    "        df = batch.to_pandas()\n",
    "        \n",
    "        # Convert timestamp columns\n",
    "        timestamp_cols = ['legs0_arrivalAt', 'legs0_departureAt', \n",
    "                         'legs1_arrivalAt', 'legs1_departureAt']\n",
    "        for col in timestamp_cols:\n",
    "            if col in df.columns:\n",
    "                try:\n",
    "                    df[col] = pd.to_datetime(df[col], unit='s')\n",
    "                except:\n",
    "                    df[col] = pd.to_datetime(df[col], unit='ms')\n",
    "        \n",
    "        # Find invalid rows\n",
    "        mask = ((df['legs0_arrivalAt'] <= df['legs0_departureAt']) | \n",
    "               (df['legs1_arrivalAt'] <= df['legs1_departureAt']))\n",
    "        chunk_invalid = df[mask]\n",
    "        \n",
    "        # Append to results\n",
    "        if not chunk_invalid.empty:\n",
    "            if first_chunk:\n",
    "                chunk_invalid.to_csv(output_file, index=False)\n",
    "                first_chunk = False\n",
    "            else:\n",
    "                chunk_invalid.to_csv(output_file, mode='a', header=False, index=False)\n",
    "            invalid_rows.append(len(chunk_invalid))\n",
    "    \n",
    "    # Print summary\n",
    "    total_invalid = sum(invalid_rows)\n",
    "    if total_invalid > 0:\n",
    "        print(f\"Found {total_invalid} invalid rows. Saved to {output_path}\")\n",
    "    else:\n",
    "        print(\"All rows have valid arrival/departure times.\")\n",
    "        if output_file.exists():\n",
    "            output_file.unlink()  # Remove empty file\n",
    "\n",
    "# Example usage:\n",
    "input_file = \"E:/GIT PROJECT/FR/kaggle/input/data/aeroclub-recsys-2025/processed_train.parquet\"\n",
    "output_file = \"E:/GIT PROJECT/FR/invalid_flight_times.csv\"\n",
    "validate_flight_times_large(input_file, output_file, chunksize=100000)"
   ]
  },
  {
   "cell_type": "code",
   "execution_count": 1,
   "id": "2eee5efd",
   "metadata": {},
   "outputs": [
    {
     "name": "stdout",
     "output_type": "stream",
     "text": [
      "ERROR: Could not find file C:\\Users\\25495\\AppData\\Local\\Temp\\ipykernel_24792\\1553716684.py\n"
     ]
    },
    {
     "name": "stderr",
     "output_type": "stream",
     "text": [
      "C:\\Users\\25495\\AppData\\Local\\Temp\\ipykernel_24792\\1553716684.py:58: FutureWarning: The default of observed=False is deprecated and will be changed to True in a future version of pandas. Pass observed=False to retain current behavior or observed=True to adopt the future default and silence this warning.\n",
      "  city_to_airport_counts = df_sample.groupby(cols[0])[cols[1]].nunique()\n"
     ]
    },
    {
     "name": "stdout",
     "output_type": "stream",
     "text": [
      "ERROR: Could not find file C:\\Users\\25495\\AppData\\Local\\Temp\\ipykernel_24792\\1553716684.py\n"
     ]
    },
    {
     "name": "stderr",
     "output_type": "stream",
     "text": [
      "C:\\Users\\25495\\AppData\\Local\\Temp\\ipykernel_24792\\1553716684.py:58: FutureWarning: The default of observed=False is deprecated and will be changed to True in a future version of pandas. Pass observed=False to retain current behavior or observed=True to adopt the future default and silence this warning.\n",
      "  city_to_airport_counts = df_sample.groupby(cols[0])[cols[1]].nunique()\n"
     ]
    },
    {
     "name": "stdout",
     "output_type": "stream",
     "text": [
      "ERROR: Could not find file C:\\Users\\25495\\AppData\\Local\\Temp\\ipykernel_24792\\1553716684.py\n"
     ]
    },
    {
     "name": "stderr",
     "output_type": "stream",
     "text": [
      "C:\\Users\\25495\\AppData\\Local\\Temp\\ipykernel_24792\\1553716684.py:58: FutureWarning: The default of observed=False is deprecated and will be changed to True in a future version of pandas. Pass observed=False to retain current behavior or observed=True to adopt the future default and silence this warning.\n",
      "  city_to_airport_counts = df_sample.groupby(cols[0])[cols[1]].nunique()\n"
     ]
    },
    {
     "name": "stdout",
     "output_type": "stream",
     "text": [
      "ERROR: Could not find file C:\\Users\\25495\\AppData\\Local\\Temp\\ipykernel_24792\\1553716684.py\n"
     ]
    },
    {
     "name": "stderr",
     "output_type": "stream",
     "text": [
      "C:\\Users\\25495\\AppData\\Local\\Temp\\ipykernel_24792\\1553716684.py:58: FutureWarning: The default of observed=False is deprecated and will be changed to True in a future version of pandas. Pass observed=False to retain current behavior or observed=True to adopt the future default and silence this warning.\n",
      "  city_to_airport_counts = df_sample.groupby(cols[0])[cols[1]].nunique()\n"
     ]
    },
    {
     "name": "stdout",
     "output_type": "stream",
     "text": [
      "ERROR: Could not find file C:\\Users\\25495\\AppData\\Local\\Temp\\ipykernel_24792\\1553716684.py\n"
     ]
    },
    {
     "name": "stderr",
     "output_type": "stream",
     "text": [
      "C:\\Users\\25495\\AppData\\Local\\Temp\\ipykernel_24792\\1553716684.py:58: FutureWarning: The default of observed=False is deprecated and will be changed to True in a future version of pandas. Pass observed=False to retain current behavior or observed=True to adopt the future default and silence this warning.\n",
      "  city_to_airport_counts = df_sample.groupby(cols[0])[cols[1]].nunique()\n"
     ]
    },
    {
     "name": "stdout",
     "output_type": "stream",
     "text": [
      "Processed 5 batches (500000 rows)...\n",
      "Current status: Inconsistent\n",
      "ERROR: Could not find file C:\\Users\\25495\\AppData\\Local\\Temp\\ipykernel_24792\\1553716684.py\n"
     ]
    },
    {
     "name": "stderr",
     "output_type": "stream",
     "text": [
      "C:\\Users\\25495\\AppData\\Local\\Temp\\ipykernel_24792\\1553716684.py:58: FutureWarning: The default of observed=False is deprecated and will be changed to True in a future version of pandas. Pass observed=False to retain current behavior or observed=True to adopt the future default and silence this warning.\n",
      "  city_to_airport_counts = df_sample.groupby(cols[0])[cols[1]].nunique()\n"
     ]
    },
    {
     "name": "stdout",
     "output_type": "stream",
     "text": [
      "ERROR: Could not find file C:\\Users\\25495\\AppData\\Local\\Temp\\ipykernel_24792\\1553716684.py\n"
     ]
    },
    {
     "name": "stderr",
     "output_type": "stream",
     "text": [
      "C:\\Users\\25495\\AppData\\Local\\Temp\\ipykernel_24792\\1553716684.py:58: FutureWarning: The default of observed=False is deprecated and will be changed to True in a future version of pandas. Pass observed=False to retain current behavior or observed=True to adopt the future default and silence this warning.\n",
      "  city_to_airport_counts = df_sample.groupby(cols[0])[cols[1]].nunique()\n"
     ]
    },
    {
     "name": "stdout",
     "output_type": "stream",
     "text": [
      "ERROR: Could not find file C:\\Users\\25495\\AppData\\Local\\Temp\\ipykernel_24792\\1553716684.py\n"
     ]
    },
    {
     "name": "stderr",
     "output_type": "stream",
     "text": [
      "C:\\Users\\25495\\AppData\\Local\\Temp\\ipykernel_24792\\1553716684.py:58: FutureWarning: The default of observed=False is deprecated and will be changed to True in a future version of pandas. Pass observed=False to retain current behavior or observed=True to adopt the future default and silence this warning.\n",
      "  city_to_airport_counts = df_sample.groupby(cols[0])[cols[1]].nunique()\n"
     ]
    },
    {
     "name": "stdout",
     "output_type": "stream",
     "text": [
      "ERROR: Could not find file C:\\Users\\25495\\AppData\\Local\\Temp\\ipykernel_24792\\1553716684.py\n"
     ]
    },
    {
     "name": "stderr",
     "output_type": "stream",
     "text": [
      "C:\\Users\\25495\\AppData\\Local\\Temp\\ipykernel_24792\\1553716684.py:58: FutureWarning: The default of observed=False is deprecated and will be changed to True in a future version of pandas. Pass observed=False to retain current behavior or observed=True to adopt the future default and silence this warning.\n",
      "  city_to_airport_counts = df_sample.groupby(cols[0])[cols[1]].nunique()\n"
     ]
    },
    {
     "name": "stdout",
     "output_type": "stream",
     "text": [
      "ERROR: Could not find file C:\\Users\\25495\\AppData\\Local\\Temp\\ipykernel_24792\\1553716684.py\n"
     ]
    },
    {
     "name": "stderr",
     "output_type": "stream",
     "text": [
      "C:\\Users\\25495\\AppData\\Local\\Temp\\ipykernel_24792\\1553716684.py:58: FutureWarning: The default of observed=False is deprecated and will be changed to True in a future version of pandas. Pass observed=False to retain current behavior or observed=True to adopt the future default and silence this warning.\n",
      "  city_to_airport_counts = df_sample.groupby(cols[0])[cols[1]].nunique()\n"
     ]
    },
    {
     "name": "stdout",
     "output_type": "stream",
     "text": [
      "Processed 10 batches (1000000 rows)...\n",
      "Current status: Inconsistent\n",
      "ERROR: Could not find file C:\\Users\\25495\\AppData\\Local\\Temp\\ipykernel_24792\\1553716684.py\n"
     ]
    },
    {
     "name": "stderr",
     "output_type": "stream",
     "text": [
      "C:\\Users\\25495\\AppData\\Local\\Temp\\ipykernel_24792\\1553716684.py:58: FutureWarning: The default of observed=False is deprecated and will be changed to True in a future version of pandas. Pass observed=False to retain current behavior or observed=True to adopt the future default and silence this warning.\n",
      "  city_to_airport_counts = df_sample.groupby(cols[0])[cols[1]].nunique()\n"
     ]
    },
    {
     "name": "stdout",
     "output_type": "stream",
     "text": [
      "ERROR: Could not find file C:\\Users\\25495\\AppData\\Local\\Temp\\ipykernel_24792\\1553716684.py\n"
     ]
    },
    {
     "name": "stderr",
     "output_type": "stream",
     "text": [
      "C:\\Users\\25495\\AppData\\Local\\Temp\\ipykernel_24792\\1553716684.py:58: FutureWarning: The default of observed=False is deprecated and will be changed to True in a future version of pandas. Pass observed=False to retain current behavior or observed=True to adopt the future default and silence this warning.\n",
      "  city_to_airport_counts = df_sample.groupby(cols[0])[cols[1]].nunique()\n"
     ]
    },
    {
     "name": "stdout",
     "output_type": "stream",
     "text": [
      "ERROR: Could not find file C:\\Users\\25495\\AppData\\Local\\Temp\\ipykernel_24792\\1553716684.py\n"
     ]
    },
    {
     "name": "stderr",
     "output_type": "stream",
     "text": [
      "C:\\Users\\25495\\AppData\\Local\\Temp\\ipykernel_24792\\1553716684.py:58: FutureWarning: The default of observed=False is deprecated and will be changed to True in a future version of pandas. Pass observed=False to retain current behavior or observed=True to adopt the future default and silence this warning.\n",
      "  city_to_airport_counts = df_sample.groupby(cols[0])[cols[1]].nunique()\n"
     ]
    },
    {
     "name": "stdout",
     "output_type": "stream",
     "text": [
      "ERROR: Could not find file C:\\Users\\25495\\AppData\\Local\\Temp\\ipykernel_24792\\1553716684.py\n"
     ]
    },
    {
     "name": "stderr",
     "output_type": "stream",
     "text": [
      "C:\\Users\\25495\\AppData\\Local\\Temp\\ipykernel_24792\\1553716684.py:58: FutureWarning: The default of observed=False is deprecated and will be changed to True in a future version of pandas. Pass observed=False to retain current behavior or observed=True to adopt the future default and silence this warning.\n",
      "  city_to_airport_counts = df_sample.groupby(cols[0])[cols[1]].nunique()\n"
     ]
    },
    {
     "name": "stdout",
     "output_type": "stream",
     "text": [
      "ERROR: Could not find file C:\\Users\\25495\\AppData\\Local\\Temp\\ipykernel_24792\\1553716684.py\n"
     ]
    },
    {
     "name": "stderr",
     "output_type": "stream",
     "text": [
      "C:\\Users\\25495\\AppData\\Local\\Temp\\ipykernel_24792\\1553716684.py:58: FutureWarning: The default of observed=False is deprecated and will be changed to True in a future version of pandas. Pass observed=False to retain current behavior or observed=True to adopt the future default and silence this warning.\n",
      "  city_to_airport_counts = df_sample.groupby(cols[0])[cols[1]].nunique()\n"
     ]
    },
    {
     "name": "stdout",
     "output_type": "stream",
     "text": [
      "Processed 15 batches (1500000 rows)...\n",
      "Current status: Inconsistent\n",
      "ERROR: Could not find file C:\\Users\\25495\\AppData\\Local\\Temp\\ipykernel_24792\\1553716684.py\n"
     ]
    },
    {
     "name": "stderr",
     "output_type": "stream",
     "text": [
      "C:\\Users\\25495\\AppData\\Local\\Temp\\ipykernel_24792\\1553716684.py:58: FutureWarning: The default of observed=False is deprecated and will be changed to True in a future version of pandas. Pass observed=False to retain current behavior or observed=True to adopt the future default and silence this warning.\n",
      "  city_to_airport_counts = df_sample.groupby(cols[0])[cols[1]].nunique()\n"
     ]
    },
    {
     "name": "stdout",
     "output_type": "stream",
     "text": [
      "ERROR: Could not find file C:\\Users\\25495\\AppData\\Local\\Temp\\ipykernel_24792\\1553716684.py\n"
     ]
    },
    {
     "name": "stderr",
     "output_type": "stream",
     "text": [
      "C:\\Users\\25495\\AppData\\Local\\Temp\\ipykernel_24792\\1553716684.py:58: FutureWarning: The default of observed=False is deprecated and will be changed to True in a future version of pandas. Pass observed=False to retain current behavior or observed=True to adopt the future default and silence this warning.\n",
      "  city_to_airport_counts = df_sample.groupby(cols[0])[cols[1]].nunique()\n"
     ]
    },
    {
     "name": "stdout",
     "output_type": "stream",
     "text": [
      "ERROR: Could not find file C:\\Users\\25495\\AppData\\Local\\Temp\\ipykernel_24792\\1553716684.py\n"
     ]
    },
    {
     "name": "stderr",
     "output_type": "stream",
     "text": [
      "C:\\Users\\25495\\AppData\\Local\\Temp\\ipykernel_24792\\1553716684.py:58: FutureWarning: The default of observed=False is deprecated and will be changed to True in a future version of pandas. Pass observed=False to retain current behavior or observed=True to adopt the future default and silence this warning.\n",
      "  city_to_airport_counts = df_sample.groupby(cols[0])[cols[1]].nunique()\n"
     ]
    },
    {
     "name": "stdout",
     "output_type": "stream",
     "text": [
      "ERROR: Could not find file C:\\Users\\25495\\AppData\\Local\\Temp\\ipykernel_24792\\1553716684.py\n"
     ]
    },
    {
     "name": "stderr",
     "output_type": "stream",
     "text": [
      "C:\\Users\\25495\\AppData\\Local\\Temp\\ipykernel_24792\\1553716684.py:58: FutureWarning: The default of observed=False is deprecated and will be changed to True in a future version of pandas. Pass observed=False to retain current behavior or observed=True to adopt the future default and silence this warning.\n",
      "  city_to_airport_counts = df_sample.groupby(cols[0])[cols[1]].nunique()\n"
     ]
    },
    {
     "name": "stdout",
     "output_type": "stream",
     "text": [
      "ERROR: Could not find file C:\\Users\\25495\\AppData\\Local\\Temp\\ipykernel_24792\\1553716684.py\n"
     ]
    },
    {
     "name": "stderr",
     "output_type": "stream",
     "text": [
      "C:\\Users\\25495\\AppData\\Local\\Temp\\ipykernel_24792\\1553716684.py:58: FutureWarning: The default of observed=False is deprecated and will be changed to True in a future version of pandas. Pass observed=False to retain current behavior or observed=True to adopt the future default and silence this warning.\n",
      "  city_to_airport_counts = df_sample.groupby(cols[0])[cols[1]].nunique()\n"
     ]
    },
    {
     "name": "stdout",
     "output_type": "stream",
     "text": [
      "Processed 20 batches (2000000 rows)...\n",
      "Current status: Inconsistent\n",
      "ERROR: Could not find file C:\\Users\\25495\\AppData\\Local\\Temp\\ipykernel_24792\\1553716684.py\n"
     ]
    },
    {
     "name": "stderr",
     "output_type": "stream",
     "text": [
      "C:\\Users\\25495\\AppData\\Local\\Temp\\ipykernel_24792\\1553716684.py:58: FutureWarning: The default of observed=False is deprecated and will be changed to True in a future version of pandas. Pass observed=False to retain current behavior or observed=True to adopt the future default and silence this warning.\n",
      "  city_to_airport_counts = df_sample.groupby(cols[0])[cols[1]].nunique()\n"
     ]
    },
    {
     "name": "stdout",
     "output_type": "stream",
     "text": [
      "ERROR: Could not find file C:\\Users\\25495\\AppData\\Local\\Temp\\ipykernel_24792\\1553716684.py\n"
     ]
    },
    {
     "name": "stderr",
     "output_type": "stream",
     "text": [
      "C:\\Users\\25495\\AppData\\Local\\Temp\\ipykernel_24792\\1553716684.py:58: FutureWarning: The default of observed=False is deprecated and will be changed to True in a future version of pandas. Pass observed=False to retain current behavior or observed=True to adopt the future default and silence this warning.\n",
      "  city_to_airport_counts = df_sample.groupby(cols[0])[cols[1]].nunique()\n"
     ]
    },
    {
     "name": "stdout",
     "output_type": "stream",
     "text": [
      "ERROR: Could not find file C:\\Users\\25495\\AppData\\Local\\Temp\\ipykernel_24792\\1553716684.py\n"
     ]
    },
    {
     "name": "stderr",
     "output_type": "stream",
     "text": [
      "C:\\Users\\25495\\AppData\\Local\\Temp\\ipykernel_24792\\1553716684.py:58: FutureWarning: The default of observed=False is deprecated and will be changed to True in a future version of pandas. Pass observed=False to retain current behavior or observed=True to adopt the future default and silence this warning.\n",
      "  city_to_airport_counts = df_sample.groupby(cols[0])[cols[1]].nunique()\n"
     ]
    },
    {
     "name": "stdout",
     "output_type": "stream",
     "text": [
      "ERROR: Could not find file C:\\Users\\25495\\AppData\\Local\\Temp\\ipykernel_24792\\1553716684.py\n"
     ]
    },
    {
     "name": "stderr",
     "output_type": "stream",
     "text": [
      "C:\\Users\\25495\\AppData\\Local\\Temp\\ipykernel_24792\\1553716684.py:58: FutureWarning: The default of observed=False is deprecated and will be changed to True in a future version of pandas. Pass observed=False to retain current behavior or observed=True to adopt the future default and silence this warning.\n",
      "  city_to_airport_counts = df_sample.groupby(cols[0])[cols[1]].nunique()\n"
     ]
    },
    {
     "name": "stdout",
     "output_type": "stream",
     "text": [
      "ERROR: Could not find file C:\\Users\\25495\\AppData\\Local\\Temp\\ipykernel_24792\\1553716684.py\n"
     ]
    },
    {
     "name": "stderr",
     "output_type": "stream",
     "text": [
      "C:\\Users\\25495\\AppData\\Local\\Temp\\ipykernel_24792\\1553716684.py:58: FutureWarning: The default of observed=False is deprecated and will be changed to True in a future version of pandas. Pass observed=False to retain current behavior or observed=True to adopt the future default and silence this warning.\n",
      "  city_to_airport_counts = df_sample.groupby(cols[0])[cols[1]].nunique()\n"
     ]
    },
    {
     "name": "stdout",
     "output_type": "stream",
     "text": [
      "Processed 25 batches (2500000 rows)...\n",
      "Current status: Inconsistent\n",
      "ERROR: Could not find file C:\\Users\\25495\\AppData\\Local\\Temp\\ipykernel_24792\\1553716684.py\n"
     ]
    },
    {
     "name": "stderr",
     "output_type": "stream",
     "text": [
      "C:\\Users\\25495\\AppData\\Local\\Temp\\ipykernel_24792\\1553716684.py:58: FutureWarning: The default of observed=False is deprecated and will be changed to True in a future version of pandas. Pass observed=False to retain current behavior or observed=True to adopt the future default and silence this warning.\n",
      "  city_to_airport_counts = df_sample.groupby(cols[0])[cols[1]].nunique()\n"
     ]
    },
    {
     "name": "stdout",
     "output_type": "stream",
     "text": [
      "ERROR: Could not find file C:\\Users\\25495\\AppData\\Local\\Temp\\ipykernel_24792\\1553716684.py\n"
     ]
    },
    {
     "name": "stderr",
     "output_type": "stream",
     "text": [
      "C:\\Users\\25495\\AppData\\Local\\Temp\\ipykernel_24792\\1553716684.py:58: FutureWarning: The default of observed=False is deprecated and will be changed to True in a future version of pandas. Pass observed=False to retain current behavior or observed=True to adopt the future default and silence this warning.\n",
      "  city_to_airport_counts = df_sample.groupby(cols[0])[cols[1]].nunique()\n"
     ]
    },
    {
     "name": "stdout",
     "output_type": "stream",
     "text": [
      "ERROR: Could not find file C:\\Users\\25495\\AppData\\Local\\Temp\\ipykernel_24792\\1553716684.py\n"
     ]
    },
    {
     "name": "stderr",
     "output_type": "stream",
     "text": [
      "C:\\Users\\25495\\AppData\\Local\\Temp\\ipykernel_24792\\1553716684.py:58: FutureWarning: The default of observed=False is deprecated and will be changed to True in a future version of pandas. Pass observed=False to retain current behavior or observed=True to adopt the future default and silence this warning.\n",
      "  city_to_airport_counts = df_sample.groupby(cols[0])[cols[1]].nunique()\n"
     ]
    },
    {
     "name": "stdout",
     "output_type": "stream",
     "text": [
      "ERROR: Could not find file C:\\Users\\25495\\AppData\\Local\\Temp\\ipykernel_24792\\1553716684.py\n"
     ]
    },
    {
     "name": "stderr",
     "output_type": "stream",
     "text": [
      "C:\\Users\\25495\\AppData\\Local\\Temp\\ipykernel_24792\\1553716684.py:58: FutureWarning: The default of observed=False is deprecated and will be changed to True in a future version of pandas. Pass observed=False to retain current behavior or observed=True to adopt the future default and silence this warning.\n",
      "  city_to_airport_counts = df_sample.groupby(cols[0])[cols[1]].nunique()\n"
     ]
    },
    {
     "name": "stdout",
     "output_type": "stream",
     "text": [
      "ERROR: Could not find file C:\\Users\\25495\\AppData\\Local\\Temp\\ipykernel_24792\\1553716684.py\n"
     ]
    },
    {
     "name": "stderr",
     "output_type": "stream",
     "text": [
      "C:\\Users\\25495\\AppData\\Local\\Temp\\ipykernel_24792\\1553716684.py:58: FutureWarning: The default of observed=False is deprecated and will be changed to True in a future version of pandas. Pass observed=False to retain current behavior or observed=True to adopt the future default and silence this warning.\n",
      "  city_to_airport_counts = df_sample.groupby(cols[0])[cols[1]].nunique()\n"
     ]
    },
    {
     "name": "stdout",
     "output_type": "stream",
     "text": [
      "Processed 30 batches (3000000 rows)...\n",
      "Current status: Inconsistent\n",
      "ERROR: Could not find file C:\\Users\\25495\\AppData\\Local\\Temp\\ipykernel_24792\\1553716684.py\n"
     ]
    },
    {
     "name": "stderr",
     "output_type": "stream",
     "text": [
      "C:\\Users\\25495\\AppData\\Local\\Temp\\ipykernel_24792\\1553716684.py:58: FutureWarning: The default of observed=False is deprecated and will be changed to True in a future version of pandas. Pass observed=False to retain current behavior or observed=True to adopt the future default and silence this warning.\n",
      "  city_to_airport_counts = df_sample.groupby(cols[0])[cols[1]].nunique()\n"
     ]
    },
    {
     "name": "stdout",
     "output_type": "stream",
     "text": [
      "ERROR: Could not find file C:\\Users\\25495\\AppData\\Local\\Temp\\ipykernel_24792\\1553716684.py\n"
     ]
    },
    {
     "name": "stderr",
     "output_type": "stream",
     "text": [
      "C:\\Users\\25495\\AppData\\Local\\Temp\\ipykernel_24792\\1553716684.py:58: FutureWarning: The default of observed=False is deprecated and will be changed to True in a future version of pandas. Pass observed=False to retain current behavior or observed=True to adopt the future default and silence this warning.\n",
      "  city_to_airport_counts = df_sample.groupby(cols[0])[cols[1]].nunique()\n"
     ]
    },
    {
     "name": "stdout",
     "output_type": "stream",
     "text": [
      "ERROR: Could not find file C:\\Users\\25495\\AppData\\Local\\Temp\\ipykernel_24792\\1553716684.py\n"
     ]
    },
    {
     "name": "stderr",
     "output_type": "stream",
     "text": [
      "C:\\Users\\25495\\AppData\\Local\\Temp\\ipykernel_24792\\1553716684.py:58: FutureWarning: The default of observed=False is deprecated and will be changed to True in a future version of pandas. Pass observed=False to retain current behavior or observed=True to adopt the future default and silence this warning.\n",
      "  city_to_airport_counts = df_sample.groupby(cols[0])[cols[1]].nunique()\n"
     ]
    },
    {
     "name": "stdout",
     "output_type": "stream",
     "text": [
      "ERROR: Could not find file C:\\Users\\25495\\AppData\\Local\\Temp\\ipykernel_24792\\1553716684.py\n"
     ]
    },
    {
     "name": "stderr",
     "output_type": "stream",
     "text": [
      "C:\\Users\\25495\\AppData\\Local\\Temp\\ipykernel_24792\\1553716684.py:58: FutureWarning: The default of observed=False is deprecated and will be changed to True in a future version of pandas. Pass observed=False to retain current behavior or observed=True to adopt the future default and silence this warning.\n",
      "  city_to_airport_counts = df_sample.groupby(cols[0])[cols[1]].nunique()\n"
     ]
    },
    {
     "name": "stdout",
     "output_type": "stream",
     "text": [
      "ERROR: Could not find file C:\\Users\\25495\\AppData\\Local\\Temp\\ipykernel_24792\\1553716684.py\n"
     ]
    },
    {
     "name": "stderr",
     "output_type": "stream",
     "text": [
      "C:\\Users\\25495\\AppData\\Local\\Temp\\ipykernel_24792\\1553716684.py:58: FutureWarning: The default of observed=False is deprecated and will be changed to True in a future version of pandas. Pass observed=False to retain current behavior or observed=True to adopt the future default and silence this warning.\n",
      "  city_to_airport_counts = df_sample.groupby(cols[0])[cols[1]].nunique()\n"
     ]
    },
    {
     "name": "stdout",
     "output_type": "stream",
     "text": [
      "Processed 35 batches (3500000 rows)...\n",
      "Current status: Inconsistent\n",
      "ERROR: Could not find file C:\\Users\\25495\\AppData\\Local\\Temp\\ipykernel_24792\\1553716684.py\n"
     ]
    },
    {
     "name": "stderr",
     "output_type": "stream",
     "text": [
      "C:\\Users\\25495\\AppData\\Local\\Temp\\ipykernel_24792\\1553716684.py:58: FutureWarning: The default of observed=False is deprecated and will be changed to True in a future version of pandas. Pass observed=False to retain current behavior or observed=True to adopt the future default and silence this warning.\n",
      "  city_to_airport_counts = df_sample.groupby(cols[0])[cols[1]].nunique()\n"
     ]
    },
    {
     "name": "stdout",
     "output_type": "stream",
     "text": [
      "ERROR: Could not find file C:\\Users\\25495\\AppData\\Local\\Temp\\ipykernel_24792\\1553716684.py\n"
     ]
    },
    {
     "name": "stderr",
     "output_type": "stream",
     "text": [
      "C:\\Users\\25495\\AppData\\Local\\Temp\\ipykernel_24792\\1553716684.py:58: FutureWarning: The default of observed=False is deprecated and will be changed to True in a future version of pandas. Pass observed=False to retain current behavior or observed=True to adopt the future default and silence this warning.\n",
      "  city_to_airport_counts = df_sample.groupby(cols[0])[cols[1]].nunique()\n"
     ]
    },
    {
     "name": "stdout",
     "output_type": "stream",
     "text": [
      "ERROR: Could not find file C:\\Users\\25495\\AppData\\Local\\Temp\\ipykernel_24792\\1553716684.py\n"
     ]
    },
    {
     "name": "stderr",
     "output_type": "stream",
     "text": [
      "C:\\Users\\25495\\AppData\\Local\\Temp\\ipykernel_24792\\1553716684.py:58: FutureWarning: The default of observed=False is deprecated and will be changed to True in a future version of pandas. Pass observed=False to retain current behavior or observed=True to adopt the future default and silence this warning.\n",
      "  city_to_airport_counts = df_sample.groupby(cols[0])[cols[1]].nunique()\n"
     ]
    },
    {
     "name": "stdout",
     "output_type": "stream",
     "text": [
      "ERROR: Could not find file C:\\Users\\25495\\AppData\\Local\\Temp\\ipykernel_24792\\1553716684.py\n"
     ]
    },
    {
     "name": "stderr",
     "output_type": "stream",
     "text": [
      "C:\\Users\\25495\\AppData\\Local\\Temp\\ipykernel_24792\\1553716684.py:58: FutureWarning: The default of observed=False is deprecated and will be changed to True in a future version of pandas. Pass observed=False to retain current behavior or observed=True to adopt the future default and silence this warning.\n",
      "  city_to_airport_counts = df_sample.groupby(cols[0])[cols[1]].nunique()\n"
     ]
    },
    {
     "name": "stdout",
     "output_type": "stream",
     "text": [
      "ERROR: Could not find file C:\\Users\\25495\\AppData\\Local\\Temp\\ipykernel_24792\\1553716684.py\n"
     ]
    },
    {
     "name": "stderr",
     "output_type": "stream",
     "text": [
      "C:\\Users\\25495\\AppData\\Local\\Temp\\ipykernel_24792\\1553716684.py:58: FutureWarning: The default of observed=False is deprecated and will be changed to True in a future version of pandas. Pass observed=False to retain current behavior or observed=True to adopt the future default and silence this warning.\n",
      "  city_to_airport_counts = df_sample.groupby(cols[0])[cols[1]].nunique()\n"
     ]
    },
    {
     "name": "stdout",
     "output_type": "stream",
     "text": [
      "Processed 40 batches (4000000 rows)...\n",
      "Current status: Inconsistent\n",
      "ERROR: Could not find file C:\\Users\\25495\\AppData\\Local\\Temp\\ipykernel_24792\\1553716684.py\n"
     ]
    },
    {
     "name": "stderr",
     "output_type": "stream",
     "text": [
      "C:\\Users\\25495\\AppData\\Local\\Temp\\ipykernel_24792\\1553716684.py:58: FutureWarning: The default of observed=False is deprecated and will be changed to True in a future version of pandas. Pass observed=False to retain current behavior or observed=True to adopt the future default and silence this warning.\n",
      "  city_to_airport_counts = df_sample.groupby(cols[0])[cols[1]].nunique()\n"
     ]
    },
    {
     "name": "stdout",
     "output_type": "stream",
     "text": [
      "ERROR: Could not find file C:\\Users\\25495\\AppData\\Local\\Temp\\ipykernel_24792\\1553716684.py\n"
     ]
    },
    {
     "name": "stderr",
     "output_type": "stream",
     "text": [
      "C:\\Users\\25495\\AppData\\Local\\Temp\\ipykernel_24792\\1553716684.py:58: FutureWarning: The default of observed=False is deprecated and will be changed to True in a future version of pandas. Pass observed=False to retain current behavior or observed=True to adopt the future default and silence this warning.\n",
      "  city_to_airport_counts = df_sample.groupby(cols[0])[cols[1]].nunique()\n"
     ]
    },
    {
     "name": "stdout",
     "output_type": "stream",
     "text": [
      "ERROR: Could not find file C:\\Users\\25495\\AppData\\Local\\Temp\\ipykernel_24792\\1553716684.py\n"
     ]
    },
    {
     "name": "stderr",
     "output_type": "stream",
     "text": [
      "C:\\Users\\25495\\AppData\\Local\\Temp\\ipykernel_24792\\1553716684.py:58: FutureWarning: The default of observed=False is deprecated and will be changed to True in a future version of pandas. Pass observed=False to retain current behavior or observed=True to adopt the future default and silence this warning.\n",
      "  city_to_airport_counts = df_sample.groupby(cols[0])[cols[1]].nunique()\n"
     ]
    },
    {
     "name": "stdout",
     "output_type": "stream",
     "text": [
      "ERROR: Could not find file C:\\Users\\25495\\AppData\\Local\\Temp\\ipykernel_24792\\1553716684.py\n"
     ]
    },
    {
     "name": "stderr",
     "output_type": "stream",
     "text": [
      "C:\\Users\\25495\\AppData\\Local\\Temp\\ipykernel_24792\\1553716684.py:58: FutureWarning: The default of observed=False is deprecated and will be changed to True in a future version of pandas. Pass observed=False to retain current behavior or observed=True to adopt the future default and silence this warning.\n",
      "  city_to_airport_counts = df_sample.groupby(cols[0])[cols[1]].nunique()\n"
     ]
    },
    {
     "name": "stdout",
     "output_type": "stream",
     "text": [
      "ERROR: Could not find file C:\\Users\\25495\\AppData\\Local\\Temp\\ipykernel_24792\\1553716684.py\n"
     ]
    },
    {
     "name": "stderr",
     "output_type": "stream",
     "text": [
      "C:\\Users\\25495\\AppData\\Local\\Temp\\ipykernel_24792\\1553716684.py:58: FutureWarning: The default of observed=False is deprecated and will be changed to True in a future version of pandas. Pass observed=False to retain current behavior or observed=True to adopt the future default and silence this warning.\n",
      "  city_to_airport_counts = df_sample.groupby(cols[0])[cols[1]].nunique()\n"
     ]
    },
    {
     "name": "stdout",
     "output_type": "stream",
     "text": [
      "Processed 45 batches (4500000 rows)...\n",
      "Current status: Inconsistent\n",
      "ERROR: Could not find file C:\\Users\\25495\\AppData\\Local\\Temp\\ipykernel_24792\\1553716684.py\n"
     ]
    },
    {
     "name": "stderr",
     "output_type": "stream",
     "text": [
      "C:\\Users\\25495\\AppData\\Local\\Temp\\ipykernel_24792\\1553716684.py:58: FutureWarning: The default of observed=False is deprecated and will be changed to True in a future version of pandas. Pass observed=False to retain current behavior or observed=True to adopt the future default and silence this warning.\n",
      "  city_to_airport_counts = df_sample.groupby(cols[0])[cols[1]].nunique()\n"
     ]
    },
    {
     "name": "stdout",
     "output_type": "stream",
     "text": [
      "ERROR: Could not find file C:\\Users\\25495\\AppData\\Local\\Temp\\ipykernel_24792\\1553716684.py\n"
     ]
    },
    {
     "name": "stderr",
     "output_type": "stream",
     "text": [
      "C:\\Users\\25495\\AppData\\Local\\Temp\\ipykernel_24792\\1553716684.py:58: FutureWarning: The default of observed=False is deprecated and will be changed to True in a future version of pandas. Pass observed=False to retain current behavior or observed=True to adopt the future default and silence this warning.\n",
      "  city_to_airport_counts = df_sample.groupby(cols[0])[cols[1]].nunique()\n"
     ]
    },
    {
     "name": "stdout",
     "output_type": "stream",
     "text": [
      "ERROR: Could not find file C:\\Users\\25495\\AppData\\Local\\Temp\\ipykernel_24792\\1553716684.py\n"
     ]
    },
    {
     "name": "stderr",
     "output_type": "stream",
     "text": [
      "C:\\Users\\25495\\AppData\\Local\\Temp\\ipykernel_24792\\1553716684.py:58: FutureWarning: The default of observed=False is deprecated and will be changed to True in a future version of pandas. Pass observed=False to retain current behavior or observed=True to adopt the future default and silence this warning.\n",
      "  city_to_airport_counts = df_sample.groupby(cols[0])[cols[1]].nunique()\n"
     ]
    },
    {
     "name": "stdout",
     "output_type": "stream",
     "text": [
      "ERROR: Could not find file C:\\Users\\25495\\AppData\\Local\\Temp\\ipykernel_24792\\1553716684.py\n"
     ]
    },
    {
     "name": "stderr",
     "output_type": "stream",
     "text": [
      "C:\\Users\\25495\\AppData\\Local\\Temp\\ipykernel_24792\\1553716684.py:58: FutureWarning: The default of observed=False is deprecated and will be changed to True in a future version of pandas. Pass observed=False to retain current behavior or observed=True to adopt the future default and silence this warning.\n",
      "  city_to_airport_counts = df_sample.groupby(cols[0])[cols[1]].nunique()\n"
     ]
    },
    {
     "name": "stdout",
     "output_type": "stream",
     "text": [
      "ERROR: Could not find file C:\\Users\\25495\\AppData\\Local\\Temp\\ipykernel_24792\\1553716684.py\n"
     ]
    },
    {
     "name": "stderr",
     "output_type": "stream",
     "text": [
      "C:\\Users\\25495\\AppData\\Local\\Temp\\ipykernel_24792\\1553716684.py:58: FutureWarning: The default of observed=False is deprecated and will be changed to True in a future version of pandas. Pass observed=False to retain current behavior or observed=True to adopt the future default and silence this warning.\n",
      "  city_to_airport_counts = df_sample.groupby(cols[0])[cols[1]].nunique()\n"
     ]
    },
    {
     "name": "stdout",
     "output_type": "stream",
     "text": [
      "Processed 50 batches (5000000 rows)...\n",
      "Current status: Inconsistent\n",
      "ERROR: Could not find file C:\\Users\\25495\\AppData\\Local\\Temp\\ipykernel_24792\\1553716684.py\n"
     ]
    },
    {
     "name": "stderr",
     "output_type": "stream",
     "text": [
      "C:\\Users\\25495\\AppData\\Local\\Temp\\ipykernel_24792\\1553716684.py:58: FutureWarning: The default of observed=False is deprecated and will be changed to True in a future version of pandas. Pass observed=False to retain current behavior or observed=True to adopt the future default and silence this warning.\n",
      "  city_to_airport_counts = df_sample.groupby(cols[0])[cols[1]].nunique()\n"
     ]
    },
    {
     "name": "stdout",
     "output_type": "stream",
     "text": [
      "ERROR: Could not find file C:\\Users\\25495\\AppData\\Local\\Temp\\ipykernel_24792\\1553716684.py\n"
     ]
    },
    {
     "name": "stderr",
     "output_type": "stream",
     "text": [
      "C:\\Users\\25495\\AppData\\Local\\Temp\\ipykernel_24792\\1553716684.py:58: FutureWarning: The default of observed=False is deprecated and will be changed to True in a future version of pandas. Pass observed=False to retain current behavior or observed=True to adopt the future default and silence this warning.\n",
      "  city_to_airport_counts = df_sample.groupby(cols[0])[cols[1]].nunique()\n"
     ]
    },
    {
     "name": "stdout",
     "output_type": "stream",
     "text": [
      "ERROR: Could not find file C:\\Users\\25495\\AppData\\Local\\Temp\\ipykernel_24792\\1553716684.py\n"
     ]
    },
    {
     "name": "stderr",
     "output_type": "stream",
     "text": [
      "C:\\Users\\25495\\AppData\\Local\\Temp\\ipykernel_24792\\1553716684.py:58: FutureWarning: The default of observed=False is deprecated and will be changed to True in a future version of pandas. Pass observed=False to retain current behavior or observed=True to adopt the future default and silence this warning.\n",
      "  city_to_airport_counts = df_sample.groupby(cols[0])[cols[1]].nunique()\n"
     ]
    },
    {
     "name": "stdout",
     "output_type": "stream",
     "text": [
      "ERROR: Could not find file C:\\Users\\25495\\AppData\\Local\\Temp\\ipykernel_24792\\1553716684.py\n"
     ]
    },
    {
     "name": "stderr",
     "output_type": "stream",
     "text": [
      "C:\\Users\\25495\\AppData\\Local\\Temp\\ipykernel_24792\\1553716684.py:58: FutureWarning: The default of observed=False is deprecated and will be changed to True in a future version of pandas. Pass observed=False to retain current behavior or observed=True to adopt the future default and silence this warning.\n",
      "  city_to_airport_counts = df_sample.groupby(cols[0])[cols[1]].nunique()\n"
     ]
    },
    {
     "name": "stdout",
     "output_type": "stream",
     "text": [
      "ERROR: Could not find file C:\\Users\\25495\\AppData\\Local\\Temp\\ipykernel_24792\\1553716684.py\n"
     ]
    },
    {
     "name": "stderr",
     "output_type": "stream",
     "text": [
      "C:\\Users\\25495\\AppData\\Local\\Temp\\ipykernel_24792\\1553716684.py:58: FutureWarning: The default of observed=False is deprecated and will be changed to True in a future version of pandas. Pass observed=False to retain current behavior or observed=True to adopt the future default and silence this warning.\n",
      "  city_to_airport_counts = df_sample.groupby(cols[0])[cols[1]].nunique()\n"
     ]
    },
    {
     "name": "stdout",
     "output_type": "stream",
     "text": [
      "Processed 55 batches (5500000 rows)...\n",
      "Current status: Inconsistent\n",
      "ERROR: Could not find file C:\\Users\\25495\\AppData\\Local\\Temp\\ipykernel_24792\\1553716684.py\n"
     ]
    },
    {
     "name": "stderr",
     "output_type": "stream",
     "text": [
      "C:\\Users\\25495\\AppData\\Local\\Temp\\ipykernel_24792\\1553716684.py:58: FutureWarning: The default of observed=False is deprecated and will be changed to True in a future version of pandas. Pass observed=False to retain current behavior or observed=True to adopt the future default and silence this warning.\n",
      "  city_to_airport_counts = df_sample.groupby(cols[0])[cols[1]].nunique()\n"
     ]
    },
    {
     "name": "stdout",
     "output_type": "stream",
     "text": [
      "ERROR: Could not find file C:\\Users\\25495\\AppData\\Local\\Temp\\ipykernel_24792\\1553716684.py\n"
     ]
    },
    {
     "name": "stderr",
     "output_type": "stream",
     "text": [
      "C:\\Users\\25495\\AppData\\Local\\Temp\\ipykernel_24792\\1553716684.py:58: FutureWarning: The default of observed=False is deprecated and will be changed to True in a future version of pandas. Pass observed=False to retain current behavior or observed=True to adopt the future default and silence this warning.\n",
      "  city_to_airport_counts = df_sample.groupby(cols[0])[cols[1]].nunique()\n"
     ]
    },
    {
     "name": "stdout",
     "output_type": "stream",
     "text": [
      "ERROR: Could not find file C:\\Users\\25495\\AppData\\Local\\Temp\\ipykernel_24792\\1553716684.py\n"
     ]
    },
    {
     "name": "stderr",
     "output_type": "stream",
     "text": [
      "C:\\Users\\25495\\AppData\\Local\\Temp\\ipykernel_24792\\1553716684.py:58: FutureWarning: The default of observed=False is deprecated and will be changed to True in a future version of pandas. Pass observed=False to retain current behavior or observed=True to adopt the future default and silence this warning.\n",
      "  city_to_airport_counts = df_sample.groupby(cols[0])[cols[1]].nunique()\n"
     ]
    },
    {
     "name": "stdout",
     "output_type": "stream",
     "text": [
      "ERROR: Could not find file C:\\Users\\25495\\AppData\\Local\\Temp\\ipykernel_24792\\1553716684.py\n"
     ]
    },
    {
     "name": "stderr",
     "output_type": "stream",
     "text": [
      "C:\\Users\\25495\\AppData\\Local\\Temp\\ipykernel_24792\\1553716684.py:58: FutureWarning: The default of observed=False is deprecated and will be changed to True in a future version of pandas. Pass observed=False to retain current behavior or observed=True to adopt the future default and silence this warning.\n",
      "  city_to_airport_counts = df_sample.groupby(cols[0])[cols[1]].nunique()\n"
     ]
    },
    {
     "name": "stdout",
     "output_type": "stream",
     "text": [
      "ERROR: Could not find file C:\\Users\\25495\\AppData\\Local\\Temp\\ipykernel_24792\\1553716684.py\n"
     ]
    },
    {
     "name": "stderr",
     "output_type": "stream",
     "text": [
      "C:\\Users\\25495\\AppData\\Local\\Temp\\ipykernel_24792\\1553716684.py:58: FutureWarning: The default of observed=False is deprecated and will be changed to True in a future version of pandas. Pass observed=False to retain current behavior or observed=True to adopt the future default and silence this warning.\n",
      "  city_to_airport_counts = df_sample.groupby(cols[0])[cols[1]].nunique()\n"
     ]
    },
    {
     "name": "stdout",
     "output_type": "stream",
     "text": [
      "Processed 60 batches (6000000 rows)...\n",
      "Current status: Inconsistent\n",
      "ERROR: Could not find file C:\\Users\\25495\\AppData\\Local\\Temp\\ipykernel_24792\\1553716684.py\n"
     ]
    },
    {
     "name": "stderr",
     "output_type": "stream",
     "text": [
      "C:\\Users\\25495\\AppData\\Local\\Temp\\ipykernel_24792\\1553716684.py:58: FutureWarning: The default of observed=False is deprecated and will be changed to True in a future version of pandas. Pass observed=False to retain current behavior or observed=True to adopt the future default and silence this warning.\n",
      "  city_to_airport_counts = df_sample.groupby(cols[0])[cols[1]].nunique()\n"
     ]
    },
    {
     "name": "stdout",
     "output_type": "stream",
     "text": [
      "ERROR: Could not find file C:\\Users\\25495\\AppData\\Local\\Temp\\ipykernel_24792\\1553716684.py\n"
     ]
    },
    {
     "name": "stderr",
     "output_type": "stream",
     "text": [
      "C:\\Users\\25495\\AppData\\Local\\Temp\\ipykernel_24792\\1553716684.py:58: FutureWarning: The default of observed=False is deprecated and will be changed to True in a future version of pandas. Pass observed=False to retain current behavior or observed=True to adopt the future default and silence this warning.\n",
      "  city_to_airport_counts = df_sample.groupby(cols[0])[cols[1]].nunique()\n"
     ]
    },
    {
     "name": "stdout",
     "output_type": "stream",
     "text": [
      "ERROR: Could not find file C:\\Users\\25495\\AppData\\Local\\Temp\\ipykernel_24792\\1553716684.py\n"
     ]
    },
    {
     "name": "stderr",
     "output_type": "stream",
     "text": [
      "C:\\Users\\25495\\AppData\\Local\\Temp\\ipykernel_24792\\1553716684.py:58: FutureWarning: The default of observed=False is deprecated and will be changed to True in a future version of pandas. Pass observed=False to retain current behavior or observed=True to adopt the future default and silence this warning.\n",
      "  city_to_airport_counts = df_sample.groupby(cols[0])[cols[1]].nunique()\n"
     ]
    },
    {
     "name": "stdout",
     "output_type": "stream",
     "text": [
      "ERROR: Could not find file C:\\Users\\25495\\AppData\\Local\\Temp\\ipykernel_24792\\1553716684.py\n"
     ]
    },
    {
     "name": "stderr",
     "output_type": "stream",
     "text": [
      "C:\\Users\\25495\\AppData\\Local\\Temp\\ipykernel_24792\\1553716684.py:58: FutureWarning: The default of observed=False is deprecated and will be changed to True in a future version of pandas. Pass observed=False to retain current behavior or observed=True to adopt the future default and silence this warning.\n",
      "  city_to_airport_counts = df_sample.groupby(cols[0])[cols[1]].nunique()\n"
     ]
    },
    {
     "name": "stdout",
     "output_type": "stream",
     "text": [
      "ERROR: Could not find file C:\\Users\\25495\\AppData\\Local\\Temp\\ipykernel_24792\\1553716684.py\n"
     ]
    },
    {
     "name": "stderr",
     "output_type": "stream",
     "text": [
      "C:\\Users\\25495\\AppData\\Local\\Temp\\ipykernel_24792\\1553716684.py:58: FutureWarning: The default of observed=False is deprecated and will be changed to True in a future version of pandas. Pass observed=False to retain current behavior or observed=True to adopt the future default and silence this warning.\n",
      "  city_to_airport_counts = df_sample.groupby(cols[0])[cols[1]].nunique()\n"
     ]
    },
    {
     "name": "stdout",
     "output_type": "stream",
     "text": [
      "Processed 65 batches (6500000 rows)...\n",
      "Current status: Inconsistent\n",
      "ERROR: Could not find file C:\\Users\\25495\\AppData\\Local\\Temp\\ipykernel_24792\\1553716684.py\n"
     ]
    },
    {
     "name": "stderr",
     "output_type": "stream",
     "text": [
      "C:\\Users\\25495\\AppData\\Local\\Temp\\ipykernel_24792\\1553716684.py:58: FutureWarning: The default of observed=False is deprecated and will be changed to True in a future version of pandas. Pass observed=False to retain current behavior or observed=True to adopt the future default and silence this warning.\n",
      "  city_to_airport_counts = df_sample.groupby(cols[0])[cols[1]].nunique()\n"
     ]
    },
    {
     "name": "stdout",
     "output_type": "stream",
     "text": [
      "ERROR: Could not find file C:\\Users\\25495\\AppData\\Local\\Temp\\ipykernel_24792\\1553716684.py\n"
     ]
    },
    {
     "name": "stderr",
     "output_type": "stream",
     "text": [
      "C:\\Users\\25495\\AppData\\Local\\Temp\\ipykernel_24792\\1553716684.py:58: FutureWarning: The default of observed=False is deprecated and will be changed to True in a future version of pandas. Pass observed=False to retain current behavior or observed=True to adopt the future default and silence this warning.\n",
      "  city_to_airport_counts = df_sample.groupby(cols[0])[cols[1]].nunique()\n"
     ]
    },
    {
     "name": "stdout",
     "output_type": "stream",
     "text": [
      "ERROR: Could not find file C:\\Users\\25495\\AppData\\Local\\Temp\\ipykernel_24792\\1553716684.py\n"
     ]
    },
    {
     "name": "stderr",
     "output_type": "stream",
     "text": [
      "C:\\Users\\25495\\AppData\\Local\\Temp\\ipykernel_24792\\1553716684.py:58: FutureWarning: The default of observed=False is deprecated and will be changed to True in a future version of pandas. Pass observed=False to retain current behavior or observed=True to adopt the future default and silence this warning.\n",
      "  city_to_airport_counts = df_sample.groupby(cols[0])[cols[1]].nunique()\n"
     ]
    },
    {
     "name": "stdout",
     "output_type": "stream",
     "text": [
      "ERROR: Could not find file C:\\Users\\25495\\AppData\\Local\\Temp\\ipykernel_24792\\1553716684.py\n"
     ]
    },
    {
     "name": "stderr",
     "output_type": "stream",
     "text": [
      "C:\\Users\\25495\\AppData\\Local\\Temp\\ipykernel_24792\\1553716684.py:58: FutureWarning: The default of observed=False is deprecated and will be changed to True in a future version of pandas. Pass observed=False to retain current behavior or observed=True to adopt the future default and silence this warning.\n",
      "  city_to_airport_counts = df_sample.groupby(cols[0])[cols[1]].nunique()\n"
     ]
    },
    {
     "name": "stdout",
     "output_type": "stream",
     "text": [
      "ERROR: Could not find file C:\\Users\\25495\\AppData\\Local\\Temp\\ipykernel_24792\\1553716684.py\n"
     ]
    },
    {
     "name": "stderr",
     "output_type": "stream",
     "text": [
      "C:\\Users\\25495\\AppData\\Local\\Temp\\ipykernel_24792\\1553716684.py:58: FutureWarning: The default of observed=False is deprecated and will be changed to True in a future version of pandas. Pass observed=False to retain current behavior or observed=True to adopt the future default and silence this warning.\n",
      "  city_to_airport_counts = df_sample.groupby(cols[0])[cols[1]].nunique()\n"
     ]
    },
    {
     "name": "stdout",
     "output_type": "stream",
     "text": [
      "Processed 70 batches (7000000 rows)...\n",
      "Current status: Inconsistent\n",
      "ERROR: Could not find file C:\\Users\\25495\\AppData\\Local\\Temp\\ipykernel_24792\\1553716684.py\n"
     ]
    },
    {
     "name": "stderr",
     "output_type": "stream",
     "text": [
      "C:\\Users\\25495\\AppData\\Local\\Temp\\ipykernel_24792\\1553716684.py:58: FutureWarning: The default of observed=False is deprecated and will be changed to True in a future version of pandas. Pass observed=False to retain current behavior or observed=True to adopt the future default and silence this warning.\n",
      "  city_to_airport_counts = df_sample.groupby(cols[0])[cols[1]].nunique()\n"
     ]
    },
    {
     "name": "stdout",
     "output_type": "stream",
     "text": [
      "ERROR: Could not find file C:\\Users\\25495\\AppData\\Local\\Temp\\ipykernel_24792\\1553716684.py\n"
     ]
    },
    {
     "name": "stderr",
     "output_type": "stream",
     "text": [
      "C:\\Users\\25495\\AppData\\Local\\Temp\\ipykernel_24792\\1553716684.py:58: FutureWarning: The default of observed=False is deprecated and will be changed to True in a future version of pandas. Pass observed=False to retain current behavior or observed=True to adopt the future default and silence this warning.\n",
      "  city_to_airport_counts = df_sample.groupby(cols[0])[cols[1]].nunique()\n"
     ]
    },
    {
     "name": "stdout",
     "output_type": "stream",
     "text": [
      "ERROR: Could not find file C:\\Users\\25495\\AppData\\Local\\Temp\\ipykernel_24792\\1553716684.py\n"
     ]
    },
    {
     "name": "stderr",
     "output_type": "stream",
     "text": [
      "C:\\Users\\25495\\AppData\\Local\\Temp\\ipykernel_24792\\1553716684.py:58: FutureWarning: The default of observed=False is deprecated and will be changed to True in a future version of pandas. Pass observed=False to retain current behavior or observed=True to adopt the future default and silence this warning.\n",
      "  city_to_airport_counts = df_sample.groupby(cols[0])[cols[1]].nunique()\n"
     ]
    },
    {
     "name": "stdout",
     "output_type": "stream",
     "text": [
      "ERROR: Could not find file C:\\Users\\25495\\AppData\\Local\\Temp\\ipykernel_24792\\1553716684.py\n"
     ]
    },
    {
     "name": "stderr",
     "output_type": "stream",
     "text": [
      "C:\\Users\\25495\\AppData\\Local\\Temp\\ipykernel_24792\\1553716684.py:58: FutureWarning: The default of observed=False is deprecated and will be changed to True in a future version of pandas. Pass observed=False to retain current behavior or observed=True to adopt the future default and silence this warning.\n",
      "  city_to_airport_counts = df_sample.groupby(cols[0])[cols[1]].nunique()\n"
     ]
    },
    {
     "name": "stdout",
     "output_type": "stream",
     "text": [
      "ERROR: Could not find file C:\\Users\\25495\\AppData\\Local\\Temp\\ipykernel_24792\\1553716684.py\n"
     ]
    },
    {
     "name": "stderr",
     "output_type": "stream",
     "text": [
      "C:\\Users\\25495\\AppData\\Local\\Temp\\ipykernel_24792\\1553716684.py:58: FutureWarning: The default of observed=False is deprecated and will be changed to True in a future version of pandas. Pass observed=False to retain current behavior or observed=True to adopt the future default and silence this warning.\n",
      "  city_to_airport_counts = df_sample.groupby(cols[0])[cols[1]].nunique()\n"
     ]
    },
    {
     "name": "stdout",
     "output_type": "stream",
     "text": [
      "Processed 75 batches (7500000 rows)...\n",
      "Current status: Inconsistent\n",
      "ERROR: Could not find file C:\\Users\\25495\\AppData\\Local\\Temp\\ipykernel_24792\\1553716684.py\n"
     ]
    },
    {
     "name": "stderr",
     "output_type": "stream",
     "text": [
      "C:\\Users\\25495\\AppData\\Local\\Temp\\ipykernel_24792\\1553716684.py:58: FutureWarning: The default of observed=False is deprecated and will be changed to True in a future version of pandas. Pass observed=False to retain current behavior or observed=True to adopt the future default and silence this warning.\n",
      "  city_to_airport_counts = df_sample.groupby(cols[0])[cols[1]].nunique()\n"
     ]
    },
    {
     "name": "stdout",
     "output_type": "stream",
     "text": [
      "ERROR: Could not find file C:\\Users\\25495\\AppData\\Local\\Temp\\ipykernel_24792\\1553716684.py\n"
     ]
    },
    {
     "name": "stderr",
     "output_type": "stream",
     "text": [
      "C:\\Users\\25495\\AppData\\Local\\Temp\\ipykernel_24792\\1553716684.py:58: FutureWarning: The default of observed=False is deprecated and will be changed to True in a future version of pandas. Pass observed=False to retain current behavior or observed=True to adopt the future default and silence this warning.\n",
      "  city_to_airport_counts = df_sample.groupby(cols[0])[cols[1]].nunique()\n"
     ]
    },
    {
     "name": "stdout",
     "output_type": "stream",
     "text": [
      "ERROR: Could not find file C:\\Users\\25495\\AppData\\Local\\Temp\\ipykernel_24792\\1553716684.py\n"
     ]
    },
    {
     "name": "stderr",
     "output_type": "stream",
     "text": [
      "C:\\Users\\25495\\AppData\\Local\\Temp\\ipykernel_24792\\1553716684.py:58: FutureWarning: The default of observed=False is deprecated and will be changed to True in a future version of pandas. Pass observed=False to retain current behavior or observed=True to adopt the future default and silence this warning.\n",
      "  city_to_airport_counts = df_sample.groupby(cols[0])[cols[1]].nunique()\n"
     ]
    },
    {
     "name": "stdout",
     "output_type": "stream",
     "text": [
      "ERROR: Could not find file C:\\Users\\25495\\AppData\\Local\\Temp\\ipykernel_24792\\1553716684.py\n"
     ]
    },
    {
     "name": "stderr",
     "output_type": "stream",
     "text": [
      "C:\\Users\\25495\\AppData\\Local\\Temp\\ipykernel_24792\\1553716684.py:58: FutureWarning: The default of observed=False is deprecated and will be changed to True in a future version of pandas. Pass observed=False to retain current behavior or observed=True to adopt the future default and silence this warning.\n",
      "  city_to_airport_counts = df_sample.groupby(cols[0])[cols[1]].nunique()\n"
     ]
    },
    {
     "name": "stdout",
     "output_type": "stream",
     "text": [
      "ERROR: Could not find file C:\\Users\\25495\\AppData\\Local\\Temp\\ipykernel_24792\\1553716684.py\n"
     ]
    },
    {
     "name": "stderr",
     "output_type": "stream",
     "text": [
      "C:\\Users\\25495\\AppData\\Local\\Temp\\ipykernel_24792\\1553716684.py:58: FutureWarning: The default of observed=False is deprecated and will be changed to True in a future version of pandas. Pass observed=False to retain current behavior or observed=True to adopt the future default and silence this warning.\n",
      "  city_to_airport_counts = df_sample.groupby(cols[0])[cols[1]].nunique()\n"
     ]
    },
    {
     "name": "stdout",
     "output_type": "stream",
     "text": [
      "Processed 80 batches (8000000 rows)...\n",
      "Current status: Inconsistent\n",
      "ERROR: Could not find file C:\\Users\\25495\\AppData\\Local\\Temp\\ipykernel_24792\\1553716684.py\n"
     ]
    },
    {
     "name": "stderr",
     "output_type": "stream",
     "text": [
      "C:\\Users\\25495\\AppData\\Local\\Temp\\ipykernel_24792\\1553716684.py:58: FutureWarning: The default of observed=False is deprecated and will be changed to True in a future version of pandas. Pass observed=False to retain current behavior or observed=True to adopt the future default and silence this warning.\n",
      "  city_to_airport_counts = df_sample.groupby(cols[0])[cols[1]].nunique()\n"
     ]
    },
    {
     "name": "stdout",
     "output_type": "stream",
     "text": [
      "ERROR: Could not find file C:\\Users\\25495\\AppData\\Local\\Temp\\ipykernel_24792\\1553716684.py\n"
     ]
    },
    {
     "name": "stderr",
     "output_type": "stream",
     "text": [
      "C:\\Users\\25495\\AppData\\Local\\Temp\\ipykernel_24792\\1553716684.py:58: FutureWarning: The default of observed=False is deprecated and will be changed to True in a future version of pandas. Pass observed=False to retain current behavior or observed=True to adopt the future default and silence this warning.\n",
      "  city_to_airport_counts = df_sample.groupby(cols[0])[cols[1]].nunique()\n"
     ]
    },
    {
     "name": "stdout",
     "output_type": "stream",
     "text": [
      "ERROR: Could not find file C:\\Users\\25495\\AppData\\Local\\Temp\\ipykernel_24792\\1553716684.py\n"
     ]
    },
    {
     "name": "stderr",
     "output_type": "stream",
     "text": [
      "C:\\Users\\25495\\AppData\\Local\\Temp\\ipykernel_24792\\1553716684.py:58: FutureWarning: The default of observed=False is deprecated and will be changed to True in a future version of pandas. Pass observed=False to retain current behavior or observed=True to adopt the future default and silence this warning.\n",
      "  city_to_airport_counts = df_sample.groupby(cols[0])[cols[1]].nunique()\n"
     ]
    },
    {
     "name": "stdout",
     "output_type": "stream",
     "text": [
      "ERROR: Could not find file C:\\Users\\25495\\AppData\\Local\\Temp\\ipykernel_24792\\1553716684.py\n"
     ]
    },
    {
     "name": "stderr",
     "output_type": "stream",
     "text": [
      "C:\\Users\\25495\\AppData\\Local\\Temp\\ipykernel_24792\\1553716684.py:58: FutureWarning: The default of observed=False is deprecated and will be changed to True in a future version of pandas. Pass observed=False to retain current behavior or observed=True to adopt the future default and silence this warning.\n",
      "  city_to_airport_counts = df_sample.groupby(cols[0])[cols[1]].nunique()\n"
     ]
    },
    {
     "name": "stdout",
     "output_type": "stream",
     "text": [
      "ERROR: Could not find file C:\\Users\\25495\\AppData\\Local\\Temp\\ipykernel_24792\\1553716684.py\n"
     ]
    },
    {
     "name": "stderr",
     "output_type": "stream",
     "text": [
      "C:\\Users\\25495\\AppData\\Local\\Temp\\ipykernel_24792\\1553716684.py:58: FutureWarning: The default of observed=False is deprecated and will be changed to True in a future version of pandas. Pass observed=False to retain current behavior or observed=True to adopt the future default and silence this warning.\n",
      "  city_to_airport_counts = df_sample.groupby(cols[0])[cols[1]].nunique()\n"
     ]
    },
    {
     "name": "stdout",
     "output_type": "stream",
     "text": [
      "Processed 85 batches (8500000 rows)...\n",
      "Current status: Inconsistent\n",
      "ERROR: Could not find file C:\\Users\\25495\\AppData\\Local\\Temp\\ipykernel_24792\\1553716684.py\n"
     ]
    },
    {
     "name": "stderr",
     "output_type": "stream",
     "text": [
      "C:\\Users\\25495\\AppData\\Local\\Temp\\ipykernel_24792\\1553716684.py:58: FutureWarning: The default of observed=False is deprecated and will be changed to True in a future version of pandas. Pass observed=False to retain current behavior or observed=True to adopt the future default and silence this warning.\n",
      "  city_to_airport_counts = df_sample.groupby(cols[0])[cols[1]].nunique()\n"
     ]
    },
    {
     "name": "stdout",
     "output_type": "stream",
     "text": [
      "ERROR: Could not find file C:\\Users\\25495\\AppData\\Local\\Temp\\ipykernel_24792\\1553716684.py\n"
     ]
    },
    {
     "name": "stderr",
     "output_type": "stream",
     "text": [
      "C:\\Users\\25495\\AppData\\Local\\Temp\\ipykernel_24792\\1553716684.py:58: FutureWarning: The default of observed=False is deprecated and will be changed to True in a future version of pandas. Pass observed=False to retain current behavior or observed=True to adopt the future default and silence this warning.\n",
      "  city_to_airport_counts = df_sample.groupby(cols[0])[cols[1]].nunique()\n"
     ]
    },
    {
     "name": "stdout",
     "output_type": "stream",
     "text": [
      "ERROR: Could not find file C:\\Users\\25495\\AppData\\Local\\Temp\\ipykernel_24792\\1553716684.py\n"
     ]
    },
    {
     "name": "stderr",
     "output_type": "stream",
     "text": [
      "C:\\Users\\25495\\AppData\\Local\\Temp\\ipykernel_24792\\1553716684.py:58: FutureWarning: The default of observed=False is deprecated and will be changed to True in a future version of pandas. Pass observed=False to retain current behavior or observed=True to adopt the future default and silence this warning.\n",
      "  city_to_airport_counts = df_sample.groupby(cols[0])[cols[1]].nunique()\n"
     ]
    },
    {
     "name": "stdout",
     "output_type": "stream",
     "text": [
      "ERROR: Could not find file C:\\Users\\25495\\AppData\\Local\\Temp\\ipykernel_24792\\1553716684.py\n"
     ]
    },
    {
     "name": "stderr",
     "output_type": "stream",
     "text": [
      "C:\\Users\\25495\\AppData\\Local\\Temp\\ipykernel_24792\\1553716684.py:58: FutureWarning: The default of observed=False is deprecated and will be changed to True in a future version of pandas. Pass observed=False to retain current behavior or observed=True to adopt the future default and silence this warning.\n",
      "  city_to_airport_counts = df_sample.groupby(cols[0])[cols[1]].nunique()\n"
     ]
    },
    {
     "name": "stdout",
     "output_type": "stream",
     "text": [
      "ERROR: Could not find file C:\\Users\\25495\\AppData\\Local\\Temp\\ipykernel_24792\\1553716684.py\n"
     ]
    },
    {
     "name": "stderr",
     "output_type": "stream",
     "text": [
      "C:\\Users\\25495\\AppData\\Local\\Temp\\ipykernel_24792\\1553716684.py:58: FutureWarning: The default of observed=False is deprecated and will be changed to True in a future version of pandas. Pass observed=False to retain current behavior or observed=True to adopt the future default and silence this warning.\n",
      "  city_to_airport_counts = df_sample.groupby(cols[0])[cols[1]].nunique()\n"
     ]
    },
    {
     "name": "stdout",
     "output_type": "stream",
     "text": [
      "Processed 90 batches (9000000 rows)...\n",
      "Current status: Inconsistent\n",
      "ERROR: Could not find file C:\\Users\\25495\\AppData\\Local\\Temp\\ipykernel_24792\\1553716684.py\n"
     ]
    },
    {
     "name": "stderr",
     "output_type": "stream",
     "text": [
      "C:\\Users\\25495\\AppData\\Local\\Temp\\ipykernel_24792\\1553716684.py:58: FutureWarning: The default of observed=False is deprecated and will be changed to True in a future version of pandas. Pass observed=False to retain current behavior or observed=True to adopt the future default and silence this warning.\n",
      "  city_to_airport_counts = df_sample.groupby(cols[0])[cols[1]].nunique()\n"
     ]
    },
    {
     "name": "stdout",
     "output_type": "stream",
     "text": [
      "ERROR: Could not find file C:\\Users\\25495\\AppData\\Local\\Temp\\ipykernel_24792\\1553716684.py\n"
     ]
    },
    {
     "name": "stderr",
     "output_type": "stream",
     "text": [
      "C:\\Users\\25495\\AppData\\Local\\Temp\\ipykernel_24792\\1553716684.py:58: FutureWarning: The default of observed=False is deprecated and will be changed to True in a future version of pandas. Pass observed=False to retain current behavior or observed=True to adopt the future default and silence this warning.\n",
      "  city_to_airport_counts = df_sample.groupby(cols[0])[cols[1]].nunique()\n"
     ]
    },
    {
     "name": "stdout",
     "output_type": "stream",
     "text": [
      "ERROR: Could not find file C:\\Users\\25495\\AppData\\Local\\Temp\\ipykernel_24792\\1553716684.py\n"
     ]
    },
    {
     "name": "stderr",
     "output_type": "stream",
     "text": [
      "C:\\Users\\25495\\AppData\\Local\\Temp\\ipykernel_24792\\1553716684.py:58: FutureWarning: The default of observed=False is deprecated and will be changed to True in a future version of pandas. Pass observed=False to retain current behavior or observed=True to adopt the future default and silence this warning.\n",
      "  city_to_airport_counts = df_sample.groupby(cols[0])[cols[1]].nunique()\n"
     ]
    },
    {
     "name": "stdout",
     "output_type": "stream",
     "text": [
      "ERROR: Could not find file C:\\Users\\25495\\AppData\\Local\\Temp\\ipykernel_24792\\1553716684.py\n"
     ]
    },
    {
     "name": "stderr",
     "output_type": "stream",
     "text": [
      "C:\\Users\\25495\\AppData\\Local\\Temp\\ipykernel_24792\\1553716684.py:58: FutureWarning: The default of observed=False is deprecated and will be changed to True in a future version of pandas. Pass observed=False to retain current behavior or observed=True to adopt the future default and silence this warning.\n",
      "  city_to_airport_counts = df_sample.groupby(cols[0])[cols[1]].nunique()\n"
     ]
    },
    {
     "name": "stdout",
     "output_type": "stream",
     "text": [
      "ERROR: Could not find file C:\\Users\\25495\\AppData\\Local\\Temp\\ipykernel_24792\\1553716684.py\n"
     ]
    },
    {
     "name": "stderr",
     "output_type": "stream",
     "text": [
      "C:\\Users\\25495\\AppData\\Local\\Temp\\ipykernel_24792\\1553716684.py:58: FutureWarning: The default of observed=False is deprecated and will be changed to True in a future version of pandas. Pass observed=False to retain current behavior or observed=True to adopt the future default and silence this warning.\n",
      "  city_to_airport_counts = df_sample.groupby(cols[0])[cols[1]].nunique()\n"
     ]
    },
    {
     "name": "stdout",
     "output_type": "stream",
     "text": [
      "Processed 95 batches (9500000 rows)...\n",
      "Current status: Inconsistent\n",
      "ERROR: Could not find file C:\\Users\\25495\\AppData\\Local\\Temp\\ipykernel_24792\\1553716684.py\n"
     ]
    },
    {
     "name": "stderr",
     "output_type": "stream",
     "text": [
      "C:\\Users\\25495\\AppData\\Local\\Temp\\ipykernel_24792\\1553716684.py:58: FutureWarning: The default of observed=False is deprecated and will be changed to True in a future version of pandas. Pass observed=False to retain current behavior or observed=True to adopt the future default and silence this warning.\n",
      "  city_to_airport_counts = df_sample.groupby(cols[0])[cols[1]].nunique()\n"
     ]
    },
    {
     "name": "stdout",
     "output_type": "stream",
     "text": [
      "ERROR: Could not find file C:\\Users\\25495\\AppData\\Local\\Temp\\ipykernel_24792\\1553716684.py\n"
     ]
    },
    {
     "name": "stderr",
     "output_type": "stream",
     "text": [
      "C:\\Users\\25495\\AppData\\Local\\Temp\\ipykernel_24792\\1553716684.py:58: FutureWarning: The default of observed=False is deprecated and will be changed to True in a future version of pandas. Pass observed=False to retain current behavior or observed=True to adopt the future default and silence this warning.\n",
      "  city_to_airport_counts = df_sample.groupby(cols[0])[cols[1]].nunique()\n"
     ]
    },
    {
     "name": "stdout",
     "output_type": "stream",
     "text": [
      "ERROR: Could not find file C:\\Users\\25495\\AppData\\Local\\Temp\\ipykernel_24792\\1553716684.py\n"
     ]
    },
    {
     "name": "stderr",
     "output_type": "stream",
     "text": [
      "C:\\Users\\25495\\AppData\\Local\\Temp\\ipykernel_24792\\1553716684.py:58: FutureWarning: The default of observed=False is deprecated and will be changed to True in a future version of pandas. Pass observed=False to retain current behavior or observed=True to adopt the future default and silence this warning.\n",
      "  city_to_airport_counts = df_sample.groupby(cols[0])[cols[1]].nunique()\n"
     ]
    },
    {
     "name": "stdout",
     "output_type": "stream",
     "text": [
      "ERROR: Could not find file C:\\Users\\25495\\AppData\\Local\\Temp\\ipykernel_24792\\1553716684.py\n"
     ]
    },
    {
     "name": "stderr",
     "output_type": "stream",
     "text": [
      "C:\\Users\\25495\\AppData\\Local\\Temp\\ipykernel_24792\\1553716684.py:58: FutureWarning: The default of observed=False is deprecated and will be changed to True in a future version of pandas. Pass observed=False to retain current behavior or observed=True to adopt the future default and silence this warning.\n",
      "  city_to_airport_counts = df_sample.groupby(cols[0])[cols[1]].nunique()\n"
     ]
    },
    {
     "name": "stdout",
     "output_type": "stream",
     "text": [
      "ERROR: Could not find file C:\\Users\\25495\\AppData\\Local\\Temp\\ipykernel_24792\\1553716684.py\n"
     ]
    },
    {
     "name": "stderr",
     "output_type": "stream",
     "text": [
      "C:\\Users\\25495\\AppData\\Local\\Temp\\ipykernel_24792\\1553716684.py:58: FutureWarning: The default of observed=False is deprecated and will be changed to True in a future version of pandas. Pass observed=False to retain current behavior or observed=True to adopt the future default and silence this warning.\n",
      "  city_to_airport_counts = df_sample.groupby(cols[0])[cols[1]].nunique()\n"
     ]
    },
    {
     "name": "stdout",
     "output_type": "stream",
     "text": [
      "Processed 100 batches (10000000 rows)...\n",
      "Current status: Inconsistent\n",
      "ERROR: Could not find file C:\\Users\\25495\\AppData\\Local\\Temp\\ipykernel_24792\\1553716684.py\n"
     ]
    },
    {
     "name": "stderr",
     "output_type": "stream",
     "text": [
      "C:\\Users\\25495\\AppData\\Local\\Temp\\ipykernel_24792\\1553716684.py:58: FutureWarning: The default of observed=False is deprecated and will be changed to True in a future version of pandas. Pass observed=False to retain current behavior or observed=True to adopt the future default and silence this warning.\n",
      "  city_to_airport_counts = df_sample.groupby(cols[0])[cols[1]].nunique()\n"
     ]
    },
    {
     "name": "stdout",
     "output_type": "stream",
     "text": [
      "ERROR: Could not find file C:\\Users\\25495\\AppData\\Local\\Temp\\ipykernel_24792\\1553716684.py\n"
     ]
    },
    {
     "name": "stderr",
     "output_type": "stream",
     "text": [
      "C:\\Users\\25495\\AppData\\Local\\Temp\\ipykernel_24792\\1553716684.py:58: FutureWarning: The default of observed=False is deprecated and will be changed to True in a future version of pandas. Pass observed=False to retain current behavior or observed=True to adopt the future default and silence this warning.\n",
      "  city_to_airport_counts = df_sample.groupby(cols[0])[cols[1]].nunique()\n"
     ]
    },
    {
     "name": "stdout",
     "output_type": "stream",
     "text": [
      "ERROR: Could not find file C:\\Users\\25495\\AppData\\Local\\Temp\\ipykernel_24792\\1553716684.py\n"
     ]
    },
    {
     "name": "stderr",
     "output_type": "stream",
     "text": [
      "C:\\Users\\25495\\AppData\\Local\\Temp\\ipykernel_24792\\1553716684.py:58: FutureWarning: The default of observed=False is deprecated and will be changed to True in a future version of pandas. Pass observed=False to retain current behavior or observed=True to adopt the future default and silence this warning.\n",
      "  city_to_airport_counts = df_sample.groupby(cols[0])[cols[1]].nunique()\n"
     ]
    },
    {
     "name": "stdout",
     "output_type": "stream",
     "text": [
      "ERROR: Could not find file C:\\Users\\25495\\AppData\\Local\\Temp\\ipykernel_24792\\1553716684.py\n"
     ]
    },
    {
     "name": "stderr",
     "output_type": "stream",
     "text": [
      "C:\\Users\\25495\\AppData\\Local\\Temp\\ipykernel_24792\\1553716684.py:58: FutureWarning: The default of observed=False is deprecated and will be changed to True in a future version of pandas. Pass observed=False to retain current behavior or observed=True to adopt the future default and silence this warning.\n",
      "  city_to_airport_counts = df_sample.groupby(cols[0])[cols[1]].nunique()\n"
     ]
    },
    {
     "name": "stdout",
     "output_type": "stream",
     "text": [
      "ERROR: Could not find file C:\\Users\\25495\\AppData\\Local\\Temp\\ipykernel_24792\\1553716684.py\n"
     ]
    },
    {
     "name": "stderr",
     "output_type": "stream",
     "text": [
      "C:\\Users\\25495\\AppData\\Local\\Temp\\ipykernel_24792\\1553716684.py:58: FutureWarning: The default of observed=False is deprecated and will be changed to True in a future version of pandas. Pass observed=False to retain current behavior or observed=True to adopt the future default and silence this warning.\n",
      "  city_to_airport_counts = df_sample.groupby(cols[0])[cols[1]].nunique()\n"
     ]
    },
    {
     "name": "stdout",
     "output_type": "stream",
     "text": [
      "Processed 105 batches (10500000 rows)...\n",
      "Current status: Inconsistent\n",
      "ERROR: Could not find file C:\\Users\\25495\\AppData\\Local\\Temp\\ipykernel_24792\\1553716684.py\n"
     ]
    },
    {
     "name": "stderr",
     "output_type": "stream",
     "text": [
      "C:\\Users\\25495\\AppData\\Local\\Temp\\ipykernel_24792\\1553716684.py:58: FutureWarning: The default of observed=False is deprecated and will be changed to True in a future version of pandas. Pass observed=False to retain current behavior or observed=True to adopt the future default and silence this warning.\n",
      "  city_to_airport_counts = df_sample.groupby(cols[0])[cols[1]].nunique()\n"
     ]
    },
    {
     "name": "stdout",
     "output_type": "stream",
     "text": [
      "ERROR: Could not find file C:\\Users\\25495\\AppData\\Local\\Temp\\ipykernel_24792\\1553716684.py\n"
     ]
    },
    {
     "name": "stderr",
     "output_type": "stream",
     "text": [
      "C:\\Users\\25495\\AppData\\Local\\Temp\\ipykernel_24792\\1553716684.py:58: FutureWarning: The default of observed=False is deprecated and will be changed to True in a future version of pandas. Pass observed=False to retain current behavior or observed=True to adopt the future default and silence this warning.\n",
      "  city_to_airport_counts = df_sample.groupby(cols[0])[cols[1]].nunique()\n"
     ]
    },
    {
     "name": "stdout",
     "output_type": "stream",
     "text": [
      "ERROR: Could not find file C:\\Users\\25495\\AppData\\Local\\Temp\\ipykernel_24792\\1553716684.py\n"
     ]
    },
    {
     "name": "stderr",
     "output_type": "stream",
     "text": [
      "C:\\Users\\25495\\AppData\\Local\\Temp\\ipykernel_24792\\1553716684.py:58: FutureWarning: The default of observed=False is deprecated and will be changed to True in a future version of pandas. Pass observed=False to retain current behavior or observed=True to adopt the future default and silence this warning.\n",
      "  city_to_airport_counts = df_sample.groupby(cols[0])[cols[1]].nunique()\n"
     ]
    },
    {
     "name": "stdout",
     "output_type": "stream",
     "text": [
      "ERROR: Could not find file C:\\Users\\25495\\AppData\\Local\\Temp\\ipykernel_24792\\1553716684.py\n"
     ]
    },
    {
     "name": "stderr",
     "output_type": "stream",
     "text": [
      "C:\\Users\\25495\\AppData\\Local\\Temp\\ipykernel_24792\\1553716684.py:58: FutureWarning: The default of observed=False is deprecated and will be changed to True in a future version of pandas. Pass observed=False to retain current behavior or observed=True to adopt the future default and silence this warning.\n",
      "  city_to_airport_counts = df_sample.groupby(cols[0])[cols[1]].nunique()\n"
     ]
    },
    {
     "name": "stdout",
     "output_type": "stream",
     "text": [
      "ERROR: Could not find file C:\\Users\\25495\\AppData\\Local\\Temp\\ipykernel_24792\\1553716684.py\n"
     ]
    },
    {
     "name": "stderr",
     "output_type": "stream",
     "text": [
      "C:\\Users\\25495\\AppData\\Local\\Temp\\ipykernel_24792\\1553716684.py:58: FutureWarning: The default of observed=False is deprecated and will be changed to True in a future version of pandas. Pass observed=False to retain current behavior or observed=True to adopt the future default and silence this warning.\n",
      "  city_to_airport_counts = df_sample.groupby(cols[0])[cols[1]].nunique()\n"
     ]
    },
    {
     "name": "stdout",
     "output_type": "stream",
     "text": [
      "Processed 110 batches (11000000 rows)...\n",
      "Current status: Inconsistent\n",
      "ERROR: Could not find file C:\\Users\\25495\\AppData\\Local\\Temp\\ipykernel_24792\\1553716684.py\n"
     ]
    },
    {
     "name": "stderr",
     "output_type": "stream",
     "text": [
      "C:\\Users\\25495\\AppData\\Local\\Temp\\ipykernel_24792\\1553716684.py:58: FutureWarning: The default of observed=False is deprecated and will be changed to True in a future version of pandas. Pass observed=False to retain current behavior or observed=True to adopt the future default and silence this warning.\n",
      "  city_to_airport_counts = df_sample.groupby(cols[0])[cols[1]].nunique()\n"
     ]
    },
    {
     "name": "stdout",
     "output_type": "stream",
     "text": [
      "ERROR: Could not find file C:\\Users\\25495\\AppData\\Local\\Temp\\ipykernel_24792\\1553716684.py\n"
     ]
    },
    {
     "name": "stderr",
     "output_type": "stream",
     "text": [
      "C:\\Users\\25495\\AppData\\Local\\Temp\\ipykernel_24792\\1553716684.py:58: FutureWarning: The default of observed=False is deprecated and will be changed to True in a future version of pandas. Pass observed=False to retain current behavior or observed=True to adopt the future default and silence this warning.\n",
      "  city_to_airport_counts = df_sample.groupby(cols[0])[cols[1]].nunique()\n"
     ]
    },
    {
     "name": "stdout",
     "output_type": "stream",
     "text": [
      "ERROR: Could not find file C:\\Users\\25495\\AppData\\Local\\Temp\\ipykernel_24792\\1553716684.py\n"
     ]
    },
    {
     "name": "stderr",
     "output_type": "stream",
     "text": [
      "C:\\Users\\25495\\AppData\\Local\\Temp\\ipykernel_24792\\1553716684.py:58: FutureWarning: The default of observed=False is deprecated and will be changed to True in a future version of pandas. Pass observed=False to retain current behavior or observed=True to adopt the future default and silence this warning.\n",
      "  city_to_airport_counts = df_sample.groupby(cols[0])[cols[1]].nunique()\n"
     ]
    },
    {
     "name": "stdout",
     "output_type": "stream",
     "text": [
      "ERROR: Could not find file C:\\Users\\25495\\AppData\\Local\\Temp\\ipykernel_24792\\1553716684.py\n"
     ]
    },
    {
     "name": "stderr",
     "output_type": "stream",
     "text": [
      "C:\\Users\\25495\\AppData\\Local\\Temp\\ipykernel_24792\\1553716684.py:58: FutureWarning: The default of observed=False is deprecated and will be changed to True in a future version of pandas. Pass observed=False to retain current behavior or observed=True to adopt the future default and silence this warning.\n",
      "  city_to_airport_counts = df_sample.groupby(cols[0])[cols[1]].nunique()\n"
     ]
    },
    {
     "name": "stdout",
     "output_type": "stream",
     "text": [
      "ERROR: Could not find file C:\\Users\\25495\\AppData\\Local\\Temp\\ipykernel_24792\\1553716684.py\n"
     ]
    },
    {
     "name": "stderr",
     "output_type": "stream",
     "text": [
      "C:\\Users\\25495\\AppData\\Local\\Temp\\ipykernel_24792\\1553716684.py:58: FutureWarning: The default of observed=False is deprecated and will be changed to True in a future version of pandas. Pass observed=False to retain current behavior or observed=True to adopt the future default and silence this warning.\n",
      "  city_to_airport_counts = df_sample.groupby(cols[0])[cols[1]].nunique()\n"
     ]
    },
    {
     "name": "stdout",
     "output_type": "stream",
     "text": [
      "Processed 115 batches (11500000 rows)...\n",
      "Current status: Inconsistent\n",
      "ERROR: Could not find file C:\\Users\\25495\\AppData\\Local\\Temp\\ipykernel_24792\\1553716684.py\n"
     ]
    },
    {
     "name": "stderr",
     "output_type": "stream",
     "text": [
      "C:\\Users\\25495\\AppData\\Local\\Temp\\ipykernel_24792\\1553716684.py:58: FutureWarning: The default of observed=False is deprecated and will be changed to True in a future version of pandas. Pass observed=False to retain current behavior or observed=True to adopt the future default and silence this warning.\n",
      "  city_to_airport_counts = df_sample.groupby(cols[0])[cols[1]].nunique()\n"
     ]
    },
    {
     "name": "stdout",
     "output_type": "stream",
     "text": [
      "ERROR: Could not find file C:\\Users\\25495\\AppData\\Local\\Temp\\ipykernel_24792\\1553716684.py\n"
     ]
    },
    {
     "name": "stderr",
     "output_type": "stream",
     "text": [
      "C:\\Users\\25495\\AppData\\Local\\Temp\\ipykernel_24792\\1553716684.py:58: FutureWarning: The default of observed=False is deprecated and will be changed to True in a future version of pandas. Pass observed=False to retain current behavior or observed=True to adopt the future default and silence this warning.\n",
      "  city_to_airport_counts = df_sample.groupby(cols[0])[cols[1]].nunique()\n"
     ]
    },
    {
     "name": "stdout",
     "output_type": "stream",
     "text": [
      "ERROR: Could not find file C:\\Users\\25495\\AppData\\Local\\Temp\\ipykernel_24792\\1553716684.py\n"
     ]
    },
    {
     "name": "stderr",
     "output_type": "stream",
     "text": [
      "C:\\Users\\25495\\AppData\\Local\\Temp\\ipykernel_24792\\1553716684.py:58: FutureWarning: The default of observed=False is deprecated and will be changed to True in a future version of pandas. Pass observed=False to retain current behavior or observed=True to adopt the future default and silence this warning.\n",
      "  city_to_airport_counts = df_sample.groupby(cols[0])[cols[1]].nunique()\n"
     ]
    },
    {
     "name": "stdout",
     "output_type": "stream",
     "text": [
      "ERROR: Could not find file C:\\Users\\25495\\AppData\\Local\\Temp\\ipykernel_24792\\1553716684.py\n"
     ]
    },
    {
     "name": "stderr",
     "output_type": "stream",
     "text": [
      "C:\\Users\\25495\\AppData\\Local\\Temp\\ipykernel_24792\\1553716684.py:58: FutureWarning: The default of observed=False is deprecated and will be changed to True in a future version of pandas. Pass observed=False to retain current behavior or observed=True to adopt the future default and silence this warning.\n",
      "  city_to_airport_counts = df_sample.groupby(cols[0])[cols[1]].nunique()\n"
     ]
    },
    {
     "name": "stdout",
     "output_type": "stream",
     "text": [
      "ERROR: Could not find file C:\\Users\\25495\\AppData\\Local\\Temp\\ipykernel_24792\\1553716684.py\n"
     ]
    },
    {
     "name": "stderr",
     "output_type": "stream",
     "text": [
      "C:\\Users\\25495\\AppData\\Local\\Temp\\ipykernel_24792\\1553716684.py:58: FutureWarning: The default of observed=False is deprecated and will be changed to True in a future version of pandas. Pass observed=False to retain current behavior or observed=True to adopt the future default and silence this warning.\n",
      "  city_to_airport_counts = df_sample.groupby(cols[0])[cols[1]].nunique()\n"
     ]
    },
    {
     "name": "stdout",
     "output_type": "stream",
     "text": [
      "Processed 120 batches (12000000 rows)...\n",
      "Current status: Inconsistent\n",
      "ERROR: Could not find file C:\\Users\\25495\\AppData\\Local\\Temp\\ipykernel_24792\\1553716684.py\n"
     ]
    },
    {
     "name": "stderr",
     "output_type": "stream",
     "text": [
      "C:\\Users\\25495\\AppData\\Local\\Temp\\ipykernel_24792\\1553716684.py:58: FutureWarning: The default of observed=False is deprecated and will be changed to True in a future version of pandas. Pass observed=False to retain current behavior or observed=True to adopt the future default and silence this warning.\n",
      "  city_to_airport_counts = df_sample.groupby(cols[0])[cols[1]].nunique()\n"
     ]
    },
    {
     "name": "stdout",
     "output_type": "stream",
     "text": [
      "ERROR: Could not find file C:\\Users\\25495\\AppData\\Local\\Temp\\ipykernel_24792\\1553716684.py\n"
     ]
    },
    {
     "name": "stderr",
     "output_type": "stream",
     "text": [
      "C:\\Users\\25495\\AppData\\Local\\Temp\\ipykernel_24792\\1553716684.py:58: FutureWarning: The default of observed=False is deprecated and will be changed to True in a future version of pandas. Pass observed=False to retain current behavior or observed=True to adopt the future default and silence this warning.\n",
      "  city_to_airport_counts = df_sample.groupby(cols[0])[cols[1]].nunique()\n"
     ]
    },
    {
     "name": "stdout",
     "output_type": "stream",
     "text": [
      "ERROR: Could not find file C:\\Users\\25495\\AppData\\Local\\Temp\\ipykernel_24792\\1553716684.py\n"
     ]
    },
    {
     "name": "stderr",
     "output_type": "stream",
     "text": [
      "C:\\Users\\25495\\AppData\\Local\\Temp\\ipykernel_24792\\1553716684.py:58: FutureWarning: The default of observed=False is deprecated and will be changed to True in a future version of pandas. Pass observed=False to retain current behavior or observed=True to adopt the future default and silence this warning.\n",
      "  city_to_airport_counts = df_sample.groupby(cols[0])[cols[1]].nunique()\n"
     ]
    },
    {
     "name": "stdout",
     "output_type": "stream",
     "text": [
      "ERROR: Could not find file C:\\Users\\25495\\AppData\\Local\\Temp\\ipykernel_24792\\1553716684.py\n"
     ]
    },
    {
     "name": "stderr",
     "output_type": "stream",
     "text": [
      "C:\\Users\\25495\\AppData\\Local\\Temp\\ipykernel_24792\\1553716684.py:58: FutureWarning: The default of observed=False is deprecated and will be changed to True in a future version of pandas. Pass observed=False to retain current behavior or observed=True to adopt the future default and silence this warning.\n",
      "  city_to_airport_counts = df_sample.groupby(cols[0])[cols[1]].nunique()\n"
     ]
    },
    {
     "name": "stdout",
     "output_type": "stream",
     "text": [
      "ERROR: Could not find file C:\\Users\\25495\\AppData\\Local\\Temp\\ipykernel_24792\\1553716684.py\n"
     ]
    },
    {
     "name": "stderr",
     "output_type": "stream",
     "text": [
      "C:\\Users\\25495\\AppData\\Local\\Temp\\ipykernel_24792\\1553716684.py:58: FutureWarning: The default of observed=False is deprecated and will be changed to True in a future version of pandas. Pass observed=False to retain current behavior or observed=True to adopt the future default and silence this warning.\n",
      "  city_to_airport_counts = df_sample.groupby(cols[0])[cols[1]].nunique()\n"
     ]
    },
    {
     "name": "stdout",
     "output_type": "stream",
     "text": [
      "Processed 125 batches (12500000 rows)...\n",
      "Current status: Inconsistent\n",
      "ERROR: Could not find file C:\\Users\\25495\\AppData\\Local\\Temp\\ipykernel_24792\\1553716684.py\n"
     ]
    },
    {
     "name": "stderr",
     "output_type": "stream",
     "text": [
      "C:\\Users\\25495\\AppData\\Local\\Temp\\ipykernel_24792\\1553716684.py:58: FutureWarning: The default of observed=False is deprecated and will be changed to True in a future version of pandas. Pass observed=False to retain current behavior or observed=True to adopt the future default and silence this warning.\n",
      "  city_to_airport_counts = df_sample.groupby(cols[0])[cols[1]].nunique()\n"
     ]
    },
    {
     "name": "stdout",
     "output_type": "stream",
     "text": [
      "ERROR: Could not find file C:\\Users\\25495\\AppData\\Local\\Temp\\ipykernel_24792\\1553716684.py\n"
     ]
    },
    {
     "name": "stderr",
     "output_type": "stream",
     "text": [
      "C:\\Users\\25495\\AppData\\Local\\Temp\\ipykernel_24792\\1553716684.py:58: FutureWarning: The default of observed=False is deprecated and will be changed to True in a future version of pandas. Pass observed=False to retain current behavior or observed=True to adopt the future default and silence this warning.\n",
      "  city_to_airport_counts = df_sample.groupby(cols[0])[cols[1]].nunique()\n"
     ]
    },
    {
     "name": "stdout",
     "output_type": "stream",
     "text": [
      "ERROR: Could not find file C:\\Users\\25495\\AppData\\Local\\Temp\\ipykernel_24792\\1553716684.py\n"
     ]
    },
    {
     "name": "stderr",
     "output_type": "stream",
     "text": [
      "C:\\Users\\25495\\AppData\\Local\\Temp\\ipykernel_24792\\1553716684.py:58: FutureWarning: The default of observed=False is deprecated and will be changed to True in a future version of pandas. Pass observed=False to retain current behavior or observed=True to adopt the future default and silence this warning.\n",
      "  city_to_airport_counts = df_sample.groupby(cols[0])[cols[1]].nunique()\n"
     ]
    },
    {
     "name": "stdout",
     "output_type": "stream",
     "text": [
      "ERROR: Could not find file C:\\Users\\25495\\AppData\\Local\\Temp\\ipykernel_24792\\1553716684.py\n"
     ]
    },
    {
     "name": "stderr",
     "output_type": "stream",
     "text": [
      "C:\\Users\\25495\\AppData\\Local\\Temp\\ipykernel_24792\\1553716684.py:58: FutureWarning: The default of observed=False is deprecated and will be changed to True in a future version of pandas. Pass observed=False to retain current behavior or observed=True to adopt the future default and silence this warning.\n",
      "  city_to_airport_counts = df_sample.groupby(cols[0])[cols[1]].nunique()\n"
     ]
    },
    {
     "name": "stdout",
     "output_type": "stream",
     "text": [
      "ERROR: Could not find file C:\\Users\\25495\\AppData\\Local\\Temp\\ipykernel_24792\\1553716684.py\n"
     ]
    },
    {
     "name": "stderr",
     "output_type": "stream",
     "text": [
      "C:\\Users\\25495\\AppData\\Local\\Temp\\ipykernel_24792\\1553716684.py:58: FutureWarning: The default of observed=False is deprecated and will be changed to True in a future version of pandas. Pass observed=False to retain current behavior or observed=True to adopt the future default and silence this warning.\n",
      "  city_to_airport_counts = df_sample.groupby(cols[0])[cols[1]].nunique()\n"
     ]
    },
    {
     "name": "stdout",
     "output_type": "stream",
     "text": [
      "Processed 130 batches (13000000 rows)...\n",
      "Current status: Inconsistent\n",
      "ERROR: Could not find file C:\\Users\\25495\\AppData\\Local\\Temp\\ipykernel_24792\\1553716684.py\n"
     ]
    },
    {
     "name": "stderr",
     "output_type": "stream",
     "text": [
      "C:\\Users\\25495\\AppData\\Local\\Temp\\ipykernel_24792\\1553716684.py:58: FutureWarning: The default of observed=False is deprecated and will be changed to True in a future version of pandas. Pass observed=False to retain current behavior or observed=True to adopt the future default and silence this warning.\n",
      "  city_to_airport_counts = df_sample.groupby(cols[0])[cols[1]].nunique()\n"
     ]
    },
    {
     "name": "stdout",
     "output_type": "stream",
     "text": [
      "ERROR: Could not find file C:\\Users\\25495\\AppData\\Local\\Temp\\ipykernel_24792\\1553716684.py\n"
     ]
    },
    {
     "name": "stderr",
     "output_type": "stream",
     "text": [
      "C:\\Users\\25495\\AppData\\Local\\Temp\\ipykernel_24792\\1553716684.py:58: FutureWarning: The default of observed=False is deprecated and will be changed to True in a future version of pandas. Pass observed=False to retain current behavior or observed=True to adopt the future default and silence this warning.\n",
      "  city_to_airport_counts = df_sample.groupby(cols[0])[cols[1]].nunique()\n"
     ]
    },
    {
     "name": "stdout",
     "output_type": "stream",
     "text": [
      "ERROR: Could not find file C:\\Users\\25495\\AppData\\Local\\Temp\\ipykernel_24792\\1553716684.py\n"
     ]
    },
    {
     "name": "stderr",
     "output_type": "stream",
     "text": [
      "C:\\Users\\25495\\AppData\\Local\\Temp\\ipykernel_24792\\1553716684.py:58: FutureWarning: The default of observed=False is deprecated and will be changed to True in a future version of pandas. Pass observed=False to retain current behavior or observed=True to adopt the future default and silence this warning.\n",
      "  city_to_airport_counts = df_sample.groupby(cols[0])[cols[1]].nunique()\n"
     ]
    },
    {
     "name": "stdout",
     "output_type": "stream",
     "text": [
      "ERROR: Could not find file C:\\Users\\25495\\AppData\\Local\\Temp\\ipykernel_24792\\1553716684.py\n"
     ]
    },
    {
     "name": "stderr",
     "output_type": "stream",
     "text": [
      "C:\\Users\\25495\\AppData\\Local\\Temp\\ipykernel_24792\\1553716684.py:58: FutureWarning: The default of observed=False is deprecated and will be changed to True in a future version of pandas. Pass observed=False to retain current behavior or observed=True to adopt the future default and silence this warning.\n",
      "  city_to_airport_counts = df_sample.groupby(cols[0])[cols[1]].nunique()\n"
     ]
    },
    {
     "name": "stdout",
     "output_type": "stream",
     "text": [
      "ERROR: Could not find file C:\\Users\\25495\\AppData\\Local\\Temp\\ipykernel_24792\\1553716684.py\n"
     ]
    },
    {
     "name": "stderr",
     "output_type": "stream",
     "text": [
      "C:\\Users\\25495\\AppData\\Local\\Temp\\ipykernel_24792\\1553716684.py:58: FutureWarning: The default of observed=False is deprecated and will be changed to True in a future version of pandas. Pass observed=False to retain current behavior or observed=True to adopt the future default and silence this warning.\n",
      "  city_to_airport_counts = df_sample.groupby(cols[0])[cols[1]].nunique()\n"
     ]
    },
    {
     "name": "stdout",
     "output_type": "stream",
     "text": [
      "Processed 135 batches (13500000 rows)...\n",
      "Current status: Inconsistent\n",
      "ERROR: Could not find file C:\\Users\\25495\\AppData\\Local\\Temp\\ipykernel_24792\\1553716684.py\n"
     ]
    },
    {
     "name": "stderr",
     "output_type": "stream",
     "text": [
      "C:\\Users\\25495\\AppData\\Local\\Temp\\ipykernel_24792\\1553716684.py:58: FutureWarning: The default of observed=False is deprecated and will be changed to True in a future version of pandas. Pass observed=False to retain current behavior or observed=True to adopt the future default and silence this warning.\n",
      "  city_to_airport_counts = df_sample.groupby(cols[0])[cols[1]].nunique()\n"
     ]
    },
    {
     "name": "stdout",
     "output_type": "stream",
     "text": [
      "ERROR: Could not find file C:\\Users\\25495\\AppData\\Local\\Temp\\ipykernel_24792\\1553716684.py\n"
     ]
    },
    {
     "name": "stderr",
     "output_type": "stream",
     "text": [
      "C:\\Users\\25495\\AppData\\Local\\Temp\\ipykernel_24792\\1553716684.py:58: FutureWarning: The default of observed=False is deprecated and will be changed to True in a future version of pandas. Pass observed=False to retain current behavior or observed=True to adopt the future default and silence this warning.\n",
      "  city_to_airport_counts = df_sample.groupby(cols[0])[cols[1]].nunique()\n"
     ]
    },
    {
     "name": "stdout",
     "output_type": "stream",
     "text": [
      "ERROR: Could not find file C:\\Users\\25495\\AppData\\Local\\Temp\\ipykernel_24792\\1553716684.py\n"
     ]
    },
    {
     "name": "stderr",
     "output_type": "stream",
     "text": [
      "C:\\Users\\25495\\AppData\\Local\\Temp\\ipykernel_24792\\1553716684.py:58: FutureWarning: The default of observed=False is deprecated and will be changed to True in a future version of pandas. Pass observed=False to retain current behavior or observed=True to adopt the future default and silence this warning.\n",
      "  city_to_airport_counts = df_sample.groupby(cols[0])[cols[1]].nunique()\n"
     ]
    },
    {
     "name": "stdout",
     "output_type": "stream",
     "text": [
      "ERROR: Could not find file C:\\Users\\25495\\AppData\\Local\\Temp\\ipykernel_24792\\1553716684.py\n"
     ]
    },
    {
     "name": "stderr",
     "output_type": "stream",
     "text": [
      "C:\\Users\\25495\\AppData\\Local\\Temp\\ipykernel_24792\\1553716684.py:58: FutureWarning: The default of observed=False is deprecated and will be changed to True in a future version of pandas. Pass observed=False to retain current behavior or observed=True to adopt the future default and silence this warning.\n",
      "  city_to_airport_counts = df_sample.groupby(cols[0])[cols[1]].nunique()\n"
     ]
    },
    {
     "name": "stdout",
     "output_type": "stream",
     "text": [
      "ERROR: Could not find file C:\\Users\\25495\\AppData\\Local\\Temp\\ipykernel_24792\\1553716684.py\n"
     ]
    },
    {
     "name": "stderr",
     "output_type": "stream",
     "text": [
      "C:\\Users\\25495\\AppData\\Local\\Temp\\ipykernel_24792\\1553716684.py:58: FutureWarning: The default of observed=False is deprecated and will be changed to True in a future version of pandas. Pass observed=False to retain current behavior or observed=True to adopt the future default and silence this warning.\n",
      "  city_to_airport_counts = df_sample.groupby(cols[0])[cols[1]].nunique()\n"
     ]
    },
    {
     "name": "stdout",
     "output_type": "stream",
     "text": [
      "Processed 140 batches (14000000 rows)...\n",
      "Current status: Inconsistent\n",
      "ERROR: Could not find file C:\\Users\\25495\\AppData\\Local\\Temp\\ipykernel_24792\\1553716684.py\n"
     ]
    },
    {
     "name": "stderr",
     "output_type": "stream",
     "text": [
      "C:\\Users\\25495\\AppData\\Local\\Temp\\ipykernel_24792\\1553716684.py:58: FutureWarning: The default of observed=False is deprecated and will be changed to True in a future version of pandas. Pass observed=False to retain current behavior or observed=True to adopt the future default and silence this warning.\n",
      "  city_to_airport_counts = df_sample.groupby(cols[0])[cols[1]].nunique()\n"
     ]
    },
    {
     "name": "stdout",
     "output_type": "stream",
     "text": [
      "ERROR: Could not find file C:\\Users\\25495\\AppData\\Local\\Temp\\ipykernel_24792\\1553716684.py\n"
     ]
    },
    {
     "name": "stderr",
     "output_type": "stream",
     "text": [
      "C:\\Users\\25495\\AppData\\Local\\Temp\\ipykernel_24792\\1553716684.py:58: FutureWarning: The default of observed=False is deprecated and will be changed to True in a future version of pandas. Pass observed=False to retain current behavior or observed=True to adopt the future default and silence this warning.\n",
      "  city_to_airport_counts = df_sample.groupby(cols[0])[cols[1]].nunique()\n"
     ]
    },
    {
     "name": "stdout",
     "output_type": "stream",
     "text": [
      "ERROR: Could not find file C:\\Users\\25495\\AppData\\Local\\Temp\\ipykernel_24792\\1553716684.py\n"
     ]
    },
    {
     "name": "stderr",
     "output_type": "stream",
     "text": [
      "C:\\Users\\25495\\AppData\\Local\\Temp\\ipykernel_24792\\1553716684.py:58: FutureWarning: The default of observed=False is deprecated and will be changed to True in a future version of pandas. Pass observed=False to retain current behavior or observed=True to adopt the future default and silence this warning.\n",
      "  city_to_airport_counts = df_sample.groupby(cols[0])[cols[1]].nunique()\n"
     ]
    },
    {
     "name": "stdout",
     "output_type": "stream",
     "text": [
      "ERROR: Could not find file C:\\Users\\25495\\AppData\\Local\\Temp\\ipykernel_24792\\1553716684.py\n"
     ]
    },
    {
     "name": "stderr",
     "output_type": "stream",
     "text": [
      "C:\\Users\\25495\\AppData\\Local\\Temp\\ipykernel_24792\\1553716684.py:58: FutureWarning: The default of observed=False is deprecated and will be changed to True in a future version of pandas. Pass observed=False to retain current behavior or observed=True to adopt the future default and silence this warning.\n",
      "  city_to_airport_counts = df_sample.groupby(cols[0])[cols[1]].nunique()\n"
     ]
    },
    {
     "name": "stdout",
     "output_type": "stream",
     "text": [
      "ERROR: Could not find file C:\\Users\\25495\\AppData\\Local\\Temp\\ipykernel_24792\\1553716684.py\n"
     ]
    },
    {
     "name": "stderr",
     "output_type": "stream",
     "text": [
      "C:\\Users\\25495\\AppData\\Local\\Temp\\ipykernel_24792\\1553716684.py:58: FutureWarning: The default of observed=False is deprecated and will be changed to True in a future version of pandas. Pass observed=False to retain current behavior or observed=True to adopt the future default and silence this warning.\n",
      "  city_to_airport_counts = df_sample.groupby(cols[0])[cols[1]].nunique()\n"
     ]
    },
    {
     "name": "stdout",
     "output_type": "stream",
     "text": [
      "Processed 145 batches (14500000 rows)...\n",
      "Current status: Inconsistent\n",
      "ERROR: Could not find file C:\\Users\\25495\\AppData\\Local\\Temp\\ipykernel_24792\\1553716684.py\n"
     ]
    },
    {
     "name": "stderr",
     "output_type": "stream",
     "text": [
      "C:\\Users\\25495\\AppData\\Local\\Temp\\ipykernel_24792\\1553716684.py:58: FutureWarning: The default of observed=False is deprecated and will be changed to True in a future version of pandas. Pass observed=False to retain current behavior or observed=True to adopt the future default and silence this warning.\n",
      "  city_to_airport_counts = df_sample.groupby(cols[0])[cols[1]].nunique()\n"
     ]
    },
    {
     "name": "stdout",
     "output_type": "stream",
     "text": [
      "ERROR: Could not find file C:\\Users\\25495\\AppData\\Local\\Temp\\ipykernel_24792\\1553716684.py\n"
     ]
    },
    {
     "name": "stderr",
     "output_type": "stream",
     "text": [
      "C:\\Users\\25495\\AppData\\Local\\Temp\\ipykernel_24792\\1553716684.py:58: FutureWarning: The default of observed=False is deprecated and will be changed to True in a future version of pandas. Pass observed=False to retain current behavior or observed=True to adopt the future default and silence this warning.\n",
      "  city_to_airport_counts = df_sample.groupby(cols[0])[cols[1]].nunique()\n"
     ]
    },
    {
     "name": "stdout",
     "output_type": "stream",
     "text": [
      "ERROR: Could not find file C:\\Users\\25495\\AppData\\Local\\Temp\\ipykernel_24792\\1553716684.py\n"
     ]
    },
    {
     "name": "stderr",
     "output_type": "stream",
     "text": [
      "C:\\Users\\25495\\AppData\\Local\\Temp\\ipykernel_24792\\1553716684.py:58: FutureWarning: The default of observed=False is deprecated and will be changed to True in a future version of pandas. Pass observed=False to retain current behavior or observed=True to adopt the future default and silence this warning.\n",
      "  city_to_airport_counts = df_sample.groupby(cols[0])[cols[1]].nunique()\n"
     ]
    },
    {
     "name": "stdout",
     "output_type": "stream",
     "text": [
      "ERROR: Could not find file C:\\Users\\25495\\AppData\\Local\\Temp\\ipykernel_24792\\1553716684.py\n"
     ]
    },
    {
     "name": "stderr",
     "output_type": "stream",
     "text": [
      "C:\\Users\\25495\\AppData\\Local\\Temp\\ipykernel_24792\\1553716684.py:58: FutureWarning: The default of observed=False is deprecated and will be changed to True in a future version of pandas. Pass observed=False to retain current behavior or observed=True to adopt the future default and silence this warning.\n",
      "  city_to_airport_counts = df_sample.groupby(cols[0])[cols[1]].nunique()\n"
     ]
    },
    {
     "name": "stdout",
     "output_type": "stream",
     "text": [
      "ERROR: Could not find file C:\\Users\\25495\\AppData\\Local\\Temp\\ipykernel_24792\\1553716684.py\n"
     ]
    },
    {
     "name": "stderr",
     "output_type": "stream",
     "text": [
      "C:\\Users\\25495\\AppData\\Local\\Temp\\ipykernel_24792\\1553716684.py:58: FutureWarning: The default of observed=False is deprecated and will be changed to True in a future version of pandas. Pass observed=False to retain current behavior or observed=True to adopt the future default and silence this warning.\n",
      "  city_to_airport_counts = df_sample.groupby(cols[0])[cols[1]].nunique()\n"
     ]
    },
    {
     "name": "stdout",
     "output_type": "stream",
     "text": [
      "Processed 150 batches (15000000 rows)...\n",
      "Current status: Inconsistent\n",
      "ERROR: Could not find file C:\\Users\\25495\\AppData\\Local\\Temp\\ipykernel_24792\\1553716684.py\n"
     ]
    },
    {
     "name": "stderr",
     "output_type": "stream",
     "text": [
      "C:\\Users\\25495\\AppData\\Local\\Temp\\ipykernel_24792\\1553716684.py:58: FutureWarning: The default of observed=False is deprecated and will be changed to True in a future version of pandas. Pass observed=False to retain current behavior or observed=True to adopt the future default and silence this warning.\n",
      "  city_to_airport_counts = df_sample.groupby(cols[0])[cols[1]].nunique()\n"
     ]
    },
    {
     "name": "stdout",
     "output_type": "stream",
     "text": [
      "ERROR: Could not find file C:\\Users\\25495\\AppData\\Local\\Temp\\ipykernel_24792\\1553716684.py\n"
     ]
    },
    {
     "name": "stderr",
     "output_type": "stream",
     "text": [
      "C:\\Users\\25495\\AppData\\Local\\Temp\\ipykernel_24792\\1553716684.py:58: FutureWarning: The default of observed=False is deprecated and will be changed to True in a future version of pandas. Pass observed=False to retain current behavior or observed=True to adopt the future default and silence this warning.\n",
      "  city_to_airport_counts = df_sample.groupby(cols[0])[cols[1]].nunique()\n"
     ]
    },
    {
     "name": "stdout",
     "output_type": "stream",
     "text": [
      "ERROR: Could not find file C:\\Users\\25495\\AppData\\Local\\Temp\\ipykernel_24792\\1553716684.py\n"
     ]
    },
    {
     "name": "stderr",
     "output_type": "stream",
     "text": [
      "C:\\Users\\25495\\AppData\\Local\\Temp\\ipykernel_24792\\1553716684.py:58: FutureWarning: The default of observed=False is deprecated and will be changed to True in a future version of pandas. Pass observed=False to retain current behavior or observed=True to adopt the future default and silence this warning.\n",
      "  city_to_airport_counts = df_sample.groupby(cols[0])[cols[1]].nunique()\n"
     ]
    },
    {
     "name": "stdout",
     "output_type": "stream",
     "text": [
      "ERROR: Could not find file C:\\Users\\25495\\AppData\\Local\\Temp\\ipykernel_24792\\1553716684.py\n"
     ]
    },
    {
     "name": "stderr",
     "output_type": "stream",
     "text": [
      "C:\\Users\\25495\\AppData\\Local\\Temp\\ipykernel_24792\\1553716684.py:58: FutureWarning: The default of observed=False is deprecated and will be changed to True in a future version of pandas. Pass observed=False to retain current behavior or observed=True to adopt the future default and silence this warning.\n",
      "  city_to_airport_counts = df_sample.groupby(cols[0])[cols[1]].nunique()\n"
     ]
    },
    {
     "name": "stdout",
     "output_type": "stream",
     "text": [
      "ERROR: Could not find file C:\\Users\\25495\\AppData\\Local\\Temp\\ipykernel_24792\\1553716684.py\n"
     ]
    },
    {
     "name": "stderr",
     "output_type": "stream",
     "text": [
      "C:\\Users\\25495\\AppData\\Local\\Temp\\ipykernel_24792\\1553716684.py:58: FutureWarning: The default of observed=False is deprecated and will be changed to True in a future version of pandas. Pass observed=False to retain current behavior or observed=True to adopt the future default and silence this warning.\n",
      "  city_to_airport_counts = df_sample.groupby(cols[0])[cols[1]].nunique()\n"
     ]
    },
    {
     "name": "stdout",
     "output_type": "stream",
     "text": [
      "Processed 155 batches (15500000 rows)...\n",
      "Current status: Inconsistent\n",
      "ERROR: Could not find file C:\\Users\\25495\\AppData\\Local\\Temp\\ipykernel_24792\\1553716684.py\n"
     ]
    },
    {
     "name": "stderr",
     "output_type": "stream",
     "text": [
      "C:\\Users\\25495\\AppData\\Local\\Temp\\ipykernel_24792\\1553716684.py:58: FutureWarning: The default of observed=False is deprecated and will be changed to True in a future version of pandas. Pass observed=False to retain current behavior or observed=True to adopt the future default and silence this warning.\n",
      "  city_to_airport_counts = df_sample.groupby(cols[0])[cols[1]].nunique()\n"
     ]
    },
    {
     "name": "stdout",
     "output_type": "stream",
     "text": [
      "ERROR: Could not find file C:\\Users\\25495\\AppData\\Local\\Temp\\ipykernel_24792\\1553716684.py\n"
     ]
    },
    {
     "name": "stderr",
     "output_type": "stream",
     "text": [
      "C:\\Users\\25495\\AppData\\Local\\Temp\\ipykernel_24792\\1553716684.py:58: FutureWarning: The default of observed=False is deprecated and will be changed to True in a future version of pandas. Pass observed=False to retain current behavior or observed=True to adopt the future default and silence this warning.\n",
      "  city_to_airport_counts = df_sample.groupby(cols[0])[cols[1]].nunique()\n"
     ]
    },
    {
     "name": "stdout",
     "output_type": "stream",
     "text": [
      "ERROR: Could not find file C:\\Users\\25495\\AppData\\Local\\Temp\\ipykernel_24792\\1553716684.py\n"
     ]
    },
    {
     "name": "stderr",
     "output_type": "stream",
     "text": [
      "C:\\Users\\25495\\AppData\\Local\\Temp\\ipykernel_24792\\1553716684.py:58: FutureWarning: The default of observed=False is deprecated and will be changed to True in a future version of pandas. Pass observed=False to retain current behavior or observed=True to adopt the future default and silence this warning.\n",
      "  city_to_airport_counts = df_sample.groupby(cols[0])[cols[1]].nunique()\n"
     ]
    },
    {
     "name": "stdout",
     "output_type": "stream",
     "text": [
      "ERROR: Could not find file C:\\Users\\25495\\AppData\\Local\\Temp\\ipykernel_24792\\1553716684.py\n"
     ]
    },
    {
     "name": "stderr",
     "output_type": "stream",
     "text": [
      "C:\\Users\\25495\\AppData\\Local\\Temp\\ipykernel_24792\\1553716684.py:58: FutureWarning: The default of observed=False is deprecated and will be changed to True in a future version of pandas. Pass observed=False to retain current behavior or observed=True to adopt the future default and silence this warning.\n",
      "  city_to_airport_counts = df_sample.groupby(cols[0])[cols[1]].nunique()\n"
     ]
    },
    {
     "name": "stdout",
     "output_type": "stream",
     "text": [
      "ERROR: Could not find file C:\\Users\\25495\\AppData\\Local\\Temp\\ipykernel_24792\\1553716684.py\n"
     ]
    },
    {
     "name": "stderr",
     "output_type": "stream",
     "text": [
      "C:\\Users\\25495\\AppData\\Local\\Temp\\ipykernel_24792\\1553716684.py:58: FutureWarning: The default of observed=False is deprecated and will be changed to True in a future version of pandas. Pass observed=False to retain current behavior or observed=True to adopt the future default and silence this warning.\n",
      "  city_to_airport_counts = df_sample.groupby(cols[0])[cols[1]].nunique()\n"
     ]
    },
    {
     "name": "stdout",
     "output_type": "stream",
     "text": [
      "Processed 160 batches (16000000 rows)...\n",
      "Current status: Inconsistent\n",
      "ERROR: Could not find file C:\\Users\\25495\\AppData\\Local\\Temp\\ipykernel_24792\\1553716684.py\n"
     ]
    },
    {
     "name": "stderr",
     "output_type": "stream",
     "text": [
      "C:\\Users\\25495\\AppData\\Local\\Temp\\ipykernel_24792\\1553716684.py:58: FutureWarning: The default of observed=False is deprecated and will be changed to True in a future version of pandas. Pass observed=False to retain current behavior or observed=True to adopt the future default and silence this warning.\n",
      "  city_to_airport_counts = df_sample.groupby(cols[0])[cols[1]].nunique()\n"
     ]
    },
    {
     "name": "stdout",
     "output_type": "stream",
     "text": [
      "ERROR: Could not find file C:\\Users\\25495\\AppData\\Local\\Temp\\ipykernel_24792\\1553716684.py\n"
     ]
    },
    {
     "name": "stderr",
     "output_type": "stream",
     "text": [
      "C:\\Users\\25495\\AppData\\Local\\Temp\\ipykernel_24792\\1553716684.py:58: FutureWarning: The default of observed=False is deprecated and will be changed to True in a future version of pandas. Pass observed=False to retain current behavior or observed=True to adopt the future default and silence this warning.\n",
      "  city_to_airport_counts = df_sample.groupby(cols[0])[cols[1]].nunique()\n"
     ]
    },
    {
     "name": "stdout",
     "output_type": "stream",
     "text": [
      "ERROR: Could not find file C:\\Users\\25495\\AppData\\Local\\Temp\\ipykernel_24792\\1553716684.py\n"
     ]
    },
    {
     "name": "stderr",
     "output_type": "stream",
     "text": [
      "C:\\Users\\25495\\AppData\\Local\\Temp\\ipykernel_24792\\1553716684.py:58: FutureWarning: The default of observed=False is deprecated and will be changed to True in a future version of pandas. Pass observed=False to retain current behavior or observed=True to adopt the future default and silence this warning.\n",
      "  city_to_airport_counts = df_sample.groupby(cols[0])[cols[1]].nunique()\n"
     ]
    },
    {
     "name": "stdout",
     "output_type": "stream",
     "text": [
      "ERROR: Could not find file C:\\Users\\25495\\AppData\\Local\\Temp\\ipykernel_24792\\1553716684.py\n"
     ]
    },
    {
     "name": "stderr",
     "output_type": "stream",
     "text": [
      "C:\\Users\\25495\\AppData\\Local\\Temp\\ipykernel_24792\\1553716684.py:58: FutureWarning: The default of observed=False is deprecated and will be changed to True in a future version of pandas. Pass observed=False to retain current behavior or observed=True to adopt the future default and silence this warning.\n",
      "  city_to_airport_counts = df_sample.groupby(cols[0])[cols[1]].nunique()\n"
     ]
    },
    {
     "name": "stdout",
     "output_type": "stream",
     "text": [
      "ERROR: Could not find file C:\\Users\\25495\\AppData\\Local\\Temp\\ipykernel_24792\\1553716684.py\n"
     ]
    },
    {
     "name": "stderr",
     "output_type": "stream",
     "text": [
      "C:\\Users\\25495\\AppData\\Local\\Temp\\ipykernel_24792\\1553716684.py:58: FutureWarning: The default of observed=False is deprecated and will be changed to True in a future version of pandas. Pass observed=False to retain current behavior or observed=True to adopt the future default and silence this warning.\n",
      "  city_to_airport_counts = df_sample.groupby(cols[0])[cols[1]].nunique()\n"
     ]
    },
    {
     "name": "stdout",
     "output_type": "stream",
     "text": [
      "Processed 165 batches (16500000 rows)...\n",
      "Current status: Inconsistent\n",
      "ERROR: Could not find file C:\\Users\\25495\\AppData\\Local\\Temp\\ipykernel_24792\\1553716684.py\n"
     ]
    },
    {
     "name": "stderr",
     "output_type": "stream",
     "text": [
      "C:\\Users\\25495\\AppData\\Local\\Temp\\ipykernel_24792\\1553716684.py:58: FutureWarning: The default of observed=False is deprecated and will be changed to True in a future version of pandas. Pass observed=False to retain current behavior or observed=True to adopt the future default and silence this warning.\n",
      "  city_to_airport_counts = df_sample.groupby(cols[0])[cols[1]].nunique()\n"
     ]
    },
    {
     "name": "stdout",
     "output_type": "stream",
     "text": [
      "ERROR: Could not find file C:\\Users\\25495\\AppData\\Local\\Temp\\ipykernel_24792\\1553716684.py\n"
     ]
    },
    {
     "name": "stderr",
     "output_type": "stream",
     "text": [
      "C:\\Users\\25495\\AppData\\Local\\Temp\\ipykernel_24792\\1553716684.py:58: FutureWarning: The default of observed=False is deprecated and will be changed to True in a future version of pandas. Pass observed=False to retain current behavior or observed=True to adopt the future default and silence this warning.\n",
      "  city_to_airport_counts = df_sample.groupby(cols[0])[cols[1]].nunique()\n"
     ]
    },
    {
     "name": "stdout",
     "output_type": "stream",
     "text": [
      "ERROR: Could not find file C:\\Users\\25495\\AppData\\Local\\Temp\\ipykernel_24792\\1553716684.py\n"
     ]
    },
    {
     "name": "stderr",
     "output_type": "stream",
     "text": [
      "C:\\Users\\25495\\AppData\\Local\\Temp\\ipykernel_24792\\1553716684.py:58: FutureWarning: The default of observed=False is deprecated and will be changed to True in a future version of pandas. Pass observed=False to retain current behavior or observed=True to adopt the future default and silence this warning.\n",
      "  city_to_airport_counts = df_sample.groupby(cols[0])[cols[1]].nunique()\n"
     ]
    },
    {
     "name": "stdout",
     "output_type": "stream",
     "text": [
      "ERROR: Could not find file C:\\Users\\25495\\AppData\\Local\\Temp\\ipykernel_24792\\1553716684.py\n"
     ]
    },
    {
     "name": "stderr",
     "output_type": "stream",
     "text": [
      "C:\\Users\\25495\\AppData\\Local\\Temp\\ipykernel_24792\\1553716684.py:58: FutureWarning: The default of observed=False is deprecated and will be changed to True in a future version of pandas. Pass observed=False to retain current behavior or observed=True to adopt the future default and silence this warning.\n",
      "  city_to_airport_counts = df_sample.groupby(cols[0])[cols[1]].nunique()\n"
     ]
    },
    {
     "name": "stdout",
     "output_type": "stream",
     "text": [
      "ERROR: Could not find file C:\\Users\\25495\\AppData\\Local\\Temp\\ipykernel_24792\\1553716684.py\n"
     ]
    },
    {
     "name": "stderr",
     "output_type": "stream",
     "text": [
      "C:\\Users\\25495\\AppData\\Local\\Temp\\ipykernel_24792\\1553716684.py:58: FutureWarning: The default of observed=False is deprecated and will be changed to True in a future version of pandas. Pass observed=False to retain current behavior or observed=True to adopt the future default and silence this warning.\n",
      "  city_to_airport_counts = df_sample.groupby(cols[0])[cols[1]].nunique()\n"
     ]
    },
    {
     "name": "stdout",
     "output_type": "stream",
     "text": [
      "Processed 170 batches (17000000 rows)...\n",
      "Current status: Inconsistent\n",
      "ERROR: Could not find file C:\\Users\\25495\\AppData\\Local\\Temp\\ipykernel_24792\\1553716684.py\n"
     ]
    },
    {
     "name": "stderr",
     "output_type": "stream",
     "text": [
      "C:\\Users\\25495\\AppData\\Local\\Temp\\ipykernel_24792\\1553716684.py:58: FutureWarning: The default of observed=False is deprecated and will be changed to True in a future version of pandas. Pass observed=False to retain current behavior or observed=True to adopt the future default and silence this warning.\n",
      "  city_to_airport_counts = df_sample.groupby(cols[0])[cols[1]].nunique()\n"
     ]
    },
    {
     "name": "stdout",
     "output_type": "stream",
     "text": [
      "ERROR: Could not find file C:\\Users\\25495\\AppData\\Local\\Temp\\ipykernel_24792\\1553716684.py\n"
     ]
    },
    {
     "name": "stderr",
     "output_type": "stream",
     "text": [
      "C:\\Users\\25495\\AppData\\Local\\Temp\\ipykernel_24792\\1553716684.py:58: FutureWarning: The default of observed=False is deprecated and will be changed to True in a future version of pandas. Pass observed=False to retain current behavior or observed=True to adopt the future default and silence this warning.\n",
      "  city_to_airport_counts = df_sample.groupby(cols[0])[cols[1]].nunique()\n"
     ]
    },
    {
     "name": "stdout",
     "output_type": "stream",
     "text": [
      "ERROR: Could not find file C:\\Users\\25495\\AppData\\Local\\Temp\\ipykernel_24792\\1553716684.py\n"
     ]
    },
    {
     "name": "stderr",
     "output_type": "stream",
     "text": [
      "C:\\Users\\25495\\AppData\\Local\\Temp\\ipykernel_24792\\1553716684.py:58: FutureWarning: The default of observed=False is deprecated and will be changed to True in a future version of pandas. Pass observed=False to retain current behavior or observed=True to adopt the future default and silence this warning.\n",
      "  city_to_airport_counts = df_sample.groupby(cols[0])[cols[1]].nunique()\n"
     ]
    },
    {
     "name": "stdout",
     "output_type": "stream",
     "text": [
      "ERROR: Could not find file C:\\Users\\25495\\AppData\\Local\\Temp\\ipykernel_24792\\1553716684.py\n"
     ]
    },
    {
     "name": "stderr",
     "output_type": "stream",
     "text": [
      "C:\\Users\\25495\\AppData\\Local\\Temp\\ipykernel_24792\\1553716684.py:58: FutureWarning: The default of observed=False is deprecated and will be changed to True in a future version of pandas. Pass observed=False to retain current behavior or observed=True to adopt the future default and silence this warning.\n",
      "  city_to_airport_counts = df_sample.groupby(cols[0])[cols[1]].nunique()\n"
     ]
    },
    {
     "name": "stdout",
     "output_type": "stream",
     "text": [
      "ERROR: Could not find file C:\\Users\\25495\\AppData\\Local\\Temp\\ipykernel_24792\\1553716684.py\n"
     ]
    },
    {
     "name": "stderr",
     "output_type": "stream",
     "text": [
      "C:\\Users\\25495\\AppData\\Local\\Temp\\ipykernel_24792\\1553716684.py:58: FutureWarning: The default of observed=False is deprecated and will be changed to True in a future version of pandas. Pass observed=False to retain current behavior or observed=True to adopt the future default and silence this warning.\n",
      "  city_to_airport_counts = df_sample.groupby(cols[0])[cols[1]].nunique()\n"
     ]
    },
    {
     "name": "stdout",
     "output_type": "stream",
     "text": [
      "Processed 175 batches (17500000 rows)...\n",
      "Current status: Inconsistent\n",
      "ERROR: Could not find file C:\\Users\\25495\\AppData\\Local\\Temp\\ipykernel_24792\\1553716684.py\n"
     ]
    },
    {
     "name": "stderr",
     "output_type": "stream",
     "text": [
      "C:\\Users\\25495\\AppData\\Local\\Temp\\ipykernel_24792\\1553716684.py:58: FutureWarning: The default of observed=False is deprecated and will be changed to True in a future version of pandas. Pass observed=False to retain current behavior or observed=True to adopt the future default and silence this warning.\n",
      "  city_to_airport_counts = df_sample.groupby(cols[0])[cols[1]].nunique()\n"
     ]
    },
    {
     "name": "stdout",
     "output_type": "stream",
     "text": [
      "ERROR: Could not find file C:\\Users\\25495\\AppData\\Local\\Temp\\ipykernel_24792\\1553716684.py\n"
     ]
    },
    {
     "name": "stderr",
     "output_type": "stream",
     "text": [
      "C:\\Users\\25495\\AppData\\Local\\Temp\\ipykernel_24792\\1553716684.py:58: FutureWarning: The default of observed=False is deprecated and will be changed to True in a future version of pandas. Pass observed=False to retain current behavior or observed=True to adopt the future default and silence this warning.\n",
      "  city_to_airport_counts = df_sample.groupby(cols[0])[cols[1]].nunique()\n"
     ]
    },
    {
     "name": "stdout",
     "output_type": "stream",
     "text": [
      "ERROR: Could not find file C:\\Users\\25495\\AppData\\Local\\Temp\\ipykernel_24792\\1553716684.py\n"
     ]
    },
    {
     "name": "stderr",
     "output_type": "stream",
     "text": [
      "C:\\Users\\25495\\AppData\\Local\\Temp\\ipykernel_24792\\1553716684.py:58: FutureWarning: The default of observed=False is deprecated and will be changed to True in a future version of pandas. Pass observed=False to retain current behavior or observed=True to adopt the future default and silence this warning.\n",
      "  city_to_airport_counts = df_sample.groupby(cols[0])[cols[1]].nunique()\n"
     ]
    },
    {
     "name": "stdout",
     "output_type": "stream",
     "text": [
      "ERROR: Could not find file C:\\Users\\25495\\AppData\\Local\\Temp\\ipykernel_24792\\1553716684.py\n"
     ]
    },
    {
     "name": "stderr",
     "output_type": "stream",
     "text": [
      "C:\\Users\\25495\\AppData\\Local\\Temp\\ipykernel_24792\\1553716684.py:58: FutureWarning: The default of observed=False is deprecated and will be changed to True in a future version of pandas. Pass observed=False to retain current behavior or observed=True to adopt the future default and silence this warning.\n",
      "  city_to_airport_counts = df_sample.groupby(cols[0])[cols[1]].nunique()\n"
     ]
    },
    {
     "name": "stdout",
     "output_type": "stream",
     "text": [
      "ERROR: Could not find file C:\\Users\\25495\\AppData\\Local\\Temp\\ipykernel_24792\\1553716684.py\n"
     ]
    },
    {
     "name": "stderr",
     "output_type": "stream",
     "text": [
      "C:\\Users\\25495\\AppData\\Local\\Temp\\ipykernel_24792\\1553716684.py:58: FutureWarning: The default of observed=False is deprecated and will be changed to True in a future version of pandas. Pass observed=False to retain current behavior or observed=True to adopt the future default and silence this warning.\n",
      "  city_to_airport_counts = df_sample.groupby(cols[0])[cols[1]].nunique()\n"
     ]
    },
    {
     "name": "stdout",
     "output_type": "stream",
     "text": [
      "Processed 180 batches (18000000 rows)...\n",
      "Current status: Inconsistent\n",
      "ERROR: Could not find file C:\\Users\\25495\\AppData\\Local\\Temp\\ipykernel_24792\\1553716684.py\n"
     ]
    },
    {
     "name": "stderr",
     "output_type": "stream",
     "text": [
      "C:\\Users\\25495\\AppData\\Local\\Temp\\ipykernel_24792\\1553716684.py:58: FutureWarning: The default of observed=False is deprecated and will be changed to True in a future version of pandas. Pass observed=False to retain current behavior or observed=True to adopt the future default and silence this warning.\n",
      "  city_to_airport_counts = df_sample.groupby(cols[0])[cols[1]].nunique()\n"
     ]
    },
    {
     "name": "stdout",
     "output_type": "stream",
     "text": [
      "ERROR: Could not find file C:\\Users\\25495\\AppData\\Local\\Temp\\ipykernel_24792\\1553716684.py\n",
      "\n",
      "Final Validation Result:\n",
      "total_batches_processed: 182\n",
      "global_is_one_to_one: False\n",
      "total_inconsistent_pairs: 220\n",
      "sample_inconsistent_pairs: [(3380660, '9fdc72a9627748e0af81138d4e4d1cb2', '110eb937ac9949de8dcf03678a6b9488'), (3506753, '746abfa2f0f847fd92f41be377674b07', '89e02832a70649ad92813f5c208b7fff'), (3506156, '343c4fb82a7d42e5b5da31303b20daf4', 'f8959e193c85492babc6be1a88b673ab'), (3305680, '28ff248bb824478aa9847f111e1e6351', 'f0dc6fafd9254668826a8073c710f6d5'), (3226883, '8d7056cbecd54f10937508ac2b5badad', '175cd97c7d4b42f2a1d576e98fbdfca3'), (3410788, '17925e1011d34f41bf7148e9b1bba446', '11c0573f1c3d433ea1b69ea7eab9861d'), (1119689, 'af901acb1d444252a99534b98667de4a', '50645e8003cd431e9181084348a36e2b'), (3335196, '1292e647c5a943819a557ed204a6749f', 'e38f86ec54844cd788a378b70170dad4'), (564562, '041ced7f3f5247e8990088541fe9201a', 'b6f363b7434940669b34d61ff90aa8a8'), (2500868, 'f57fcfdad0884e958c39539f32886da6', '51e7deac97c44952b7ff176f6162b0a8')]\n",
      "total_non_unique_cities: 1208\n",
      "sample_non_unique_cities: [1224704, 483332, 991238, 102406, 995335, 813062, 55306, 1118214, 1167366, 770057]\n"
     ]
    },
    {
     "name": "stderr",
     "output_type": "stream",
     "text": [
      "C:\\Users\\25495\\AppData\\Local\\Temp\\ipykernel_24792\\1553716684.py:58: FutureWarning: The default of observed=False is deprecated and will be changed to True in a future version of pandas. Pass observed=False to retain current behavior or observed=True to adopt the future default and silence this warning.\n",
      "  city_to_airport_counts = df_sample.groupby(cols[0])[cols[1]].nunique()\n"
     ]
    }
   ],
   "source": [
    "import pandas as pd\n",
    "import numpy as np\n",
    "from memory_profiler import profile\n",
    "import pyarrow.parquet as pq\n",
    "\n",
    "@profile\n",
    "def validate_airport_city_consistency(df, sample_size=None):\n",
    "    \"\"\"\n",
    "    验证机场城市代码与机场代码是否一一对应（内存优化版本）\n",
    "    \n",
    "    参数:\n",
    "        df: 输入的DataFrame\n",
    "        sample_size: 采样大小（None表示使用完整数据）\n",
    "    \n",
    "    返回:\n",
    "        dict: 包含验证结果的字典\n",
    "    \"\"\"\n",
    "    # 选择需要的列，减少内存使用\n",
    "    cols = [\n",
    "        'profileId',\n",
    "        'ranker_id'\n",
    "#  'legs0_segments0_aircraft_code',\n",
    "#  'legs0_segments0_arrivalTo_airport_city_iata',\n",
    "#  'legs0_segments0_arrivalTo_airport_iata',\n",
    "#  'legs0_segments0_departureFrom_airport_iata',\n",
    "# 'legs0_segments0_flightNumber',\n",
    "# 'legs0_segments0_operatingCarrier_code',\n",
    "# 'legs0_segments1_aircraft_code',\n",
    "# 'legs0_segments1_arrivalTo_airport_city_iata',\n",
    "#'legs0_segments1_arrivalTo_airport_iata',\n",
    "# 'legs1_segments0_aircraft_code',\n",
    "#   'legs1_segments0_arrivalTo_airport_city_iata',\n",
    "# 'legs1_segments0_arrivalTo_airport_iata',\n",
    "#   'legs1_segments0_departureFrom_airport_iata',\n",
    "        \n",
    "            ]\n",
    "    \n",
    "    # 检查列是否存在\n",
    "    cols = [col for col in cols if col in df.columns]\n",
    "    if len(cols) != 2:\n",
    "        return {\"error\": \"Required columns not found in DataFrame\"}\n",
    "    \n",
    "    # 如果指定了采样大小，则进行采样\n",
    "    if sample_size and len(df) > sample_size:\n",
    "        df_sample = df[cols].sample(n=sample_size, random_state=42)\n",
    "    else:\n",
    "        df_sample = df[cols].copy()\n",
    "    \n",
    "    # 删除缺失值\n",
    "    df_sample = df_sample.dropna(subset=cols)\n",
    "    \n",
    "    # 转换为分类数据类型以减少内存\n",
    "    df_sample[cols[0]] = df_sample[cols[0]].astype('category')\n",
    "    df_sample[cols[1]] = df_sample[cols[1]].astype('category')\n",
    "    \n",
    "    # 方法1: 使用groupby验证一一对应关系\n",
    "    # 计算每个城市代码对应的机场代码数量\n",
    "    city_to_airport_counts = df_sample.groupby(cols[0])[cols[1]].nunique()\n",
    "    \n",
    "    # 找出有多个机场代码的城市\n",
    "    non_unique_cities = city_to_airport_counts[city_to_airport_counts > 1]\n",
    "    \n",
    "    # 方法2: 构建映射字典验证（备选方法）\n",
    "    mapping_dict = {}\n",
    "    inconsistent_pairs = []\n",
    "    \n",
    "    # 使用迭代器减少内存使用\n",
    "    for city, airport in df_sample.itertuples(index=False, name=None):\n",
    "        if city in mapping_dict:\n",
    "            if mapping_dict[city] != airport:\n",
    "                inconsistent_pairs.append((city, mapping_dict[city], airport))\n",
    "        else:\n",
    "            mapping_dict[city] = airport\n",
    "    \n",
    "    # 准备结果\n",
    "    result = {\n",
    "        \"total_unique_cities\": len(city_to_airport_counts),\n",
    "        \"total_unique_airports\": df_sample[cols[1]].nunique(),\n",
    "        \"cities_with_multiple_airports\": len(non_unique_cities),\n",
    "        \"is_one_to_one\": len(non_unique_cities) == 0,\n",
    "        \"inconsistent_pairs_count\": len(inconsistent_pairs),\n",
    "        \"sample_inconsistent_pairs\": inconsistent_pairs[:10] if inconsistent_pairs else None,\n",
    "        \"sample_non_unique_cities\": non_unique_cities.head(10).to_dict() if len(non_unique_cities) > 0 else None\n",
    "    }\n",
    "    \n",
    "    # 如果数据量很大，添加内存使用信息\n",
    "    if sample_size:\n",
    "        result[\"sample_size_used\"] = sample_size\n",
    "    else:\n",
    "        result[\"sample_size_used\"] = \"full dataset\"\n",
    "    \n",
    "    return result\n",
    "\n",
    "# 使用示例\n",
    "if __name__ == \"__main__\":\n",
    "    # 示例数据加载 - 使用PyArrow的分批读取功能\n",
    "    parquet_file = pq.ParquetFile('E:/GIT PROJECT/FR/kaggle/input/data/aeroclub-recsys-2025/train.parquet')\n",
    "    \n",
    "    # 初始化结果容器\n",
    "    final_result = {\n",
    "        \"total_batches_processed\": 0,\n",
    "        \"global_is_one_to_one\": True,\n",
    "        \"all_inconsistent_pairs\": set(),\n",
    "        \"all_non_unique_cities\": set()\n",
    "    }\n",
    "    \n",
    "    # 分块处理大数据\n",
    "    batch_size = 100000  # 每批处理的行数\n",
    "    for i, batch in enumerate(parquet_file.iter_batches(batch_size=batch_size)):\n",
    "        # 转换为Pandas DataFrame\n",
    "        df_chunk = batch.to_pandas()\n",
    "        \n",
    "        # 验证当前块\n",
    "        chunk_result = validate_airport_city_consistency(df_chunk)\n",
    "        \n",
    "        # 更新全局结果\n",
    "        final_result[\"total_batches_processed\"] += 1\n",
    "        \n",
    "        if not chunk_result.get('is_one_to_one', True):\n",
    "            final_result[\"global_is_one_to_one\"] = False\n",
    "            \n",
    "            # 收集不一致的配对\n",
    "            if chunk_result.get('sample_inconsistent_pairs'):\n",
    "                for pair in chunk_result['sample_inconsistent_pairs']:\n",
    "                    final_result[\"all_inconsistent_pairs\"].add(pair)\n",
    "            \n",
    "            # 收集有多机场的城市\n",
    "            if chunk_result.get('sample_non_unique_cities'):\n",
    "                for city in chunk_result['sample_non_unique_cities'].keys():\n",
    "                    final_result[\"all_non_unique_cities\"].add(city)\n",
    "        \n",
    "        # 每处理5个块打印一次进度\n",
    "        if (i + 1) % 5 == 0:\n",
    "            print(f\"Processed {i+1} batches ({(i+1)*batch_size} rows)...\")\n",
    "            print(f\"Current status: {'Consistent' if final_result['global_is_one_to_one'] else 'Inconsistent'}\")\n",
    "    \n",
    "    # 整理最终结果\n",
    "    final_result.update({\n",
    "        \"total_inconsistent_pairs\": len(final_result[\"all_inconsistent_pairs\"]),\n",
    "        \"sample_inconsistent_pairs\": list(final_result[\"all_inconsistent_pairs\"])[:10],\n",
    "        \"total_non_unique_cities\": len(final_result[\"all_non_unique_cities\"]),\n",
    "        \"sample_non_unique_cities\": list(final_result[\"all_non_unique_cities\"])[:10]\n",
    "    })\n",
    "    \n",
    "    # 删除临时数据\n",
    "    del final_result[\"all_inconsistent_pairs\"]\n",
    "    del final_result[\"all_non_unique_cities\"]\n",
    "    \n",
    "    print(\"\\nFinal Validation Result:\")\n",
    "    for k, v in final_result.items():\n",
    "        print(f\"{k}: {v}\")"
   ]
  },
  {
   "cell_type": "markdown",
   "id": "a1293d90",
   "metadata": {},
   "source": [
    " 'legs0_segments0_aircraft_code',\n",
    " 'legs0_segments0_arrivalTo_airport_city_iata',\n",
    " 'legs0_segments0_arrivalTo_airport_iata',\n",
    " 'legs0_segments0_departureFrom_airport_iata'，\n",
    " 'legs0_segments0_flightNumber',449\n",
    " 'legs0_segments0_operatingCarrier_code',126\n",
    "  'legs0_segments1_aircraft_code',378\n",
    " 'legs0_segments1_arrivalTo_airport_city_iata',355\n",
    " 'legs0_segments1_arrivalTo_airport_iata',376\n",
    "  'legs1_segments0_aircraft_code'，308\n",
    " 'legs1_segments0_arrivalTo_airport_city_iata'，285\n",
    " 'legs1_segments0_arrivalTo_airport_iata'，274\n",
    " 'legs1_segments0_departureFrom_airport_iata'， 285\n",
    "\n",
    "\n",
    "CONSISTENT={\n",
    "            'legs0_segments0_aircraft_code'\n",
    "         \n",
    "}\n",
    "#建议是只保留legs0_segments0_arrivalTo_airport_iata这一项\n",
    "'legs0_segments0_arrivalTo_airport_iata'"
   ]
  },
  {
   "cell_type": "code",
   "execution_count": 6,
   "id": "dd7d5c0e",
   "metadata": {},
   "outputs": [
    {
     "name": "stdout",
     "output_type": "stream",
     "text": [
      "Collecting unique airport codes for LabelEncoder fitting...\n",
      "Transforming data...\n",
      "\n",
      "Encoded Data Sample:\n",
      "   selected  airport_encoded\n",
      "0         1              239\n",
      "1         0              362\n",
      "2         0              362\n",
      "3         0              362\n",
      "4         0              362\n",
      "\n",
      "Unique encoded values: 534\n",
      "\n",
      "Encoded data saved to E:/GIT PROJECT/FR/kaggle/input/data/aeroclub-recsys-2025/train_encoded.parquet\n"
     ]
    }
   ],
   "source": [
    "import pandas as pd\n",
    "import pyarrow.parquet as pq\n",
    "from sklearn.preprocessing import LabelEncoder\n",
    "import gc\n",
    "\n",
    "# 1. 文件路径\n",
    "file_path = \"E:/GIT PROJECT/FR/kaggle/input/data/aeroclub-recsys-2025/train.parquet\"\n",
    "cols_to_load = ['legs0_segments0_arrivalTo_airport_iata', 'selected']  # 只加载需要的列\n",
    "\n",
    "# 2. 使用pyarrow打开Parquet文件\n",
    "parquet_file = pq.ParquetFile(file_path)\n",
    "\n",
    "# 3. 初始化编码器\n",
    "le = LabelEncoder()\n",
    "\n",
    "# 4. 第一次遍历：收集所有唯一类别\n",
    "print(\"Collecting unique airport codes for LabelEncoder fitting...\")\n",
    "unique_airports = set()\n",
    "for batch in parquet_file.iter_batches(batch_size=500000, columns=cols_to_load):\n",
    "    df_batch = batch.to_pandas()\n",
    "    unique_airports.update(df_batch['legs0_segments0_arrivalTo_airport_iata'].astype(str).unique())\n",
    "    del df_batch\n",
    "    gc.collect()\n",
    "\n",
    "# 5. 拟合LabelEncoder\n",
    "le.fit(list(unique_airports))\n",
    "\n",
    "# 5. 第二次遍历：应用编码并保存结果\n",
    "print(\"Transforming data...\")\n",
    "output_chunks = []\n",
    "row_group_size = 500000  # 每个行组的大小\n",
    "\n",
    "for i in range(parquet_file.num_row_groups):\n",
    "    # 每次读取一个行组\n",
    "    df_chunk = parquet_file.read_row_group(i, columns=cols_to_load).to_pandas()\n",
    "    \n",
    "    # 应用编码\n",
    "    df_chunk['airport_encoded'] = le.transform(df_chunk['legs0_segments0_arrivalTo_airport_iata'].astype(str))\n",
    "    df_chunk['airport_encoded'] = df_chunk['airport_encoded'].astype('uint16')  # 优化内存\n",
    "    \n",
    "    # 删除原始列\n",
    "    df_chunk.drop(columns=['legs0_segments0_arrivalTo_airport_iata'], inplace=True)\n",
    "    \n",
    "    output_chunks.append(df_chunk)\n",
    "    del df_chunk\n",
    "    gc.collect()\n",
    "\n",
    "# 6. 合并所有块\n",
    "df_encoded = pd.concat(output_chunks, ignore_index=True)\n",
    "\n",
    "# 7. 验证结果\n",
    "print(\"\\nEncoded Data Sample:\")\n",
    "print(df_encoded.head())\n",
    "print(f\"\\nUnique encoded values: {df_encoded['airport_encoded'].nunique()}\")\n",
    "\n",
    "# 8. 保存结果\n",
    "output_path = \"E:/GIT PROJECT/FR/kaggle/input/data/aeroclub-recsys-2025/train_encoded.parquet\"\n",
    "df_encoded.to_parquet(output_path, index=False)\n",
    "print(f\"\\nEncoded data saved to {output_path}\")"
   ]
  },
  {
   "cell_type": "code",
   "execution_count": 2,
   "id": "b651e903",
   "metadata": {},
   "outputs": [
    {
     "name": "stdout",
     "output_type": "stream",
     "text": [
      "处理完成，结果已保存到output.csv\n"
     ]
    }
   ],
   "source": [
    "import pandas as pd\n",
    "\n",
    "df = pd.read_parquet('../data/aeroclub-recsys-2025/encode/train/train_segment_2_encoded.parquet')\n",
    "\n",
    "# 创建一个新的DataFrame来存储结果\n",
    "result_df = pd.DataFrame(columns=df.columns)\n",
    "\n",
    "# 为每列获取前5个非空唯一值，并格式化为\"[type] value\"\n",
    "for column in df.columns:\n",
    "    non_na_values = df[column].dropna()\n",
    "    unique_values = non_na_values.unique()[:5]\n",
    "    dtype = str(df[column].dtype)\n",
    "    \n",
    "    # 格式化为\"[type] value\"并填充到结果DataFrame中\n",
    "    formatted_values = [f\"[{dtype}] {value}\" for value in unique_values]\n",
    "    result_df[column] = pd.Series(formatted_values)\n",
    "\n",
    "# 保存为CSV文件\n",
    "result_df.to_csv('output.csv', index=False)\n",
    "\n",
    "print(\"处理完成，结果已保存到output.csv\")"
   ]
  }
 ],
 "metadata": {
  "kernelspec": {
   "display_name": "Python 3",
   "language": "python",
   "name": "python3"
  },
  "language_info": {
   "codemirror_mode": {
    "name": "ipython",
    "version": 3
   },
   "file_extension": ".py",
   "mimetype": "text/x-python",
   "name": "python",
   "nbconvert_exporter": "python",
   "pygments_lexer": "ipython3",
   "version": "3.11.4"
  }
 },
 "nbformat": 4,
 "nbformat_minor": 5
}

{
 "cells": [
  {
   "cell_type": "code",
   "execution_count": 31,
   "metadata": {},
   "outputs": [
    {
     "name": "stdout",
     "output_type": "stream",
     "text": [
      "完成预测，总计 6897776 行结果\n"
     ]
    }
   ],
   "source": [
    "import pandas as pd\n",
    "import pickle\n",
    "import numpy as np\n",
    "\n",
    "def load_model_from_dict(model_path):\n",
    "    with open(model_path, 'rb') as f:\n",
    "        loaded_data = pickle.load(f)\n",
    "    \n",
    "    if isinstance(loaded_data, dict):\n",
    "        for key in ['model', 'best_model', 'estimator', 'ranker', 'lgbm_model', 'trained_model']:\n",
    "            if key in loaded_data and hasattr(loaded_data[key], 'predict'):\n",
    "                return loaded_data[key]\n",
    "        for key, value in loaded_data.items():\n",
    "            if hasattr(value, 'predict'):\n",
    "                return value\n",
    "        raise ValueError(\"No model found with predict method\")\n",
    "    return loaded_data\n",
    "\n",
    "# 配置\n",
    "model_path = r\"D:/kaggle/filght/data/aeroclub-recsys-2025/segmented/data/aeroclub-recsys-2025/models/LGBMRanker_segment_0.pkl\"\n",
    "test_dir = r\"D:/kaggle/filght/data/aeroclub-recsys-2025/segmented/test\"\n",
    "\n",
    "# 加载模型\n",
    "model = load_model_from_dict(model_path)\n",
    "feature_names = model.booster_.feature_name()\n",
    "\n",
    "test_files = [\"test_segment_0.parquet\", \"test_segment_1.parquet\", \"test_segment_2.parquet\"]\n",
    "all_results = []\n",
    "\n",
    "for test_file in test_files:\n",
    "    # 加载数据\n",
    "    test_data = pd.read_parquet(f\"{test_dir}/{test_file}\")\n",
    "    \n",
    "    # 处理缺失特征\n",
    "    missing_features = set(feature_names) - set(test_data.columns)\n",
    "    if missing_features:\n",
    "        missing_data = pd.DataFrame(\n",
    "            np.zeros((len(test_data), len(missing_features))), \n",
    "            columns=list(missing_features)\n",
    "        )\n",
    "        test_data = pd.concat([test_data, missing_data], axis=1)\n",
    "    \n",
    "    # 预测\n",
    "    X_test = test_data[feature_names]\n",
    "    predictions = model.predict(X_test)\n",
    "    \n",
    "    # 生成结果\n",
    "    results = test_data[['Id', 'ranker_id']].copy()\n",
    "    results['prediction_score'] = predictions\n",
    "    \n",
    "    # 确保唯一排名：使用Id作为tie-breaker\n",
    "    results = results.sort_values(['ranker_id', 'prediction_score', 'Id'], \n",
    "                                 ascending=[True, False, True])\n",
    "    results['selected'] = results.groupby('ranker_id').cumcount() + 1\n",
    "    \n",
    "    # 保存单个结果\n",
    "    final_results = results[['Id', 'ranker_id', 'selected']]\n",
    "    final_results.to_csv(f\"predictions_{test_file.replace('.parquet', '.csv')}\", index=False)\n",
    "    all_results.append(final_results)\n",
    "\n",
    "# 合并所有结果\n",
    "if all_results:\n",
    "    final_predictions = pd.concat(all_results, ignore_index=True)\n",
    "    final_predictions.to_csv('final_predictions.csv', index=False)\n",
    "    print(f\"完成预测，总计 {len(final_predictions)} 行结果\")"
   ]
  }
 ],
 "metadata": {
  "kernelspec": {
   "display_name": "torch",
   "language": "python",
   "name": "python3"
  },
  "language_info": {
   "codemirror_mode": {
    "name": "ipython",
    "version": 3
   },
   "file_extension": ".py",
   "mimetype": "text/x-python",
   "name": "python",
   "nbconvert_exporter": "python",
   "pygments_lexer": "ipython3",
   "version": "3.11.4"
  },
  "orig_nbformat": 4
 },
 "nbformat": 4,
 "nbformat_minor": 2
}

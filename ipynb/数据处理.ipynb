{
 "cells": [
  {
   "cell_type": "code",
   "execution_count": null,
   "id": "46ee0915",
   "metadata": {},
   "outputs": [],
   "source": [
    "# #数据预览\n",
    "# import pandas as pd\n",
    "\n",
    "# df =pd.read_parquet('E:/GIT PROJECT/FR/kaggle/input/data/aeroclub-recsys-2025/train.parquet',engine='pyarrow').iloc[100:110]\n",
    "# # print(df)\n"
   ]
  },
  {
   "cell_type": "code",
   "execution_count": 2,
   "id": "5e156090",
   "metadata": {},
   "outputs": [],
   "source": [
    "import dask.dataframe as dd\n",
    "\n",
    "ddf1=dd.read_parquet('E:/GIT PROJECT/FR/kaggle/input/data/aeroclub-recsys-2025/processed_train.parquet')\n",
    "#ddf2=dd.read_parquet('E:/GIT PROJECT/FR/kaggle/input/data/aeroclub-recsys-2025/test.parquet')\n",
    "middle_rows1 = ddf1.partitions[0].compute().iloc[100:200]\n",
    "#middle_rows2 = ddf2.partitions[0].compute().iloc[100:110]\n",
    "middle_rows1.to_csv('middle_rows_dask3.csv',index=False)\n",
    "#middle_rows2.to_csv('middle_rows_dask2.csv',index=False)"
   ]
  },
  {
   "cell_type": "code",
   "execution_count": null,
   "id": "7a63d92e",
   "metadata": {},
   "outputs": [
    {
     "name": "stdout",
     "output_type": "stream",
     "text": [
      "\n",
      "缺失值统计:\n",
      " legs0_segments3_marketingCarrier_code          100000\n",
      "legs0_segments3_operatingCarrier_code          100000\n",
      "legs0_segments3_aircraft_code                  100000\n",
      "legs0_segments3_arrivalTo_airport_city_iata    100000\n",
      "legs0_segments3_arrivalTo_airport_iata         100000\n",
      "                                                ...  \n",
      "searchRoute                                         0\n",
      "sex                                                 0\n",
      "taxes                                               0\n",
      "totalPrice                                          0\n",
      "selected                                            0\n",
      "Length: 126, dtype: int64\n"
     ]
    }
   ],
   "source": [
    "import pandas as pd\n",
    "import numpy as np \n",
    "from pathlib import Path\n",
    "import pyarrow.parquet as pq\n",
    "def load_data_in_chunks(file_path,chunksize):\n",
    "    schema = pq.read_schema(file_path)\n",
    "    dtype_mapping ={}\n",
    "    for field in schema:\n",
    "        col_name = field.name\n",
    "        if field.type =='string':\n",
    "            dtype_mapping[col_name]='category'\n",
    "        elif 'int' in str(field.type):\n",
    "            dtype_mapping[col_name]='Int32'  # Use pandas nullable integer type\n",
    "        elif 'float' in str(field.type):\n",
    "            dtype_mapping[col_name]='Float32'  # Use pandas nullable float type\n",
    "    reader = pq.ParquetFile(file_path)\n",
    "    for batch in reader.iter_batches(batch_size=chunksize):\n",
    "        df_chunk = batch.to_pandas()\n",
    "        for col, dtype in dtype_mapping.items():\n",
    "            if col in df_chunk.columns:\n",
    "                df_chunk[col] = df_chunk[col].astype(dtype)\n",
    "        yield df_chunk\n",
    "\n",
    "\n",
    "train = load_data_in_chunks('E:/GIT PROJECT/FR/kaggle/input/data/aeroclub-recsys-2025/train.parquet',chunksize=100000)\n",
    "test =load_data_in_chunks('E:/GIT PROJECT/FR/kaggle/input/data/aeroclub-recsys-2025/test.parquet',chunksize=100000)\n",
    "\n",
    "# Get the first chunk from each generator for preview\n",
    "train_first_chunk = next(train)\n",
    "test_first_chunk = next(test)\n",
    "\n",
    "# print(f\"训练集第一块形状: {train_first_chunk.shape}, 测试集第一块形状: {test_first_chunk.shape}\")\n",
    "# print(\"\\n训练集列名:\\n\", train_first_chunk.columns.tolist())\n",
    "# print(\"\\n训练集前几行:\\n\", train_first_chunk.head())\n",
    "print(\"\\n缺失值统计:\\n\", train_first_chunk.isnull().sum().sort_values(ascending=False))"
   ]
  },
  {
   "cell_type": "code",
   "execution_count": 6,
   "id": "52562e7c",
   "metadata": {},
   "outputs": [
    {
     "name": "stdout",
     "output_type": "stream",
     "text": [
      "所有因子名称:\n",
      "['Id', 'bySelf', 'companyID', 'corporateTariffCode', 'frequentFlyer', 'nationality', 'isAccess3D', 'isVip', 'legs0_arrivalAt', 'legs0_departureAt', 'legs0_duration', 'legs0_segments0_aircraft_code', 'legs0_segments0_arrivalTo_airport_city_iata', 'legs0_segments0_arrivalTo_airport_iata', 'legs0_segments0_baggageAllowance_quantity', 'legs0_segments0_baggageAllowance_weightMeasurementType', 'legs0_segments0_cabinClass', 'legs0_segments0_departureFrom_airport_iata', 'legs0_segments0_duration', 'legs0_segments0_flightNumber', 'legs0_segments0_marketingCarrier_code', 'legs0_segments0_operatingCarrier_code', 'legs0_segments0_seatsAvailable', 'legs0_segments1_aircraft_code', 'legs0_segments1_arrivalTo_airport_city_iata', 'legs0_segments1_arrivalTo_airport_iata', 'legs0_segments1_baggageAllowance_quantity', 'legs0_segments1_baggageAllowance_weightMeasurementType', 'legs0_segments1_cabinClass', 'legs0_segments1_departureFrom_airport_iata', 'legs0_segments1_duration', 'legs0_segments1_flightNumber', 'legs0_segments1_marketingCarrier_code', 'legs0_segments1_operatingCarrier_code', 'legs0_segments1_seatsAvailable', 'legs0_segments2_aircraft_code', 'legs0_segments2_arrivalTo_airport_city_iata', 'legs0_segments2_arrivalTo_airport_iata', 'legs0_segments2_baggageAllowance_quantity', 'legs0_segments2_baggageAllowance_weightMeasurementType', 'legs0_segments2_cabinClass', 'legs0_segments2_departureFrom_airport_iata', 'legs0_segments2_duration', 'legs0_segments2_flightNumber', 'legs0_segments2_marketingCarrier_code', 'legs0_segments2_operatingCarrier_code', 'legs0_segments2_seatsAvailable', 'legs0_segments3_aircraft_code', 'legs0_segments3_arrivalTo_airport_city_iata', 'legs0_segments3_arrivalTo_airport_iata', 'legs0_segments3_baggageAllowance_quantity', 'legs0_segments3_baggageAllowance_weightMeasurementType', 'legs0_segments3_cabinClass', 'legs0_segments3_departureFrom_airport_iata', 'legs0_segments3_duration', 'legs0_segments3_flightNumber', 'legs0_segments3_marketingCarrier_code', 'legs0_segments3_operatingCarrier_code', 'legs0_segments3_seatsAvailable', 'legs1_arrivalAt', 'legs1_departureAt', 'legs1_duration', 'legs1_segments0_aircraft_code', 'legs1_segments0_arrivalTo_airport_city_iata', 'legs1_segments0_arrivalTo_airport_iata', 'legs1_segments0_baggageAllowance_quantity', 'legs1_segments0_baggageAllowance_weightMeasurementType', 'legs1_segments0_cabinClass', 'legs1_segments0_departureFrom_airport_iata', 'legs1_segments0_duration', 'legs1_segments0_flightNumber', 'legs1_segments0_marketingCarrier_code', 'legs1_segments0_operatingCarrier_code', 'legs1_segments0_seatsAvailable', 'legs1_segments1_aircraft_code', 'legs1_segments1_arrivalTo_airport_city_iata', 'legs1_segments1_arrivalTo_airport_iata', 'legs1_segments1_baggageAllowance_quantity', 'legs1_segments1_baggageAllowance_weightMeasurementType', 'legs1_segments1_cabinClass', 'legs1_segments1_departureFrom_airport_iata', 'legs1_segments1_duration', 'legs1_segments1_flightNumber', 'legs1_segments1_marketingCarrier_code', 'legs1_segments1_operatingCarrier_code', 'legs1_segments1_seatsAvailable', 'legs1_segments2_aircraft_code', 'legs1_segments2_arrivalTo_airport_city_iata', 'legs1_segments2_arrivalTo_airport_iata', 'legs1_segments2_baggageAllowance_quantity', 'legs1_segments2_baggageAllowance_weightMeasurementType', 'legs1_segments2_cabinClass', 'legs1_segments2_departureFrom_airport_iata', 'legs1_segments2_duration', 'legs1_segments2_flightNumber', 'legs1_segments2_marketingCarrier_code', 'legs1_segments2_operatingCarrier_code', 'legs1_segments2_seatsAvailable', 'legs1_segments3_aircraft_code', 'legs1_segments3_arrivalTo_airport_city_iata', 'legs1_segments3_arrivalTo_airport_iata', 'legs1_segments3_baggageAllowance_quantity', 'legs1_segments3_baggageAllowance_weightMeasurementType', 'legs1_segments3_cabinClass', 'legs1_segments3_departureFrom_airport_iata', 'legs1_segments3_duration', 'legs1_segments3_flightNumber', 'legs1_segments3_marketingCarrier_code', 'legs1_segments3_operatingCarrier_code', 'legs1_segments3_seatsAvailable', 'miniRules0_monetaryAmount', 'miniRules0_percentage', 'miniRules0_statusInfos', 'miniRules1_monetaryAmount', 'miniRules1_percentage', 'miniRules1_statusInfos', 'pricingInfo_isAccessTP', 'pricingInfo_passengerCount', 'profileId', 'ranker_id', 'requestDate', 'searchRoute', 'sex', 'taxes', 'totalPrice', 'selected']\n"
     ]
    }
   ],
   "source": [
    "import pandas as pd\n",
    "\n",
    "# 设置Pandas显示选项，取消列名截断\n",
    "pd.set_option('display.max_columns', None)  # 显示所有列\n",
    "pd.set_option('display.max_rows', None)     # 显示所有行\n",
    "pd.set_option('display.width', None)        # 自动调整宽度\n",
    "pd.set_option('display.max_colwidth', None) # 显示完整的列内容\n",
    "\n",
    "# 打印所有列名\n",
    "print(\"所有因子名称:\")\n",
    "print(train_first_chunk.columns.tolist())  # 假设train是你的DataFrame"
   ]
  },
  {
   "cell_type": "code",
   "execution_count": 4,
   "id": "a9743676",
   "metadata": {},
   "outputs": [
    {
     "name": "stdout",
     "output_type": "stream",
     "text": [
      "开始分析文件: E:/GIT PROJECT/FR/kaggle/input/data/aeroclub-recsys-2025/processed_train.parquet\n",
      "总行数: 18,145,372\n",
      "总特征数: 102\n",
      "处理进度: 100.0% (18,145,372/18,145,372行)\n",
      "分析完成!\n",
      "102\n",
      "\n",
      "空值比例超过阈值的特征:\n",
      "                                               feature  null_percent  dtype\n",
      "                                                    Id           0.0  int32\n",
      "                                                bySelf           0.0   bool\n",
      "                                             companyID           0.0  int32\n",
      "                                   corporateTariffCode           0.0  int16\n",
      "                                         frequentFlyer           0.0  int32\n",
      "                                           nationality           0.0   int8\n",
      "                                            isAccess3D           0.0   bool\n",
      "                                                 isVip           0.0   bool\n",
      "                                       legs0_arrivalAt           0.0  int32\n",
      "                                     legs0_departureAt           0.0  int32\n",
      "                                        legs0_duration           0.0  int32\n",
      "                         legs0_segments0_aircraft_code           0.0  int32\n",
      "           legs0_segments0_arrivalTo_airport_city_iata           0.0  int32\n",
      "                legs0_segments0_arrivalTo_airport_iata           0.0  int32\n",
      "             legs0_segments0_baggageAllowance_quantity           0.0   int8\n",
      "legs0_segments0_baggageAllowance_weightMeasurementType           0.0   int8\n",
      "                            legs0_segments0_cabinClass           0.0   int8\n",
      "            legs0_segments0_departureFrom_airport_iata           0.0  int32\n",
      "                              legs0_segments0_duration           0.0  int32\n",
      "                          legs0_segments0_flightNumber           0.0  int32\n",
      "                 legs0_segments0_marketingCarrier_code           0.0  int32\n",
      "                 legs0_segments0_operatingCarrier_code           0.0  int32\n",
      "                        legs0_segments0_seatsAvailable           0.0   int8\n",
      "                         legs0_segments1_aircraft_code           0.0  int32\n",
      "           legs0_segments1_arrivalTo_airport_city_iata           0.0  int32\n",
      "                legs0_segments1_arrivalTo_airport_iata           0.0  int32\n",
      "             legs0_segments1_baggageAllowance_quantity           0.0   int8\n",
      "legs0_segments1_baggageAllowance_weightMeasurementType           0.0   int8\n",
      "                            legs0_segments1_cabinClass           0.0   int8\n",
      "            legs0_segments1_departureFrom_airport_iata           0.0  int32\n",
      "                              legs0_segments1_duration           0.0  int32\n",
      "                          legs0_segments1_flightNumber           0.0  int32\n",
      "                 legs0_segments1_marketingCarrier_code           0.0  int32\n",
      "                 legs0_segments1_operatingCarrier_code           0.0  int32\n",
      "                        legs0_segments1_seatsAvailable           0.0   int8\n",
      "                         legs0_segments2_aircraft_code           0.0  int32\n",
      "           legs0_segments2_arrivalTo_airport_city_iata           0.0  int32\n",
      "                legs0_segments2_arrivalTo_airport_iata           0.0  int32\n",
      "             legs0_segments2_baggageAllowance_quantity           0.0   int8\n",
      "legs0_segments2_baggageAllowance_weightMeasurementType           0.0   int8\n",
      "                            legs0_segments2_cabinClass           0.0   int8\n",
      "            legs0_segments2_departureFrom_airport_iata           0.0  int32\n",
      "                              legs0_segments2_duration           0.0  int32\n",
      "                          legs0_segments2_flightNumber           0.0  int32\n",
      "                 legs0_segments2_marketingCarrier_code           0.0  int32\n",
      "                 legs0_segments2_operatingCarrier_code           0.0  int32\n",
      "                        legs0_segments2_seatsAvailable           0.0   int8\n",
      "                                       legs1_arrivalAt           0.0 double\n",
      "                                     legs1_departureAt           0.0 double\n",
      "                                        legs1_duration           0.0  int32\n",
      "                         legs1_segments0_aircraft_code           0.0  int32\n",
      "           legs1_segments0_arrivalTo_airport_city_iata           0.0  int32\n",
      "                legs1_segments0_arrivalTo_airport_iata           0.0  int32\n",
      "             legs1_segments0_baggageAllowance_quantity           0.0   int8\n",
      "legs1_segments0_baggageAllowance_weightMeasurementType           0.0   int8\n",
      "                            legs1_segments0_cabinClass           0.0   int8\n",
      "            legs1_segments0_departureFrom_airport_iata           0.0  int32\n",
      "                              legs1_segments0_duration           0.0  int32\n",
      "                          legs1_segments0_flightNumber           0.0  int32\n",
      "                 legs1_segments0_marketingCarrier_code           0.0  int32\n",
      "                 legs1_segments0_operatingCarrier_code           0.0  int32\n",
      "                        legs1_segments0_seatsAvailable           0.0   int8\n",
      "                         legs1_segments1_aircraft_code           0.0  int32\n",
      "           legs1_segments1_arrivalTo_airport_city_iata           0.0  int32\n",
      "                legs1_segments1_arrivalTo_airport_iata           0.0  int32\n",
      "             legs1_segments1_baggageAllowance_quantity           0.0   int8\n",
      "legs1_segments1_baggageAllowance_weightMeasurementType           0.0   int8\n",
      "                            legs1_segments1_cabinClass           0.0   int8\n",
      "            legs1_segments1_departureFrom_airport_iata           0.0  int32\n",
      "                              legs1_segments1_duration           0.0  int32\n",
      "                          legs1_segments1_flightNumber           0.0  int32\n",
      "                 legs1_segments1_marketingCarrier_code           0.0  int32\n",
      "                 legs1_segments1_operatingCarrier_code           0.0  int32\n",
      "                        legs1_segments1_seatsAvailable           0.0   int8\n",
      "                         legs1_segments2_aircraft_code           0.0  int32\n",
      "           legs1_segments2_arrivalTo_airport_city_iata           0.0  int32\n",
      "                legs1_segments2_arrivalTo_airport_iata           0.0  int32\n",
      "             legs1_segments2_baggageAllowance_quantity           0.0   int8\n",
      "legs1_segments2_baggageAllowance_weightMeasurementType           0.0   int8\n",
      "                            legs1_segments2_cabinClass           0.0   int8\n",
      "            legs1_segments2_departureFrom_airport_iata           0.0  int32\n",
      "                              legs1_segments2_duration           0.0  int32\n",
      "                          legs1_segments2_flightNumber           0.0  int32\n",
      "                 legs1_segments2_marketingCarrier_code           0.0  int32\n",
      "                 legs1_segments2_operatingCarrier_code           0.0  int32\n",
      "                        legs1_segments2_seatsAvailable           0.0   int8\n",
      "                             miniRules0_monetaryAmount           0.0  int32\n",
      "                                 miniRules0_percentage           0.0   int8\n",
      "                                miniRules0_statusInfos           0.0   int8\n",
      "                             miniRules1_monetaryAmount           0.0  int32\n",
      "                                 miniRules1_percentage           0.0   int8\n",
      "                                miniRules1_statusInfos           0.0   int8\n",
      "                                pricingInfo_isAccessTP           0.0   int8\n",
      "                            pricingInfo_passengerCount           0.0   int8\n",
      "                                             profileId           0.0  int32\n",
      "                                             ranker_id           0.0  int32\n",
      "                                           requestDate           0.0  int32\n",
      "                                                   sex           0.0   bool\n",
      "                                              selected           0.0   int8\n",
      "                                         is_round_trip           0.0   int8\n",
      "                                             taxes_bin           0.0   int8\n",
      "                                        totalPrice_bin           0.0   int8\n",
      "\n",
      "结果已保存到 high_null_features.csv\n"
     ]
    }
   ],
   "source": [
    "import pyarrow.parquet as pq\n",
    "import pandas as pd\n",
    "\n",
    "def analyze_null_columns(parquet_path, threshold=99):\n",
    "    \"\"\"\n",
    "    分析Parquet文件中空值比例过高的特征\n",
    "    \n",
    "    参数:\n",
    "        parquet_path: Parquet文件路径\n",
    "        threshold: 空值比例阈值(百分比)，默认99%\n",
    "    \n",
    "    返回:\n",
    "        DataFrame包含空值比例超过阈值的特征及其统计信息\n",
    "    \"\"\"\n",
    "    # 1. 打开Parquet文件\n",
    "    parquet_file = pq.ParquetFile(parquet_path)\n",
    "    \n",
    "    # 2. 获取列名和初始化计数器\n",
    "    schema = parquet_file.schema_arrow  # 使用schema_arrow替代schema\n",
    "    columns = schema.names\n",
    "    null_counts = {col: 0 for col in columns}\n",
    "    total_rows = parquet_file.metadata.num_rows\n",
    "    \n",
    "    print(f\"开始分析文件: {parquet_path}\")\n",
    "    print(f\"总行数: {total_rows:,}\")\n",
    "    print(f\"总特征数: {len(columns)}\")\n",
    "    \n",
    "    # 3. 分批次读取\n",
    "    batch_size = 5000  # 根据内存调整\n",
    "    processed_rows = 0\n",
    "    \n",
    "    for batch in parquet_file.iter_batches(batch_size=batch_size):\n",
    "        df_batch = batch.to_pandas()\n",
    "        processed_rows += len(df_batch)\n",
    "        \n",
    "        # 更新进度信息\n",
    "        progress = (processed_rows / total_rows) * 100\n",
    "        print(f\"\\r处理进度: {progress:.1f}% ({processed_rows:,}/{total_rows:,}行)\", end=\"\", flush=True)\n",
    "        \n",
    "        for col in columns:\n",
    "            if col in df_batch.columns:\n",
    "                null_counts[col] += df_batch[col].isnull().sum()\n",
    "    \n",
    "    print(\"\\n分析完成!\")\n",
    "    \n",
    "    # 4. 计算空值比例\n",
    "    null_percent = {col: (null_counts[col] / total_rows) * 100 for col in columns}\n",
    "    \n",
    "    # 5. 创建结果DataFrame\n",
    "    result_df = pd.DataFrame({\n",
    "        'feature': columns,\n",
    "        'null_count': [null_counts[col] for col in columns],\n",
    "        'null_percent': [null_percent[col] for col in columns],\n",
    "        'dtype': [str(schema.field(col).type) for col in columns]  # 使用schema.field\n",
    "    })\n",
    "    \n",
    "    # 6. 筛选并排序高比例空值特征\n",
    "    high_null_df = result_df[result_df['null_percent'] > threshold]\\\n",
    "                     .sort_values('null_percent', ascending=False)\n",
    "    \n",
    "    return high_null_df\n",
    "\n",
    "# 使用示例\n",
    "try:\n",
    "    high_null_features = analyze_null_columns(\n",
    "        'E:/GIT PROJECT/FR/kaggle/input/data/aeroclub-recsys-2025/processed_train.parquet',\n",
    "        threshold=-1  # 可以调整此阈值\n",
    "    )\n",
    "\n",
    "    print(len(high_null_features))\n",
    "    # 打印结果\n",
    "    if not high_null_features.empty:\n",
    "        print(\"\\n空值比例超过阈值的特征:\")\n",
    "        print(high_null_features[['feature', 'null_percent', 'dtype']].to_string(index=False))\n",
    "        \n",
    "        # 保存结果到CSV\n",
    "        high_null_features.to_csv('high_null_features1.csv', index=False)\n",
    "        print(\"\\n结果已保存到 high_null_features.csv\")\n",
    "    else:\n",
    "        print(\"\\n没有发现空值比例超过阈值的特征\")\n",
    "        \n",
    "except Exception as e:\n",
    "    print(f\"发生错误: {str(e)}\")"
   ]
  },
  {
   "cell_type": "code",
   "execution_count": null,
   "id": "ea09eefe",
   "metadata": {},
   "outputs": [
    {
     "name": "stdout",
     "output_type": "stream",
     "text": [
      "初始内存占用: 209.91 MB\n",
      "⏳ 加载数据...\n",
      "数据加载后内存占用: 19814.77 MB\n",
      "⚠️ 内存过高，自动采样前1000000行\n",
      "\n",
      "🔧 执行特征工程...\n"
     ]
    },
    {
     "name": "stderr",
     "output_type": "stream",
     "text": [
      "特征工程进度:   0%|          | 0/100 [00:00<?, ?it/s]"
     ]
    },
    {
     "name": "stdout",
     "output_type": "stream",
     "text": [
      "初始内存占用: 944.14 MB\n"
     ]
    },
    {
     "name": "stderr",
     "output_type": "stream",
     "text": [
      "内存优化: 100%|██████████| 126/126 [00:03<00:00, 40.30it/s]\n",
      "特征工程进度:  20%|██        | 20/100 [00:03<00:12,  6.36it/s]"
     ]
    },
    {
     "name": "stdout",
     "output_type": "stream",
     "text": [
      "内存优化完成，减少 71.3% (最终: 270.82 MB)\n"
     ]
    },
    {
     "name": "stderr",
     "output_type": "stream",
     "text": [
      "特征工程进度:  45%|████▌     | 45/100 [00:03<00:04, 12.37it/s]"
     ]
    },
    {
     "name": "stdout",
     "output_type": "stream",
     "text": [
      "\n",
      "❌ 处理失败: 'Series' object has no attribute 'ast'\n",
      "调试建议:\n",
      "1. 检查数据路径是否正确\n",
      "2. 使用train.head(1000).info()检查数据结构\n",
      "3. 检查Python环境版本（建议3.8+）\n"
     ]
    },
    {
     "name": "stderr",
     "output_type": "stream",
     "text": [
      "\n"
     ]
    }
   ],
   "source": []
  },
  {
   "cell_type": "markdown",
   "id": "6fe08fc1",
   "metadata": {},
   "source": [
    "E:/GIT PROJECT/FR/kaggle/input/data/aeroclub-recsys-2025/train.parquet"
   ]
  }
 ],
 "metadata": {
  "kernelspec": {
   "display_name": "Python 3",
   "language": "python",
   "name": "python3"
  },
  "language_info": {
   "codemirror_mode": {
    "name": "ipython",
    "version": 3
   },
   "file_extension": ".py",
   "mimetype": "text/x-python",
   "name": "python",
   "nbconvert_exporter": "python",
   "pygments_lexer": "ipython3",
   "version": "3.13.3"
  }
 },
 "nbformat": 4,
 "nbformat_minor": 5
}

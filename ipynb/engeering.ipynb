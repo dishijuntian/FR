{
 "cells": [
  {
   "cell_type": "code",
   "execution_count": 1,
   "metadata": {},
   "outputs": [
    {
     "name": "stderr",
     "output_type": "stream",
     "text": [
      "2025-08-05 20:38:11 |     INFO | __main__ | 核心控制器初始化完成\n"
     ]
    }
   ],
   "source": [
    "#增强版数据工程模块\n",
    "\n",
    "import logging\n",
    "import pandas as pd\n",
    "import numpy as np\n",
    "import os\n",
    "import gc\n",
    "from typing import Dict, List, Optional, Tuple, Union\n",
    "from pathlib import Path\n",
    "import pyarrow.parquet as pq\n",
    "from datetime import datetime, timedelta\n",
    "from sklearn.preprocessing import PolynomialFeatures\n",
    "from sklearn.decomposition import PCA\n",
    "from sklearn.cluster import KMeans\n",
    "from sklearn.feature_selection import mutual_info_regression\n",
    "import warnings\n",
    "warnings.filterwarnings('ignore')\n",
    "\n",
    "import logging\n",
    "from pathlib import Path\n",
    "from datetime import datetime\n",
    "\n",
    "# 配置日志\n",
    "logging.basicConfig(\n",
    "    level=\"INFO\",\n",
    "    format=\"%(asctime)s | %(levelname)8s | %(name)s | %(message)s\",\n",
    "    datefmt=\"%Y-%m-%d %H:%M:%S\"\n",
    ")\n",
    "\n",
    "# 配置文件日志处理器\n",
    "file_handler = logging.FileHandler(f\"flight_ranking_{datetime.now().strftime('%Y%m%d_%H%M%S')}.log\")\n",
    "file_handler.setFormatter(logging.Formatter(\n",
    "    \"%(asctime)s | %(levelname)8s | %(name)s | %(message)s\",\n",
    "    datefmt=\"%Y-%m-%d %H:%M:%S\"\n",
    "))\n",
    "\n",
    "# 获取logger并添加文件处理器\n",
    "logger = logging.getLogger(__name__)\n",
    "logger.addHandler(file_handler)\n",
    "logger.setLevel(\"INFO\")\n",
    "logger.info(\"核心控制器初始化完成\")\n"
   ]
  },
  {
   "cell_type": "code",
   "execution_count": 2,
   "metadata": {},
   "outputs": [],
   "source": [
    "class EnhancedDataEngineering:\n",
    "    \"\"\"增强版数据工程类 - 深度特征工程\"\"\"\n",
    "    \n",
    "    def __init__(self, logger=None):\n",
    "        self.logger = logger\n",
    "        self.processing_stats = {}\n",
    "        self.feature_importance_cache = {}\n",
    "        self.cluster_models = {}\n",
    "        \n",
    "    def log_info(self, message: str):\n",
    "        \"\"\"统一日志输出\"\"\"\n",
    "        if self.logger:\n",
    "            self.logger.info(message)\n",
    "    \n",
    "    \n",
    "    def create_economic_features(self, df: pd.DataFrame) -> pd.DataFrame:\n",
    "        \"\"\"创建具有经济学意义的特征\"\"\"\n",
    "        df = df.copy()\n",
    "        self.log_info(\"创建经济学特征...\")\n",
    "        \n",
    "        # 1. 价格弹性和需求理论特征\n",
    "        if 'totalPrice_bin' in df.columns and 'ranker_id' in df.columns:\n",
    "            # 价格弹性指标（组内价格敏感度）\n",
    "            group_price_stats = df.groupby('ranker_id')['totalPrice_bin'].agg([\n",
    "                'mean', 'std', 'min', 'max', 'count'\n",
    "            ]).reset_index()\n",
    "            group_price_stats.columns = ['ranker_id', 'group_price_mean', 'group_price_std', \n",
    "                                       'group_price_min', 'group_price_max', 'group_size']\n",
    "            \n",
    "            df = df.merge(group_price_stats, on='ranker_id', how='left')\n",
    "            \n",
    "            # 相对价格位置（价格锚定效应）\n",
    "            df['price_relative_position'] = (df['totalPrice_bin'] - df['group_price_min']) / (\n",
    "                df['group_price_max'] - df['group_price_min'] + 1)\n",
    "            \n",
    "            # 价格离散系数（选择复杂度）\n",
    "            df['price_coefficient_variation'] = df['group_price_std'] / (df['group_price_mean'] + 1)\n",
    "            \n",
    "            # 是否为极值选项（锚定效应）\n",
    "            df['is_price_anchor_high'] = (df['totalPrice_bin'] == df['group_price_max']).astype('int8')\n",
    "            df['is_price_anchor_low'] = (df['totalPrice_bin'] == df['group_price_min']).astype('int8')\n",
    "            \n",
    "            # 价格-质量感知比（基于舱位和价格）\n",
    "            if 'avg_cabin_class' in df.columns:\n",
    "                df['price_quality_ratio'] = df['totalPrice_bin'] / (df['avg_cabin_class'] + 1)\n",
    "        \n",
    "        # 2. 时间价值特征（Time Value of Money）\n",
    "        if 'legs0_departureAt_hour' in df.columns:\n",
    "            # 商务时间溢价（Business Time Premium）\n",
    "            business_hours = [7, 8, 9, 17, 18, 19, 20]\n",
    "            df['is_business_prime_time'] = df['legs0_departureAt_hour'].isin(business_hours).astype('int8')\n",
    "            \n",
    "            # 红眼航班折扣效应\n",
    "            redeye_hours = [22, 23, 0, 1, 2, 3, 4, 5, 6]\n",
    "            df['is_redeye_discount'] = df['legs0_departureAt_hour'].isin(redeye_hours).astype('int8')\n",
    "            \n",
    "            # 黄金时间（8-10点，18-20点）\n",
    "            golden_hours = [8, 9, 18, 19]\n",
    "            df['is_golden_time'] = df['legs0_departureAt_hour'].isin(golden_hours).astype('int8')\n",
    "        \n",
    "        # 3. 预订行为经济学特征\n",
    "        if 'legs0_days_ahead' in df.columns:\n",
    "            # 预订时机分类（行为经济学）\n",
    "            df['booking_urgency'] = np.select([\n",
    "                df['legs0_days_ahead'] <= 1,    # 紧急预订\n",
    "                df['legs0_days_ahead'] <= 7,    # 临时预订\n",
    "                df['legs0_days_ahead'] <= 14,   # 正常预订\n",
    "                df['legs0_days_ahead'] <= 30,   # 提前预订\n",
    "                df['legs0_days_ahead'] <= 60,   # 早期预订\n",
    "            ], [4, 3, 2, 1, 0], default=0).astype('int8')\n",
    "            \n",
    "            # 最佳预订窗口（21-60天通常价格最优）\n",
    "            df['in_optimal_booking_window'] = (\n",
    "                (df['legs0_days_ahead'] >= 21) & (df['legs0_days_ahead'] <= 60)\n",
    "            ).astype('int8')\n",
    "            \n",
    "            # 冲动购买指标（<=3天）\n",
    "            df['is_impulse_booking'] = (df['legs0_days_ahead'] <= 3).astype('int8')\n",
    "        \n",
    "        # 4. 网络效应和市场集中度\n",
    "        if 'legs0_segments0_marketingCarrier_code' in df.columns:\n",
    "            # 航空公司市场份额（网络效应）\n",
    "            carrier_market_share = df['legs0_segments0_marketingCarrier_code'].value_counts(normalize=True)\n",
    "            df['carrier_market_share'] = df['legs0_segments0_marketingCarrier_code'].map(carrier_market_share)\n",
    "            \n",
    "            # 是否为市场领导者（>20%市场份额）\n",
    "            df['is_market_leader'] = (df['carrier_market_share'] > 0.2).astype('int8')\n",
    "        \n",
    "        # 5. 服务质量感知特征\n",
    "        if 'legs0_segments0_cabinClass' in df.columns and 'totalPrice_bin' in df.columns:\n",
    "            # 性价比指标\n",
    "            cabin_price_ratio = df.groupby('legs0_segments0_cabinClass')['totalPrice_bin'].mean()\n",
    "            df['cabin_price_expectation'] = df['legs0_segments0_cabinClass'].map(cabin_price_ratio)\n",
    "            df['price_expectation_gap'] = df['totalPrice_bin'] - df['cabin_price_expectation']\n",
    "            \n",
    "        # 6. 便利性溢价特征\n",
    "        if 'total_segments' in df.columns:\n",
    "            # 直飞溢价（便利性价值）\n",
    "            df['convenience_score'] = np.select([\n",
    "                df['total_segments'] == 2,  # 往返都直飞\n",
    "                df['total_segments'] == 3,  # 一程直飞\n",
    "                df['total_segments'] >= 4,  # 都需转机\n",
    "            ], [2, 1, 0], default=0).astype('int8')\n",
    "        \n",
    "        return df\n",
    "    \n",
    "    \n",
    "    def create_behavioral_features(self, df: pd.DataFrame) -> pd.DataFrame:\n",
    "        \"\"\"创建行为经济学特征\"\"\"\n",
    "        df = df.copy()\n",
    "        self.log_info(\"创建行为经济学特征...\")\n",
    "        \n",
    "        # 1. 选择过载理论（Choice Overload）\n",
    "        if 'ranker_id' in df.columns:\n",
    "            # 选择复杂度\n",
    "            choice_complexity = df.groupby('ranker_id').agg({\n",
    "                'Id': 'count',  # 选项数量\n",
    "                'totalPrice_bin': ['std', 'max', 'min'],  # 价格分布\n",
    "                'total_duration': ['std', 'mean'] if 'total_duration' in df.columns else ['count', 'count']\n",
    "            }).reset_index()\n",
    "            \n",
    "            choice_complexity.columns = ['ranker_id', 'choice_set_size', 'price_variance', \n",
    "                                       'price_range_max', 'price_range_min', 'duration_variance', 'duration_mean']\n",
    "            \n",
    "            df = df.merge(choice_complexity, on='ranker_id', how='left')\n",
    "            \n",
    "            # 选择过载指标\n",
    "            df['choice_overload_score'] = np.select([\n",
    "                df['choice_set_size'] >= 20,  # 高过载\n",
    "                df['choice_set_size'] >= 10,  # 中等过载\n",
    "                df['choice_set_size'] >= 5,   # 轻微过载\n",
    "            ], [3, 2, 1], default=0).astype('int8')\n",
    "            \n",
    "            # 选择集中度（基于价格分布）\n",
    "            df['choice_concentration'] = 1 / (df['price_variance'] + 1)\n",
    "        \n",
    "        # 2. 损失厌恶特征（Loss Aversion）\n",
    "        if 'miniRules0_monetaryAmount' in df.columns and 'miniRules1_monetaryAmount' in df.columns:\n",
    "            # 潜在损失风险\n",
    "            df['max_cancellation_loss'] = np.maximum(\n",
    "                df['miniRules0_monetaryAmount'].fillna(0),\n",
    "                df['miniRules1_monetaryAmount'].fillna(0)\n",
    "            )\n",
    "            \n",
    "            # 损失厌恶阈值（相对于票价的百分比）\n",
    "            df['loss_aversion_ratio'] = df['max_cancellation_loss'] / (df['totalPrice_bin'] + 1)\n",
    "            \n",
    "            # 低风险选项（可免费取消/改签）\n",
    "            df['is_low_risk_option'] = (\n",
    "                (df['miniRules0_monetaryAmount'] == 0) | \n",
    "                (df['miniRules1_monetaryAmount'] == 0)\n",
    "            ).astype('int8')\n",
    "        \n",
    "        # 3. 社会认同特征（Social Proof）\n",
    "        if 'legs0_segments0_marketingCarrier_code' in df.columns and 'ranker_id' in df.columns:\n",
    "            # 同组最受欢迎航空公司\n",
    "            popular_carrier_in_group = df.groupby('ranker_id')['legs0_segments0_marketingCarrier_code'].agg(\n",
    "                lambda x: x.mode().iloc[0] if len(x.mode()) > 0 else -1\n",
    "            ).reset_index()\n",
    "            popular_carrier_in_group.columns = ['ranker_id', 'popular_carrier']\n",
    "            \n",
    "            df = df.merge(popular_carrier_in_group, on='ranker_id', how='left')\n",
    "            df['is_popular_carrier_choice'] = (\n",
    "                df['legs0_segments0_marketingCarrier_code'] == df['popular_carrier']\n",
    "            ).astype('int8')\n",
    "        \n",
    "        # 4. 认知偏差特征\n",
    "        if 'legs0_departureAt_hour' in df.columns and 'legs0_arrivalAt_hour' in df.columns:\n",
    "            # 到达时间偏好（认知便利性）\n",
    "            df['arrival_time_preference'] = np.select([\n",
    "                df['legs0_arrivalAt_hour'].between(8, 12),   # 上午到达（便于安排）\n",
    "                df['legs0_arrivalAt_hour'].between(13, 18),  # 下午到达\n",
    "                df['legs0_arrivalAt_hour'].between(19, 22),  # 晚上到达\n",
    "            ], [2, 1, 0], default=0).astype('int8')\n",
    "        \n",
    "        # 5. 框架效应特征（Framing Effect）\n",
    "        if 'totalPrice_bin' in df.columns and 'taxes_bin' in df.columns:\n",
    "            # 价格透明度（税费占比）\n",
    "            df['price_transparency'] = df['taxes_bin'] / (df['totalPrice_bin'] + 1)\n",
    "            \n",
    "            # 隐藏成本感知\n",
    "            df['hidden_cost_perception'] = np.select([\n",
    "                df['price_transparency'] > 0.3,  # 高税费比例\n",
    "                df['price_transparency'] > 0.15, # 中等税费比例\n",
    "            ], [2, 1], default=0).astype('int8')\n",
    "        \n",
    "        return df\n",
    "    \n",
    "    \n",
    "    def create_operational_features(self, df: pd.DataFrame) -> pd.DataFrame:\n",
    "        \"\"\"创建运营相关特征\"\"\"\n",
    "        df = df.copy()\n",
    "        self.log_info(\"创建运营特征...\")\n",
    "        \n",
    "        # 1. 航线运营效率特征\n",
    "        if 'legs0_segments0_departureFrom_airport_iata' in df.columns and 'legs0_segments0_arrivalTo_airport_iata' in df.columns:\n",
    "            # 航线标识符\n",
    "            df['route_identifier'] = df['legs0_segments0_departureFrom_airport_iata'].astype(str) + '_' + \\\n",
    "                                   df['legs0_segments0_arrivalTo_airport_iata'].astype(str)\n",
    "            \n",
    "            # 航线频次（运营密度）\n",
    "            route_frequency = df['route_identifier'].value_counts()\n",
    "            df['route_frequency'] = df['route_identifier'].map(route_frequency)\n",
    "            \n",
    "            # 热门航线标识\n",
    "            df['is_popular_route'] = (df['route_frequency'] > df['route_frequency'].quantile(0.8)).astype('int8')\n",
    "        \n",
    "        # 2. 运力管理特征\n",
    "        if 'legs0_segments0_seatsAvailable' in df.columns:\n",
    "            # 舱位紧张度\n",
    "            df['seat_scarcity'] = np.select([\n",
    "                df['legs0_segments0_seatsAvailable'] <= 3,   # 极度紧张\n",
    "                df['legs0_segments0_seatsAvailable'] <= 7,   # 紧张\n",
    "                df['legs0_segments0_seatsAvailable'] <= 15,  # 中等\n",
    "            ], [3, 2, 1], default=0).astype('int8')\n",
    "            \n",
    "            # 舱位可得性压力\n",
    "            df['availability_pressure'] = 1 / (df['legs0_segments0_seatsAvailable'] + 1)\n",
    "        \n",
    "        # 3. 网络连通性特征\n",
    "        if 'total_segments' in df.columns:\n",
    "            # 连接复杂度\n",
    "            df['connection_complexity'] = df['total_segments'] - 2  # 基础往返为2段\n",
    "            \n",
    "            # 枢纽依赖度（多段航班通常依赖枢纽）\n",
    "            df['hub_dependency'] = (df['total_segments'] > 2).astype('int8')\n",
    "        \n",
    "        # 4. 时刻表优化特征\n",
    "        if 'legs0_departureAt_hour' in df.columns and 'legs0_arrivalAt_hour' in df.columns:\n",
    "            # 时刻表效率（避开拥堵时段）\n",
    "            congested_hours = [7, 8, 17, 18, 19]\n",
    "            df['avoids_congestion'] = (\n",
    "                ~df['legs0_departureAt_hour'].isin(congested_hours) &\n",
    "                ~df['legs0_arrivalAt_hour'].isin(congested_hours)\n",
    "            ).astype('int8')\n",
    "            \n",
    "            # 时间窗口利用率\n",
    "            prime_departure = [8, 9, 10, 17, 18, 19]  # 优选出发时间\n",
    "            df['optimal_departure_window'] = df['legs0_departureAt_hour'].isin(prime_departure).astype('int8')\n",
    "        \n",
    "        return df\n",
    "    \n",
    "    \n",
    "    def create_customer_segmentation_features(self, df: pd.DataFrame) -> pd.DataFrame:\n",
    "        \"\"\"创建客户细分特征\"\"\"\n",
    "        df = df.copy()\n",
    "        self.log_info(\"创建客户细分特征...\")\n",
    "        \n",
    "        # 1. 商务旅客识别\n",
    "        business_indicators = []\n",
    "        \n",
    "        if 'corporateTariffCode' in df.columns:\n",
    "            business_indicators.append('corporateTariffCode != -1')\n",
    "        if 'isVip' in df.columns:\n",
    "            business_indicators.append('isVip == 1')\n",
    "        if 'has_corporate_tariff' in df.columns:\n",
    "            business_indicators.append('has_corporate_tariff == 1')\n",
    "        \n",
    "        if business_indicators:\n",
    "            business_query = ' or '.join(business_indicators)\n",
    "            df['business_traveler_score'] = df.eval(business_query).astype('int8')\n",
    "        \n",
    "        # 2. 价格敏感度细分\n",
    "        if 'totalPrice_bin' in df.columns and 'ranker_id' in df.columns:\n",
    "            # 价格选择行为\n",
    "            price_behavior = df.groupby('ranker_id').apply(\n",
    "                lambda x: (x['totalPrice_bin'] == x['totalPrice_bin'].min()).sum() / len(x)\n",
    "            ).reset_index()\n",
    "            price_behavior.columns = ['ranker_id', 'price_sensitive_ratio']\n",
    "            \n",
    "            df = df.merge(price_behavior, on='ranker_id', how='left')\n",
    "            \n",
    "            # 价格敏感度分类\n",
    "            df['price_sensitivity_segment'] = np.select([\n",
    "                df['price_sensitive_ratio'] > 0.7,  # 高价格敏感\n",
    "                df['price_sensitive_ratio'] > 0.3,  # 中等价格敏感\n",
    "            ], [2, 1], default=0).astype('int8')\n",
    "        \n",
    "        # 3. 便利性偏好细分\n",
    "        if 'total_segments' in df.columns:\n",
    "            # 便利性偏好指标\n",
    "            convenience_pref = df.groupby('ranker_id').apply(\n",
    "                lambda x: (x['total_segments'] == x['total_segments'].min()).sum() / len(x)\n",
    "            ).reset_index()\n",
    "            convenience_pref.columns = ['ranker_id', 'convenience_preference']\n",
    "            \n",
    "            df = df.merge(convenience_pref, on='ranker_id', how='left')\n",
    "            \n",
    "            # 便利性细分\n",
    "            df['convenience_segment'] = np.select([\n",
    "                df['convenience_preference'] > 0.6,  # 高便利性需求\n",
    "                df['convenience_preference'] > 0.3,  # 中等便利性需求\n",
    "            ], [2, 1], default=0).astype('int8')\n",
    "        \n",
    "        # 4. 忠诚度特征\n",
    "        if 'has_frequent_flyer' in df.columns and 'legs0_segments0_marketingCarrier_code' in df.columns:\n",
    "            # 品牌忠诚度指标\n",
    "            df['brand_loyalty_indicator'] = (\n",
    "                (df['has_frequent_flyer'] == 1) & \n",
    "                (df['legs0_segments0_marketingCarrier_code'] != -1)\n",
    "            ).astype('int8')\n",
    "        \n",
    "        return df\n",
    "    \n",
    "    \n",
    "    def create_market_dynamics_features(self, df: pd.DataFrame) -> pd.DataFrame:\n",
    "        \"\"\"创建市场动态特征\"\"\"\n",
    "        df = df.copy()\n",
    "        self.log_info(\"创建市场动态特征...\")\n",
    "        \n",
    "        # 1. 竞争强度特征\n",
    "        if 'ranker_id' in df.columns and 'legs0_segments0_marketingCarrier_code' in df.columns:\n",
    "            # 航空公司竞争数量\n",
    "            carrier_competition = df.groupby('ranker_id')['legs0_segments0_marketingCarrier_code'].nunique().reset_index()\n",
    "            carrier_competition.columns = ['ranker_id', 'carrier_competition_count']\n",
    "            df = df.merge(carrier_competition, on='ranker_id', how='left')\n",
    "            \n",
    "            # 竞争激烈程度\n",
    "            df['competition_intensity'] = np.select([\n",
    "                df['carrier_competition_count'] >= 5,  # 激烈竞争\n",
    "                df['carrier_competition_count'] >= 3,  # 中等竞争\n",
    "                df['carrier_competition_count'] >= 2,  # 低竞争\n",
    "            ], [3, 2, 1], default=0).astype('int8')\n",
    "        \n",
    "        # 2. 市场集中度特征\n",
    "        if 'legs0_segments0_marketingCarrier_code' in df.columns:\n",
    "            # HHI指数（赫芬达尔-赫希曼指数）近似\n",
    "            carrier_shares = df['legs0_segments0_marketingCarrier_code'].value_counts(normalize=True)\n",
    "            hhi_approx = (carrier_shares ** 2).sum()\n",
    "            \n",
    "            # 每个航空公司的市场地位\n",
    "            df['carrier_market_position'] = df['legs0_segments0_marketingCarrier_code'].map(carrier_shares)\n",
    "            \n",
    "            # 市场地位分类\n",
    "            df['market_position_tier'] = np.select([\n",
    "                df['carrier_market_position'] > 0.3,  # 市场领导者\n",
    "                df['carrier_market_position'] > 0.15, # 主要竞争者\n",
    "                df['carrier_market_position'] > 0.05, # 挑战者\n",
    "            ], [3, 2, 1], default=0).astype('int8')\n",
    "        \n",
    "        # 3. 供需平衡特征\n",
    "        if 'legs0_segments0_seatsAvailable' in df.columns and 'ranker_id' in df.columns:\n",
    "            # 供需比例\n",
    "            demand_supply = df.groupby('ranker_id').agg({\n",
    "                'Id': 'count',  # 需求（选项数量代理）\n",
    "                'legs0_segments0_seatsAvailable': 'mean'  # 供给\n",
    "            }).reset_index()\n",
    "            demand_supply.columns = ['ranker_id', 'demand_proxy', 'avg_supply']\n",
    "            demand_supply['supply_demand_ratio'] = demand_supply['avg_supply'] / (demand_supply['demand_proxy'] + 1)\n",
    "            \n",
    "            df = df.merge(demand_supply[['ranker_id', 'supply_demand_ratio']], on='ranker_id', how='left')\n",
    "            \n",
    "            # 供需状态分类\n",
    "            df['supply_demand_state'] = np.select([\n",
    "                df['supply_demand_ratio'] < 0.5,  # 供不应求\n",
    "                df['supply_demand_ratio'] < 1.5,  # 均衡\n",
    "                df['supply_demand_ratio'] >= 1.5, # 供过于求\n",
    "            ], [2, 1, 0], default=0).astype('int8')\n",
    "        \n",
    "        return df\n",
    "    \n",
    "    \n",
    "    def create_deep_interaction_features(self, df: pd.DataFrame) -> pd.DataFrame:\n",
    "        \"\"\"创建深度交互特征\"\"\"\n",
    "        df = df.copy()\n",
    "        self.log_info(\"创建深度交互特征...\")\n",
    "        \n",
    "        # 选择关键特征进行交互\n",
    "        key_features = []\n",
    "        \n",
    "        # 收集存在的关键特征\n",
    "        candidate_features = [\n",
    "            'totalPrice_bin', 'is_business_prime_time', 'booking_urgency',\n",
    "            'convenience_score', 'carrier_market_share', 'competition_intensity',\n",
    "            'choice_overload_score', 'price_sensitivity_segment', 'business_traveler_score'\n",
    "        ]\n",
    "        \n",
    "        for feature in candidate_features:\n",
    "            if feature in df.columns:\n",
    "                key_features.append(feature)\n",
    "        \n",
    "        if len(key_features) >= 3:\n",
    "            # 创建重要的二次交互特征\n",
    "            interactions = [\n",
    "                ('totalPrice_bin', 'booking_urgency', 'price_urgency_interaction'),\n",
    "                ('business_traveler_score', 'is_business_prime_time', 'business_time_match'),\n",
    "                ('convenience_score', 'competition_intensity', 'convenience_competition'),\n",
    "                ('price_sensitivity_segment', 'carrier_market_share', 'price_brand_interaction')\n",
    "            ]\n",
    "            \n",
    "            for feat1, feat2, new_name in interactions:\n",
    "                if feat1 in df.columns and feat2 in df.columns:\n",
    "                    df[new_name] = (df[feat1] * df[feat2]).astype('int16')\n",
    "        \n",
    "        return df\n",
    "    \n",
    "    \n",
    "    def create_polynomial_features(self, df: pd.DataFrame, degree: int = 2, \n",
    "                                 max_features: int = 50) -> pd.DataFrame:\n",
    "        \"\"\"创建多项式特征\"\"\"\n",
    "        df = df.copy()\n",
    "        self.log_info(f\"创建{degree}次多项式特征...\")\n",
    "        \n",
    "        # 选择数值特征进行多项式变换\n",
    "        numeric_cols = []\n",
    "        candidates = ['totalPrice_bin', 'total_duration', 'legs0_days_ahead', \n",
    "                     'group_size', 'carrier_market_share', 'route_frequency']\n",
    "        \n",
    "        for col in candidates:\n",
    "            if col in df.columns:\n",
    "                numeric_cols.append(col)\n",
    "        \n",
    "        if len(numeric_cols) >= 2:\n",
    "            # 限制特征数量避免维度爆炸\n",
    "            selected_cols = numeric_cols[:min(5, len(numeric_cols))]\n",
    "            \n",
    "            try:\n",
    "                poly = PolynomialFeatures(degree=degree, interaction_only=True, \n",
    "                                        include_bias=False)\n",
    "                \n",
    "                # 小批量处理避免内存问题\n",
    "                sample_size = min(10000, len(df))\n",
    "                sample_df = df[selected_cols].fillna(0).iloc[:sample_size]\n",
    "                \n",
    "                poly_features = poly.fit_transform(sample_df)\n",
    "                feature_names = poly.get_feature_names_out(selected_cols)\n",
    "                \n",
    "                # 选择最重要的多项式特征\n",
    "                if len(feature_names) > max_features:\n",
    "                    # 使用方差筛选\n",
    "                    variances = np.var(poly_features, axis=0)\n",
    "                    top_indices = np.argsort(variances)[-max_features:]\n",
    "                    feature_names = feature_names[top_indices]\n",
    "                    \n",
    "                    # 对全量数据应用选中的特征\n",
    "                    poly_full = poly.transform(df[selected_cols].fillna(0))\n",
    "                    poly_selected = poly_full[:, top_indices]\n",
    "                else:\n",
    "                    poly_selected = poly.transform(df[selected_cols].fillna(0))\n",
    "                \n",
    "                # 添加到原始数据框\n",
    "                for i, name in enumerate(feature_names):\n",
    "                    if name not in selected_cols:  # 避免重复原始特征\n",
    "                        df[f'poly_{name}'] = poly_selected[:, i].astype('int32')\n",
    "                        \n",
    "            except Exception as e:\n",
    "                self.log_info(f\"多项式特征创建失败: {str(e)}\")\n",
    "        \n",
    "        return df\n",
    "    \n",
    "    \n",
    "    def create_clustering_features(self, df: pd.DataFrame, n_clusters: int = 8) -> pd.DataFrame:\n",
    "        \"\"\"创建聚类特征\"\"\"\n",
    "        df = df.copy()\n",
    "        self.log_info(f\"创建{n_clusters}类聚类特征...\")\n",
    "        \n",
    "        # 选择聚类特征\n",
    "        cluster_features = []\n",
    "        candidates = ['totalPrice_bin', 'total_duration', 'business_traveler_score',\n",
    "                     'booking_urgency', 'convenience_score', 'competition_intensity']\n",
    "        \n",
    "        for col in candidates:\n",
    "            if col in df.columns:\n",
    "                cluster_features.append(col)\n",
    "        \n",
    "        if len(cluster_features) >= 3:\n",
    "            try:\n",
    "                # 准备聚类数据\n",
    "                cluster_data = df[cluster_features].fillna(0)\n",
    "                \n",
    "                # K-means聚类\n",
    "                kmeans = KMeans(n_clusters=n_clusters, random_state=42, n_init=10)\n",
    "                \n",
    "                # 使用样本进行拟合以提高效率\n",
    "                sample_size = min(50000, len(cluster_data))\n",
    "                sample_indices = np.random.choice(len(cluster_data), sample_size, replace=False)\n",
    "                kmeans.fit(cluster_data.iloc[sample_indices])\n",
    "                \n",
    "                # 预测所有数据的聚类标签\n",
    "                cluster_labels = kmeans.predict(cluster_data)\n",
    "                df['customer_cluster'] = cluster_labels.astype('int8')\n",
    "                \n",
    "                # 计算到聚类中心的距离\n",
    "                distances = kmeans.transform(cluster_data)\n",
    "                df['cluster_distance'] = np.min(distances, axis=1).astype('float32')\n",
    "                \n",
    "                # 聚类稳定性（到最近两个中心的距离比）\n",
    "                sorted_distances = np.sort(distances, axis=1)\n",
    "                df['cluster_stability'] = (sorted_distances[:, 1] / (sorted_distances[:, 0] + 0.001)).astype('float32')\n",
    "                \n",
    "                # 保存聚类模型\n",
    "                self.cluster_models['customer_kmeans'] = kmeans\n",
    "                \n",
    "            except Exception as e:\n",
    "                self.log_info(f\"聚类特征创建失败: {str(e)}\")\n",
    "        \n",
    "        return df\n",
    "    \n",
    "    \n",
    "    def create_embedding_features(self, df: pd.DataFrame) -> pd.DataFrame:\n",
    "        \"\"\"创建嵌入特征（降维特征）\"\"\"\n",
    "        df = df.copy()\n",
    "        self.log_info(\"创建嵌入特征...\")\n",
    "        \n",
    "        # 选择高维特征进行降维\n",
    "        embedding_candidates = []\n",
    "        for col in df.columns:\n",
    "            if ('segments' in col and col.endswith('_code')) or col in ['ranker_id', 'companyID']:\n",
    "                if df[col].nunique() > 10:  # 高基数分类特征\n",
    "                    embedding_candidates.append(col)\n",
    "        \n",
    "        # 对每个高基数特征创建嵌入\n",
    "        for col in embedding_candidates[:3]:  # 限制数量\n",
    "            try:\n",
    "                # 频率编码作为简单嵌入\n",
    "                value_counts = df[col].value_counts()\n",
    "                df[f'{col}_frequency'] = df[col].map(value_counts).fillna(0).astype('int16')\n",
    "                \n",
    "                # 稀有度编码（逆频率）\n",
    "                df[f'{col}_rarity'] = (1 / (df[f'{col}_frequency'] + 1) * 1000).astype('int16')\n",
    "                \n",
    "                # 分位数编码\n",
    "                freq_quantiles = df[f'{col}_frequency'].quantile([0.25, 0.5, 0.75])\n",
    "                df[f'{col}_freq_tier'] = np.select([\n",
    "                    df[f'{col}_frequency'] <= freq_quantiles[0.25],\n",
    "                    df[f'{col}_frequency'] <= freq_quantiles[0.5],\n",
    "                    df[f'{col}_frequency'] <= freq_quantiles[0.75],\n",
    "                ], [0, 1, 2], default=3).astype('int8')\n",
    "                \n",
    "            except Exception as e:\n",
    "                self.log_info(f\"嵌入特征创建失败 {col}: {str(e)}\")\n",
    "        \n",
    "        return df\n",
    "    \n",
    "    \n",
    "    def create_temporal_features(self, df: pd.DataFrame) -> pd.DataFrame:\n",
    "        \"\"\"创建时间序列特征\"\"\"\n",
    "        df = df.copy()\n",
    "        self.log_info(\"创建时间序列特征...\")\n",
    "        \n",
    "        # 1. 季节性特征\n",
    "        if 'legs0_departureAt_weekday' in df.columns:\n",
    "            # 工作日/周末\n",
    "            df['is_weekend'] = (df['legs0_departureAt_weekday'].isin([5, 6])).astype('int8')\n",
    "            \n",
    "            # 周中位置（周一=0, 周日=6）\n",
    "            df['week_position'] = df['legs0_departureAt_weekday'].astype('int8')\n",
    "            \n",
    "            # 商务周期（周一-周四商务需求高）\n",
    "            df['business_week_cycle'] = (df['legs0_departureAt_weekday'] <= 3).astype('int8')\n",
    "        \n",
    "        # 2. 假期效应（基于简化假期规则）\n",
    "        if 'legs0_departureAt' in df.columns:\n",
    "            # 节假日前后的出行高峰\n",
    "            # 这里使用简化的假期检测，实际应用中需要真实假期数据\n",
    "            \n",
    "            # 月末月初效应（商务出行模式）\n",
    "            if hasattr(df['legs0_departureAt'], 'dt'):\n",
    "                df['is_month_end'] = (df['legs0_departureAt'].dt.day >= 25).astype('int8')\n",
    "                df['is_month_start'] = (df['legs0_departureAt'].dt.day <= 5).astype('int8')\n",
    "        \n",
    "        # 3. 预订时间模式\n",
    "        if 'legs0_days_ahead' in df.columns:\n",
    "            # 预订时间聚类\n",
    "            booking_clusters = [0, 1, 3, 7, 14, 21, 30, 60, 90]\n",
    "            df['booking_time_cluster'] = pd.cut(df['legs0_days_ahead'], \n",
    "                                              bins=booking_clusters + [float('inf')], \n",
    "                                              labels=False, \n",
    "                                              duplicates='drop').fillna(0).astype('int8')\n",
    "        \n",
    "        return df\n",
    "    \n",
    "    \n",
    "    def create_network_features(self, df: pd.DataFrame) -> pd.DataFrame:\n",
    "        \"\"\"创建网络结构特征\"\"\"\n",
    "        df = df.copy()\n",
    "        self.log_info(\"创建网络结构特征...\")\n",
    "        \n",
    "        # 1. 机场网络特征\n",
    "        if ('legs0_segments0_departureFrom_airport_iata' in df.columns and \n",
    "            'legs0_segments0_arrivalTo_airport_iata' in df.columns):\n",
    "            \n",
    "            # 机场出发频次（枢纽重要性）\n",
    "            departure_freq = df['legs0_segments0_departureFrom_airport_iata'].value_counts()\n",
    "            df['departure_airport_centrality'] = df['legs0_segments0_departureFrom_airport_iata'].map(departure_freq).fillna(0)\n",
    "            \n",
    "            # 机场到达频次\n",
    "            arrival_freq = df['legs0_segments0_arrivalTo_airport_iata'].value_counts()\n",
    "            df['arrival_airport_centrality'] = df['legs0_segments0_arrivalTo_airport_iata'].map(arrival_freq).fillna(0)\n",
    "            \n",
    "            # 总体机场重要性\n",
    "            df['airport_network_importance'] = (df['departure_airport_centrality'] + \n",
    "                                               df['arrival_airport_centrality']) / 2\n",
    "            \n",
    "            # 枢纽机场识别（前10%）\n",
    "            hub_threshold = df['airport_network_importance'].quantile(0.9)\n",
    "            df['is_hub_route'] = (df['airport_network_importance'] > hub_threshold).astype('int8')\n",
    "        \n",
    "        # 2. 航空公司网络特征\n",
    "        if 'legs0_segments0_marketingCarrier_code' in df.columns:\n",
    "            # 航空公司路线多样性\n",
    "            carrier_routes = df.groupby('legs0_segments0_marketingCarrier_code')['route_identifier'].nunique()\n",
    "            df['carrier_route_diversity'] = df['legs0_segments0_marketingCarrier_code'].map(carrier_routes).fillna(0)\n",
    "            \n",
    "            # 网络覆盖度分级\n",
    "            df['carrier_network_tier'] = pd.qcut(df['carrier_route_diversity'], \n",
    "                                                q=4, labels=[0, 1, 2, 3], \n",
    "                                                duplicates='drop').fillna(0).astype('int8')\n",
    "        \n",
    "        return df\n",
    "    \n",
    "    \n",
    "    def create_competitive_features(self, df: pd.DataFrame) -> pd.DataFrame:\n",
    "        \"\"\"创建竞争态势特征\"\"\"\n",
    "        df = df.copy()\n",
    "        self.log_info(\"创建竞争态势特征...\")\n",
    "        \n",
    "        if 'ranker_id' in df.columns:\n",
    "            # 1. 价格竞争特征\n",
    "            if 'totalPrice_bin' in df.columns:\n",
    "                # 价格排名百分位\n",
    "                df['price_percentile'] = df.groupby('ranker_id')['totalPrice_bin'].rank(pct=True)\n",
    "                \n",
    "                # 价格四分位数分类\n",
    "                df['price_quartile'] = pd.qcut(df['price_percentile'], \n",
    "                                             q=4, labels=[0, 1, 2, 3], \n",
    "                                             duplicates='drop').fillna(0).astype('int8')\n",
    "                \n",
    "                # 与最低价的差距\n",
    "                min_price = df.groupby('ranker_id')['totalPrice_bin'].transform('min')\n",
    "                df['price_gap_from_min'] = df['totalPrice_bin'] - min_price\n",
    "                \n",
    "                # 价格竞争优势\n",
    "                df['price_competitive_advantage'] = np.select([\n",
    "                    df['price_quartile'] == 0,  # 最便宜25%\n",
    "                    df['price_quartile'] == 1,  # 次便宜25%\n",
    "                ], [2, 1], default=0).astype('int8')\n",
    "            \n",
    "            # 2. 时间竞争特征\n",
    "            if 'total_duration' in df.columns:\n",
    "                # 时间排名\n",
    "                df['duration_rank'] = df.groupby('ranker_id')['total_duration'].rank()\n",
    "                df['duration_percentile'] = df.groupby('ranker_id')['total_duration'].rank(pct=True)\n",
    "                \n",
    "                # 时间竞争优势\n",
    "                df['time_competitive_advantage'] = (df['duration_percentile'] <= 0.3).astype('int8')\n",
    "            \n",
    "            # 3. 综合竞争力得分\n",
    "            competitive_factors = []\n",
    "            if 'price_competitive_advantage' in df.columns:\n",
    "                competitive_factors.append('price_competitive_advantage')\n",
    "            if 'time_competitive_advantage' in df.columns:\n",
    "                competitive_factors.append('time_competitive_advantage')\n",
    "            if 'convenience_score' in df.columns:\n",
    "                competitive_factors.append('convenience_score')\n",
    "            \n",
    "            if len(competitive_factors) >= 2:\n",
    "                df['overall_competitiveness'] = df[competitive_factors].sum(axis=1).astype('int8')\n",
    "        \n",
    "        return df\n",
    "    \n",
    "    \n",
    "    def create_anomaly_features(self, df: pd.DataFrame) -> pd.DataFrame:\n",
    "        \"\"\"创建异常检测特征\"\"\"\n",
    "        df = df.copy()\n",
    "        self.log_info(\"创建异常检测特征...\")\n",
    "        \n",
    "        # 1. 价格异常\n",
    "        if 'totalPrice_bin' in df.columns:\n",
    "            # 价格异常值检测（基于IQR）\n",
    "            Q1 = df['totalPrice_bin'].quantile(0.25)\n",
    "            Q3 = df['totalPrice_bin'].quantile(0.75)\n",
    "            IQR = Q3 - Q1\n",
    "            \n",
    "            lower_bound = Q1 - 1.5 * IQR\n",
    "            upper_bound = Q3 + 1.5 * IQR\n",
    "            \n",
    "            df['is_price_outlier'] = (\n",
    "                (df['totalPrice_bin'] < lower_bound) | \n",
    "                (df['totalPrice_bin'] > upper_bound)\n",
    "            ).astype('int8')\n",
    "            \n",
    "            # 价格异常程度\n",
    "            df['price_anomaly_score'] = np.maximum(\n",
    "                (lower_bound - df['totalPrice_bin']) / IQR,\n",
    "                (df['totalPrice_bin'] - upper_bound) / IQR\n",
    "            )\n",
    "            df['price_anomaly_score'] = np.clip(df['price_anomaly_score'], 0, 5).astype('float32')\n",
    "        \n",
    "        # 2. 时间异常\n",
    "        if 'total_duration' in df.columns:\n",
    "            # 时间异常检测\n",
    "            duration_mean = df['total_duration'].mean()\n",
    "            duration_std = df['total_duration'].std()\n",
    "            \n",
    "            df['is_duration_outlier'] = (\n",
    "                np.abs(df['total_duration'] - duration_mean) > 2 * duration_std\n",
    "            ).astype('int8')\n",
    "        \n",
    "        # 3. 组合异常（价格-时间组合）\n",
    "        if 'totalPrice_bin' in df.columns and 'total_duration' in df.columns:\n",
    "            # 性价比异常（极高价格但极长时间，或极低价格但极短时间）\n",
    "            df['value_anomaly'] = (\n",
    "                ((df['totalPrice_bin'] > df['totalPrice_bin'].quantile(0.9)) & \n",
    "                 (df['total_duration'] > df['total_duration'].quantile(0.9))) |\n",
    "                ((df['totalPrice_bin'] < df['totalPrice_bin'].quantile(0.1)) & \n",
    "                 (df['total_duration'] < df['total_duration'].quantile(0.1)))\n",
    "            ).astype('int8')\n",
    "        \n",
    "        return df\n",
    "    \n",
    "    \n",
    "    def create_meta_features(self, df: pd.DataFrame) -> pd.DataFrame:\n",
    "        \"\"\"创建元特征（关于特征的特征）\"\"\"\n",
    "        df = df.copy()\n",
    "        self.log_info(\"创建元特征...\")\n",
    "        \n",
    "        # 1. 特征完整性统计\n",
    "        key_feature_cols = ['totalPrice_bin', 'total_duration', 'legs0_departureAt_hour', \n",
    "                           'business_traveler_score', 'booking_urgency']\n",
    "        \n",
    "        existing_key_features = [col for col in key_feature_cols if col in df.columns]\n",
    "        \n",
    "        if existing_key_features:\n",
    "            # 关键特征的非缺失数量\n",
    "            df['key_features_available'] = (df[existing_key_features] != -1).sum(axis=1).astype('int8')\n",
    "            \n",
    "            # 特征完整性比例\n",
    "            df['feature_completeness'] = df['key_features_available'] / len(existing_key_features)\n",
    "        \n",
    "        # 2. 选择复杂度元特征\n",
    "        if 'ranker_id' in df.columns:\n",
    "            # 每个ranker_id的特征分布复杂度\n",
    "            complexity_features = ['totalPrice_bin', 'total_duration', 'convenience_score']\n",
    "            existing_complexity_features = [col for col in complexity_features if col in df.columns]\n",
    "            \n",
    "            if existing_complexity_features:\n",
    "                # 计算组内特征方差（复杂度代理）\n",
    "                for feature in existing_complexity_features:\n",
    "                    variance_col = f'{feature}_group_variance'\n",
    "                    df[variance_col] = df.groupby('ranker_id')[feature].transform('std').fillna(0).astype('float32')\n",
    "        \n",
    "        # 3. 特征相关性元特征\n",
    "        if 'totalPrice_bin' in df.columns and 'total_duration' in df.columns:\n",
    "            # 价格-时间相关性（组内）\n",
    "            def group_correlation(group):\n",
    "                if len(group) > 2:\n",
    "                    return group['totalPrice_bin'].corr(group['total_duration'])\n",
    "                return 0\n",
    "            \n",
    "            group_corr = df.groupby('ranker_id').apply(group_correlation).fillna(0)\n",
    "            group_corr.name = 'price_duration_correlation'\n",
    "            df = df.merge(group_corr.reset_index(), on='ranker_id', how='left')\n",
    "        \n",
    "        return df\n",
    "    \n",
    "    \n",
    "    def apply_feature_selection(self, df: pd.DataFrame, target_col: str = 'selected', \n",
    "                               max_features: int = 200) -> pd.DataFrame:\n",
    "        \"\"\"应用特征选择\"\"\"\n",
    "        df = df.copy()\n",
    "        self.log_info(f\"应用特征选择，目标最大特征数：{max_features}\")\n",
    "        \n",
    "        if target_col not in df.columns:\n",
    "            self.log_info(f\"目标列 {target_col} 不存在，跳过特征选择\")\n",
    "            return df\n",
    "        \n",
    "        # 分离特征和目标\n",
    "        feature_cols = [col for col in df.columns if col not in ['Id', 'ranker_id', target_col]]\n",
    "        \n",
    "        if len(feature_cols) <= max_features:\n",
    "            self.log_info(f\"特征数量({len(feature_cols)})未超过限制，跳过特征选择\")\n",
    "            return df\n",
    "        \n",
    "        try:\n",
    "            # 使用互信息进行特征选择\n",
    "            X = df[feature_cols].fillna(0)\n",
    "            y = df[target_col].fillna(0)\n",
    "            \n",
    "            # 随机抽样以提高效率\n",
    "            sample_size = min(50000, len(df))\n",
    "            if len(df) > sample_size:\n",
    "                sample_indices = np.random.choice(len(df), sample_size, replace=False)\n",
    "                X_sample = X.iloc[sample_indices]\n",
    "                y_sample = y.iloc[sample_indices]\n",
    "            else:\n",
    "                X_sample = X\n",
    "                y_sample = y\n",
    "            \n",
    "            # 计算互信息\n",
    "            mi_scores = mutual_info_regression(X_sample, y_sample, random_state=42)\n",
    "            \n",
    "            # 选择top特征\n",
    "            top_indices = np.argsort(mi_scores)[-max_features:]\n",
    "            selected_features = [feature_cols[i] for i in top_indices]\n",
    "            \n",
    "            # 保留选中的特征\n",
    "            keep_cols = ['Id', 'ranker_id', target_col] + selected_features\n",
    "            df_selected = df[keep_cols].copy()\n",
    "            \n",
    "            # 保存特征重要性\n",
    "            feature_importance = dict(zip([feature_cols[i] for i in top_indices], \n",
    "                                        mi_scores[top_indices]))\n",
    "            self.feature_importance_cache[target_col] = feature_importance\n",
    "            \n",
    "            self.log_info(f\"特征选择完成：{len(feature_cols)} -> {len(selected_features)}\")\n",
    "            \n",
    "            return df_selected\n",
    "            \n",
    "        except Exception as e:\n",
    "            self.log_info(f\"特征选择失败：{str(e)}\")\n",
    "            return df\n",
    "    \n",
    "    \n",
    "    def process_enhanced_features(self, df: pd.DataFrame, \n",
    "                                feature_types: List[str] = None,\n",
    "                                apply_selection: bool = True,\n",
    "                                max_features: int = 200) -> pd.DataFrame:\n",
    "        \"\"\"\n",
    "        增强特征工程主入口\n",
    "        \n",
    "        Args:\n",
    "            df: 输入数据（已编码）\n",
    "            feature_types: 要创建的特征类型\n",
    "            apply_selection: 是否应用特征选择\n",
    "            max_features: 最大特征数量\n",
    "        \"\"\"\n",
    "        if feature_types is None:\n",
    "            feature_types = ['economic', 'behavioral', 'operational', 'customer', \n",
    "                           'market', 'interaction', 'temporal', 'network', \n",
    "                           'competitive', 'anomaly', 'meta']\n",
    "        \n",
    "        df_processed = df.copy()\n",
    "        original_shape = df_processed.shape\n",
    "        \n",
    "        self.processing_stats['original_shape'] = original_shape\n",
    "        self.log_info(f\"开始增强特征工程: {original_shape}\")\n",
    "        \n",
    "        # 按类型创建特征\n",
    "        feature_methods = {\n",
    "            'economic': self.create_economic_features,\n",
    "            'behavioral': self.create_behavioral_features,\n",
    "            'operational': self.create_operational_features,\n",
    "            'customer': self.create_customer_segmentation_features,\n",
    "            'market': self.create_market_dynamics_features,\n",
    "            'interaction': self.create_deep_interaction_features,\n",
    "            'polynomial': lambda x: self.create_polynomial_features(x, degree=2),\n",
    "            'clustering': self.create_clustering_features,\n",
    "            'embedding': self.create_embedding_features,\n",
    "            'temporal': self.create_temporal_features,\n",
    "            'network': self.create_network_features,\n",
    "            'competitive': self.create_competitive_features,\n",
    "            'anomaly': self.create_anomaly_features,\n",
    "            'meta': self.create_meta_features\n",
    "        }\n",
    "        \n",
    "        for feature_type in feature_types:\n",
    "            if feature_type in feature_methods:\n",
    "                try:\n",
    "                    self.log_info(f\"创建 {feature_type} 特征...\")\n",
    "                    df_processed = feature_methods[feature_type](df_processed)\n",
    "                        \n",
    "                except Exception as e:\n",
    "                    self.log_info(f\"创建 {feature_type} 特征失败: {str(e)}\")\n",
    "                    continue\n",
    "        \n",
    "        # 特征选择\n",
    "        if apply_selection and 'selected' in df_processed.columns:\n",
    "            df_processed = self.apply_feature_selection(df_processed, max_features=max_features)\n",
    "                    \n",
    "        # 记录处理后状态\n",
    "        final_shape = df_processed.shape\n",
    "        self.processing_stats['final_shape'] = final_shape\n",
    "        self.processing_stats['features_added'] = final_shape[1] - original_shape[1]\n",
    "        \n",
    "        self.log_info(f\"增强特征工程完成: {original_shape} -> {final_shape}\")\n",
    "        self.log_info(f\"新增特征: {self.processing_stats['features_added']}\")\n",
    "        \n",
    "        del df\n",
    "        gc.collect()\n",
    "        \n",
    "        return df_processed\n",
    "    \n",
    "    def get_feature_importance(self, target_col: str = 'selected') -> Dict:\n",
    "        \"\"\"获取特征重要性\"\"\"\n",
    "        return self.feature_importance_cache.get(target_col, {})\n",
    "    \n",
    "    def get_cluster_models(self) -> Dict:\n",
    "        \"\"\"获取聚类模型\"\"\"\n",
    "        return self.cluster_models\n",
    "    \n",
    "    def get_processing_summary(self) -> Dict:\n",
    "        \"\"\"获取处理总结\"\"\"\n",
    "        summary = self.processing_stats.copy()\n",
    "        summary['feature_importance'] = self.feature_importance_cache\n",
    "        summary['cluster_models_count'] = len(self.cluster_models)\n",
    "        return summary\n",
    "\n",
    "\n",
    "\n"
   ]
  },
  {
   "cell_type": "code",
   "execution_count": 3,
   "metadata": {},
   "outputs": [],
   "source": [
    "class AutoFeatureDiscovery:\n",
    "    \"\"\"自动特征发现类 - 使用深度学习思想的探索式特征生成\"\"\"\n",
    "    \n",
    "    def __init__(self, logger=None):\n",
    "        self.logger = logger\n",
    "        self.discovered_features = {}\n",
    "        self.feature_generators = []\n",
    "    \n",
    "    def log_info(self, message: str):\n",
    "        \"\"\"统一日志输出\"\"\"\n",
    "        if self.logger:\n",
    "            self.logger.info(message)\n",
    "    \n",
    "    \n",
    "    def discover_arithmetic_features(self, df: pd.DataFrame, \n",
    "                                   top_k: int = 20) -> pd.DataFrame:\n",
    "        \"\"\"发现算术组合特征\"\"\"\n",
    "        df = df.copy()\n",
    "        self.log_info(\"发现算术组合特征...\")\n",
    "        \n",
    "        # 选择数值特征\n",
    "        numeric_cols = []\n",
    "        for col in df.columns:\n",
    "            if (df[col].dtype in ['int8', 'int16', 'int32', 'float32', 'float64'] and \n",
    "                col not in ['Id', 'ranker_id', 'selected']):\n",
    "                numeric_cols.append(col)\n",
    "        \n",
    "        if len(numeric_cols) < 2:\n",
    "            return df\n",
    "        \n",
    "        # 限制特征数量以避免组合爆炸\n",
    "        selected_numeric = numeric_cols[:min(10, len(numeric_cols))]\n",
    "        discovered_count = 0\n",
    "        \n",
    "        # 生成二元算术特征\n",
    "        operations = [\n",
    "            ('add', lambda x, y: x + y),\n",
    "            ('subtract', lambda x, y: np.abs(x - y)),\n",
    "            ('multiply', lambda x, y: x * y),\n",
    "            ('divide', lambda x, y: x / (y + 1)),\n",
    "            ('max', lambda x, y: np.maximum(x, y)),\n",
    "            ('min', lambda x, y: np.minimum(x, y))\n",
    "        ]\n",
    "        \n",
    "        candidate_features = []\n",
    "        \n",
    "        for i, col1 in enumerate(selected_numeric):\n",
    "            for j, col2 in enumerate(selected_numeric[i+1:], i+1):\n",
    "                for op_name, op_func in operations:\n",
    "                    if discovered_count >= top_k:\n",
    "                        break\n",
    "                    \n",
    "                    try:\n",
    "                        feature_name = f'auto_{op_name}_{col1}_{col2}'\n",
    "                        feature_values = op_func(df[col1].fillna(0), df[col2].fillna(0))\n",
    "                        \n",
    "                        # 检查特征质量\n",
    "                        if self._is_good_feature(feature_values):\n",
    "                            candidate_features.append((feature_name, feature_values))\n",
    "                            discovered_count += 1\n",
    "                            \n",
    "                    except Exception:\n",
    "                        continue\n",
    "                        \n",
    "                if discovered_count >= top_k:\n",
    "                    break\n",
    "            if discovered_count >= top_k:\n",
    "                break\n",
    "        \n",
    "        # 添加发现的特征\n",
    "        for feature_name, feature_values in candidate_features:\n",
    "            df[feature_name] = feature_values.astype('int32')\n",
    "        \n",
    "        self.log_info(f\"发现 {len(candidate_features)} 个算术特征\")\n",
    "        return df\n",
    "    \n",
    "    \n",
    "    def discover_conditional_features(self, df: pd.DataFrame, \n",
    "                                    top_k: int = 15) -> pd.DataFrame:\n",
    "        \"\"\"发现条件特征\"\"\"\n",
    "        df = df.copy()\n",
    "        self.log_info(\"发现条件特征...\")\n",
    "        \n",
    "        # 选择特征\n",
    "        numeric_cols = [col for col in df.columns \n",
    "                       if df[col].dtype in ['int8', 'int16', 'int32', 'float32'] \n",
    "                       and col not in ['Id', 'ranker_id', 'selected']]\n",
    "        \n",
    "        if len(numeric_cols) < 2:\n",
    "            return df\n",
    "        \n",
    "        discovered_count = 0\n",
    "        \n",
    "        # 生成条件特征\n",
    "        for i, col1 in enumerate(numeric_cols[:8]):\n",
    "            for j, col2 in enumerate(numeric_cols[:8]):\n",
    "                if i == j or discovered_count >= top_k:\n",
    "                    continue\n",
    "                \n",
    "                try:\n",
    "                    # 条件1: col1 > median(col1) AND col2 > median(col2)\n",
    "                    med1 = df[col1].median()\n",
    "                    med2 = df[col2].median()\n",
    "                    \n",
    "                    feature_name1 = f'auto_both_high_{col1}_{col2}'\n",
    "                    feature_values1 = ((df[col1] > med1) & (df[col2] > med2)).astype('int8')\n",
    "                    \n",
    "                    if self._is_good_feature(feature_values1):\n",
    "                        df[feature_name1] = feature_values1\n",
    "                        discovered_count += 1\n",
    "                    \n",
    "                    # 条件2: col1 > 75th percentile OR col2 > 75th percentile\n",
    "                    p75_1 = df[col1].quantile(0.75)\n",
    "                    p75_2 = df[col2].quantile(0.75)\n",
    "                    \n",
    "                    feature_name2 = f'auto_either_high_{col1}_{col2}'\n",
    "                    feature_values2 = ((df[col1] > p75_1) | (df[col2] > p75_2)).astype('int8')\n",
    "                    \n",
    "                    if self._is_good_feature(feature_values2) and discovered_count < top_k:\n",
    "                        df[feature_name2] = feature_values2\n",
    "                        discovered_count += 1\n",
    "                        \n",
    "                except Exception:\n",
    "                    continue\n",
    "        \n",
    "        self.log_info(f\"发现 {discovered_count} 个条件特征\")\n",
    "        return df\n",
    "    \n",
    "    \n",
    "    def discover_ranking_features(self, df: pd.DataFrame, \n",
    "                                top_k: int = 10) -> pd.DataFrame:\n",
    "        \"\"\"发现排名特征\"\"\"\n",
    "        df = df.copy()\n",
    "        self.log_info(\"发现排名特征...\")\n",
    "        \n",
    "        if 'ranker_id' not in df.columns:\n",
    "            return df\n",
    "        \n",
    "        # 选择数值特征\n",
    "        numeric_cols = [col for col in df.columns \n",
    "                       if df[col].dtype in ['int8', 'int16', 'int32', 'float32'] \n",
    "                       and col not in ['Id', 'ranker_id', 'selected']]\n",
    "        \n",
    "        discovered_count = 0\n",
    "        \n",
    "        for col in numeric_cols[:top_k]:\n",
    "            try:\n",
    "                # 组内排名\n",
    "                feature_name1 = f'auto_rank_{col}'\n",
    "                df[feature_name1] = df.groupby('ranker_id')[col].rank().astype('int16')\n",
    "                \n",
    "                # 组内百分位排名\n",
    "                feature_name2 = f'auto_pct_rank_{col}'\n",
    "                df[feature_name2] = (df.groupby('ranker_id')[col].rank(pct=True) * 100).astype('int8')\n",
    "                \n",
    "                # 与组内最值的比较\n",
    "                feature_name3 = f'auto_vs_max_{col}'\n",
    "                group_max = df.groupby('ranker_id')[col].transform('max')\n",
    "                df[feature_name3] = (df[col] / (group_max + 1) * 100).astype('int8')\n",
    "                \n",
    "                discovered_count += 3\n",
    "                \n",
    "            except Exception:\n",
    "                continue\n",
    "        \n",
    "        self.log_info(f\"发现 {discovered_count} 个排名特征\")\n",
    "        return df\n",
    "    \n",
    "    \n",
    "    def discover_aggregation_features(self, df: pd.DataFrame, \n",
    "                                    top_k: int = 15) -> pd.DataFrame:\n",
    "        \"\"\"发现聚合特征\"\"\"\n",
    "        df = df.copy()\n",
    "        self.log_info(\"发现聚合特征...\")\n",
    "        \n",
    "        if 'ranker_id' not in df.columns:\n",
    "            return df\n",
    "        \n",
    "        # 选择数值特征\n",
    "        numeric_cols = [col for col in df.columns \n",
    "                       if df[col].dtype in ['int8', 'int16', 'int32', 'float32'] \n",
    "                       and col not in ['Id', 'ranker_id', 'selected']]\n",
    "        \n",
    "        # 聚合函数\n",
    "        agg_functions = {\n",
    "            'mean': 'mean',\n",
    "            'std': 'std', \n",
    "            'range': lambda x: x.max() - x.min(),\n",
    "            'q75_q25': lambda x: x.quantile(0.75) - x.quantile(0.25)\n",
    "        }\n",
    "        \n",
    "        discovered_count = 0\n",
    "        \n",
    "        for col in numeric_cols[:min(5, len(numeric_cols))]:\n",
    "            for agg_name, agg_func in agg_functions.items():\n",
    "                if discovered_count >= top_k:\n",
    "                    break\n",
    "                \n",
    "                try:\n",
    "                    feature_name = f'auto_group_{agg_name}_{col}'\n",
    "                    \n",
    "                    if agg_name in ['mean', 'std']:\n",
    "                        feature_values = df.groupby('ranker_id')[col].transform(agg_func).fillna(0)\n",
    "                    else:\n",
    "                        feature_values = df.groupby('ranker_id')[col].transform(agg_func).fillna(0)\n",
    "                    \n",
    "                    if self._is_good_feature(feature_values):\n",
    "                        df[feature_name] = feature_values.astype('float32')\n",
    "                        discovered_count += 1\n",
    "                        \n",
    "                except Exception:\n",
    "                    continue\n",
    "        \n",
    "        self.log_info(f\"发现 {discovered_count} 个聚合特征\")\n",
    "        return df\n",
    "    \n",
    "    def _is_good_feature(self, feature_values: np.ndarray, \n",
    "                        min_variance: float = 0.01, \n",
    "                        max_missing_rate: float = 0.8) -> bool:\n",
    "        \"\"\"判断特征质量\"\"\"\n",
    "        try:\n",
    "            # 检查方差\n",
    "            if np.var(feature_values) < min_variance:\n",
    "                return False\n",
    "            \n",
    "            # 检查缺失率\n",
    "            missing_rate = np.isnan(feature_values).mean()\n",
    "            if missing_rate > max_missing_rate:\n",
    "                return False\n",
    "            \n",
    "            # 检查唯一值数量\n",
    "            unique_values = len(np.unique(feature_values[~np.isnan(feature_values)]))\n",
    "            if unique_values < 2:\n",
    "                return False\n",
    "            \n",
    "            return True\n",
    "            \n",
    "        except Exception:\n",
    "            return False\n",
    "    \n",
    "    \n",
    "    def auto_discover_features(self, df: pd.DataFrame, \n",
    "                             max_total_features: int = 50) -> pd.DataFrame:\n",
    "        \"\"\"自动特征发现主入口\"\"\"\n",
    "        df_processed = df.copy()\n",
    "        original_features = df_processed.shape[1]\n",
    "        \n",
    "        self.log_info(f\"开始自动特征发现，原始特征数：{original_features}\")\n",
    "        \n",
    "        # 按重要性顺序应用特征发现方法\n",
    "        discovery_methods = [\n",
    "            ('arithmetic', self.discover_arithmetic_features, max_total_features // 3),\n",
    "            ('ranking', self.discover_ranking_features, max_total_features // 5),\n",
    "            ('conditional', self.discover_conditional_features, max_total_features // 4),\n",
    "            ('aggregation', self.discover_aggregation_features, max_total_features // 3)\n",
    "        ]\n",
    "        \n",
    "        total_discovered = 0\n",
    "        \n",
    "        for method_name, method_func, max_features in discovery_methods:\n",
    "            if total_discovered >= max_total_features:\n",
    "                break\n",
    "                \n",
    "            try:\n",
    "                before_count = df_processed.shape[1]\n",
    "                df_processed = method_func(df_processed, top_k=max_features)\n",
    "                after_count = df_processed.shape[1]\n",
    "                \n",
    "                method_discovered = after_count - before_count\n",
    "                total_discovered += method_discovered\n",
    "                \n",
    "                self.log_info(f\"{method_name} 方法发现 {method_discovered} 个特征\")\n",
    "                \n",
    "            except Exception as e:\n",
    "                self.log_info(f\"{method_name} 特征发现失败: {str(e)}\")\n",
    "                continue\n",
    "        \n",
    "        final_features = df_processed.shape[1]\n",
    "        self.discovered_features['auto_discovery'] = {\n",
    "            'original_features': original_features,\n",
    "            'final_features': final_features,\n",
    "            'discovered_features': total_discovered\n",
    "        }\n",
    "        \n",
    "        self.log_info(f\"自动特征发现完成：{original_features} -> {final_features} 特征\")\n",
    "        return df_processed"
   ]
  },
  {
   "cell_type": "code",
   "execution_count": 4,
   "metadata": {},
   "outputs": [],
   "source": [
    "class IntegratedDataEngineering:\n",
    "    \"\"\"集成数据工程类 - 整合所有特征工程方法\"\"\"\n",
    "    \n",
    "    def __init__(self, logger=None, config: Dict = None):\n",
    "        self.logger = logger\n",
    "        self.config = config or {}\n",
    "        \n",
    "        # 初始化各个组件\n",
    "        self.enhanced_eng = EnhancedDataEngineering(logger=logger)\n",
    "        self.auto_discovery = AutoFeatureDiscovery(logger=logger)\n",
    "        \n",
    "        # 处理统计\n",
    "        self.processing_stats = {}\n",
    "    \n",
    "    def log_info(self, message: str):\n",
    "        \"\"\"统一日志输出\"\"\"\n",
    "        if self.logger:\n",
    "            self.logger.info(message)\n",
    "    \n",
    "    \n",
    "    def create_all_features(self, df: pd.DataFrame, \n",
    "                          enhanced_features: bool = True,\n",
    "                          auto_discovery: bool = True,\n",
    "                          feature_selection: bool = True,\n",
    "                          max_features: int = 200) -> pd.DataFrame:\n",
    "        \"\"\"创建所有类型的特征\"\"\"\n",
    "        df_processed = df.copy()\n",
    "        \n",
    "        self.log_info(\"=\" * 60)\n",
    "        self.log_info(\"开始集成特征工程\")\n",
    "        self.log_info(\"=\" * 60)\n",
    "        \n",
    "        original_shape = df_processed.shape\n",
    "        self.processing_stats['original_shape'] = original_shape\n",
    "        \n",
    "        # 阶段1：增强特征工程\n",
    "        if enhanced_features:\n",
    "            self.log_info(\"阶段1：增强特征工程\")\n",
    "            \n",
    "            enhanced_config = self.config.get('enhanced_features', {})\n",
    "            feature_types = enhanced_config.get('feature_types', \n",
    "                                              ['economic', 'behavioral', 'operational', \n",
    "                                               'customer', 'market', 'temporal', 'network'])\n",
    "            \n",
    "            try:\n",
    "                df_processed = self.enhanced_eng.process_enhanced_features(\n",
    "                    df_processed, \n",
    "                    feature_types=feature_types,\n",
    "                    apply_selection=False,  # 稍后统一进行特征选择\n",
    "                    max_features=max_features * 2  # 给自动发现留空间\n",
    "                )\n",
    "                \n",
    "                enhanced_shape = df_processed.shape\n",
    "                self.processing_stats['enhanced_shape'] = enhanced_shape\n",
    "                self.log_info(f\"增强特征工程完成：{original_shape} -> {enhanced_shape}\")\n",
    "                \n",
    "            except Exception as e:\n",
    "                self.log_info(f\"增强特征工程失败：{str(e)}\")\n",
    "                enhanced_shape = df_processed.shape\n",
    "        \n",
    "        # 阶段2：自动特征发现\n",
    "        if auto_discovery:\n",
    "            self.log_info(\"阶段2：自动特征发现\")\n",
    "            \n",
    "            auto_config = self.config.get('auto_discovery', {})\n",
    "            max_auto_features = auto_config.get('max_features', 50)\n",
    "            \n",
    "            try:\n",
    "                df_processed = self.auto_discovery.auto_discover_features(\n",
    "                    df_processed, \n",
    "                    max_total_features=max_auto_features\n",
    "                )\n",
    "                \n",
    "                auto_shape = df_processed.shape\n",
    "                self.processing_stats['auto_discovery_shape'] = auto_shape\n",
    "                self.log_info(f\"自动特征发现完成：{enhanced_shape} -> {auto_shape}\")\n",
    "                \n",
    "            except Exception as e:\n",
    "                self.log_info(f\"自动特征发现失败：{str(e)}\")\n",
    "                auto_shape = df_processed.shape\n",
    "        \n",
    "        # 阶段3：特征选择\n",
    "        if feature_selection and 'selected' in df_processed.columns:\n",
    "            self.log_info(\"阶段3：特征选择\")\n",
    "            \n",
    "            try:\n",
    "                df_processed = self.enhanced_eng.apply_feature_selection(\n",
    "                    df_processed, \n",
    "                    target_col='selected',\n",
    "                    max_features=max_features\n",
    "                )\n",
    "                \n",
    "                final_shape = df_processed.shape\n",
    "                self.processing_stats['final_shape'] = final_shape\n",
    "                self.log_info(f\"特征选择完成：{auto_shape} -> {final_shape}\")\n",
    "                \n",
    "            except Exception as e:\n",
    "                self.log_info(f\"特征选择失败：{str(e)}\")\n",
    "                final_shape = df_processed.shape\n",
    "        else:\n",
    "            final_shape = df_processed.shape\n",
    "            self.processing_stats['final_shape'] = final_shape\n",
    "                \n",
    "        # 统计汇总\n",
    "        total_features_added = final_shape[1] - original_shape[1]\n",
    "        self.processing_stats['total_features_added'] = total_features_added\n",
    "        \n",
    "        self.log_info(\"=\" * 60)\n",
    "        self.log_info(\"集成特征工程完成\")\n",
    "        self.log_info(f\"最终结果：{original_shape} -> {final_shape}\")\n",
    "        self.log_info(f\"新增特征：{total_features_added}\")\n",
    "        self.log_info(\"=\" * 60)\n",
    "        \n",
    "        return df_processed\n",
    "    \n",
    "    \n",
    "    def process_segment_file(self, input_file: str, output_file: str,\n",
    "                           enhanced_features: bool = True,\n",
    "                           auto_discovery: bool = True,\n",
    "                           feature_selection: bool = True,\n",
    "                           max_features: int = 200) -> bool:\n",
    "        \"\"\"处理单个segment文件\"\"\"\n",
    "        try:\n",
    "            if not os.path.exists(input_file):\n",
    "                self.log_info(f\"输入文件不存在: {input_file}\")\n",
    "                return False\n",
    "            \n",
    "            # 检查文件是否为空\n",
    "            pf = pq.ParquetFile(input_file)\n",
    "            if pf.metadata.num_rows == 0:\n",
    "                self.log_info(f\"空文件，跳过: {input_file}\")\n",
    "                # 创建空的输出文件\n",
    "                empty_df = pd.DataFrame()\n",
    "                empty_df.to_parquet(output_file, index=False)\n",
    "                return True\n",
    "            \n",
    "            # 读取数据\n",
    "            df = pd.read_parquet(input_file)\n",
    "            \n",
    "            if len(df) == 0:\n",
    "                self.log_info(f\"空数据，跳过: {input_file}\")\n",
    "                df.to_parquet(output_file, index=False)\n",
    "                return True\n",
    "            \n",
    "            # 集成特征工程\n",
    "            df_processed = self.create_all_features(\n",
    "                df, \n",
    "                enhanced_features=enhanced_features,\n",
    "                auto_discovery=auto_discovery,\n",
    "                feature_selection=feature_selection,\n",
    "                max_features=max_features\n",
    "            )\n",
    "            \n",
    "            # 保存结果\n",
    "            os.makedirs(os.path.dirname(output_file), exist_ok=True)\n",
    "            df_processed.to_parquet(output_file, index=False)\n",
    "            \n",
    "            self.log_info(f\"处理完成: {input_file} -> {output_file}\")\n",
    "            self.log_info(f\"  形状: {df.shape} -> {df_processed.shape}\")\n",
    "            \n",
    "            return True\n",
    "            \n",
    "        except Exception as e:\n",
    "            self.log_info(f\"处理文件失败 {input_file}: {str(e)}\")\n",
    "            return False\n",
    "    \n",
    "    \n",
    "    def process_all_segments(self, input_dir: str, output_dir: str, \n",
    "                           data_type: str,\n",
    "                           enhanced_features: bool = True,\n",
    "                           auto_discovery: bool = True,\n",
    "                           feature_selection: bool = True,\n",
    "                           max_features: int = 200) -> bool:\n",
    "        \"\"\"处理所有segment文件\"\"\"\n",
    "        input_dir = Path(input_dir)\n",
    "        output_dir = Path(output_dir)\n",
    "        \n",
    "        # 确保输出目录存在\n",
    "        output_dir.mkdir(parents=True, exist_ok=True)\n",
    "        \n",
    "        success_count = 0\n",
    "        total_count = 0\n",
    "        \n",
    "        for segment_level in [0, 1, 2, 3]:\n",
    "            input_file = input_dir / f\"{data_type}_segment_{segment_level}.parquet\"\n",
    "            output_file = output_dir / f\"{data_type}_segment_{segment_level}.parquet\"\n",
    "            \n",
    "            total_count += 1\n",
    "            \n",
    "            if self.process_segment_file(\n",
    "                str(input_file), str(output_file),\n",
    "                enhanced_features=enhanced_features,\n",
    "                auto_discovery=auto_discovery,\n",
    "                feature_selection=feature_selection,\n",
    "                max_features=max_features\n",
    "            ):\n",
    "                success_count += 1\n",
    "        \n",
    "        self.log_info(f\"批处理完成: {success_count}/{total_count} 个文件成功\")\n",
    "        return success_count == total_count\n",
    "    \n",
    "    def get_comprehensive_summary(self) -> Dict:\n",
    "        \"\"\"获取综合处理总结\"\"\"\n",
    "        summary = {\n",
    "            'processing_stats': self.processing_stats,\n",
    "            'enhanced_engineering': self.enhanced_eng.get_processing_summary(),\n",
    "            'auto_discovery': self.auto_discovery.discovered_features,\n",
    "            'feature_importance': self.enhanced_eng.get_feature_importance(),\n",
    "            'cluster_models': self.enhanced_eng.get_cluster_models()\n",
    "        }\n",
    "        return summary\n",
    "    \n",
    "    def save_feature_metadata(self, output_path: str):\n",
    "        \"\"\"保存特征元数据\"\"\"\n",
    "        metadata = self.get_comprehensive_summary()\n",
    "        \n",
    "        try:\n",
    "            import pickle\n",
    "            with open(output_path, 'wb') as f:\n",
    "                pickle.dump(metadata, f)\n",
    "            self.log_info(f\"特征元数据已保存: {output_path}\")\n",
    "        except Exception as e:\n",
    "            self.log_info(f\"保存特征元数据失败: {str(e)}\")\n"
   ]
  },
  {
   "cell_type": "code",
   "execution_count": 5,
   "metadata": {},
   "outputs": [],
   "source": [
    "# 使用示例和配置\n",
    "ENHANCED_FEATURE_CONFIG = {\n",
    "    'enhanced_features': {\n",
    "        'feature_types': [\n",
    "            'economic',      # 经济学特征\n",
    "            'behavioral',    # 行为经济学特征  \n",
    "            'operational',   # 运营特征\n",
    "            'customer',      # 客户细分特征\n",
    "            'market',        # 市场动态特征\n",
    "            'temporal',      # 时间特征\n",
    "            'network',       # 网络特征\n",
    "            'competitive',   # 竞争特征\n",
    "            'anomaly',       # 异常特征\n",
    "            'meta'           # 元特征\n",
    "        ]\n",
    "    },\n",
    "    'auto_discovery': {\n",
    "        'max_features': 50,\n",
    "        'enable_arithmetic': True,\n",
    "        'enable_conditional': True,\n",
    "        'enable_ranking': True,\n",
    "        'enable_aggregation': True\n",
    "    },\n",
    "    'feature_selection': {\n",
    "        'method': 'mutual_info',\n",
    "        'max_features': 200,\n",
    "        'selection_ratio': 0.8\n",
    "    }\n",
    "}"
   ]
  },
  {
   "cell_type": "code",
   "execution_count": 6,
   "metadata": {},
   "outputs": [
    {
     "name": "stderr",
     "output_type": "stream",
     "text": [
      "2025-08-05 20:38:48 |     INFO | __main__ | ============================================================\n",
      "2025-08-05 20:38:48 |     INFO | __main__ | 开始集成特征工程\n",
      "2025-08-05 20:38:48 |     INFO | __main__ | ============================================================\n",
      "2025-08-05 20:38:48 |     INFO | __main__ | 阶段1：增强特征工程\n",
      "2025-08-05 20:38:48 |     INFO | __main__ | 开始增强特征工程: (2427225, 103)\n",
      "2025-08-05 20:38:48 |     INFO | __main__ | 创建 economic 特征...\n",
      "2025-08-05 20:38:49 |     INFO | __main__ | 创建经济学特征...\n",
      "2025-08-05 20:38:49 |     INFO | __main__ | 创建 behavioral 特征...\n",
      "2025-08-05 20:38:50 |     INFO | __main__ | 创建行为经济学特征...\n",
      "2025-08-05 20:38:52 |     INFO | __main__ | 创建 operational 特征...\n",
      "2025-08-05 20:38:52 |     INFO | __main__ | 创建运营特征...\n",
      "2025-08-05 20:38:54 |     INFO | __main__ | 创建 customer 特征...\n",
      "2025-08-05 20:38:54 |     INFO | __main__ | 创建客户细分特征...\n",
      "2025-08-05 20:38:58 |     INFO | __main__ | 创建 market 特征...\n",
      "2025-08-05 20:38:58 |     INFO | __main__ | 创建市场动态特征...\n",
      "2025-08-05 20:39:00 |     INFO | __main__ | 创建 temporal 特征...\n",
      "2025-08-05 20:39:00 |     INFO | __main__ | 创建时间序列特征...\n",
      "2025-08-05 20:39:00 |     INFO | __main__ | 创建 network 特征...\n",
      "2025-08-05 20:39:01 |     INFO | __main__ | 创建网络结构特征...\n",
      "2025-08-05 20:39:01 |     INFO | __main__ | 创建 competitive 特征...\n",
      "2025-08-05 20:39:02 |     INFO | __main__ | 创建竞争态势特征...\n",
      "2025-08-05 20:39:03 |     INFO | __main__ | 创建 anomaly 特征...\n",
      "2025-08-05 20:39:03 |     INFO | __main__ | 创建异常检测特征...\n",
      "2025-08-05 20:39:03 |     INFO | __main__ | 创建 meta 特征...\n",
      "2025-08-05 20:39:04 |     INFO | __main__ | 创建元特征...\n",
      "2025-08-05 20:39:08 |     INFO | __main__ | 增强特征工程完成: (2427225, 103) -> (2427225, 188)\n",
      "2025-08-05 20:39:08 |     INFO | __main__ | 新增特征: 85\n",
      "2025-08-05 20:39:08 |     INFO | __main__ | 增强特征工程完成：(2427225, 103) -> (2427225, 188)\n",
      "2025-08-05 20:39:08 |     INFO | __main__ | 阶段2：自动特征发现\n",
      "2025-08-05 20:39:08 |     INFO | __main__ | 开始自动特征发现，原始特征数：188\n",
      "2025-08-05 20:39:08 |     INFO | __main__ | 发现算术组合特征...\n",
      "2025-08-05 20:39:09 |     INFO | __main__ | arithmetic 特征发现失败: Cannot convert non-finite values (NA or inf) to integer\n",
      "2025-08-05 20:39:10 |     INFO | __main__ | 发现排名特征...\n",
      "2025-08-05 20:39:16 |     INFO | __main__ | 发现 21 个排名特征\n",
      "2025-08-05 20:39:17 |     INFO | __main__ | ranking 方法发现 27 个特征\n",
      "2025-08-05 20:39:17 |     INFO | __main__ | 发现条件特征...\n",
      "2025-08-05 20:39:18 |     INFO | __main__ | 发现 12 个条件特征\n",
      "2025-08-05 20:39:18 |     INFO | __main__ | conditional 方法发现 12 个特征\n",
      "2025-08-05 20:39:18 |     INFO | __main__ | 发现聚合特征...\n",
      "2025-08-05 20:39:46 |     INFO | __main__ | 发现 14 个聚合特征\n",
      "2025-08-05 20:39:46 |     INFO | __main__ | aggregation 方法发现 14 个特征\n",
      "2025-08-05 20:39:46 |     INFO | __main__ | 自动特征发现完成：188 -> 241 特征\n",
      "2025-08-05 20:39:46 |     INFO | __main__ | 自动特征发现完成：(2427225, 188) -> (2427225, 241)\n",
      "2025-08-05 20:39:46 |     INFO | __main__ | ============================================================\n",
      "2025-08-05 20:39:46 |     INFO | __main__ | 集成特征工程完成\n",
      "2025-08-05 20:39:46 |     INFO | __main__ | 最终结果：(2427225, 103) -> (2427225, 241)\n",
      "2025-08-05 20:39:46 |     INFO | __main__ | 新增特征：138\n",
      "2025-08-05 20:39:46 |     INFO | __main__ | ============================================================\n",
      "2025-08-05 20:39:53 |     INFO | __main__ | 处理完成: ..\\data\\aeroclub-recsys-2025\\processed\\test\\test_segment_0.parquet -> ..\\data\\aeroclub-recsys-2025\\enhanced\\test\\test_segment_0.parquet\n",
      "2025-08-05 20:39:53 |     INFO | __main__ |   形状: (2427225, 103) -> (2427225, 241)\n",
      "2025-08-05 20:39:54 |     INFO | __main__ | ============================================================\n",
      "2025-08-05 20:39:54 |     INFO | __main__ | 开始集成特征工程\n",
      "2025-08-05 20:39:54 |     INFO | __main__ | ============================================================\n",
      "2025-08-05 20:39:54 |     INFO | __main__ | 阶段1：增强特征工程\n",
      "2025-08-05 20:39:54 |     INFO | __main__ | 开始增强特征工程: (4111603, 127)\n",
      "2025-08-05 20:39:54 |     INFO | __main__ | 创建 economic 特征...\n",
      "2025-08-05 20:39:54 |     INFO | __main__ | 创建经济学特征...\n",
      "2025-08-05 20:39:55 |     INFO | __main__ | 创建 behavioral 特征...\n",
      "2025-08-05 20:39:56 |     INFO | __main__ | 创建行为经济学特征...\n",
      "2025-08-05 20:40:01 |     INFO | __main__ | 创建 operational 特征...\n",
      "2025-08-05 20:40:02 |     INFO | __main__ | 创建运营特征...\n",
      "2025-08-05 20:40:04 |     INFO | __main__ | 创建 customer 特征...\n",
      "2025-08-05 20:40:05 |     INFO | __main__ | 创建客户细分特征...\n",
      "2025-08-05 20:40:16 |     INFO | __main__ | 创建 market 特征...\n",
      "2025-08-05 20:40:17 |     INFO | __main__ | 创建市场动态特征...\n",
      "2025-08-05 20:40:19 |     INFO | __main__ | 创建 temporal 特征...\n",
      "2025-08-05 20:40:20 |     INFO | __main__ | 创建时间序列特征...\n",
      "2025-08-05 20:40:20 |     INFO | __main__ | 创建 network 特征...\n",
      "2025-08-05 20:40:21 |     INFO | __main__ | 创建网络结构特征...\n",
      "2025-08-05 20:40:22 |     INFO | __main__ | 创建 competitive 特征...\n",
      "2025-08-05 20:40:22 |     INFO | __main__ | 创建竞争态势特征...\n",
      "2025-08-05 20:40:25 |     INFO | __main__ | 创建 anomaly 特征...\n",
      "2025-08-05 20:40:26 |     INFO | __main__ | 创建异常检测特征...\n",
      "2025-08-05 20:40:26 |     INFO | __main__ | 创建 meta 特征...\n",
      "2025-08-05 20:40:27 |     INFO | __main__ | 创建元特征...\n",
      "2025-08-05 20:40:37 |     INFO | __main__ | 增强特征工程完成: (4111603, 127) -> (4111603, 212)\n",
      "2025-08-05 20:40:37 |     INFO | __main__ | 新增特征: 85\n",
      "2025-08-05 20:40:37 |     INFO | __main__ | 增强特征工程完成：(4111603, 127) -> (4111603, 212)\n",
      "2025-08-05 20:40:37 |     INFO | __main__ | 阶段2：自动特征发现\n",
      "2025-08-05 20:40:38 |     INFO | __main__ | 开始自动特征发现，原始特征数：212\n",
      "2025-08-05 20:40:38 |     INFO | __main__ | 发现算术组合特征...\n",
      "2025-08-05 20:40:40 |     INFO | __main__ | arithmetic 特征发现失败: Cannot convert non-finite values (NA or inf) to integer\n",
      "2025-08-05 20:40:41 |     INFO | __main__ | 发现排名特征...\n",
      "2025-08-05 20:40:54 |     INFO | __main__ | 发现 24 个排名特征\n",
      "2025-08-05 20:40:54 |     INFO | __main__ | ranking 方法发现 28 个特征\n",
      "2025-08-05 20:40:55 |     INFO | __main__ | 发现条件特征...\n",
      "2025-08-05 20:40:56 |     INFO | __main__ | 发现 12 个条件特征\n",
      "2025-08-05 20:40:56 |     INFO | __main__ | conditional 方法发现 12 个特征\n",
      "2025-08-05 20:40:57 |     INFO | __main__ | 发现聚合特征...\n",
      "2025-08-05 20:42:14 |     INFO | __main__ | 发现 14 个聚合特征\n",
      "2025-08-05 20:42:14 |     INFO | __main__ | aggregation 方法发现 14 个特征\n",
      "2025-08-05 20:42:14 |     INFO | __main__ | 自动特征发现完成：212 -> 266 特征\n",
      "2025-08-05 20:42:15 |     INFO | __main__ | 自动特征发现完成：(4111603, 212) -> (4111603, 266)\n",
      "2025-08-05 20:42:15 |     INFO | __main__ | ============================================================\n",
      "2025-08-05 20:42:15 |     INFO | __main__ | 集成特征工程完成\n",
      "2025-08-05 20:42:15 |     INFO | __main__ | 最终结果：(4111603, 127) -> (4111603, 266)\n",
      "2025-08-05 20:42:15 |     INFO | __main__ | 新增特征：139\n",
      "2025-08-05 20:42:15 |     INFO | __main__ | ============================================================\n",
      "2025-08-05 20:42:27 |     INFO | __main__ | 处理完成: ..\\data\\aeroclub-recsys-2025\\processed\\test\\test_segment_1.parquet -> ..\\data\\aeroclub-recsys-2025\\enhanced\\test\\test_segment_1.parquet\n",
      "2025-08-05 20:42:27 |     INFO | __main__ |   形状: (4111603, 127) -> (4111603, 266)\n",
      "2025-08-05 20:42:28 |     INFO | __main__ | ============================================================\n",
      "2025-08-05 20:42:28 |     INFO | __main__ | 开始集成特征工程\n",
      "2025-08-05 20:42:28 |     INFO | __main__ | ============================================================\n",
      "2025-08-05 20:42:28 |     INFO | __main__ | 阶段1：增强特征工程\n",
      "2025-08-05 20:42:28 |     INFO | __main__ | 开始增强特征工程: (358948, 151)\n",
      "2025-08-05 20:42:28 |     INFO | __main__ | 创建 economic 特征...\n",
      "2025-08-05 20:42:28 |     INFO | __main__ | 创建经济学特征...\n",
      "2025-08-05 20:42:28 |     INFO | __main__ | 创建 behavioral 特征...\n",
      "2025-08-05 20:42:28 |     INFO | __main__ | 创建行为经济学特征...\n",
      "2025-08-05 20:42:28 |     INFO | __main__ | 创建 operational 特征...\n",
      "2025-08-05 20:42:28 |     INFO | __main__ | 创建运营特征...\n",
      "2025-08-05 20:42:29 |     INFO | __main__ | 创建 customer 特征...\n",
      "2025-08-05 20:42:29 |     INFO | __main__ | 创建客户细分特征...\n",
      "2025-08-05 20:42:29 |     INFO | __main__ | 创建 market 特征...\n",
      "2025-08-05 20:42:30 |     INFO | __main__ | 创建市场动态特征...\n",
      "2025-08-05 20:42:30 |     INFO | __main__ | 创建 temporal 特征...\n",
      "2025-08-05 20:42:30 |     INFO | __main__ | 创建时间序列特征...\n",
      "2025-08-05 20:42:30 |     INFO | __main__ | 创建 network 特征...\n",
      "2025-08-05 20:42:30 |     INFO | __main__ | 创建网络结构特征...\n",
      "2025-08-05 20:42:30 |     INFO | __main__ | 创建 competitive 特征...\n",
      "2025-08-05 20:42:30 |     INFO | __main__ | 创建竞争态势特征...\n",
      "2025-08-05 20:42:30 |     INFO | __main__ | 创建 anomaly 特征...\n",
      "2025-08-05 20:42:30 |     INFO | __main__ | 创建异常检测特征...\n",
      "2025-08-05 20:42:30 |     INFO | __main__ | 创建 meta 特征...\n",
      "2025-08-05 20:42:30 |     INFO | __main__ | 创建元特征...\n",
      "2025-08-05 20:42:31 |     INFO | __main__ | 增强特征工程完成: (358948, 151) -> (358948, 236)\n",
      "2025-08-05 20:42:31 |     INFO | __main__ | 新增特征: 85\n",
      "2025-08-05 20:42:31 |     INFO | __main__ | 增强特征工程完成：(358948, 151) -> (358948, 236)\n",
      "2025-08-05 20:42:31 |     INFO | __main__ | 阶段2：自动特征发现\n",
      "2025-08-05 20:42:31 |     INFO | __main__ | 开始自动特征发现，原始特征数：236\n",
      "2025-08-05 20:42:31 |     INFO | __main__ | 发现算术组合特征...\n",
      "2025-08-05 20:42:31 |     INFO | __main__ | arithmetic 特征发现失败: Cannot convert non-finite values (NA or inf) to integer\n",
      "2025-08-05 20:42:32 |     INFO | __main__ | 发现排名特征...\n",
      "2025-08-05 20:42:33 |     INFO | __main__ | 发现 24 个排名特征\n",
      "2025-08-05 20:42:33 |     INFO | __main__ | ranking 方法发现 28 个特征\n",
      "2025-08-05 20:42:33 |     INFO | __main__ | 发现条件特征...\n",
      "2025-08-05 20:42:33 |     INFO | __main__ | 发现 12 个条件特征\n",
      "2025-08-05 20:42:33 |     INFO | __main__ | conditional 方法发现 12 个特征\n",
      "2025-08-05 20:42:33 |     INFO | __main__ | 发现聚合特征...\n",
      "2025-08-05 20:42:38 |     INFO | __main__ | 发现 11 个聚合特征\n",
      "2025-08-05 20:42:38 |     INFO | __main__ | aggregation 方法发现 11 个特征\n",
      "2025-08-05 20:42:38 |     INFO | __main__ | 自动特征发现完成：236 -> 287 特征\n",
      "2025-08-05 20:42:38 |     INFO | __main__ | 自动特征发现完成：(358948, 236) -> (358948, 287)\n",
      "2025-08-05 20:42:38 |     INFO | __main__ | ============================================================\n",
      "2025-08-05 20:42:38 |     INFO | __main__ | 集成特征工程完成\n",
      "2025-08-05 20:42:38 |     INFO | __main__ | 最终结果：(358948, 151) -> (358948, 287)\n",
      "2025-08-05 20:42:38 |     INFO | __main__ | 新增特征：136\n",
      "2025-08-05 20:42:38 |     INFO | __main__ | ============================================================\n",
      "2025-08-05 20:42:39 |     INFO | __main__ | 处理完成: ..\\data\\aeroclub-recsys-2025\\processed\\test\\test_segment_2.parquet -> ..\\data\\aeroclub-recsys-2025\\enhanced\\test\\test_segment_2.parquet\n",
      "2025-08-05 20:42:39 |     INFO | __main__ |   形状: (358948, 151) -> (358948, 287)\n",
      "2025-08-05 20:42:39 |     INFO | __main__ | 空文件，跳过: ..\\data\\aeroclub-recsys-2025\\processed\\test\\test_segment_3.parquet\n",
      "2025-08-05 20:42:39 |     INFO | __main__ | 批处理完成: 4/4 个文件成功\n",
      "2025-08-05 20:42:39 |     INFO | __main__ | 特征元数据已保存: ../data/aeroclub-recsys-2025/enhanced/test_feature_metadata.pkl\n"
     ]
    },
    {
     "name": "stdout",
     "output_type": "stream",
     "text": [
      "test 处理总结:\n",
      "  - 原始特征: 151\n",
      "  - 最终特征: 287\n",
      "  - 新增特征: 136\n"
     ]
    },
    {
     "data": {
      "text/plain": [
       "True"
      ]
     },
     "execution_count": 6,
     "metadata": {},
     "output_type": "execute_result"
    }
   ],
   "source": [
    "# 示例用法\n",
    "config = ENHANCED_FEATURE_CONFIG\n",
    "\n",
    "# 初始化集成特征工程\n",
    "integrated_eng = IntegratedDataEngineering(\n",
    "    logger=logger,  # 传入实际的logger\n",
    "    config=config\n",
    ")\n",
    "\n",
    "# 处理单个数据类型的所有segments\n",
    "def process_data_type_enhanced(data_type: str, \n",
    "                                segment_dir: str, \n",
    "                                output_dir: str):\n",
    "    \"\"\"处理单个数据类型\"\"\"\n",
    "    \n",
    "    success = integrated_eng.process_all_segments(\n",
    "        input_dir=f\"{segment_dir}/{data_type}\",\n",
    "        output_dir=f\"{output_dir}/{data_type}\",\n",
    "        data_type=data_type,\n",
    "        enhanced_features=True,\n",
    "        auto_discovery=True,\n",
    "        feature_selection=True,\n",
    "        max_features=200\n",
    "    )\n",
    "    \n",
    "    if success:\n",
    "        # 保存特征元数据\n",
    "        metadata_path = f\"{output_dir}/{data_type}_feature_metadata.pkl\"\n",
    "        integrated_eng.save_feature_metadata(metadata_path)\n",
    "        \n",
    "        # 获取处理总结\n",
    "        summary = integrated_eng.get_comprehensive_summary()\n",
    "        print(f\"{data_type} 处理总结:\")\n",
    "        print(f\"  - 原始特征: {summary['processing_stats'].get('original_shape', [0, 0])[1]}\")\n",
    "        print(f\"  - 最终特征: {summary['processing_stats'].get('final_shape', [0, 0])[1]}\")\n",
    "        print(f\"  - 新增特征: {summary['processing_stats'].get('total_features_added', 0)}\")\n",
    "        \n",
    "        return True\n",
    "    \n",
    "    return False\n",
    "\n",
    "process_data_type_enhanced(\"test\", \"../data/aeroclub-recsys-2025/processed\", \"../data/aeroclub-recsys-2025/enhanced\")"
   ]
  },
  {
   "cell_type": "code",
   "execution_count": 9,
   "metadata": {},
   "outputs": [
    {
     "name": "stdout",
     "output_type": "stream",
     "text": [
      "🚀 开始航班推荐排序流程\n",
      "加载数据...\n"
     ]
    },
    {
     "name": "stderr",
     "output_type": "stream",
     "text": [
      "清理数据: 100%|██████████| 2/2 [00:15<00:00,  7.88s/it]\n"
     ]
    },
    {
     "name": "stdout",
     "output_type": "stream",
     "text": [
      "开始特征选择: 238 -> 150\n"
     ]
    },
    {
     "name": "stderr",
     "output_type": "stream",
     "text": [
      "                                                                \r"
     ]
    },
    {
     "name": "stdout",
     "output_type": "stream",
     "text": [
      "特征选择完成: 6 个特征\n",
      "数据加载完成: 训练集(6089760, 9), 测试集(2427225, 8)\n",
      "📊 分层训练: 19 层, 每层最多 1000 个ranker\n"
     ]
    },
    {
     "name": "stderr",
     "output_type": "stream",
     "text": [
      "总体进度:   0%|          | 0/19 [00:00<?, ?it/s]"
     ]
    },
    {
     "name": "stdout",
     "output_type": "stream",
     "text": [
      "\n",
      "第 1/19 层\n"
     ]
    },
    {
     "name": "stderr",
     "output_type": "stream",
     "text": []
    },
    {
     "name": "stdout",
     "output_type": "stream",
     "text": [
      "Training until validation scores don't improve for 15 rounds\n"
     ]
    },
    {
     "name": "stderr",
     "output_type": "stream",
     "text": [
      "\n"
     ]
    },
    {
     "name": "stdout",
     "output_type": "stream",
     "text": [
      "Early stopping, best iteration is:\n",
      "[7]\tvalid_0's ndcg@3: 0.796523\n"
     ]
    },
    {
     "name": "stderr",
     "output_type": "stream",
     "text": [
      "训练分层(1000 rankers):  67%|██████▋   | 4/6 [00:04<00:02,  1.47s/it, 模型=LightGBM, Fold=2]\u001b[A"
     ]
    },
    {
     "name": "stdout",
     "output_type": "stream",
     "text": [
      "Training until validation scores don't improve for 15 rounds\n"
     ]
    },
    {
     "name": "stderr",
     "output_type": "stream",
     "text": [
      "\n"
     ]
    },
    {
     "name": "stdout",
     "output_type": "stream",
     "text": [
      "Early stopping, best iteration is:\n",
      "[5]\tvalid_0's ndcg@3: 0.808478\n"
     ]
    },
    {
     "name": "stderr",
     "output_type": "stream",
     "text": [
      "训练分层(1000 rankers):  83%|████████▎ | 5/6 [00:06<00:01,  1.66s/it, 模型=LightGBM, Fold=3]\u001b[A"
     ]
    },
    {
     "name": "stdout",
     "output_type": "stream",
     "text": [
      "Training until validation scores don't improve for 15 rounds\n"
     ]
    },
    {
     "name": "stderr",
     "output_type": "stream",
     "text": [
      "训练分层(1000 rankers): 100%|██████████| 6/6 [00:10<00:00,  1.80s/it, 模型=LightGBM, Fold=3]\n",
      "总体进度:   5%|▌         | 1/19 [00:10<03:16, 10.91s/it]"
     ]
    },
    {
     "name": "stdout",
     "output_type": "stream",
     "text": [
      "Early stopping, best iteration is:\n",
      "[37]\tvalid_0's ndcg@3: 0.775471\n",
      "\n",
      "第 2/19 层\n"
     ]
    },
    {
     "name": "stderr",
     "output_type": "stream",
     "text": []
    },
    {
     "name": "stdout",
     "output_type": "stream",
     "text": [
      "Training until validation scores don't improve for 15 rounds\n"
     ]
    },
    {
     "name": "stderr",
     "output_type": "stream",
     "text": []
    },
    {
     "name": "stdout",
     "output_type": "stream",
     "text": [
      "Early stopping, best iteration is:\n",
      "[16]\tvalid_0's ndcg@3: 0.784646\n",
      "Training until validation scores don't improve for 15 rounds\n"
     ]
    },
    {
     "name": "stderr",
     "output_type": "stream",
     "text": [
      "\n"
     ]
    },
    {
     "name": "stdout",
     "output_type": "stream",
     "text": [
      "Early stopping, best iteration is:\n",
      "[38]\tvalid_0's ndcg@3: 0.752934\n"
     ]
    },
    {
     "name": "stderr",
     "output_type": "stream",
     "text": [
      "训练分层(1000 rankers):  83%|████████▎ | 5/6 [00:07<00:02,  2.16s/it, 模型=LightGBM, Fold=3]\u001b[A"
     ]
    },
    {
     "name": "stdout",
     "output_type": "stream",
     "text": [
      "Training until validation scores don't improve for 15 rounds\n"
     ]
    },
    {
     "name": "stderr",
     "output_type": "stream",
     "text": [
      "训练分层(1000 rankers): 100%|██████████| 6/6 [00:11<00:00,  1.98s/it, 模型=LightGBM, Fold=3]\n",
      "总体进度:  11%|█         | 2/19 [00:22<03:17, 11.60s/it]"
     ]
    },
    {
     "name": "stdout",
     "output_type": "stream",
     "text": [
      "Early stopping, best iteration is:\n",
      "[45]\tvalid_0's ndcg@3: 0.799464\n",
      "\n",
      "第 3/19 层\n"
     ]
    },
    {
     "name": "stderr",
     "output_type": "stream",
     "text": []
    },
    {
     "name": "stdout",
     "output_type": "stream",
     "text": [
      "Training until validation scores don't improve for 15 rounds\n"
     ]
    },
    {
     "name": "stderr",
     "output_type": "stream",
     "text": [
      "\n"
     ]
    },
    {
     "name": "stdout",
     "output_type": "stream",
     "text": [
      "Early stopping, best iteration is:\n",
      "[20]\tvalid_0's ndcg@3: 0.819912\n"
     ]
    },
    {
     "name": "stderr",
     "output_type": "stream",
     "text": [
      "训练分层(1000 rankers):  67%|██████▋   | 4/6 [00:04<00:02,  1.39s/it, 模型=LightGBM, Fold=2]\u001b[A"
     ]
    },
    {
     "name": "stdout",
     "output_type": "stream",
     "text": [
      "Training until validation scores don't improve for 15 rounds\n"
     ]
    },
    {
     "name": "stderr",
     "output_type": "stream",
     "text": []
    },
    {
     "name": "stdout",
     "output_type": "stream",
     "text": [
      "Early stopping, best iteration is:\n",
      "[15]\tvalid_0's ndcg@3: 0.776127\n",
      "Training until validation scores don't improve for 15 rounds\n"
     ]
    },
    {
     "name": "stderr",
     "output_type": "stream",
     "text": [
      "训练分层(1000 rankers): 100%|██████████| 6/6 [00:08<00:00,  1.43s/it, 模型=LightGBM, Fold=3]\n",
      "总体进度:  16%|█▌        | 3/19 [00:31<02:44, 10.29s/it]"
     ]
    },
    {
     "name": "stdout",
     "output_type": "stream",
     "text": [
      "Early stopping, best iteration is:\n",
      "[8]\tvalid_0's ndcg@3: 0.78953\n",
      "\n",
      "第 4/19 层\n"
     ]
    },
    {
     "name": "stderr",
     "output_type": "stream",
     "text": []
    },
    {
     "name": "stdout",
     "output_type": "stream",
     "text": [
      "Training until validation scores don't improve for 15 rounds\n"
     ]
    },
    {
     "name": "stderr",
     "output_type": "stream",
     "text": [
      "\n"
     ]
    },
    {
     "name": "stdout",
     "output_type": "stream",
     "text": [
      "Early stopping, best iteration is:\n",
      "[13]\tvalid_0's ndcg@3: 0.77026\n"
     ]
    },
    {
     "name": "stderr",
     "output_type": "stream",
     "text": [
      "训练分层(1000 rankers):  67%|██████▋   | 4/6 [00:03<00:02,  1.20s/it, 模型=LightGBM, Fold=2]\u001b[A"
     ]
    },
    {
     "name": "stdout",
     "output_type": "stream",
     "text": [
      "Training until validation scores don't improve for 15 rounds\n"
     ]
    },
    {
     "name": "stderr",
     "output_type": "stream",
     "text": [
      "\n"
     ]
    },
    {
     "name": "stdout",
     "output_type": "stream",
     "text": [
      "Early stopping, best iteration is:\n",
      "[19]\tvalid_0's ndcg@3: 0.754098\n"
     ]
    },
    {
     "name": "stderr",
     "output_type": "stream",
     "text": [
      "训练分层(1000 rankers):  83%|████████▎ | 5/6 [00:06<00:01,  1.72s/it, 模型=LightGBM, Fold=3]\u001b[A"
     ]
    },
    {
     "name": "stdout",
     "output_type": "stream",
     "text": [
      "Training until validation scores don't improve for 15 rounds\n"
     ]
    },
    {
     "name": "stderr",
     "output_type": "stream",
     "text": [
      "训练分层(1000 rankers): 100%|██████████| 6/6 [00:09<00:00,  1.55s/it, 模型=LightGBM, Fold=3]\n",
      "总体进度:  21%|██        | 4/19 [00:41<02:29,  9.98s/it]"
     ]
    },
    {
     "name": "stdout",
     "output_type": "stream",
     "text": [
      "Early stopping, best iteration is:\n",
      "[21]\tvalid_0's ndcg@3: 0.796619\n",
      "\n",
      "第 5/19 层\n"
     ]
    },
    {
     "name": "stderr",
     "output_type": "stream",
     "text": []
    },
    {
     "name": "stdout",
     "output_type": "stream",
     "text": [
      "Training until validation scores don't improve for 15 rounds\n"
     ]
    },
    {
     "name": "stderr",
     "output_type": "stream",
     "text": []
    },
    {
     "name": "stdout",
     "output_type": "stream",
     "text": [
      "Early stopping, best iteration is:\n",
      "[22]\tvalid_0's ndcg@3: 0.750499\n",
      "Training until validation scores don't improve for 15 rounds\n"
     ]
    },
    {
     "name": "stderr",
     "output_type": "stream",
     "text": []
    },
    {
     "name": "stdout",
     "output_type": "stream",
     "text": [
      "Early stopping, best iteration is:\n",
      "[3]\tvalid_0's ndcg@3: 0.788002\n",
      "Training until validation scores don't improve for 15 rounds\n"
     ]
    },
    {
     "name": "stderr",
     "output_type": "stream",
     "text": [
      "训练分层(1000 rankers): 100%|██████████| 6/6 [00:09<00:00,  1.59s/it, 模型=LightGBM, Fold=3]\n",
      "总体进度:  26%|██▋       | 5/19 [00:50<02:18,  9.89s/it]"
     ]
    },
    {
     "name": "stdout",
     "output_type": "stream",
     "text": [
      "Early stopping, best iteration is:\n",
      "[43]\tvalid_0's ndcg@3: 0.761774\n",
      "\n",
      "第 6/19 层\n"
     ]
    },
    {
     "name": "stderr",
     "output_type": "stream",
     "text": []
    },
    {
     "name": "stdout",
     "output_type": "stream",
     "text": [
      "Training until validation scores don't improve for 15 rounds\n"
     ]
    },
    {
     "name": "stderr",
     "output_type": "stream",
     "text": [
      "\n"
     ]
    },
    {
     "name": "stdout",
     "output_type": "stream",
     "text": [
      "Early stopping, best iteration is:\n",
      "[3]\tvalid_0's ndcg@3: 0.718708\n"
     ]
    },
    {
     "name": "stderr",
     "output_type": "stream",
     "text": [
      "训练分层(1000 rankers):  67%|██████▋   | 4/6 [00:03<00:01,  1.00it/s, 模型=LightGBM, Fold=2]\u001b[A"
     ]
    },
    {
     "name": "stdout",
     "output_type": "stream",
     "text": [
      "Training until validation scores don't improve for 15 rounds\n"
     ]
    },
    {
     "name": "stderr",
     "output_type": "stream",
     "text": [
      "\n"
     ]
    },
    {
     "name": "stdout",
     "output_type": "stream",
     "text": [
      "Early stopping, best iteration is:\n",
      "[30]\tvalid_0's ndcg@3: 0.746779\n"
     ]
    },
    {
     "name": "stderr",
     "output_type": "stream",
     "text": [
      "训练分层(1000 rankers):  83%|████████▎ | 5/6 [00:07<00:02,  2.13s/it, 模型=LightGBM, Fold=3]\u001b[A"
     ]
    },
    {
     "name": "stdout",
     "output_type": "stream",
     "text": [
      "Training until validation scores don't improve for 15 rounds\n"
     ]
    },
    {
     "name": "stderr",
     "output_type": "stream",
     "text": [
      "训练分层(1000 rankers): 100%|██████████| 6/6 [00:09<00:00,  1.62s/it, 模型=LightGBM, Fold=3]\n",
      "总体进度:  32%|███▏      | 6/19 [01:00<02:08,  9.91s/it]"
     ]
    },
    {
     "name": "stdout",
     "output_type": "stream",
     "text": [
      "Early stopping, best iteration is:\n",
      "[8]\tvalid_0's ndcg@3: 0.832098\n",
      "\n",
      "第 7/19 层\n"
     ]
    },
    {
     "name": "stderr",
     "output_type": "stream",
     "text": []
    },
    {
     "name": "stdout",
     "output_type": "stream",
     "text": [
      "Training until validation scores don't improve for 15 rounds\n"
     ]
    },
    {
     "name": "stderr",
     "output_type": "stream",
     "text": [
      "\n"
     ]
    },
    {
     "name": "stdout",
     "output_type": "stream",
     "text": [
      "Early stopping, best iteration is:\n",
      "[38]\tvalid_0's ndcg@3: 0.738232\n"
     ]
    },
    {
     "name": "stderr",
     "output_type": "stream",
     "text": [
      "训练分层(1000 rankers):  67%|██████▋   | 4/6 [00:06<00:04,  2.13s/it, 模型=LightGBM, Fold=2]\u001b[A"
     ]
    },
    {
     "name": "stdout",
     "output_type": "stream",
     "text": [
      "Training until validation scores don't improve for 15 rounds\n"
     ]
    },
    {
     "name": "stderr",
     "output_type": "stream",
     "text": [
      "\n"
     ]
    },
    {
     "name": "stdout",
     "output_type": "stream",
     "text": [
      "Early stopping, best iteration is:\n",
      "[23]\tvalid_0's ndcg@3: 0.794105\n"
     ]
    },
    {
     "name": "stderr",
     "output_type": "stream",
     "text": [
      "训练分层(1000 rankers):  83%|████████▎ | 5/6 [00:09<00:02,  2.65s/it, 模型=LightGBM, Fold=3]\u001b[A"
     ]
    },
    {
     "name": "stdout",
     "output_type": "stream",
     "text": [
      "Training until validation scores don't improve for 15 rounds\n"
     ]
    },
    {
     "name": "stderr",
     "output_type": "stream",
     "text": [
      "训练分层(1000 rankers): 100%|██████████| 6/6 [00:12<00:00,  2.01s/it, 模型=LightGBM, Fold=3]\n",
      "总体进度:  37%|███▋      | 7/19 [01:13<02:08, 10.67s/it]"
     ]
    },
    {
     "name": "stdout",
     "output_type": "stream",
     "text": [
      "Early stopping, best iteration is:\n",
      "[9]\tvalid_0's ndcg@3: 0.757089\n",
      "\n",
      "第 8/19 层\n"
     ]
    },
    {
     "name": "stderr",
     "output_type": "stream",
     "text": []
    },
    {
     "name": "stdout",
     "output_type": "stream",
     "text": [
      "Training until validation scores don't improve for 15 rounds\n"
     ]
    },
    {
     "name": "stderr",
     "output_type": "stream",
     "text": [
      "\n"
     ]
    },
    {
     "name": "stdout",
     "output_type": "stream",
     "text": [
      "Early stopping, best iteration is:\n",
      "[8]\tvalid_0's ndcg@3: 0.775442\n"
     ]
    },
    {
     "name": "stderr",
     "output_type": "stream",
     "text": [
      "训练分层(1000 rankers):  67%|██████▋   | 4/6 [00:03<00:02,  1.12s/it, 模型=LightGBM, Fold=2]\u001b[A"
     ]
    },
    {
     "name": "stdout",
     "output_type": "stream",
     "text": [
      "Training until validation scores don't improve for 15 rounds\n"
     ]
    },
    {
     "name": "stderr",
     "output_type": "stream",
     "text": [
      "\n"
     ]
    },
    {
     "name": "stdout",
     "output_type": "stream",
     "text": [
      "Early stopping, best iteration is:\n",
      "[13]\tvalid_0's ndcg@3: 0.77204\n"
     ]
    },
    {
     "name": "stderr",
     "output_type": "stream",
     "text": [
      "训练分层(1000 rankers):  83%|████████▎ | 5/6 [00:06<00:01,  1.64s/it, 模型=LightGBM, Fold=3]\u001b[A"
     ]
    },
    {
     "name": "stdout",
     "output_type": "stream",
     "text": [
      "Training until validation scores don't improve for 15 rounds\n"
     ]
    },
    {
     "name": "stderr",
     "output_type": "stream",
     "text": [
      "训练分层(1000 rankers): 100%|██████████| 6/6 [00:08<00:00,  1.36s/it, 模型=LightGBM, Fold=3]\n",
      "总体进度:  42%|████▏     | 8/19 [01:21<01:49,  9.95s/it]"
     ]
    },
    {
     "name": "stdout",
     "output_type": "stream",
     "text": [
      "Early stopping, best iteration is:\n",
      "[4]\tvalid_0's ndcg@3: 0.772409\n",
      "\n",
      "第 9/19 层\n"
     ]
    },
    {
     "name": "stderr",
     "output_type": "stream",
     "text": []
    },
    {
     "name": "stdout",
     "output_type": "stream",
     "text": [
      "Training until validation scores don't improve for 15 rounds\n"
     ]
    },
    {
     "name": "stderr",
     "output_type": "stream",
     "text": [
      "\n"
     ]
    },
    {
     "name": "stdout",
     "output_type": "stream",
     "text": [
      "Early stopping, best iteration is:\n",
      "[36]\tvalid_0's ndcg@3: 0.799231\n"
     ]
    },
    {
     "name": "stderr",
     "output_type": "stream",
     "text": [
      "训练分层(1000 rankers):  67%|██████▋   | 4/6 [00:05<00:03,  1.98s/it, 模型=LightGBM, Fold=2]\u001b[A"
     ]
    },
    {
     "name": "stdout",
     "output_type": "stream",
     "text": [
      "Training until validation scores don't improve for 15 rounds\n"
     ]
    },
    {
     "name": "stderr",
     "output_type": "stream",
     "text": [
      "\n"
     ]
    },
    {
     "name": "stdout",
     "output_type": "stream",
     "text": [
      "Early stopping, best iteration is:\n",
      "[30]\tvalid_0's ndcg@3: 0.772081\n"
     ]
    },
    {
     "name": "stderr",
     "output_type": "stream",
     "text": [
      "训练分层(1000 rankers):  83%|████████▎ | 5/6 [00:09<00:02,  2.71s/it, 模型=LightGBM, Fold=3]\u001b[A"
     ]
    },
    {
     "name": "stdout",
     "output_type": "stream",
     "text": [
      "Training until validation scores don't improve for 15 rounds\n"
     ]
    },
    {
     "name": "stderr",
     "output_type": "stream",
     "text": [
      "训练分层(1000 rankers): 100%|██████████| 6/6 [00:12<00:00,  2.04s/it, 模型=LightGBM, Fold=3]\n",
      "总体进度:  47%|████▋     | 9/19 [01:34<01:47, 10.74s/it]"
     ]
    },
    {
     "name": "stdout",
     "output_type": "stream",
     "text": [
      "Early stopping, best iteration is:\n",
      "[12]\tvalid_0's ndcg@3: 0.766644\n",
      "\n",
      "第 10/19 层\n"
     ]
    },
    {
     "name": "stderr",
     "output_type": "stream",
     "text": []
    },
    {
     "name": "stdout",
     "output_type": "stream",
     "text": [
      "Training until validation scores don't improve for 15 rounds\n"
     ]
    },
    {
     "name": "stderr",
     "output_type": "stream",
     "text": [
      "\n"
     ]
    },
    {
     "name": "stdout",
     "output_type": "stream",
     "text": [
      "Early stopping, best iteration is:\n",
      "[28]\tvalid_0's ndcg@3: 0.791561\n"
     ]
    },
    {
     "name": "stderr",
     "output_type": "stream",
     "text": [
      "训练分层(1000 rankers):  67%|██████▋   | 4/6 [00:05<00:03,  1.69s/it, 模型=LightGBM, Fold=2]\u001b[A"
     ]
    },
    {
     "name": "stdout",
     "output_type": "stream",
     "text": [
      "Training until validation scores don't improve for 15 rounds\n"
     ]
    },
    {
     "name": "stderr",
     "output_type": "stream",
     "text": [
      "\n"
     ]
    },
    {
     "name": "stdout",
     "output_type": "stream",
     "text": [
      "Early stopping, best iteration is:\n",
      "[9]\tvalid_0's ndcg@3: 0.787272\n"
     ]
    },
    {
     "name": "stderr",
     "output_type": "stream",
     "text": [
      "训练分层(1000 rankers):  83%|████████▎ | 5/6 [00:07<00:01,  1.88s/it, 模型=LightGBM, Fold=3]\u001b[A"
     ]
    },
    {
     "name": "stdout",
     "output_type": "stream",
     "text": [
      "Training until validation scores don't improve for 15 rounds\n"
     ]
    },
    {
     "name": "stderr",
     "output_type": "stream",
     "text": [
      "训练分层(1000 rankers): 100%|██████████| 6/6 [00:09<00:00,  1.59s/it, 模型=LightGBM, Fold=3]\n",
      "总体进度:  53%|█████▎    | 10/19 [01:43<01:33, 10.43s/it]"
     ]
    },
    {
     "name": "stdout",
     "output_type": "stream",
     "text": [
      "Early stopping, best iteration is:\n",
      "[11]\tvalid_0's ndcg@3: 0.803098\n",
      "\n",
      "第 11/19 层\n"
     ]
    },
    {
     "name": "stderr",
     "output_type": "stream",
     "text": []
    },
    {
     "name": "stdout",
     "output_type": "stream",
     "text": [
      "Training until validation scores don't improve for 15 rounds\n"
     ]
    },
    {
     "name": "stderr",
     "output_type": "stream",
     "text": [
      "\n"
     ]
    },
    {
     "name": "stdout",
     "output_type": "stream",
     "text": [
      "Early stopping, best iteration is:\n",
      "[3]\tvalid_0's ndcg@3: 0.804299\n"
     ]
    },
    {
     "name": "stderr",
     "output_type": "stream",
     "text": [
      "训练分层(1000 rankers):  67%|██████▋   | 4/6 [00:03<00:02,  1.04s/it, 模型=LightGBM, Fold=2]\u001b[A"
     ]
    },
    {
     "name": "stdout",
     "output_type": "stream",
     "text": [
      "Training until validation scores don't improve for 15 rounds\n"
     ]
    },
    {
     "name": "stderr",
     "output_type": "stream",
     "text": [
      "\n"
     ]
    },
    {
     "name": "stdout",
     "output_type": "stream",
     "text": [
      "Early stopping, best iteration is:\n",
      "[7]\tvalid_0's ndcg@3: 0.787573\n"
     ]
    },
    {
     "name": "stderr",
     "output_type": "stream",
     "text": [
      "训练分层(1000 rankers):  83%|████████▎ | 5/6 [00:05<00:01,  1.45s/it, 模型=LightGBM, Fold=3]\u001b[A"
     ]
    },
    {
     "name": "stdout",
     "output_type": "stream",
     "text": [
      "Training until validation scores don't improve for 15 rounds\n"
     ]
    },
    {
     "name": "stderr",
     "output_type": "stream",
     "text": [
      "训练分层(1000 rankers): 100%|██████████| 6/6 [00:07<00:00,  1.28s/it, 模型=LightGBM, Fold=3]\n",
      "总体进度:  58%|█████▊    | 11/19 [01:51<01:17,  9.64s/it]"
     ]
    },
    {
     "name": "stdout",
     "output_type": "stream",
     "text": [
      "Early stopping, best iteration is:\n",
      "[7]\tvalid_0's ndcg@3: 0.773888\n",
      "\n",
      "第 12/19 层\n"
     ]
    },
    {
     "name": "stderr",
     "output_type": "stream",
     "text": []
    },
    {
     "name": "stdout",
     "output_type": "stream",
     "text": [
      "Training until validation scores don't improve for 15 rounds\n"
     ]
    },
    {
     "name": "stderr",
     "output_type": "stream",
     "text": [
      "\n"
     ]
    },
    {
     "name": "stdout",
     "output_type": "stream",
     "text": [
      "Early stopping, best iteration is:\n",
      "[2]\tvalid_0's ndcg@3: 0.765832\n"
     ]
    },
    {
     "name": "stderr",
     "output_type": "stream",
     "text": [
      "训练分层(1000 rankers):  67%|██████▋   | 4/6 [00:03<00:01,  1.05it/s, 模型=LightGBM, Fold=2]\u001b[A"
     ]
    },
    {
     "name": "stdout",
     "output_type": "stream",
     "text": [
      "Training until validation scores don't improve for 15 rounds\n"
     ]
    },
    {
     "name": "stderr",
     "output_type": "stream",
     "text": []
    },
    {
     "name": "stdout",
     "output_type": "stream",
     "text": [
      "Early stopping, best iteration is:\n",
      "[24]\tvalid_0's ndcg@3: 0.761443\n"
     ]
    },
    {
     "name": "stderr",
     "output_type": "stream",
     "text": []
    },
    {
     "name": "stdout",
     "output_type": "stream",
     "text": [
      "Training until validation scores don't improve for 15 rounds\n"
     ]
    },
    {
     "name": "stderr",
     "output_type": "stream",
     "text": [
      "训练分层(1000 rankers): 100%|██████████| 6/6 [00:08<00:00,  1.40s/it, 模型=LightGBM, Fold=3]\n",
      "总体进度:  63%|██████▎   | 12/19 [02:00<01:05,  9.32s/it]"
     ]
    },
    {
     "name": "stdout",
     "output_type": "stream",
     "text": [
      "Early stopping, best iteration is:\n",
      "[1]\tvalid_0's ndcg@3: 0.791408\n",
      "\n",
      "第 13/19 层\n"
     ]
    },
    {
     "name": "stderr",
     "output_type": "stream",
     "text": []
    },
    {
     "name": "stdout",
     "output_type": "stream",
     "text": [
      "Training until validation scores don't improve for 15 rounds\n"
     ]
    },
    {
     "name": "stderr",
     "output_type": "stream",
     "text": []
    },
    {
     "name": "stdout",
     "output_type": "stream",
     "text": [
      "Early stopping, best iteration is:\n",
      "[2]\tvalid_0's ndcg@3: 0.74894\n"
     ]
    },
    {
     "name": "stderr",
     "output_type": "stream",
     "text": []
    },
    {
     "name": "stdout",
     "output_type": "stream",
     "text": [
      "Training until validation scores don't improve for 15 rounds\n"
     ]
    },
    {
     "name": "stderr",
     "output_type": "stream",
     "text": [
      "\n"
     ]
    },
    {
     "name": "stdout",
     "output_type": "stream",
     "text": [
      "Early stopping, best iteration is:\n",
      "[4]\tvalid_0's ndcg@3: 0.766185\n"
     ]
    },
    {
     "name": "stderr",
     "output_type": "stream",
     "text": [
      "训练分层(1000 rankers):  83%|████████▎ | 5/6 [00:05<00:01,  1.41s/it, 模型=LightGBM, Fold=3]\u001b[A"
     ]
    },
    {
     "name": "stdout",
     "output_type": "stream",
     "text": [
      "Training until validation scores don't improve for 15 rounds\n"
     ]
    },
    {
     "name": "stderr",
     "output_type": "stream",
     "text": [
      "训练分层(1000 rankers): 100%|██████████| 6/6 [00:07<00:00,  1.28s/it, 模型=LightGBM, Fold=3]\n",
      "总体进度:  68%|██████▊   | 13/19 [02:08<00:53,  8.88s/it]"
     ]
    },
    {
     "name": "stdout",
     "output_type": "stream",
     "text": [
      "Early stopping, best iteration is:\n",
      "[8]\tvalid_0's ndcg@3: 0.760371\n",
      "\n",
      "第 14/19 层\n"
     ]
    },
    {
     "name": "stderr",
     "output_type": "stream",
     "text": []
    },
    {
     "name": "stdout",
     "output_type": "stream",
     "text": [
      "Training until validation scores don't improve for 15 rounds\n"
     ]
    },
    {
     "name": "stderr",
     "output_type": "stream",
     "text": [
      "\n"
     ]
    },
    {
     "name": "stdout",
     "output_type": "stream",
     "text": [
      "Early stopping, best iteration is:\n",
      "[4]\tvalid_0's ndcg@3: 0.770223\n"
     ]
    },
    {
     "name": "stderr",
     "output_type": "stream",
     "text": [
      "训练分层(1000 rankers):  67%|██████▋   | 4/6 [00:03<00:02,  1.08s/it, 模型=LightGBM, Fold=2]\u001b[A"
     ]
    },
    {
     "name": "stdout",
     "output_type": "stream",
     "text": [
      "Training until validation scores don't improve for 15 rounds\n"
     ]
    },
    {
     "name": "stderr",
     "output_type": "stream",
     "text": [
      "\n"
     ]
    },
    {
     "name": "stdout",
     "output_type": "stream",
     "text": [
      "Early stopping, best iteration is:\n",
      "[14]\tvalid_0's ndcg@3: 0.739496\n"
     ]
    },
    {
     "name": "stderr",
     "output_type": "stream",
     "text": [
      "训练分层(1000 rankers):  83%|████████▎ | 5/6 [00:06<00:01,  1.73s/it, 模型=LightGBM, Fold=3]\u001b[A"
     ]
    },
    {
     "name": "stdout",
     "output_type": "stream",
     "text": [
      "Training until validation scores don't improve for 15 rounds\n"
     ]
    },
    {
     "name": "stderr",
     "output_type": "stream",
     "text": [
      "训练分层(1000 rankers): 100%|██████████| 6/6 [00:08<00:00,  1.41s/it, 模型=LightGBM, Fold=3]\n",
      "总体进度:  74%|███████▎  | 14/19 [02:16<00:44,  8.82s/it]"
     ]
    },
    {
     "name": "stdout",
     "output_type": "stream",
     "text": [
      "Early stopping, best iteration is:\n",
      "[4]\tvalid_0's ndcg@3: 0.780158\n",
      "\n",
      "第 15/19 层\n"
     ]
    },
    {
     "name": "stderr",
     "output_type": "stream",
     "text": []
    },
    {
     "name": "stdout",
     "output_type": "stream",
     "text": [
      "Training until validation scores don't improve for 15 rounds\n"
     ]
    },
    {
     "name": "stderr",
     "output_type": "stream",
     "text": []
    },
    {
     "name": "stdout",
     "output_type": "stream",
     "text": [
      "Early stopping, best iteration is:\n",
      "[5]\tvalid_0's ndcg@3: 0.767227\n"
     ]
    },
    {
     "name": "stderr",
     "output_type": "stream",
     "text": []
    },
    {
     "name": "stdout",
     "output_type": "stream",
     "text": [
      "Training until validation scores don't improve for 15 rounds\n"
     ]
    },
    {
     "name": "stderr",
     "output_type": "stream",
     "text": [
      "\n"
     ]
    },
    {
     "name": "stdout",
     "output_type": "stream",
     "text": [
      "Early stopping, best iteration is:\n",
      "[22]\tvalid_0's ndcg@3: 0.735906\n"
     ]
    },
    {
     "name": "stderr",
     "output_type": "stream",
     "text": [
      "训练分层(1000 rankers):  83%|████████▎ | 5/6 [00:07<00:01,  2.00s/it, 模型=LightGBM, Fold=3]\u001b[A"
     ]
    },
    {
     "name": "stdout",
     "output_type": "stream",
     "text": [
      "Training until validation scores don't improve for 15 rounds\n"
     ]
    },
    {
     "name": "stderr",
     "output_type": "stream",
     "text": [
      "训练分层(1000 rankers): 100%|██████████| 6/6 [00:09<00:00,  1.53s/it, 模型=LightGBM, Fold=3]\n",
      "总体进度:  79%|███████▉  | 15/19 [02:26<00:35,  8.99s/it]"
     ]
    },
    {
     "name": "stdout",
     "output_type": "stream",
     "text": [
      "Early stopping, best iteration is:\n",
      "[6]\tvalid_0's ndcg@3: 0.76408\n",
      "\n",
      "第 16/19 层\n"
     ]
    },
    {
     "name": "stderr",
     "output_type": "stream",
     "text": []
    },
    {
     "name": "stdout",
     "output_type": "stream",
     "text": [
      "Training until validation scores don't improve for 15 rounds\n"
     ]
    },
    {
     "name": "stderr",
     "output_type": "stream",
     "text": []
    },
    {
     "name": "stdout",
     "output_type": "stream",
     "text": [
      "Early stopping, best iteration is:\n",
      "[6]\tvalid_0's ndcg@3: 0.752433\n"
     ]
    },
    {
     "name": "stderr",
     "output_type": "stream",
     "text": []
    },
    {
     "name": "stdout",
     "output_type": "stream",
     "text": [
      "Training until validation scores don't improve for 15 rounds\n"
     ]
    },
    {
     "name": "stderr",
     "output_type": "stream",
     "text": [
      "\n"
     ]
    },
    {
     "name": "stdout",
     "output_type": "stream",
     "text": [
      "Early stopping, best iteration is:\n",
      "[22]\tvalid_0's ndcg@3: 0.745787\n"
     ]
    },
    {
     "name": "stderr",
     "output_type": "stream",
     "text": [
      "训练分层(1000 rankers):  83%|████████▎ | 5/6 [00:07<00:01,  1.93s/it, 模型=LightGBM, Fold=3]\u001b[A"
     ]
    },
    {
     "name": "stdout",
     "output_type": "stream",
     "text": [
      "Training until validation scores don't improve for 15 rounds\n"
     ]
    },
    {
     "name": "stderr",
     "output_type": "stream",
     "text": [
      "训练分层(1000 rankers): 100%|██████████| 6/6 [00:10<00:00,  1.67s/it, 模型=LightGBM, Fold=3]\n",
      "总体进度:  84%|████████▍ | 16/19 [02:36<00:28,  9.37s/it]"
     ]
    },
    {
     "name": "stdout",
     "output_type": "stream",
     "text": [
      "Early stopping, best iteration is:\n",
      "[14]\tvalid_0's ndcg@3: 0.767723\n",
      "\n",
      "第 17/19 层\n"
     ]
    },
    {
     "name": "stderr",
     "output_type": "stream",
     "text": []
    },
    {
     "name": "stdout",
     "output_type": "stream",
     "text": [
      "Training until validation scores don't improve for 15 rounds\n"
     ]
    },
    {
     "name": "stderr",
     "output_type": "stream",
     "text": []
    },
    {
     "name": "stdout",
     "output_type": "stream",
     "text": [
      "Early stopping, best iteration is:\n",
      "[11]\tvalid_0's ndcg@3: 0.761449\n"
     ]
    },
    {
     "name": "stderr",
     "output_type": "stream",
     "text": []
    },
    {
     "name": "stdout",
     "output_type": "stream",
     "text": [
      "Training until validation scores don't improve for 15 rounds\n"
     ]
    },
    {
     "name": "stderr",
     "output_type": "stream",
     "text": [
      "\n"
     ]
    },
    {
     "name": "stdout",
     "output_type": "stream",
     "text": [
      "Early stopping, best iteration is:\n",
      "[11]\tvalid_0's ndcg@3: 0.734501\n"
     ]
    },
    {
     "name": "stderr",
     "output_type": "stream",
     "text": [
      "训练分层(1000 rankers):  83%|████████▎ | 5/6 [00:06<00:01,  1.78s/it, 模型=LightGBM, Fold=3]\u001b[A"
     ]
    },
    {
     "name": "stdout",
     "output_type": "stream",
     "text": [
      "Training until validation scores don't improve for 15 rounds\n"
     ]
    },
    {
     "name": "stderr",
     "output_type": "stream",
     "text": [
      "训练分层(1000 rankers): 100%|██████████| 6/6 [00:10<00:00,  1.72s/it, 模型=LightGBM, Fold=3]\n",
      "总体进度:  89%|████████▉ | 17/19 [02:46<00:19,  9.72s/it]"
     ]
    },
    {
     "name": "stdout",
     "output_type": "stream",
     "text": [
      "Early stopping, best iteration is:\n",
      "[25]\tvalid_0's ndcg@3: 0.793551\n",
      "\n",
      "第 18/19 层\n"
     ]
    },
    {
     "name": "stderr",
     "output_type": "stream",
     "text": []
    },
    {
     "name": "stdout",
     "output_type": "stream",
     "text": [
      "Training until validation scores don't improve for 15 rounds\n"
     ]
    },
    {
     "name": "stderr",
     "output_type": "stream",
     "text": []
    },
    {
     "name": "stdout",
     "output_type": "stream",
     "text": [
      "Early stopping, best iteration is:\n",
      "[2]\tvalid_0's ndcg@3: 0.761829\n"
     ]
    },
    {
     "name": "stderr",
     "output_type": "stream",
     "text": []
    },
    {
     "name": "stdout",
     "output_type": "stream",
     "text": [
      "Training until validation scores don't improve for 15 rounds\n"
     ]
    },
    {
     "name": "stderr",
     "output_type": "stream",
     "text": []
    },
    {
     "name": "stdout",
     "output_type": "stream",
     "text": [
      "Early stopping, best iteration is:\n",
      "[19]\tvalid_0's ndcg@3: 0.775415\n"
     ]
    },
    {
     "name": "stderr",
     "output_type": "stream",
     "text": []
    },
    {
     "name": "stdout",
     "output_type": "stream",
     "text": [
      "Training until validation scores don't improve for 15 rounds\n"
     ]
    },
    {
     "name": "stderr",
     "output_type": "stream",
     "text": [
      "训练分层(1000 rankers): 100%|██████████| 6/6 [00:08<00:00,  1.39s/it, 模型=LightGBM, Fold=3]\n",
      "总体进度:  95%|█████████▍| 18/19 [02:55<00:09,  9.36s/it]"
     ]
    },
    {
     "name": "stdout",
     "output_type": "stream",
     "text": [
      "Early stopping, best iteration is:\n",
      "[3]\tvalid_0's ndcg@3: 0.735859\n",
      "\n",
      "第 19/19 层\n"
     ]
    },
    {
     "name": "stderr",
     "output_type": "stream",
     "text": []
    },
    {
     "name": "stdout",
     "output_type": "stream",
     "text": [
      "Training until validation scores don't improve for 15 rounds\n"
     ]
    },
    {
     "name": "stderr",
     "output_type": "stream",
     "text": []
    },
    {
     "name": "stdout",
     "output_type": "stream",
     "text": [
      "Early stopping, best iteration is:\n",
      "[7]\tvalid_0's ndcg@3: 0.761397\n",
      "Training until validation scores don't improve for 15 rounds\n"
     ]
    },
    {
     "name": "stderr",
     "output_type": "stream",
     "text": []
    },
    {
     "name": "stdout",
     "output_type": "stream",
     "text": [
      "Early stopping, best iteration is:\n",
      "[14]\tvalid_0's ndcg@3: 0.787351\n",
      "Training until validation scores don't improve for 15 rounds\n"
     ]
    },
    {
     "name": "stderr",
     "output_type": "stream",
     "text": [
      "训练分层(560 rankers): 100%|██████████| 6/6 [00:07<00:00,  1.33s/it, 模型=LightGBM, Fold=3]\n",
      "总体进度: 100%|██████████| 19/19 [03:03<00:00,  9.67s/it]\n"
     ]
    },
    {
     "name": "stdout",
     "output_type": "stream",
     "text": [
      "Early stopping, best iteration is:\n",
      "[13]\tvalid_0's ndcg@3: 0.74664\n",
      "\n",
      "🔮 开始预测...\n"
     ]
    },
    {
     "name": "stderr",
     "output_type": "stream",
     "text": [
      "集成预测: 100%|██████████| 2/2 [00:39<00:00, 19.81s/it, 模型=LightGBM]\n",
      "                                                               \r"
     ]
    },
    {
     "name": "stdout",
     "output_type": "stream",
     "text": [
      "✅ 验证排名...\n",
      " 完成! 使用 6 个特征, 3 折交叉验证\n",
      "🚀 开始航班推荐排序流程\n",
      "加载数据...\n"
     ]
    },
    {
     "name": "stderr",
     "output_type": "stream",
     "text": [
      "清理数据: 100%|██████████| 2/2 [00:34<00:00, 17.37s/it]\n"
     ]
    },
    {
     "name": "stdout",
     "output_type": "stream",
     "text": [
      "开始特征选择: 263 -> 150\n"
     ]
    },
    {
     "name": "stderr",
     "output_type": "stream",
     "text": [
      "                                                                \r"
     ]
    },
    {
     "name": "stdout",
     "output_type": "stream",
     "text": [
      "特征选择完成: 12 个特征\n",
      "数据加载完成: 训练集(10865187, 15), 测试集(4111603, 14)\n",
      "📊 分层训练: 67 层, 每层最多 1000 个ranker\n"
     ]
    },
    {
     "name": "stderr",
     "output_type": "stream",
     "text": [
      "总体进度:   0%|          | 0/67 [00:00<?, ?it/s]"
     ]
    },
    {
     "name": "stdout",
     "output_type": "stream",
     "text": [
      "\n",
      "第 1/67 层\n"
     ]
    },
    {
     "name": "stderr",
     "output_type": "stream",
     "text": []
    },
    {
     "name": "stdout",
     "output_type": "stream",
     "text": [
      "Training until validation scores don't improve for 15 rounds\n"
     ]
    },
    {
     "name": "stderr",
     "output_type": "stream",
     "text": []
    },
    {
     "name": "stdout",
     "output_type": "stream",
     "text": [
      "Early stopping, best iteration is:\n",
      "[18]\tvalid_0's ndcg@3: 0.690171\n",
      "Training until validation scores don't improve for 15 rounds\n"
     ]
    },
    {
     "name": "stderr",
     "output_type": "stream",
     "text": []
    },
    {
     "name": "stdout",
     "output_type": "stream",
     "text": [
      "Early stopping, best iteration is:\n",
      "[6]\tvalid_0's ndcg@3: 0.691364\n",
      "Training until validation scores don't improve for 15 rounds\n"
     ]
    },
    {
     "name": "stderr",
     "output_type": "stream",
     "text": [
      "训练分层(1000 rankers): 100%|██████████| 6/6 [00:09<00:00,  1.54s/it, 模型=LightGBM, Fold=3]\n",
      "总体进度:   1%|▏         | 1/67 [00:09<10:22,  9.43s/it]"
     ]
    },
    {
     "name": "stdout",
     "output_type": "stream",
     "text": [
      "Early stopping, best iteration is:\n",
      "[28]\tvalid_0's ndcg@3: 0.704008\n",
      "\n",
      "第 2/67 层\n"
     ]
    },
    {
     "name": "stderr",
     "output_type": "stream",
     "text": []
    },
    {
     "name": "stdout",
     "output_type": "stream",
     "text": [
      "Training until validation scores don't improve for 15 rounds\n"
     ]
    },
    {
     "name": "stderr",
     "output_type": "stream",
     "text": []
    },
    {
     "name": "stdout",
     "output_type": "stream",
     "text": [
      "Early stopping, best iteration is:\n",
      "[9]\tvalid_0's ndcg@3: 0.678358\n",
      "Training until validation scores don't improve for 15 rounds\n"
     ]
    },
    {
     "name": "stderr",
     "output_type": "stream",
     "text": []
    },
    {
     "name": "stdout",
     "output_type": "stream",
     "text": [
      "Early stopping, best iteration is:\n",
      "[47]\tvalid_0's ndcg@3: 0.687089\n",
      "Training until validation scores don't improve for 15 rounds\n"
     ]
    },
    {
     "name": "stderr",
     "output_type": "stream",
     "text": [
      "训练分层(1000 rankers): 100%|██████████| 6/6 [00:09<00:00,  1.62s/it, 模型=LightGBM, Fold=3]\n",
      "总体进度:   3%|▎         | 2/67 [00:19<10:34,  9.76s/it]"
     ]
    },
    {
     "name": "stdout",
     "output_type": "stream",
     "text": [
      "Early stopping, best iteration is:\n",
      "[32]\tvalid_0's ndcg@3: 0.679216\n",
      "\n",
      "第 3/67 层\n"
     ]
    },
    {
     "name": "stderr",
     "output_type": "stream",
     "text": []
    },
    {
     "name": "stdout",
     "output_type": "stream",
     "text": [
      "Training until validation scores don't improve for 15 rounds\n"
     ]
    },
    {
     "name": "stderr",
     "output_type": "stream",
     "text": []
    },
    {
     "name": "stdout",
     "output_type": "stream",
     "text": [
      "Early stopping, best iteration is:\n",
      "[31]\tvalid_0's ndcg@3: 0.676497\n",
      "Training until validation scores don't improve for 15 rounds\n"
     ]
    },
    {
     "name": "stderr",
     "output_type": "stream",
     "text": []
    },
    {
     "name": "stdout",
     "output_type": "stream",
     "text": [
      "Early stopping, best iteration is:\n",
      "[13]\tvalid_0's ndcg@3: 0.681295\n",
      "Training until validation scores don't improve for 15 rounds\n"
     ]
    },
    {
     "name": "stderr",
     "output_type": "stream",
     "text": [
      "训练分层(1000 rankers): 100%|██████████| 6/6 [00:09<00:00,  1.54s/it, 模型=LightGBM, Fold=3]\n",
      "总体进度:   4%|▍         | 3/67 [00:28<10:17,  9.65s/it]"
     ]
    },
    {
     "name": "stdout",
     "output_type": "stream",
     "text": [
      "Early stopping, best iteration is:\n",
      "[36]\tvalid_0's ndcg@3: 0.675176\n",
      "\n",
      "第 4/67 层\n"
     ]
    },
    {
     "name": "stderr",
     "output_type": "stream",
     "text": []
    },
    {
     "name": "stdout",
     "output_type": "stream",
     "text": [
      "Training until validation scores don't improve for 15 rounds\n"
     ]
    },
    {
     "name": "stderr",
     "output_type": "stream",
     "text": []
    },
    {
     "name": "stdout",
     "output_type": "stream",
     "text": [
      "Early stopping, best iteration is:\n",
      "[5]\tvalid_0's ndcg@3: 0.680265\n",
      "Training until validation scores don't improve for 15 rounds\n"
     ]
    },
    {
     "name": "stderr",
     "output_type": "stream",
     "text": []
    },
    {
     "name": "stdout",
     "output_type": "stream",
     "text": [
      "Early stopping, best iteration is:\n",
      "[26]\tvalid_0's ndcg@3: 0.645532\n",
      "Training until validation scores don't improve for 15 rounds\n"
     ]
    },
    {
     "name": "stderr",
     "output_type": "stream",
     "text": [
      "训练分层(1000 rankers): 100%|██████████| 6/6 [00:09<00:00,  1.66s/it, 模型=LightGBM, Fold=3]\n",
      "总体进度:   6%|▌         | 4/67 [00:39<10:22,  9.88s/it]"
     ]
    },
    {
     "name": "stdout",
     "output_type": "stream",
     "text": [
      "Early stopping, best iteration is:\n",
      "[67]\tvalid_0's ndcg@3: 0.662977\n",
      "\n",
      "第 5/67 层\n"
     ]
    },
    {
     "name": "stderr",
     "output_type": "stream",
     "text": []
    },
    {
     "name": "stdout",
     "output_type": "stream",
     "text": [
      "Training until validation scores don't improve for 15 rounds\n"
     ]
    },
    {
     "name": "stderr",
     "output_type": "stream",
     "text": []
    },
    {
     "name": "stdout",
     "output_type": "stream",
     "text": [
      "Early stopping, best iteration is:\n",
      "[34]\tvalid_0's ndcg@3: 0.709764\n",
      "Training until validation scores don't improve for 15 rounds\n"
     ]
    },
    {
     "name": "stderr",
     "output_type": "stream",
     "text": []
    },
    {
     "name": "stdout",
     "output_type": "stream",
     "text": [
      "Early stopping, best iteration is:\n",
      "[11]\tvalid_0's ndcg@3: 0.679747\n",
      "Training until validation scores don't improve for 15 rounds\n"
     ]
    },
    {
     "name": "stderr",
     "output_type": "stream",
     "text": [
      "训练分层(1000 rankers): 100%|██████████| 6/6 [00:09<00:00,  1.57s/it, 模型=LightGBM, Fold=3]\n",
      "总体进度:   7%|▋         | 5/67 [00:48<10:08,  9.81s/it]"
     ]
    },
    {
     "name": "stdout",
     "output_type": "stream",
     "text": [
      "Early stopping, best iteration is:\n",
      "[33]\tvalid_0's ndcg@3: 0.664659\n",
      "\n",
      "第 6/67 层\n"
     ]
    },
    {
     "name": "stderr",
     "output_type": "stream",
     "text": []
    },
    {
     "name": "stdout",
     "output_type": "stream",
     "text": [
      "Training until validation scores don't improve for 15 rounds\n"
     ]
    },
    {
     "name": "stderr",
     "output_type": "stream",
     "text": []
    },
    {
     "name": "stdout",
     "output_type": "stream",
     "text": [
      "Early stopping, best iteration is:\n",
      "[25]\tvalid_0's ndcg@3: 0.68418\n",
      "Training until validation scores don't improve for 15 rounds\n"
     ]
    },
    {
     "name": "stderr",
     "output_type": "stream",
     "text": []
    },
    {
     "name": "stdout",
     "output_type": "stream",
     "text": [
      "Early stopping, best iteration is:\n",
      "[10]\tvalid_0's ndcg@3: 0.692976\n",
      "Training until validation scores don't improve for 15 rounds\n"
     ]
    },
    {
     "name": "stderr",
     "output_type": "stream",
     "text": [
      "训练分层(1000 rankers): 100%|██████████| 6/6 [00:07<00:00,  1.32s/it, 模型=LightGBM, Fold=3]\n",
      "总体进度:   9%|▉         | 6/67 [00:57<09:24,  9.26s/it]"
     ]
    },
    {
     "name": "stdout",
     "output_type": "stream",
     "text": [
      "Early stopping, best iteration is:\n",
      "[9]\tvalid_0's ndcg@3: 0.677635\n",
      "\n",
      "第 7/67 层\n"
     ]
    },
    {
     "name": "stderr",
     "output_type": "stream",
     "text": []
    },
    {
     "name": "stdout",
     "output_type": "stream",
     "text": [
      "Training until validation scores don't improve for 15 rounds\n"
     ]
    },
    {
     "name": "stderr",
     "output_type": "stream",
     "text": []
    },
    {
     "name": "stdout",
     "output_type": "stream",
     "text": [
      "Early stopping, best iteration is:\n",
      "[23]\tvalid_0's ndcg@3: 0.672105\n",
      "Training until validation scores don't improve for 15 rounds\n"
     ]
    },
    {
     "name": "stderr",
     "output_type": "stream",
     "text": []
    },
    {
     "name": "stdout",
     "output_type": "stream",
     "text": [
      "Early stopping, best iteration is:\n",
      "[19]\tvalid_0's ndcg@3: 0.708357\n",
      "Training until validation scores don't improve for 15 rounds\n"
     ]
    },
    {
     "name": "stderr",
     "output_type": "stream",
     "text": [
      "训练分层(1000 rankers): 100%|██████████| 6/6 [00:08<00:00,  1.44s/it, 模型=LightGBM, Fold=3]\n",
      "总体进度:  10%|█         | 7/67 [01:06<09:09,  9.16s/it]"
     ]
    },
    {
     "name": "stdout",
     "output_type": "stream",
     "text": [
      "Early stopping, best iteration is:\n",
      "[9]\tvalid_0's ndcg@3: 0.656341\n",
      "\n",
      "第 8/67 层\n"
     ]
    },
    {
     "name": "stderr",
     "output_type": "stream",
     "text": []
    },
    {
     "name": "stdout",
     "output_type": "stream",
     "text": [
      "Training until validation scores don't improve for 15 rounds\n"
     ]
    },
    {
     "name": "stderr",
     "output_type": "stream",
     "text": []
    },
    {
     "name": "stdout",
     "output_type": "stream",
     "text": [
      "Early stopping, best iteration is:\n",
      "[34]\tvalid_0's ndcg@3: 0.62057\n",
      "Training until validation scores don't improve for 15 rounds\n"
     ]
    },
    {
     "name": "stderr",
     "output_type": "stream",
     "text": []
    },
    {
     "name": "stdout",
     "output_type": "stream",
     "text": [
      "Early stopping, best iteration is:\n",
      "[16]\tvalid_0's ndcg@3: 0.650752\n",
      "Training until validation scores don't improve for 15 rounds\n"
     ]
    },
    {
     "name": "stderr",
     "output_type": "stream",
     "text": [
      "训练分层(1000 rankers): 100%|██████████| 6/6 [00:10<00:00,  1.68s/it, 模型=LightGBM, Fold=3]\n",
      "总体进度:  12%|█▏        | 8/67 [01:16<09:23,  9.54s/it]"
     ]
    },
    {
     "name": "stdout",
     "output_type": "stream",
     "text": [
      "Early stopping, best iteration is:\n",
      "[36]\tvalid_0's ndcg@3: 0.671915\n",
      "\n",
      "第 9/67 层\n"
     ]
    },
    {
     "name": "stderr",
     "output_type": "stream",
     "text": []
    },
    {
     "name": "stdout",
     "output_type": "stream",
     "text": [
      "Training until validation scores don't improve for 15 rounds\n"
     ]
    },
    {
     "name": "stderr",
     "output_type": "stream",
     "text": []
    },
    {
     "name": "stdout",
     "output_type": "stream",
     "text": [
      "Early stopping, best iteration is:\n",
      "[19]\tvalid_0's ndcg@3: 0.697076\n",
      "Training until validation scores don't improve for 15 rounds\n"
     ]
    },
    {
     "name": "stderr",
     "output_type": "stream",
     "text": []
    },
    {
     "name": "stdout",
     "output_type": "stream",
     "text": [
      "Early stopping, best iteration is:\n",
      "[8]\tvalid_0's ndcg@3: 0.677156\n",
      "Training until validation scores don't improve for 15 rounds\n"
     ]
    },
    {
     "name": "stderr",
     "output_type": "stream",
     "text": [
      "训练分层(1000 rankers): 100%|██████████| 6/6 [00:12<00:00,  2.11s/it, 模型=LightGBM, Fold=3]\n",
      "总体进度:  13%|█▎        | 9/67 [01:29<10:16, 10.62s/it]"
     ]
    },
    {
     "name": "stdout",
     "output_type": "stream",
     "text": [
      "Early stopping, best iteration is:\n",
      "[86]\tvalid_0's ndcg@3: 0.694455\n",
      "\n",
      "第 10/67 层\n"
     ]
    },
    {
     "name": "stderr",
     "output_type": "stream",
     "text": []
    },
    {
     "name": "stdout",
     "output_type": "stream",
     "text": [
      "Training until validation scores don't improve for 15 rounds\n"
     ]
    },
    {
     "name": "stderr",
     "output_type": "stream",
     "text": []
    },
    {
     "name": "stdout",
     "output_type": "stream",
     "text": [
      "Early stopping, best iteration is:\n",
      "[16]\tvalid_0's ndcg@3: 0.68998\n",
      "Training until validation scores don't improve for 15 rounds\n"
     ]
    },
    {
     "name": "stderr",
     "output_type": "stream",
     "text": []
    },
    {
     "name": "stdout",
     "output_type": "stream",
     "text": [
      "Early stopping, best iteration is:\n",
      "[31]\tvalid_0's ndcg@3: 0.679322\n",
      "Training until validation scores don't improve for 15 rounds\n"
     ]
    },
    {
     "name": "stderr",
     "output_type": "stream",
     "text": [
      "训练分层(1000 rankers): 100%|██████████| 6/6 [00:10<00:00,  1.70s/it, 模型=LightGBM, Fold=3]\n",
      "总体进度:  15%|█▍        | 10/67 [01:39<10:03, 10.59s/it]"
     ]
    },
    {
     "name": "stdout",
     "output_type": "stream",
     "text": [
      "Early stopping, best iteration is:\n",
      "[29]\tvalid_0's ndcg@3: 0.702038\n",
      "\n",
      "第 11/67 层\n"
     ]
    },
    {
     "name": "stderr",
     "output_type": "stream",
     "text": []
    },
    {
     "name": "stdout",
     "output_type": "stream",
     "text": [
      "Training until validation scores don't improve for 15 rounds\n"
     ]
    },
    {
     "name": "stderr",
     "output_type": "stream",
     "text": []
    },
    {
     "name": "stdout",
     "output_type": "stream",
     "text": [
      "Early stopping, best iteration is:\n",
      "[63]\tvalid_0's ndcg@3: 0.672824\n",
      "Training until validation scores don't improve for 15 rounds\n"
     ]
    },
    {
     "name": "stderr",
     "output_type": "stream",
     "text": [
      "\n"
     ]
    },
    {
     "name": "stdout",
     "output_type": "stream",
     "text": [
      "Early stopping, best iteration is:\n",
      "[25]\tvalid_0's ndcg@3: 0.708207\n"
     ]
    },
    {
     "name": "stderr",
     "output_type": "stream",
     "text": [
      "训练分层(1000 rankers):  83%|████████▎ | 5/6 [00:09<00:02,  2.52s/it, 模型=LightGBM, Fold=3]\u001b[A"
     ]
    },
    {
     "name": "stdout",
     "output_type": "stream",
     "text": [
      "Training until validation scores don't improve for 15 rounds\n"
     ]
    },
    {
     "name": "stderr",
     "output_type": "stream",
     "text": [
      "训练分层(1000 rankers): 100%|██████████| 6/6 [00:12<00:00,  2.08s/it, 模型=LightGBM, Fold=3]\n",
      "总体进度:  16%|█▋        | 11/67 [01:52<10:30, 11.26s/it]"
     ]
    },
    {
     "name": "stdout",
     "output_type": "stream",
     "text": [
      "Early stopping, best iteration is:\n",
      "[28]\tvalid_0's ndcg@3: 0.68685\n",
      "\n",
      "第 12/67 层\n"
     ]
    },
    {
     "name": "stderr",
     "output_type": "stream",
     "text": []
    },
    {
     "name": "stdout",
     "output_type": "stream",
     "text": [
      "Training until validation scores don't improve for 15 rounds\n"
     ]
    },
    {
     "name": "stderr",
     "output_type": "stream",
     "text": []
    },
    {
     "name": "stdout",
     "output_type": "stream",
     "text": [
      "Early stopping, best iteration is:\n",
      "[6]\tvalid_0's ndcg@3: 0.679198\n",
      "Training until validation scores don't improve for 15 rounds\n"
     ]
    },
    {
     "name": "stderr",
     "output_type": "stream",
     "text": []
    },
    {
     "name": "stdout",
     "output_type": "stream",
     "text": [
      "Early stopping, best iteration is:\n",
      "[9]\tvalid_0's ndcg@3: 0.6513\n",
      "Training until validation scores don't improve for 15 rounds\n"
     ]
    },
    {
     "name": "stderr",
     "output_type": "stream",
     "text": [
      "训练分层(1000 rankers): 100%|██████████| 6/6 [00:07<00:00,  1.28s/it, 模型=LightGBM, Fold=3]\n",
      "总体进度:  18%|█▊        | 12/67 [02:00<09:25, 10.27s/it]"
     ]
    },
    {
     "name": "stdout",
     "output_type": "stream",
     "text": [
      "Early stopping, best iteration is:\n",
      "[22]\tvalid_0's ndcg@3: 0.682958\n",
      "\n",
      "第 13/67 层\n"
     ]
    },
    {
     "name": "stderr",
     "output_type": "stream",
     "text": []
    },
    {
     "name": "stdout",
     "output_type": "stream",
     "text": [
      "Training until validation scores don't improve for 15 rounds\n"
     ]
    },
    {
     "name": "stderr",
     "output_type": "stream",
     "text": [
      "\n"
     ]
    },
    {
     "name": "stdout",
     "output_type": "stream",
     "text": [
      "Early stopping, best iteration is:\n",
      "[60]\tvalid_0's ndcg@3: 0.675989\n"
     ]
    },
    {
     "name": "stderr",
     "output_type": "stream",
     "text": [
      "训练分层(1000 rankers):  67%|██████▋   | 4/6 [00:06<00:04,  2.24s/it, 模型=LightGBM, Fold=2]\u001b[A"
     ]
    },
    {
     "name": "stdout",
     "output_type": "stream",
     "text": [
      "Training until validation scores don't improve for 15 rounds\n"
     ]
    },
    {
     "name": "stderr",
     "output_type": "stream",
     "text": []
    },
    {
     "name": "stdout",
     "output_type": "stream",
     "text": [
      "Early stopping, best iteration is:\n",
      "[14]\tvalid_0's ndcg@3: 0.669874\n",
      "Training until validation scores don't improve for 15 rounds\n"
     ]
    },
    {
     "name": "stderr",
     "output_type": "stream",
     "text": [
      "训练分层(1000 rankers): 100%|██████████| 6/6 [00:10<00:00,  1.76s/it, 模型=LightGBM, Fold=3]\n",
      "总体进度:  19%|█▉        | 13/67 [02:11<09:25, 10.47s/it]"
     ]
    },
    {
     "name": "stdout",
     "output_type": "stream",
     "text": [
      "Early stopping, best iteration is:\n",
      "[7]\tvalid_0's ndcg@3: 0.718042\n",
      "\n",
      "第 14/67 层\n"
     ]
    },
    {
     "name": "stderr",
     "output_type": "stream",
     "text": []
    },
    {
     "name": "stdout",
     "output_type": "stream",
     "text": [
      "Training until validation scores don't improve for 15 rounds\n"
     ]
    },
    {
     "name": "stderr",
     "output_type": "stream",
     "text": []
    },
    {
     "name": "stdout",
     "output_type": "stream",
     "text": [
      "Early stopping, best iteration is:\n",
      "[4]\tvalid_0's ndcg@3: 0.664392\n",
      "Training until validation scores don't improve for 15 rounds\n"
     ]
    },
    {
     "name": "stderr",
     "output_type": "stream",
     "text": [
      "\n"
     ]
    },
    {
     "name": "stdout",
     "output_type": "stream",
     "text": [
      "Early stopping, best iteration is:\n",
      "[63]\tvalid_0's ndcg@3: 0.679199\n"
     ]
    },
    {
     "name": "stderr",
     "output_type": "stream",
     "text": [
      "训练分层(1000 rankers):  83%|████████▎ | 5/6 [00:08<00:02,  2.45s/it, 模型=LightGBM, Fold=3]\u001b[A"
     ]
    },
    {
     "name": "stdout",
     "output_type": "stream",
     "text": [
      "Training until validation scores don't improve for 15 rounds\n"
     ]
    },
    {
     "name": "stderr",
     "output_type": "stream",
     "text": [
      "训练分层(1000 rankers): 100%|██████████| 6/6 [00:09<00:00,  1.66s/it, 模型=LightGBM, Fold=3]\n",
      "总体进度:  21%|██        | 14/67 [02:21<09:11, 10.40s/it]"
     ]
    },
    {
     "name": "stdout",
     "output_type": "stream",
     "text": [
      "Early stopping, best iteration is:\n",
      "[5]\tvalid_0's ndcg@3: 0.680319\n",
      "\n",
      "第 15/67 层\n"
     ]
    },
    {
     "name": "stderr",
     "output_type": "stream",
     "text": []
    },
    {
     "name": "stdout",
     "output_type": "stream",
     "text": [
      "Training until validation scores don't improve for 15 rounds\n"
     ]
    },
    {
     "name": "stderr",
     "output_type": "stream",
     "text": [
      "\n"
     ]
    },
    {
     "name": "stdout",
     "output_type": "stream",
     "text": [
      "Early stopping, best iteration is:\n",
      "[4]\tvalid_0's ndcg@3: 0.716127\n"
     ]
    },
    {
     "name": "stderr",
     "output_type": "stream",
     "text": [
      "训练分层(1000 rankers):  67%|██████▋   | 4/6 [00:03<00:01,  1.05it/s, 模型=LightGBM, Fold=2]\u001b[A"
     ]
    },
    {
     "name": "stdout",
     "output_type": "stream",
     "text": [
      "Training until validation scores don't improve for 15 rounds\n"
     ]
    },
    {
     "name": "stderr",
     "output_type": "stream",
     "text": [
      "\n"
     ]
    },
    {
     "name": "stdout",
     "output_type": "stream",
     "text": [
      "Early stopping, best iteration is:\n",
      "[18]\tvalid_0's ndcg@3: 0.749359\n"
     ]
    },
    {
     "name": "stderr",
     "output_type": "stream",
     "text": [
      "训练分层(1000 rankers):  83%|████████▎ | 5/6 [00:05<00:01,  1.61s/it, 模型=LightGBM, Fold=3]\u001b[A"
     ]
    },
    {
     "name": "stdout",
     "output_type": "stream",
     "text": [
      "Training until validation scores don't improve for 15 rounds\n"
     ]
    },
    {
     "name": "stderr",
     "output_type": "stream",
     "text": [
      "训练分层(1000 rankers): 100%|██████████| 6/6 [00:07<00:00,  1.31s/it, 模型=LightGBM, Fold=3]\n",
      "总体进度:  22%|██▏       | 15/67 [02:30<08:26,  9.74s/it]"
     ]
    },
    {
     "name": "stdout",
     "output_type": "stream",
     "text": [
      "Early stopping, best iteration is:\n",
      "[8]\tvalid_0's ndcg@3: 0.706558\n",
      "\n",
      "第 16/67 层\n"
     ]
    },
    {
     "name": "stderr",
     "output_type": "stream",
     "text": []
    },
    {
     "name": "stdout",
     "output_type": "stream",
     "text": [
      "Training until validation scores don't improve for 15 rounds\n"
     ]
    },
    {
     "name": "stderr",
     "output_type": "stream",
     "text": []
    },
    {
     "name": "stdout",
     "output_type": "stream",
     "text": [
      "Early stopping, best iteration is:\n",
      "[32]\tvalid_0's ndcg@3: 0.686254\n",
      "Training until validation scores don't improve for 15 rounds\n"
     ]
    },
    {
     "name": "stderr",
     "output_type": "stream",
     "text": []
    },
    {
     "name": "stdout",
     "output_type": "stream",
     "text": [
      "Early stopping, best iteration is:\n",
      "[53]\tvalid_0's ndcg@3: 0.683064\n",
      "Training until validation scores don't improve for 15 rounds\n"
     ]
    },
    {
     "name": "stderr",
     "output_type": "stream",
     "text": [
      "训练分层(1000 rankers): 100%|██████████| 6/6 [00:11<00:00,  1.97s/it, 模型=LightGBM, Fold=3]\n",
      "总体进度:  24%|██▍       | 16/67 [02:42<08:53, 10.46s/it]"
     ]
    },
    {
     "name": "stdout",
     "output_type": "stream",
     "text": [
      "Early stopping, best iteration is:\n",
      "[13]\tvalid_0's ndcg@3: 0.679624\n",
      "\n",
      "第 17/67 层\n"
     ]
    },
    {
     "name": "stderr",
     "output_type": "stream",
     "text": []
    },
    {
     "name": "stdout",
     "output_type": "stream",
     "text": [
      "Training until validation scores don't improve for 15 rounds\n"
     ]
    },
    {
     "name": "stderr",
     "output_type": "stream",
     "text": [
      "\n"
     ]
    },
    {
     "name": "stdout",
     "output_type": "stream",
     "text": [
      "Early stopping, best iteration is:\n",
      "[31]\tvalid_0's ndcg@3: 0.712308\n"
     ]
    },
    {
     "name": "stderr",
     "output_type": "stream",
     "text": [
      "训练分层(1000 rankers):  67%|██████▋   | 4/6 [00:05<00:03,  1.76s/it, 模型=LightGBM, Fold=2]\u001b[A"
     ]
    },
    {
     "name": "stdout",
     "output_type": "stream",
     "text": [
      "Training until validation scores don't improve for 15 rounds\n"
     ]
    },
    {
     "name": "stderr",
     "output_type": "stream",
     "text": []
    },
    {
     "name": "stdout",
     "output_type": "stream",
     "text": [
      "Early stopping, best iteration is:\n",
      "[9]\tvalid_0's ndcg@3: 0.705051\n",
      "Training until validation scores don't improve for 15 rounds\n"
     ]
    },
    {
     "name": "stderr",
     "output_type": "stream",
     "text": [
      "训练分层(1000 rankers): 100%|██████████| 6/6 [00:09<00:00,  1.64s/it, 模型=LightGBM, Fold=3]\n",
      "总体进度:  25%|██▌       | 17/67 [02:52<08:38, 10.37s/it]"
     ]
    },
    {
     "name": "stdout",
     "output_type": "stream",
     "text": [
      "Early stopping, best iteration is:\n",
      "[16]\tvalid_0's ndcg@3: 0.687562\n",
      "\n",
      "第 18/67 层\n"
     ]
    },
    {
     "name": "stderr",
     "output_type": "stream",
     "text": []
    },
    {
     "name": "stdout",
     "output_type": "stream",
     "text": [
      "Training until validation scores don't improve for 15 rounds\n"
     ]
    },
    {
     "name": "stderr",
     "output_type": "stream",
     "text": []
    },
    {
     "name": "stdout",
     "output_type": "stream",
     "text": [
      "Early stopping, best iteration is:\n",
      "[9]\tvalid_0's ndcg@3: 0.665905\n",
      "Training until validation scores don't improve for 15 rounds\n"
     ]
    },
    {
     "name": "stderr",
     "output_type": "stream",
     "text": [
      "\n"
     ]
    },
    {
     "name": "stdout",
     "output_type": "stream",
     "text": [
      "Early stopping, best iteration is:\n",
      "[58]\tvalid_0's ndcg@3: 0.658888\n"
     ]
    },
    {
     "name": "stderr",
     "output_type": "stream",
     "text": [
      "训练分层(1000 rankers):  83%|████████▎ | 5/6 [00:09<00:02,  2.68s/it, 模型=LightGBM, Fold=3]\u001b[A"
     ]
    },
    {
     "name": "stdout",
     "output_type": "stream",
     "text": [
      "Training until validation scores don't improve for 15 rounds\n"
     ]
    },
    {
     "name": "stderr",
     "output_type": "stream",
     "text": [
      "训练分层(1000 rankers): 100%|██████████| 6/6 [00:12<00:00,  2.10s/it, 模型=LightGBM, Fold=3]\n",
      "总体进度:  27%|██▋       | 18/67 [03:05<09:06, 11.15s/it]"
     ]
    },
    {
     "name": "stdout",
     "output_type": "stream",
     "text": [
      "Early stopping, best iteration is:\n",
      "[27]\tvalid_0's ndcg@3: 0.668381\n",
      "\n",
      "第 19/67 层\n"
     ]
    },
    {
     "name": "stderr",
     "output_type": "stream",
     "text": []
    },
    {
     "name": "stdout",
     "output_type": "stream",
     "text": [
      "Training until validation scores don't improve for 15 rounds\n"
     ]
    },
    {
     "name": "stderr",
     "output_type": "stream",
     "text": [
      "\n"
     ]
    },
    {
     "name": "stdout",
     "output_type": "stream",
     "text": [
      "Early stopping, best iteration is:\n",
      "[25]\tvalid_0's ndcg@3: 0.691361\n"
     ]
    },
    {
     "name": "stderr",
     "output_type": "stream",
     "text": [
      "训练分层(1000 rankers):  67%|██████▋   | 4/6 [00:05<00:03,  1.63s/it, 模型=LightGBM, Fold=2]\u001b[A"
     ]
    },
    {
     "name": "stdout",
     "output_type": "stream",
     "text": [
      "Training until validation scores don't improve for 15 rounds\n"
     ]
    },
    {
     "name": "stderr",
     "output_type": "stream",
     "text": [
      "\n"
     ]
    },
    {
     "name": "stdout",
     "output_type": "stream",
     "text": [
      "Early stopping, best iteration is:\n",
      "[38]\tvalid_0's ndcg@3: 0.67231\n"
     ]
    },
    {
     "name": "stderr",
     "output_type": "stream",
     "text": [
      "训练分层(1000 rankers):  83%|████████▎ | 5/6 [00:09<00:02,  2.61s/it, 模型=LightGBM, Fold=3]\u001b[A"
     ]
    },
    {
     "name": "stdout",
     "output_type": "stream",
     "text": [
      "Training until validation scores don't improve for 15 rounds\n"
     ]
    },
    {
     "name": "stderr",
     "output_type": "stream",
     "text": [
      "训练分层(1000 rankers): 100%|██████████| 6/6 [00:12<00:00,  2.11s/it, 模型=LightGBM, Fold=3]\n",
      "总体进度:  28%|██▊       | 19/67 [03:18<09:22, 11.71s/it]"
     ]
    },
    {
     "name": "stdout",
     "output_type": "stream",
     "text": [
      "Early stopping, best iteration is:\n",
      "[24]\tvalid_0's ndcg@3: 0.658985\n",
      "\n",
      "第 20/67 层\n"
     ]
    },
    {
     "name": "stderr",
     "output_type": "stream",
     "text": []
    },
    {
     "name": "stdout",
     "output_type": "stream",
     "text": [
      "Training until validation scores don't improve for 15 rounds\n"
     ]
    },
    {
     "name": "stderr",
     "output_type": "stream",
     "text": [
      "\n"
     ]
    },
    {
     "name": "stdout",
     "output_type": "stream",
     "text": [
      "Early stopping, best iteration is:\n",
      "[16]\tvalid_0's ndcg@3: 0.669772\n"
     ]
    },
    {
     "name": "stderr",
     "output_type": "stream",
     "text": [
      "训练分层(1000 rankers):  67%|██████▋   | 4/6 [00:04<00:02,  1.35s/it, 模型=LightGBM, Fold=2]\u001b[A"
     ]
    },
    {
     "name": "stdout",
     "output_type": "stream",
     "text": [
      "Training until validation scores don't improve for 15 rounds\n"
     ]
    },
    {
     "name": "stderr",
     "output_type": "stream",
     "text": [
      "\n"
     ]
    },
    {
     "name": "stdout",
     "output_type": "stream",
     "text": [
      "Early stopping, best iteration is:\n",
      "[7]\tvalid_0's ndcg@3: 0.629156\n"
     ]
    },
    {
     "name": "stderr",
     "output_type": "stream",
     "text": [
      "训练分层(1000 rankers):  83%|████████▎ | 5/6 [00:06<00:01,  1.61s/it, 模型=LightGBM, Fold=3]\u001b[A"
     ]
    },
    {
     "name": "stdout",
     "output_type": "stream",
     "text": [
      "Training until validation scores don't improve for 15 rounds\n"
     ]
    },
    {
     "name": "stderr",
     "output_type": "stream",
     "text": [
      "训练分层(1000 rankers): 100%|██████████| 6/6 [00:09<00:00,  1.51s/it, 模型=LightGBM, Fold=3]\n",
      "总体进度:  30%|██▉       | 20/67 [03:27<08:37, 11.01s/it]"
     ]
    },
    {
     "name": "stdout",
     "output_type": "stream",
     "text": [
      "Early stopping, best iteration is:\n",
      "[17]\tvalid_0's ndcg@3: 0.638853\n",
      "\n",
      "第 21/67 层\n"
     ]
    },
    {
     "name": "stderr",
     "output_type": "stream",
     "text": []
    },
    {
     "name": "stdout",
     "output_type": "stream",
     "text": [
      "Training until validation scores don't improve for 15 rounds\n"
     ]
    },
    {
     "name": "stderr",
     "output_type": "stream",
     "text": [
      "\n",
      "训练分层(1000 rankers):  67%|██████▋   | 4/6 [00:03<00:02,  1.04s/it, 模型=LightGBM, Fold=2]"
     ]
    },
    {
     "name": "stdout",
     "output_type": "stream",
     "text": [
      "Early stopping, best iteration is:\n",
      "[3]\tvalid_0's ndcg@3: 0.696116\n"
     ]
    },
    {
     "name": "stderr",
     "output_type": "stream",
     "text": [
      "\u001b[A"
     ]
    },
    {
     "name": "stdout",
     "output_type": "stream",
     "text": [
      "Training until validation scores don't improve for 15 rounds\n"
     ]
    },
    {
     "name": "stderr",
     "output_type": "stream",
     "text": []
    },
    {
     "name": "stdout",
     "output_type": "stream",
     "text": [
      "Early stopping, best iteration is:\n",
      "[31]\tvalid_0's ndcg@3: 0.717331\n"
     ]
    },
    {
     "name": "stderr",
     "output_type": "stream",
     "text": []
    },
    {
     "name": "stdout",
     "output_type": "stream",
     "text": [
      "Training until validation scores don't improve for 15 rounds\n"
     ]
    },
    {
     "name": "stderr",
     "output_type": "stream",
     "text": [
      "训练分层(1000 rankers): 100%|██████████| 6/6 [00:09<00:00,  1.57s/it, 模型=LightGBM, Fold=3]\n",
      "总体进度:  31%|███▏      | 21/67 [03:37<08:09, 10.63s/it]"
     ]
    },
    {
     "name": "stdout",
     "output_type": "stream",
     "text": [
      "Early stopping, best iteration is:\n",
      "[11]\tvalid_0's ndcg@3: 0.682063\n",
      "\n",
      "第 22/67 层\n"
     ]
    },
    {
     "name": "stderr",
     "output_type": "stream",
     "text": []
    },
    {
     "name": "stdout",
     "output_type": "stream",
     "text": [
      "Training until validation scores don't improve for 15 rounds\n"
     ]
    },
    {
     "name": "stderr",
     "output_type": "stream",
     "text": [
      "\n"
     ]
    },
    {
     "name": "stdout",
     "output_type": "stream",
     "text": [
      "Early stopping, best iteration is:\n",
      "[7]\tvalid_0's ndcg@3: 0.724798\n"
     ]
    },
    {
     "name": "stderr",
     "output_type": "stream",
     "text": [
      "训练分层(1000 rankers):  67%|██████▋   | 4/6 [00:03<00:01,  1.00it/s, 模型=LightGBM, Fold=2]\u001b[A"
     ]
    },
    {
     "name": "stdout",
     "output_type": "stream",
     "text": [
      "Training until validation scores don't improve for 15 rounds\n"
     ]
    },
    {
     "name": "stderr",
     "output_type": "stream",
     "text": []
    },
    {
     "name": "stdout",
     "output_type": "stream",
     "text": [
      "Early stopping, best iteration is:\n",
      "[15]\tvalid_0's ndcg@3: 0.692216\n",
      "Training until validation scores don't improve for 15 rounds\n"
     ]
    },
    {
     "name": "stderr",
     "output_type": "stream",
     "text": [
      "训练分层(1000 rankers): 100%|██████████| 6/6 [00:07<00:00,  1.23s/it, 模型=LightGBM, Fold=3]\n",
      "总体进度:  33%|███▎      | 22/67 [03:45<07:20,  9.78s/it]"
     ]
    },
    {
     "name": "stdout",
     "output_type": "stream",
     "text": [
      "Early stopping, best iteration is:\n",
      "[5]\tvalid_0's ndcg@3: 0.720437\n",
      "\n",
      "第 23/67 层\n"
     ]
    },
    {
     "name": "stderr",
     "output_type": "stream",
     "text": []
    },
    {
     "name": "stdout",
     "output_type": "stream",
     "text": [
      "Training until validation scores don't improve for 15 rounds\n"
     ]
    },
    {
     "name": "stderr",
     "output_type": "stream",
     "text": []
    },
    {
     "name": "stdout",
     "output_type": "stream",
     "text": [
      "Early stopping, best iteration is:\n",
      "[5]\tvalid_0's ndcg@3: 0.707804\n",
      "Training until validation scores don't improve for 15 rounds\n"
     ]
    },
    {
     "name": "stderr",
     "output_type": "stream",
     "text": []
    },
    {
     "name": "stdout",
     "output_type": "stream",
     "text": [
      "Early stopping, best iteration is:\n",
      "[11]\tvalid_0's ndcg@3: 0.681168\n",
      "Training until validation scores don't improve for 15 rounds\n"
     ]
    },
    {
     "name": "stderr",
     "output_type": "stream",
     "text": [
      "训练分层(1000 rankers): 100%|██████████| 6/6 [00:08<00:00,  1.38s/it, 模型=LightGBM, Fold=3]\n",
      "总体进度:  34%|███▍      | 23/67 [03:53<06:54,  9.43s/it]"
     ]
    },
    {
     "name": "stdout",
     "output_type": "stream",
     "text": [
      "Early stopping, best iteration is:\n",
      "[19]\tvalid_0's ndcg@3: 0.707022\n",
      "\n",
      "第 24/67 层\n"
     ]
    },
    {
     "name": "stderr",
     "output_type": "stream",
     "text": []
    },
    {
     "name": "stdout",
     "output_type": "stream",
     "text": [
      "Training until validation scores don't improve for 15 rounds\n"
     ]
    },
    {
     "name": "stderr",
     "output_type": "stream",
     "text": []
    },
    {
     "name": "stdout",
     "output_type": "stream",
     "text": [
      "Early stopping, best iteration is:\n",
      "[37]\tvalid_0's ndcg@3: 0.706046\n",
      "Training until validation scores don't improve for 15 rounds\n"
     ]
    },
    {
     "name": "stderr",
     "output_type": "stream",
     "text": []
    },
    {
     "name": "stdout",
     "output_type": "stream",
     "text": [
      "Early stopping, best iteration is:\n",
      "[2]\tvalid_0's ndcg@3: 0.668685\n",
      "Training until validation scores don't improve for 15 rounds\n"
     ]
    },
    {
     "name": "stderr",
     "output_type": "stream",
     "text": [
      "训练分层(1000 rankers): 100%|██████████| 6/6 [00:08<00:00,  1.39s/it, 模型=LightGBM, Fold=3]\n",
      "总体进度:  36%|███▌      | 24/67 [04:02<06:35,  9.21s/it]"
     ]
    },
    {
     "name": "stdout",
     "output_type": "stream",
     "text": [
      "Early stopping, best iteration is:\n",
      "[3]\tvalid_0's ndcg@3: 0.684293\n",
      "\n",
      "第 25/67 层\n"
     ]
    },
    {
     "name": "stderr",
     "output_type": "stream",
     "text": []
    },
    {
     "name": "stdout",
     "output_type": "stream",
     "text": [
      "Training until validation scores don't improve for 15 rounds\n"
     ]
    },
    {
     "name": "stderr",
     "output_type": "stream",
     "text": []
    },
    {
     "name": "stdout",
     "output_type": "stream",
     "text": [
      "Early stopping, best iteration is:\n",
      "[15]\tvalid_0's ndcg@3: 0.669244\n",
      "Training until validation scores don't improve for 15 rounds\n"
     ]
    },
    {
     "name": "stderr",
     "output_type": "stream",
     "text": []
    },
    {
     "name": "stdout",
     "output_type": "stream",
     "text": [
      "Early stopping, best iteration is:\n",
      "[7]\tvalid_0's ndcg@3: 0.677615\n",
      "Training until validation scores don't improve for 15 rounds\n"
     ]
    },
    {
     "name": "stderr",
     "output_type": "stream",
     "text": [
      "训练分层(1000 rankers): 100%|██████████| 6/6 [00:08<00:00,  1.42s/it, 模型=LightGBM, Fold=3]\n",
      "总体进度:  37%|███▋      | 25/67 [04:11<06:21,  9.09s/it]"
     ]
    },
    {
     "name": "stdout",
     "output_type": "stream",
     "text": [
      "Early stopping, best iteration is:\n",
      "[19]\tvalid_0's ndcg@3: 0.697786\n",
      "\n",
      "第 26/67 层\n"
     ]
    },
    {
     "name": "stderr",
     "output_type": "stream",
     "text": []
    },
    {
     "name": "stdout",
     "output_type": "stream",
     "text": [
      "Training until validation scores don't improve for 15 rounds\n"
     ]
    },
    {
     "name": "stderr",
     "output_type": "stream",
     "text": []
    },
    {
     "name": "stdout",
     "output_type": "stream",
     "text": [
      "Early stopping, best iteration is:\n",
      "[17]\tvalid_0's ndcg@3: 0.667042\n",
      "Training until validation scores don't improve for 15 rounds\n"
     ]
    },
    {
     "name": "stderr",
     "output_type": "stream",
     "text": []
    },
    {
     "name": "stdout",
     "output_type": "stream",
     "text": [
      "Early stopping, best iteration is:\n",
      "[18]\tvalid_0's ndcg@3: 0.681115\n",
      "Training until validation scores don't improve for 15 rounds\n"
     ]
    },
    {
     "name": "stderr",
     "output_type": "stream",
     "text": [
      "训练分层(1000 rankers): 100%|██████████| 6/6 [00:09<00:00,  1.55s/it, 模型=LightGBM, Fold=3]\n",
      "总体进度:  39%|███▉      | 26/67 [04:21<06:19,  9.27s/it]"
     ]
    },
    {
     "name": "stdout",
     "output_type": "stream",
     "text": [
      "Early stopping, best iteration is:\n",
      "[19]\tvalid_0's ndcg@3: 0.672104\n",
      "\n",
      "第 27/67 层\n"
     ]
    },
    {
     "name": "stderr",
     "output_type": "stream",
     "text": []
    },
    {
     "name": "stdout",
     "output_type": "stream",
     "text": [
      "Training until validation scores don't improve for 15 rounds\n"
     ]
    },
    {
     "name": "stderr",
     "output_type": "stream",
     "text": []
    },
    {
     "name": "stdout",
     "output_type": "stream",
     "text": [
      "Early stopping, best iteration is:\n",
      "[10]\tvalid_0's ndcg@3: 0.692585\n",
      "Training until validation scores don't improve for 15 rounds\n"
     ]
    },
    {
     "name": "stderr",
     "output_type": "stream",
     "text": []
    },
    {
     "name": "stdout",
     "output_type": "stream",
     "text": [
      "Early stopping, best iteration is:\n",
      "[15]\tvalid_0's ndcg@3: 0.684919\n",
      "Training until validation scores don't improve for 15 rounds\n"
     ]
    },
    {
     "name": "stderr",
     "output_type": "stream",
     "text": [
      "训练分层(1000 rankers): 100%|██████████| 6/6 [00:08<00:00,  1.40s/it, 模型=LightGBM, Fold=3]\n",
      "总体进度:  40%|████      | 27/67 [04:29<06:04,  9.11s/it]"
     ]
    },
    {
     "name": "stdout",
     "output_type": "stream",
     "text": [
      "Early stopping, best iteration is:\n",
      "[21]\tvalid_0's ndcg@3: 0.701432\n",
      "\n",
      "第 28/67 层\n"
     ]
    },
    {
     "name": "stderr",
     "output_type": "stream",
     "text": []
    },
    {
     "name": "stdout",
     "output_type": "stream",
     "text": [
      "Training until validation scores don't improve for 15 rounds\n"
     ]
    },
    {
     "name": "stderr",
     "output_type": "stream",
     "text": []
    },
    {
     "name": "stdout",
     "output_type": "stream",
     "text": [
      "Early stopping, best iteration is:\n",
      "[14]\tvalid_0's ndcg@3: 0.685535\n",
      "Training until validation scores don't improve for 15 rounds\n"
     ]
    },
    {
     "name": "stderr",
     "output_type": "stream",
     "text": []
    },
    {
     "name": "stdout",
     "output_type": "stream",
     "text": [
      "Early stopping, best iteration is:\n",
      "[27]\tvalid_0's ndcg@3: 0.638982\n",
      "Training until validation scores don't improve for 15 rounds\n"
     ]
    },
    {
     "name": "stderr",
     "output_type": "stream",
     "text": [
      "训练分层(1000 rankers): 100%|██████████| 6/6 [00:09<00:00,  1.60s/it, 模型=LightGBM, Fold=3]\n",
      "总体进度:  42%|████▏     | 28/67 [04:39<06:04,  9.34s/it]"
     ]
    },
    {
     "name": "stdout",
     "output_type": "stream",
     "text": [
      "Early stopping, best iteration is:\n",
      "[21]\tvalid_0's ndcg@3: 0.661865\n",
      "\n",
      "第 29/67 层\n"
     ]
    },
    {
     "name": "stderr",
     "output_type": "stream",
     "text": []
    },
    {
     "name": "stdout",
     "output_type": "stream",
     "text": [
      "Training until validation scores don't improve for 15 rounds\n"
     ]
    },
    {
     "name": "stderr",
     "output_type": "stream",
     "text": []
    },
    {
     "name": "stdout",
     "output_type": "stream",
     "text": [
      "Early stopping, best iteration is:\n",
      "[11]\tvalid_0's ndcg@3: 0.675252\n",
      "Training until validation scores don't improve for 15 rounds\n"
     ]
    },
    {
     "name": "stderr",
     "output_type": "stream",
     "text": []
    },
    {
     "name": "stdout",
     "output_type": "stream",
     "text": [
      "Early stopping, best iteration is:\n",
      "[32]\tvalid_0's ndcg@3: 0.693749\n",
      "Training until validation scores don't improve for 15 rounds\n"
     ]
    },
    {
     "name": "stderr",
     "output_type": "stream",
     "text": [
      "训练分层(1000 rankers): 100%|██████████| 6/6 [00:09<00:00,  1.53s/it, 模型=LightGBM, Fold=3]\n",
      "总体进度:  43%|████▎     | 29/67 [04:49<05:56,  9.38s/it]"
     ]
    },
    {
     "name": "stdout",
     "output_type": "stream",
     "text": [
      "Early stopping, best iteration is:\n",
      "[17]\tvalid_0's ndcg@3: 0.647444\n",
      "\n",
      "第 30/67 层\n"
     ]
    },
    {
     "name": "stderr",
     "output_type": "stream",
     "text": []
    },
    {
     "name": "stdout",
     "output_type": "stream",
     "text": [
      "Training until validation scores don't improve for 15 rounds\n"
     ]
    },
    {
     "name": "stderr",
     "output_type": "stream",
     "text": [
      "\n"
     ]
    },
    {
     "name": "stdout",
     "output_type": "stream",
     "text": [
      "Early stopping, best iteration is:\n",
      "[64]\tvalid_0's ndcg@3: 0.653218\n"
     ]
    },
    {
     "name": "stderr",
     "output_type": "stream",
     "text": [
      "训练分层(1000 rankers):  67%|██████▋   | 4/6 [00:06<00:04,  2.33s/it, 模型=LightGBM, Fold=2]\u001b[A"
     ]
    },
    {
     "name": "stdout",
     "output_type": "stream",
     "text": [
      "Training until validation scores don't improve for 15 rounds\n"
     ]
    },
    {
     "name": "stderr",
     "output_type": "stream",
     "text": []
    },
    {
     "name": "stdout",
     "output_type": "stream",
     "text": [
      "Early stopping, best iteration is:\n",
      "[30]\tvalid_0's ndcg@3: 0.641128\n",
      "Training until validation scores don't improve for 15 rounds\n"
     ]
    },
    {
     "name": "stderr",
     "output_type": "stream",
     "text": [
      "训练分层(1000 rankers): 100%|██████████| 6/6 [00:11<00:00,  1.93s/it, 模型=LightGBM, Fold=3]\n",
      "总体进度:  45%|████▍     | 30/67 [05:01<06:15, 10.15s/it]"
     ]
    },
    {
     "name": "stdout",
     "output_type": "stream",
     "text": [
      "Early stopping, best iteration is:\n",
      "[4]\tvalid_0's ndcg@3: 0.669307\n",
      "\n",
      "第 31/67 层\n"
     ]
    },
    {
     "name": "stderr",
     "output_type": "stream",
     "text": []
    },
    {
     "name": "stdout",
     "output_type": "stream",
     "text": [
      "Training until validation scores don't improve for 15 rounds\n"
     ]
    },
    {
     "name": "stderr",
     "output_type": "stream",
     "text": []
    },
    {
     "name": "stdout",
     "output_type": "stream",
     "text": [
      "Early stopping, best iteration is:\n",
      "[35]\tvalid_0's ndcg@3: 0.741954\n",
      "Training until validation scores don't improve for 15 rounds\n"
     ]
    },
    {
     "name": "stderr",
     "output_type": "stream",
     "text": [
      "\n"
     ]
    },
    {
     "name": "stdout",
     "output_type": "stream",
     "text": [
      "Early stopping, best iteration is:\n",
      "[21]\tvalid_0's ndcg@3: 0.700302\n"
     ]
    },
    {
     "name": "stderr",
     "output_type": "stream",
     "text": [
      "训练分层(1000 rankers):  83%|████████▎ | 5/6 [00:07<00:02,  2.07s/it, 模型=LightGBM, Fold=3]\u001b[A"
     ]
    },
    {
     "name": "stdout",
     "output_type": "stream",
     "text": [
      "Training until validation scores don't improve for 15 rounds\n"
     ]
    },
    {
     "name": "stderr",
     "output_type": "stream",
     "text": [
      "训练分层(1000 rankers): 100%|██████████| 6/6 [00:09<00:00,  1.63s/it, 模型=LightGBM, Fold=3]\n",
      "总体进度:  46%|████▋     | 31/67 [05:11<06:04, 10.13s/it]"
     ]
    },
    {
     "name": "stdout",
     "output_type": "stream",
     "text": [
      "Early stopping, best iteration is:\n",
      "[10]\tvalid_0's ndcg@3: 0.685686\n",
      "\n",
      "第 32/67 层\n"
     ]
    },
    {
     "name": "stderr",
     "output_type": "stream",
     "text": []
    },
    {
     "name": "stdout",
     "output_type": "stream",
     "text": [
      "Training until validation scores don't improve for 15 rounds\n"
     ]
    },
    {
     "name": "stderr",
     "output_type": "stream",
     "text": []
    },
    {
     "name": "stdout",
     "output_type": "stream",
     "text": [
      "Early stopping, best iteration is:\n",
      "[8]\tvalid_0's ndcg@3: 0.700957\n",
      "Training until validation scores don't improve for 15 rounds\n"
     ]
    },
    {
     "name": "stderr",
     "output_type": "stream",
     "text": [
      "\n"
     ]
    },
    {
     "name": "stdout",
     "output_type": "stream",
     "text": [
      "Early stopping, best iteration is:\n",
      "[28]\tvalid_0's ndcg@3: 0.709491\n"
     ]
    },
    {
     "name": "stderr",
     "output_type": "stream",
     "text": [
      "训练分层(1000 rankers):  83%|████████▎ | 5/6 [00:06<00:01,  1.69s/it, 模型=LightGBM, Fold=3]\u001b[A"
     ]
    },
    {
     "name": "stdout",
     "output_type": "stream",
     "text": [
      "Training until validation scores don't improve for 15 rounds\n"
     ]
    },
    {
     "name": "stderr",
     "output_type": "stream",
     "text": [
      "训练分层(1000 rankers): 100%|██████████| 6/6 [00:08<00:00,  1.39s/it, 模型=LightGBM, Fold=3]\n",
      "总体进度:  48%|████▊     | 32/67 [05:19<05:39,  9.70s/it]"
     ]
    },
    {
     "name": "stdout",
     "output_type": "stream",
     "text": [
      "Early stopping, best iteration is:\n",
      "[16]\tvalid_0's ndcg@3: 0.701015\n",
      "\n",
      "第 33/67 层\n"
     ]
    },
    {
     "name": "stderr",
     "output_type": "stream",
     "text": []
    },
    {
     "name": "stdout",
     "output_type": "stream",
     "text": [
      "Training until validation scores don't improve for 15 rounds\n"
     ]
    },
    {
     "name": "stderr",
     "output_type": "stream",
     "text": []
    },
    {
     "name": "stdout",
     "output_type": "stream",
     "text": [
      "Early stopping, best iteration is:\n",
      "[8]\tvalid_0's ndcg@3: 0.717429\n",
      "Training until validation scores don't improve for 15 rounds\n"
     ]
    },
    {
     "name": "stderr",
     "output_type": "stream",
     "text": []
    },
    {
     "name": "stdout",
     "output_type": "stream",
     "text": [
      "Early stopping, best iteration is:\n",
      "[5]\tvalid_0's ndcg@3: 0.742036\n",
      "Training until validation scores don't improve for 15 rounds\n"
     ]
    },
    {
     "name": "stderr",
     "output_type": "stream",
     "text": [
      "训练分层(1000 rankers): 100%|██████████| 6/6 [00:06<00:00,  1.15s/it, 模型=LightGBM, Fold=3]\n",
      "总体进度:  49%|████▉     | 33/67 [05:27<05:04,  8.95s/it]"
     ]
    },
    {
     "name": "stdout",
     "output_type": "stream",
     "text": [
      "Early stopping, best iteration is:\n",
      "[12]\tvalid_0's ndcg@3: 0.70623\n",
      "\n",
      "第 34/67 层\n"
     ]
    },
    {
     "name": "stderr",
     "output_type": "stream",
     "text": []
    },
    {
     "name": "stdout",
     "output_type": "stream",
     "text": [
      "Training until validation scores don't improve for 15 rounds\n"
     ]
    },
    {
     "name": "stderr",
     "output_type": "stream",
     "text": []
    },
    {
     "name": "stdout",
     "output_type": "stream",
     "text": [
      "Early stopping, best iteration is:\n",
      "[27]\tvalid_0's ndcg@3: 0.703391\n",
      "Training until validation scores don't improve for 15 rounds\n"
     ]
    },
    {
     "name": "stderr",
     "output_type": "stream",
     "text": []
    },
    {
     "name": "stdout",
     "output_type": "stream",
     "text": [
      "Early stopping, best iteration is:\n",
      "[2]\tvalid_0's ndcg@3: 0.698804\n",
      "Training until validation scores don't improve for 15 rounds\n"
     ]
    },
    {
     "name": "stderr",
     "output_type": "stream",
     "text": [
      "训练分层(1000 rankers): 100%|██████████| 6/6 [00:09<00:00,  1.60s/it, 模型=LightGBM, Fold=3]\n",
      "总体进度:  51%|█████     | 34/67 [05:36<05:04,  9.24s/it]"
     ]
    },
    {
     "name": "stdout",
     "output_type": "stream",
     "text": [
      "Early stopping, best iteration is:\n",
      "[38]\tvalid_0's ndcg@3: 0.730256\n",
      "\n",
      "第 35/67 层\n"
     ]
    },
    {
     "name": "stderr",
     "output_type": "stream",
     "text": []
    },
    {
     "name": "stdout",
     "output_type": "stream",
     "text": [
      "Training until validation scores don't improve for 15 rounds\n"
     ]
    },
    {
     "name": "stderr",
     "output_type": "stream",
     "text": []
    },
    {
     "name": "stdout",
     "output_type": "stream",
     "text": [
      "Early stopping, best iteration is:\n",
      "[3]\tvalid_0's ndcg@3: 0.702147\n",
      "Training until validation scores don't improve for 15 rounds\n"
     ]
    },
    {
     "name": "stderr",
     "output_type": "stream",
     "text": []
    },
    {
     "name": "stdout",
     "output_type": "stream",
     "text": [
      "Early stopping, best iteration is:\n",
      "[26]\tvalid_0's ndcg@3: 0.687589\n",
      "Training until validation scores don't improve for 15 rounds\n"
     ]
    },
    {
     "name": "stderr",
     "output_type": "stream",
     "text": [
      "训练分层(1000 rankers): 100%|██████████| 6/6 [00:07<00:00,  1.22s/it, 模型=LightGBM, Fold=3]\n",
      "总体进度:  52%|█████▏    | 35/67 [05:44<04:40,  8.76s/it]"
     ]
    },
    {
     "name": "stdout",
     "output_type": "stream",
     "text": [
      "Early stopping, best iteration is:\n",
      "[3]\tvalid_0's ndcg@3: 0.660414\n",
      "\n",
      "第 36/67 层\n"
     ]
    },
    {
     "name": "stderr",
     "output_type": "stream",
     "text": []
    },
    {
     "name": "stdout",
     "output_type": "stream",
     "text": [
      "Training until validation scores don't improve for 15 rounds\n"
     ]
    },
    {
     "name": "stderr",
     "output_type": "stream",
     "text": []
    },
    {
     "name": "stdout",
     "output_type": "stream",
     "text": [
      "Early stopping, best iteration is:\n",
      "[24]\tvalid_0's ndcg@3: 0.692514\n",
      "Training until validation scores don't improve for 15 rounds\n"
     ]
    },
    {
     "name": "stderr",
     "output_type": "stream",
     "text": []
    },
    {
     "name": "stdout",
     "output_type": "stream",
     "text": [
      "Early stopping, best iteration is:\n",
      "[20]\tvalid_0's ndcg@3: 0.684106\n",
      "Training until validation scores don't improve for 15 rounds\n"
     ]
    },
    {
     "name": "stderr",
     "output_type": "stream",
     "text": [
      "训练分层(1000 rankers): 100%|██████████| 6/6 [00:09<00:00,  1.56s/it, 模型=LightGBM, Fold=3]\n",
      "总体进度:  54%|█████▎    | 36/67 [05:54<04:39,  9.03s/it]"
     ]
    },
    {
     "name": "stdout",
     "output_type": "stream",
     "text": [
      "Early stopping, best iteration is:\n",
      "[18]\tvalid_0's ndcg@3: 0.656316\n",
      "\n",
      "第 37/67 层\n"
     ]
    },
    {
     "name": "stderr",
     "output_type": "stream",
     "text": []
    },
    {
     "name": "stdout",
     "output_type": "stream",
     "text": [
      "Training until validation scores don't improve for 15 rounds\n"
     ]
    },
    {
     "name": "stderr",
     "output_type": "stream",
     "text": []
    },
    {
     "name": "stdout",
     "output_type": "stream",
     "text": [
      "Early stopping, best iteration is:\n",
      "[39]\tvalid_0's ndcg@3: 0.683916\n",
      "Training until validation scores don't improve for 15 rounds\n"
     ]
    },
    {
     "name": "stderr",
     "output_type": "stream",
     "text": []
    },
    {
     "name": "stdout",
     "output_type": "stream",
     "text": [
      "Early stopping, best iteration is:\n",
      "[55]\tvalid_0's ndcg@3: 0.716602\n",
      "Training until validation scores don't improve for 15 rounds\n"
     ]
    },
    {
     "name": "stderr",
     "output_type": "stream",
     "text": [
      "训练分层(1000 rankers): 100%|██████████| 6/6 [00:12<00:00,  2.05s/it, 模型=LightGBM, Fold=3]\n",
      "总体进度:  55%|█████▌    | 37/67 [06:06<05:02, 10.10s/it]"
     ]
    },
    {
     "name": "stdout",
     "output_type": "stream",
     "text": [
      "Early stopping, best iteration is:\n",
      "[34]\tvalid_0's ndcg@3: 0.686482\n",
      "\n",
      "第 38/67 层\n"
     ]
    },
    {
     "name": "stderr",
     "output_type": "stream",
     "text": []
    },
    {
     "name": "stdout",
     "output_type": "stream",
     "text": [
      "Training until validation scores don't improve for 15 rounds\n"
     ]
    },
    {
     "name": "stderr",
     "output_type": "stream",
     "text": []
    },
    {
     "name": "stdout",
     "output_type": "stream",
     "text": [
      "Early stopping, best iteration is:\n",
      "[24]\tvalid_0's ndcg@3: 0.65904\n",
      "Training until validation scores don't improve for 15 rounds\n"
     ]
    },
    {
     "name": "stderr",
     "output_type": "stream",
     "text": []
    },
    {
     "name": "stdout",
     "output_type": "stream",
     "text": [
      "Early stopping, best iteration is:\n",
      "[4]\tvalid_0's ndcg@3: 0.673049\n",
      "Training until validation scores don't improve for 15 rounds\n"
     ]
    },
    {
     "name": "stderr",
     "output_type": "stream",
     "text": [
      "训练分层(1000 rankers): 100%|██████████| 6/6 [00:08<00:00,  1.39s/it, 模型=LightGBM, Fold=3]\n",
      "总体进度:  57%|█████▋    | 38/67 [06:15<04:40,  9.67s/it]"
     ]
    },
    {
     "name": "stdout",
     "output_type": "stream",
     "text": [
      "Early stopping, best iteration is:\n",
      "[15]\tvalid_0's ndcg@3: 0.680184\n",
      "\n",
      "第 39/67 层\n"
     ]
    },
    {
     "name": "stderr",
     "output_type": "stream",
     "text": []
    },
    {
     "name": "stdout",
     "output_type": "stream",
     "text": [
      "Training until validation scores don't improve for 15 rounds\n"
     ]
    },
    {
     "name": "stderr",
     "output_type": "stream",
     "text": []
    },
    {
     "name": "stdout",
     "output_type": "stream",
     "text": [
      "Early stopping, best iteration is:\n",
      "[17]\tvalid_0's ndcg@3: 0.685965\n",
      "Training until validation scores don't improve for 15 rounds\n"
     ]
    },
    {
     "name": "stderr",
     "output_type": "stream",
     "text": [
      "\n"
     ]
    },
    {
     "name": "stdout",
     "output_type": "stream",
     "text": [
      "Early stopping, best iteration is:\n",
      "[15]\tvalid_0's ndcg@3: 0.653435\n"
     ]
    },
    {
     "name": "stderr",
     "output_type": "stream",
     "text": [
      "训练分层(1000 rankers):  83%|████████▎ | 5/6 [00:06<00:01,  1.70s/it, 模型=LightGBM, Fold=3]\u001b[A"
     ]
    },
    {
     "name": "stdout",
     "output_type": "stream",
     "text": [
      "Training until validation scores don't improve for 15 rounds\n"
     ]
    },
    {
     "name": "stderr",
     "output_type": "stream",
     "text": [
      "训练分层(1000 rankers): 100%|██████████| 6/6 [00:08<00:00,  1.36s/it, 模型=LightGBM, Fold=3]\n",
      "总体进度:  58%|█████▊    | 39/67 [06:23<04:20,  9.30s/it]"
     ]
    },
    {
     "name": "stdout",
     "output_type": "stream",
     "text": [
      "Early stopping, best iteration is:\n",
      "[5]\tvalid_0's ndcg@3: 0.652492\n",
      "\n",
      "第 40/67 层\n"
     ]
    },
    {
     "name": "stderr",
     "output_type": "stream",
     "text": []
    },
    {
     "name": "stdout",
     "output_type": "stream",
     "text": [
      "Training until validation scores don't improve for 15 rounds\n"
     ]
    },
    {
     "name": "stderr",
     "output_type": "stream",
     "text": []
    },
    {
     "name": "stdout",
     "output_type": "stream",
     "text": [
      "Early stopping, best iteration is:\n",
      "[13]\tvalid_0's ndcg@3: 0.690569\n",
      "Training until validation scores don't improve for 15 rounds\n"
     ]
    },
    {
     "name": "stderr",
     "output_type": "stream",
     "text": []
    },
    {
     "name": "stdout",
     "output_type": "stream",
     "text": [
      "Early stopping, best iteration is:\n",
      "[23]\tvalid_0's ndcg@3: 0.665519\n",
      "Training until validation scores don't improve for 15 rounds\n"
     ]
    },
    {
     "name": "stderr",
     "output_type": "stream",
     "text": [
      "训练分层(1000 rankers): 100%|██████████| 6/6 [00:09<00:00,  1.66s/it, 模型=LightGBM, Fold=3]\n",
      "总体进度:  60%|█████▉    | 40/67 [06:34<04:19,  9.60s/it]"
     ]
    },
    {
     "name": "stdout",
     "output_type": "stream",
     "text": [
      "Early stopping, best iteration is:\n",
      "[17]\tvalid_0's ndcg@3: 0.671773\n",
      "\n",
      "第 41/67 层\n"
     ]
    },
    {
     "name": "stderr",
     "output_type": "stream",
     "text": []
    },
    {
     "name": "stdout",
     "output_type": "stream",
     "text": [
      "Training until validation scores don't improve for 15 rounds\n"
     ]
    },
    {
     "name": "stderr",
     "output_type": "stream",
     "text": []
    },
    {
     "name": "stdout",
     "output_type": "stream",
     "text": [
      "Early stopping, best iteration is:\n",
      "[28]\tvalid_0's ndcg@3: 0.754368\n",
      "Training until validation scores don't improve for 15 rounds\n"
     ]
    },
    {
     "name": "stderr",
     "output_type": "stream",
     "text": [
      "\n"
     ]
    },
    {
     "name": "stdout",
     "output_type": "stream",
     "text": [
      "Early stopping, best iteration is:\n",
      "[14]\tvalid_0's ndcg@3: 0.694638\n"
     ]
    },
    {
     "name": "stderr",
     "output_type": "stream",
     "text": [
      "训练分层(1000 rankers):  83%|████████▎ | 5/6 [00:07<00:01,  1.98s/it, 模型=LightGBM, Fold=3]\u001b[A"
     ]
    },
    {
     "name": "stdout",
     "output_type": "stream",
     "text": [
      "Training until validation scores don't improve for 15 rounds\n"
     ]
    },
    {
     "name": "stderr",
     "output_type": "stream",
     "text": [
      "训练分层(1000 rankers): 100%|██████████| 6/6 [00:10<00:00,  1.76s/it, 模型=LightGBM, Fold=3]\n",
      "总体进度:  61%|██████    | 41/67 [06:45<04:19, 10.00s/it]"
     ]
    },
    {
     "name": "stdout",
     "output_type": "stream",
     "text": [
      "Early stopping, best iteration is:\n",
      "[24]\tvalid_0's ndcg@3: 0.693689\n",
      "\n",
      "第 42/67 层\n"
     ]
    },
    {
     "name": "stderr",
     "output_type": "stream",
     "text": []
    },
    {
     "name": "stdout",
     "output_type": "stream",
     "text": [
      "Training until validation scores don't improve for 15 rounds\n"
     ]
    },
    {
     "name": "stderr",
     "output_type": "stream",
     "text": [
      "\n"
     ]
    },
    {
     "name": "stdout",
     "output_type": "stream",
     "text": [
      "Early stopping, best iteration is:\n",
      "[4]\tvalid_0's ndcg@3: 0.708294\n"
     ]
    },
    {
     "name": "stderr",
     "output_type": "stream",
     "text": [
      "训练分层(1000 rankers):  67%|██████▋   | 4/6 [00:03<00:01,  1.06it/s, 模型=LightGBM, Fold=2]\u001b[A"
     ]
    },
    {
     "name": "stdout",
     "output_type": "stream",
     "text": [
      "Training until validation scores don't improve for 15 rounds\n"
     ]
    },
    {
     "name": "stderr",
     "output_type": "stream",
     "text": [
      "\n"
     ]
    },
    {
     "name": "stdout",
     "output_type": "stream",
     "text": [
      "Early stopping, best iteration is:\n",
      "[12]\tvalid_0's ndcg@3: 0.694419\n"
     ]
    },
    {
     "name": "stderr",
     "output_type": "stream",
     "text": [
      "训练分层(1000 rankers):  83%|████████▎ | 5/6 [00:05<00:01,  1.48s/it, 模型=LightGBM, Fold=3]\u001b[A"
     ]
    },
    {
     "name": "stdout",
     "output_type": "stream",
     "text": [
      "Training until validation scores don't improve for 15 rounds\n"
     ]
    },
    {
     "name": "stderr",
     "output_type": "stream",
     "text": [
      "训练分层(1000 rankers): 100%|██████████| 6/6 [00:07<00:00,  1.22s/it, 模型=LightGBM, Fold=3]\n",
      "总体进度:  63%|██████▎   | 42/67 [06:52<03:52,  9.30s/it]"
     ]
    },
    {
     "name": "stdout",
     "output_type": "stream",
     "text": [
      "Early stopping, best iteration is:\n",
      "[5]\tvalid_0's ndcg@3: 0.74947\n",
      "\n",
      "第 43/67 层\n"
     ]
    },
    {
     "name": "stderr",
     "output_type": "stream",
     "text": []
    },
    {
     "name": "stdout",
     "output_type": "stream",
     "text": [
      "Training until validation scores don't improve for 15 rounds\n"
     ]
    },
    {
     "name": "stderr",
     "output_type": "stream",
     "text": [
      "\n"
     ]
    },
    {
     "name": "stdout",
     "output_type": "stream",
     "text": [
      "Early stopping, best iteration is:\n",
      "[3]\tvalid_0's ndcg@3: 0.682159\n"
     ]
    },
    {
     "name": "stderr",
     "output_type": "stream",
     "text": [
      "训练分层(1000 rankers):  67%|██████▋   | 4/6 [00:03<00:01,  1.07it/s, 模型=LightGBM, Fold=2]\u001b[A"
     ]
    },
    {
     "name": "stdout",
     "output_type": "stream",
     "text": [
      "Training until validation scores don't improve for 15 rounds\n"
     ]
    },
    {
     "name": "stderr",
     "output_type": "stream",
     "text": []
    },
    {
     "name": "stdout",
     "output_type": "stream",
     "text": [
      "Early stopping, best iteration is:\n",
      "[13]\tvalid_0's ndcg@3: 0.647268\n",
      "Training until validation scores don't improve for 15 rounds\n"
     ]
    },
    {
     "name": "stderr",
     "output_type": "stream",
     "text": [
      "训练分层(1000 rankers): 100%|██████████| 6/6 [00:07<00:00,  1.23s/it, 模型=LightGBM, Fold=3]\n",
      "总体进度:  64%|██████▍   | 43/67 [07:00<03:31,  8.82s/it]"
     ]
    },
    {
     "name": "stdout",
     "output_type": "stream",
     "text": [
      "Early stopping, best iteration is:\n",
      "[6]\tvalid_0's ndcg@3: 0.675735\n",
      "\n",
      "第 44/67 层\n"
     ]
    },
    {
     "name": "stderr",
     "output_type": "stream",
     "text": []
    },
    {
     "name": "stdout",
     "output_type": "stream",
     "text": [
      "Training until validation scores don't improve for 15 rounds\n"
     ]
    },
    {
     "name": "stderr",
     "output_type": "stream",
     "text": [
      "\n"
     ]
    },
    {
     "name": "stdout",
     "output_type": "stream",
     "text": [
      "Early stopping, best iteration is:\n",
      "[49]\tvalid_0's ndcg@3: 0.676817\n"
     ]
    },
    {
     "name": "stderr",
     "output_type": "stream",
     "text": [
      "训练分层(1000 rankers):  67%|██████▋   | 4/6 [00:06<00:04,  2.23s/it, 模型=LightGBM, Fold=2]\u001b[A"
     ]
    },
    {
     "name": "stdout",
     "output_type": "stream",
     "text": [
      "Training until validation scores don't improve for 15 rounds\n"
     ]
    },
    {
     "name": "stderr",
     "output_type": "stream",
     "text": [
      "\n"
     ]
    },
    {
     "name": "stdout",
     "output_type": "stream",
     "text": [
      "Early stopping, best iteration is:\n",
      "[3]\tvalid_0's ndcg@3: 0.695415\n"
     ]
    },
    {
     "name": "stderr",
     "output_type": "stream",
     "text": [
      "训练分层(1000 rankers):  83%|████████▎ | 5/6 [00:08<00:02,  2.12s/it, 模型=LightGBM, Fold=3]\u001b[A"
     ]
    },
    {
     "name": "stdout",
     "output_type": "stream",
     "text": [
      "Training until validation scores don't improve for 15 rounds\n"
     ]
    },
    {
     "name": "stderr",
     "output_type": "stream",
     "text": [
      "训练分层(1000 rankers): 100%|██████████| 6/6 [00:10<00:00,  1.69s/it, 模型=LightGBM, Fold=3]\n",
      "总体进度:  66%|██████▌   | 44/67 [07:11<03:34,  9.32s/it]"
     ]
    },
    {
     "name": "stdout",
     "output_type": "stream",
     "text": [
      "Early stopping, best iteration is:\n",
      "[4]\tvalid_0's ndcg@3: 0.647792\n",
      "\n",
      "第 45/67 层\n"
     ]
    },
    {
     "name": "stderr",
     "output_type": "stream",
     "text": []
    },
    {
     "name": "stdout",
     "output_type": "stream",
     "text": [
      "Training until validation scores don't improve for 15 rounds\n"
     ]
    },
    {
     "name": "stderr",
     "output_type": "stream",
     "text": [
      "\n"
     ]
    },
    {
     "name": "stdout",
     "output_type": "stream",
     "text": [
      "Early stopping, best iteration is:\n",
      "[30]\tvalid_0's ndcg@3: 0.693258\n"
     ]
    },
    {
     "name": "stderr",
     "output_type": "stream",
     "text": [
      "训练分层(1000 rankers):  67%|██████▋   | 4/6 [00:05<00:03,  1.71s/it, 模型=LightGBM, Fold=2]\u001b[A"
     ]
    },
    {
     "name": "stdout",
     "output_type": "stream",
     "text": [
      "Training until validation scores don't improve for 15 rounds\n"
     ]
    },
    {
     "name": "stderr",
     "output_type": "stream",
     "text": [
      "\n"
     ]
    },
    {
     "name": "stdout",
     "output_type": "stream",
     "text": [
      "Early stopping, best iteration is:\n",
      "[20]\tvalid_0's ndcg@3: 0.659094\n"
     ]
    },
    {
     "name": "stderr",
     "output_type": "stream",
     "text": [
      "训练分层(1000 rankers):  83%|████████▎ | 5/6 [00:08<00:02,  2.18s/it, 模型=LightGBM, Fold=3]\u001b[A"
     ]
    },
    {
     "name": "stdout",
     "output_type": "stream",
     "text": [
      "Training until validation scores don't improve for 15 rounds\n"
     ]
    },
    {
     "name": "stderr",
     "output_type": "stream",
     "text": [
      "训练分层(1000 rankers): 100%|██████████| 6/6 [00:10<00:00,  1.70s/it, 模型=LightGBM, Fold=3]\n",
      "总体进度:  67%|██████▋   | 45/67 [07:21<03:33,  9.69s/it]"
     ]
    },
    {
     "name": "stdout",
     "output_type": "stream",
     "text": [
      "Early stopping, best iteration is:\n",
      "[8]\tvalid_0's ndcg@3: 0.656423\n",
      "\n",
      "第 46/67 层\n"
     ]
    },
    {
     "name": "stderr",
     "output_type": "stream",
     "text": []
    },
    {
     "name": "stdout",
     "output_type": "stream",
     "text": [
      "Training until validation scores don't improve for 15 rounds\n"
     ]
    },
    {
     "name": "stderr",
     "output_type": "stream",
     "text": [
      "\n"
     ]
    },
    {
     "name": "stdout",
     "output_type": "stream",
     "text": [
      "Early stopping, best iteration is:\n",
      "[15]\tvalid_0's ndcg@3: 0.639806\n"
     ]
    },
    {
     "name": "stderr",
     "output_type": "stream",
     "text": [
      "训练分层(1000 rankers):  67%|██████▋   | 4/6 [00:04<00:02,  1.34s/it, 模型=LightGBM, Fold=2]\u001b[A"
     ]
    },
    {
     "name": "stdout",
     "output_type": "stream",
     "text": [
      "Training until validation scores don't improve for 15 rounds\n"
     ]
    },
    {
     "name": "stderr",
     "output_type": "stream",
     "text": []
    },
    {
     "name": "stdout",
     "output_type": "stream",
     "text": [
      "Early stopping, best iteration is:\n",
      "[9]\tvalid_0's ndcg@3: 0.687862\n",
      "Training until validation scores don't improve for 15 rounds\n"
     ]
    },
    {
     "name": "stderr",
     "output_type": "stream",
     "text": [
      "训练分层(1000 rankers): 100%|██████████| 6/6 [00:09<00:00,  1.50s/it, 模型=LightGBM, Fold=3]\n",
      "总体进度:  69%|██████▊   | 46/67 [07:30<03:21,  9.60s/it]"
     ]
    },
    {
     "name": "stdout",
     "output_type": "stream",
     "text": [
      "Early stopping, best iteration is:\n",
      "[16]\tvalid_0's ndcg@3: 0.667489\n",
      "\n",
      "第 47/67 层\n"
     ]
    },
    {
     "name": "stderr",
     "output_type": "stream",
     "text": []
    },
    {
     "name": "stdout",
     "output_type": "stream",
     "text": [
      "Training until validation scores don't improve for 15 rounds\n"
     ]
    },
    {
     "name": "stderr",
     "output_type": "stream",
     "text": []
    },
    {
     "name": "stdout",
     "output_type": "stream",
     "text": [
      "Early stopping, best iteration is:\n",
      "[6]\tvalid_0's ndcg@3: 0.657905\n",
      "Training until validation scores don't improve for 15 rounds\n"
     ]
    },
    {
     "name": "stderr",
     "output_type": "stream",
     "text": [
      "\n"
     ]
    },
    {
     "name": "stdout",
     "output_type": "stream",
     "text": [
      "Early stopping, best iteration is:\n",
      "[16]\tvalid_0's ndcg@3: 0.688401\n"
     ]
    },
    {
     "name": "stderr",
     "output_type": "stream",
     "text": [
      "训练分层(1000 rankers):  83%|████████▎ | 5/6 [00:06<00:01,  1.63s/it, 模型=LightGBM, Fold=3]\u001b[A"
     ]
    },
    {
     "name": "stdout",
     "output_type": "stream",
     "text": [
      "Training until validation scores don't improve for 15 rounds\n"
     ]
    },
    {
     "name": "stderr",
     "output_type": "stream",
     "text": [
      "训练分层(1000 rankers): 100%|██████████| 6/6 [00:08<00:00,  1.36s/it, 模型=LightGBM, Fold=3]\n",
      "总体进度:  70%|███████   | 47/67 [07:39<03:05,  9.25s/it]"
     ]
    },
    {
     "name": "stdout",
     "output_type": "stream",
     "text": [
      "Early stopping, best iteration is:\n",
      "[7]\tvalid_0's ndcg@3: 0.719203\n",
      "\n",
      "第 48/67 层\n"
     ]
    },
    {
     "name": "stderr",
     "output_type": "stream",
     "text": []
    },
    {
     "name": "stdout",
     "output_type": "stream",
     "text": [
      "Training until validation scores don't improve for 15 rounds\n"
     ]
    },
    {
     "name": "stderr",
     "output_type": "stream",
     "text": []
    },
    {
     "name": "stdout",
     "output_type": "stream",
     "text": [
      "Early stopping, best iteration is:\n",
      "[9]\tvalid_0's ndcg@3: 0.667052\n",
      "Training until validation scores don't improve for 15 rounds\n"
     ]
    },
    {
     "name": "stderr",
     "output_type": "stream",
     "text": [
      "\n",
      "训练分层(1000 rankers):  83%|████████▎ | 5/6 [00:07<00:02,  2.03s/it, 模型=LightGBM, Fold=3]"
     ]
    },
    {
     "name": "stdout",
     "output_type": "stream",
     "text": [
      "Early stopping, best iteration is:\n",
      "[29]\tvalid_0's ndcg@3: 0.717579\n"
     ]
    },
    {
     "name": "stderr",
     "output_type": "stream",
     "text": [
      "\u001b[A"
     ]
    },
    {
     "name": "stdout",
     "output_type": "stream",
     "text": [
      "Training until validation scores don't improve for 15 rounds\n"
     ]
    },
    {
     "name": "stderr",
     "output_type": "stream",
     "text": [
      "训练分层(1000 rankers): 100%|██████████| 6/6 [00:08<00:00,  1.49s/it, 模型=LightGBM, Fold=3]\n",
      "总体进度:  72%|███████▏  | 48/67 [07:48<02:56,  9.27s/it]"
     ]
    },
    {
     "name": "stdout",
     "output_type": "stream",
     "text": [
      "Early stopping, best iteration is:\n",
      "[4]\tvalid_0's ndcg@3: 0.699042\n",
      "\n",
      "第 49/67 层\n"
     ]
    },
    {
     "name": "stderr",
     "output_type": "stream",
     "text": []
    },
    {
     "name": "stdout",
     "output_type": "stream",
     "text": [
      "Training until validation scores don't improve for 15 rounds\n"
     ]
    },
    {
     "name": "stderr",
     "output_type": "stream",
     "text": [
      "\n"
     ]
    },
    {
     "name": "stdout",
     "output_type": "stream",
     "text": [
      "Early stopping, best iteration is:\n",
      "[4]\tvalid_0's ndcg@3: 0.698636\n"
     ]
    },
    {
     "name": "stderr",
     "output_type": "stream",
     "text": [
      "训练分层(1000 rankers):  67%|██████▋   | 4/6 [00:03<00:01,  1.06it/s, 模型=LightGBM, Fold=2]\u001b[A"
     ]
    },
    {
     "name": "stdout",
     "output_type": "stream",
     "text": [
      "Training until validation scores don't improve for 15 rounds\n"
     ]
    },
    {
     "name": "stderr",
     "output_type": "stream",
     "text": [
      "\n"
     ]
    },
    {
     "name": "stdout",
     "output_type": "stream",
     "text": [
      "Early stopping, best iteration is:\n",
      "[16]\tvalid_0's ndcg@3: 0.704381\n"
     ]
    },
    {
     "name": "stderr",
     "output_type": "stream",
     "text": [
      "训练分层(1000 rankers):  83%|████████▎ | 5/6 [00:05<00:01,  1.63s/it, 模型=LightGBM, Fold=3]\u001b[A"
     ]
    },
    {
     "name": "stdout",
     "output_type": "stream",
     "text": [
      "Training until validation scores don't improve for 15 rounds\n"
     ]
    },
    {
     "name": "stderr",
     "output_type": "stream",
     "text": [
      "训练分层(1000 rankers): 100%|██████████| 6/6 [00:09<00:00,  1.59s/it, 模型=LightGBM, Fold=3]\n",
      "总体进度:  73%|███████▎  | 49/67 [07:58<02:49,  9.44s/it]"
     ]
    },
    {
     "name": "stdout",
     "output_type": "stream",
     "text": [
      "Early stopping, best iteration is:\n",
      "[30]\tvalid_0's ndcg@3: 0.657141\n",
      "\n",
      "第 50/67 层\n"
     ]
    },
    {
     "name": "stderr",
     "output_type": "stream",
     "text": []
    },
    {
     "name": "stdout",
     "output_type": "stream",
     "text": [
      "Training until validation scores don't improve for 15 rounds\n"
     ]
    },
    {
     "name": "stderr",
     "output_type": "stream",
     "text": [
      "\n"
     ]
    },
    {
     "name": "stdout",
     "output_type": "stream",
     "text": [
      "Early stopping, best iteration is:\n",
      "[18]\tvalid_0's ndcg@3: 0.677553\n"
     ]
    },
    {
     "name": "stderr",
     "output_type": "stream",
     "text": [
      "训练分层(1000 rankers):  67%|██████▋   | 4/6 [00:04<00:02,  1.41s/it, 模型=LightGBM, Fold=2]\u001b[A"
     ]
    },
    {
     "name": "stdout",
     "output_type": "stream",
     "text": [
      "Training until validation scores don't improve for 15 rounds\n"
     ]
    },
    {
     "name": "stderr",
     "output_type": "stream",
     "text": []
    },
    {
     "name": "stdout",
     "output_type": "stream",
     "text": [
      "Early stopping, best iteration is:\n",
      "[11]\tvalid_0's ndcg@3: 0.695855\n",
      "Training until validation scores don't improve for 15 rounds\n"
     ]
    },
    {
     "name": "stderr",
     "output_type": "stream",
     "text": [
      "训练分层(1000 rankers): 100%|██████████| 6/6 [00:09<00:00,  1.61s/it, 模型=LightGBM, Fold=3]\n",
      "总体进度:  75%|███████▍  | 50/67 [08:08<02:43,  9.61s/it]"
     ]
    },
    {
     "name": "stdout",
     "output_type": "stream",
     "text": [
      "Early stopping, best iteration is:\n",
      "[19]\tvalid_0's ndcg@3: 0.718475\n",
      "\n",
      "第 51/67 层\n"
     ]
    },
    {
     "name": "stderr",
     "output_type": "stream",
     "text": []
    },
    {
     "name": "stdout",
     "output_type": "stream",
     "text": [
      "Training until validation scores don't improve for 15 rounds\n"
     ]
    },
    {
     "name": "stderr",
     "output_type": "stream",
     "text": []
    },
    {
     "name": "stdout",
     "output_type": "stream",
     "text": [
      "Early stopping, best iteration is:\n",
      "[4]\tvalid_0's ndcg@3: 0.63964\n",
      "Training until validation scores don't improve for 15 rounds\n"
     ]
    },
    {
     "name": "stderr",
     "output_type": "stream",
     "text": []
    },
    {
     "name": "stdout",
     "output_type": "stream",
     "text": [
      "Early stopping, best iteration is:\n",
      "[39]\tvalid_0's ndcg@3: 0.709073\n",
      "Training until validation scores don't improve for 15 rounds\n"
     ]
    },
    {
     "name": "stderr",
     "output_type": "stream",
     "text": [
      "训练分层(1000 rankers): 100%|██████████| 6/6 [00:10<00:00,  1.69s/it, 模型=LightGBM, Fold=3]\n",
      "总体进度:  76%|███████▌  | 51/67 [08:19<02:37,  9.87s/it]"
     ]
    },
    {
     "name": "stdout",
     "output_type": "stream",
     "text": [
      "Early stopping, best iteration is:\n",
      "[20]\tvalid_0's ndcg@3: 0.690296\n",
      "\n",
      "第 52/67 层\n"
     ]
    },
    {
     "name": "stderr",
     "output_type": "stream",
     "text": []
    },
    {
     "name": "stdout",
     "output_type": "stream",
     "text": [
      "Training until validation scores don't improve for 15 rounds\n"
     ]
    },
    {
     "name": "stderr",
     "output_type": "stream",
     "text": []
    },
    {
     "name": "stdout",
     "output_type": "stream",
     "text": [
      "Early stopping, best iteration is:\n",
      "[15]\tvalid_0's ndcg@3: 0.674746\n",
      "Training until validation scores don't improve for 15 rounds\n"
     ]
    },
    {
     "name": "stderr",
     "output_type": "stream",
     "text": []
    },
    {
     "name": "stdout",
     "output_type": "stream",
     "text": [
      "Early stopping, best iteration is:\n",
      "[34]\tvalid_0's ndcg@3: 0.659624\n",
      "Training until validation scores don't improve for 15 rounds\n"
     ]
    },
    {
     "name": "stderr",
     "output_type": "stream",
     "text": [
      "训练分层(1000 rankers): 100%|██████████| 6/6 [00:08<00:00,  1.46s/it, 模型=LightGBM, Fold=3]\n",
      "总体进度:  78%|███████▊  | 52/67 [08:28<02:24,  9.63s/it]"
     ]
    },
    {
     "name": "stdout",
     "output_type": "stream",
     "text": [
      "Early stopping, best iteration is:\n",
      "[5]\tvalid_0's ndcg@3: 0.624792\n",
      "\n",
      "第 53/67 层\n"
     ]
    },
    {
     "name": "stderr",
     "output_type": "stream",
     "text": []
    },
    {
     "name": "stdout",
     "output_type": "stream",
     "text": [
      "Training until validation scores don't improve for 15 rounds\n"
     ]
    },
    {
     "name": "stderr",
     "output_type": "stream",
     "text": []
    },
    {
     "name": "stdout",
     "output_type": "stream",
     "text": [
      "Early stopping, best iteration is:\n",
      "[25]\tvalid_0's ndcg@3: 0.67649\n",
      "Training until validation scores don't improve for 15 rounds\n"
     ]
    },
    {
     "name": "stderr",
     "output_type": "stream",
     "text": []
    },
    {
     "name": "stdout",
     "output_type": "stream",
     "text": [
      "Early stopping, best iteration is:\n",
      "[26]\tvalid_0's ndcg@3: 0.68478\n",
      "Training until validation scores don't improve for 15 rounds\n"
     ]
    },
    {
     "name": "stderr",
     "output_type": "stream",
     "text": [
      "训练分层(1000 rankers): 100%|██████████| 6/6 [00:09<00:00,  1.62s/it, 模型=LightGBM, Fold=3]\n",
      "总体进度:  79%|███████▉  | 53/67 [08:38<02:16,  9.76s/it]"
     ]
    },
    {
     "name": "stdout",
     "output_type": "stream",
     "text": [
      "Early stopping, best iteration is:\n",
      "[14]\tvalid_0's ndcg@3: 0.676392\n",
      "\n",
      "第 54/67 层\n"
     ]
    },
    {
     "name": "stderr",
     "output_type": "stream",
     "text": []
    },
    {
     "name": "stdout",
     "output_type": "stream",
     "text": [
      "Training until validation scores don't improve for 15 rounds\n"
     ]
    },
    {
     "name": "stderr",
     "output_type": "stream",
     "text": []
    },
    {
     "name": "stdout",
     "output_type": "stream",
     "text": [
      "Early stopping, best iteration is:\n",
      "[10]\tvalid_0's ndcg@3: 0.686097\n",
      "Training until validation scores don't improve for 15 rounds\n"
     ]
    },
    {
     "name": "stderr",
     "output_type": "stream",
     "text": []
    },
    {
     "name": "stdout",
     "output_type": "stream",
     "text": [
      "Early stopping, best iteration is:\n",
      "[44]\tvalid_0's ndcg@3: 0.693933\n",
      "Training until validation scores don't improve for 15 rounds\n"
     ]
    },
    {
     "name": "stderr",
     "output_type": "stream",
     "text": [
      "训练分层(1000 rankers): 100%|██████████| 6/6 [00:09<00:00,  1.64s/it, 模型=LightGBM, Fold=3]\n",
      "总体进度:  81%|████████  | 54/67 [08:48<02:08,  9.89s/it]"
     ]
    },
    {
     "name": "stdout",
     "output_type": "stream",
     "text": [
      "Early stopping, best iteration is:\n",
      "[14]\tvalid_0's ndcg@3: 0.67354\n",
      "\n",
      "第 55/67 层\n"
     ]
    },
    {
     "name": "stderr",
     "output_type": "stream",
     "text": []
    },
    {
     "name": "stdout",
     "output_type": "stream",
     "text": [
      "Training until validation scores don't improve for 15 rounds\n"
     ]
    },
    {
     "name": "stderr",
     "output_type": "stream",
     "text": []
    },
    {
     "name": "stdout",
     "output_type": "stream",
     "text": [
      "Early stopping, best iteration is:\n",
      "[14]\tvalid_0's ndcg@3: 0.662403\n",
      "Training until validation scores don't improve for 15 rounds\n"
     ]
    },
    {
     "name": "stderr",
     "output_type": "stream",
     "text": []
    },
    {
     "name": "stdout",
     "output_type": "stream",
     "text": [
      "Early stopping, best iteration is:\n",
      "[44]\tvalid_0's ndcg@3: 0.681117\n",
      "Training until validation scores don't improve for 15 rounds\n"
     ]
    },
    {
     "name": "stderr",
     "output_type": "stream",
     "text": [
      "训练分层(1000 rankers): 100%|██████████| 6/6 [00:12<00:00,  2.02s/it, 模型=LightGBM, Fold=3]\n",
      "总体进度:  82%|████████▏ | 55/67 [09:00<02:07, 10.66s/it]"
     ]
    },
    {
     "name": "stdout",
     "output_type": "stream",
     "text": [
      "Early stopping, best iteration is:\n",
      "[47]\tvalid_0's ndcg@3: 0.682724\n",
      "\n",
      "第 56/67 层\n"
     ]
    },
    {
     "name": "stderr",
     "output_type": "stream",
     "text": []
    },
    {
     "name": "stdout",
     "output_type": "stream",
     "text": [
      "Training until validation scores don't improve for 15 rounds\n"
     ]
    },
    {
     "name": "stderr",
     "output_type": "stream",
     "text": []
    },
    {
     "name": "stdout",
     "output_type": "stream",
     "text": [
      "Early stopping, best iteration is:\n",
      "[36]\tvalid_0's ndcg@3: 0.633748\n",
      "Training until validation scores don't improve for 15 rounds\n"
     ]
    },
    {
     "name": "stderr",
     "output_type": "stream",
     "text": []
    },
    {
     "name": "stdout",
     "output_type": "stream",
     "text": [
      "Early stopping, best iteration is:\n",
      "[13]\tvalid_0's ndcg@3: 0.687953\n",
      "Training until validation scores don't improve for 15 rounds\n"
     ]
    },
    {
     "name": "stderr",
     "output_type": "stream",
     "text": [
      "训练分层(1000 rankers): 100%|██████████| 6/6 [00:08<00:00,  1.49s/it, 模型=LightGBM, Fold=3]\n",
      "总体进度:  84%|████████▎ | 56/67 [09:10<01:52, 10.24s/it]"
     ]
    },
    {
     "name": "stdout",
     "output_type": "stream",
     "text": [
      "Early stopping, best iteration is:\n",
      "[8]\tvalid_0's ndcg@3: 0.676092\n",
      "\n",
      "第 57/67 层\n"
     ]
    },
    {
     "name": "stderr",
     "output_type": "stream",
     "text": []
    },
    {
     "name": "stdout",
     "output_type": "stream",
     "text": [
      "Training until validation scores don't improve for 15 rounds\n"
     ]
    },
    {
     "name": "stderr",
     "output_type": "stream",
     "text": []
    },
    {
     "name": "stdout",
     "output_type": "stream",
     "text": [
      "Early stopping, best iteration is:\n",
      "[12]\tvalid_0's ndcg@3: 0.663748\n",
      "Training until validation scores don't improve for 15 rounds\n"
     ]
    },
    {
     "name": "stderr",
     "output_type": "stream",
     "text": []
    },
    {
     "name": "stdout",
     "output_type": "stream",
     "text": [
      "Early stopping, best iteration is:\n",
      "[55]\tvalid_0's ndcg@3: 0.697356\n",
      "Training until validation scores don't improve for 15 rounds\n"
     ]
    },
    {
     "name": "stderr",
     "output_type": "stream",
     "text": [
      "训练分层(1000 rankers): 100%|██████████| 6/6 [00:09<00:00,  1.64s/it, 模型=LightGBM, Fold=3]\n",
      "总体进度:  85%|████████▌ | 57/67 [09:20<01:42, 10.21s/it]"
     ]
    },
    {
     "name": "stdout",
     "output_type": "stream",
     "text": [
      "Early stopping, best iteration is:\n",
      "[2]\tvalid_0's ndcg@3: 0.710102\n",
      "\n",
      "第 58/67 层\n"
     ]
    },
    {
     "name": "stderr",
     "output_type": "stream",
     "text": []
    },
    {
     "name": "stdout",
     "output_type": "stream",
     "text": [
      "Training until validation scores don't improve for 15 rounds\n"
     ]
    },
    {
     "name": "stderr",
     "output_type": "stream",
     "text": []
    },
    {
     "name": "stdout",
     "output_type": "stream",
     "text": [
      "Early stopping, best iteration is:\n",
      "[39]\tvalid_0's ndcg@3: 0.715277\n",
      "Training until validation scores don't improve for 15 rounds\n"
     ]
    },
    {
     "name": "stderr",
     "output_type": "stream",
     "text": []
    },
    {
     "name": "stdout",
     "output_type": "stream",
     "text": [
      "Early stopping, best iteration is:\n",
      "[10]\tvalid_0's ndcg@3: 0.674497\n",
      "Training until validation scores don't improve for 15 rounds\n"
     ]
    },
    {
     "name": "stderr",
     "output_type": "stream",
     "text": [
      "训练分层(1000 rankers): 100%|██████████| 6/6 [00:08<00:00,  1.49s/it, 模型=LightGBM, Fold=3]\n",
      "总体进度:  87%|████████▋ | 58/67 [09:29<01:29,  9.92s/it]"
     ]
    },
    {
     "name": "stdout",
     "output_type": "stream",
     "text": [
      "Early stopping, best iteration is:\n",
      "[9]\tvalid_0's ndcg@3: 0.670956\n",
      "\n",
      "第 59/67 层\n"
     ]
    },
    {
     "name": "stderr",
     "output_type": "stream",
     "text": []
    },
    {
     "name": "stdout",
     "output_type": "stream",
     "text": [
      "Training until validation scores don't improve for 15 rounds\n"
     ]
    },
    {
     "name": "stderr",
     "output_type": "stream",
     "text": [
      "\n"
     ]
    },
    {
     "name": "stdout",
     "output_type": "stream",
     "text": [
      "Early stopping, best iteration is:\n",
      "[13]\tvalid_0's ndcg@3: 0.69094\n"
     ]
    },
    {
     "name": "stderr",
     "output_type": "stream",
     "text": [
      "训练分层(1000 rankers):  67%|██████▋   | 4/6 [00:03<00:02,  1.13s/it, 模型=LightGBM, Fold=2]\u001b[A"
     ]
    },
    {
     "name": "stdout",
     "output_type": "stream",
     "text": [
      "Training until validation scores don't improve for 15 rounds\n"
     ]
    },
    {
     "name": "stderr",
     "output_type": "stream",
     "text": []
    },
    {
     "name": "stdout",
     "output_type": "stream",
     "text": [
      "Early stopping, best iteration is:\n",
      "[9]\tvalid_0's ndcg@3: 0.685231\n",
      "Training until validation scores don't improve for 15 rounds\n"
     ]
    },
    {
     "name": "stderr",
     "output_type": "stream",
     "text": [
      "训练分层(1000 rankers): 100%|██████████| 6/6 [00:06<00:00,  1.15s/it, 模型=LightGBM, Fold=3]\n",
      "总体进度:  88%|████████▊ | 59/67 [09:36<01:12,  9.12s/it]"
     ]
    },
    {
     "name": "stdout",
     "output_type": "stream",
     "text": [
      "Early stopping, best iteration is:\n",
      "[2]\tvalid_0's ndcg@3: 0.693199\n",
      "\n",
      "第 60/67 层\n"
     ]
    },
    {
     "name": "stderr",
     "output_type": "stream",
     "text": []
    },
    {
     "name": "stdout",
     "output_type": "stream",
     "text": [
      "Training until validation scores don't improve for 15 rounds\n"
     ]
    },
    {
     "name": "stderr",
     "output_type": "stream",
     "text": []
    },
    {
     "name": "stdout",
     "output_type": "stream",
     "text": [
      "Early stopping, best iteration is:\n",
      "[7]\tvalid_0's ndcg@3: 0.688151\n",
      "Training until validation scores don't improve for 15 rounds\n"
     ]
    },
    {
     "name": "stderr",
     "output_type": "stream",
     "text": []
    },
    {
     "name": "stdout",
     "output_type": "stream",
     "text": [
      "Early stopping, best iteration is:\n",
      "[12]\tvalid_0's ndcg@3: 0.712473\n",
      "Training until validation scores don't improve for 15 rounds\n"
     ]
    },
    {
     "name": "stderr",
     "output_type": "stream",
     "text": [
      "训练分层(1000 rankers): 100%|██████████| 6/6 [00:06<00:00,  1.16s/it, 模型=LightGBM, Fold=3]\n",
      "总体进度:  90%|████████▉ | 60/67 [09:44<00:59,  8.56s/it]"
     ]
    },
    {
     "name": "stdout",
     "output_type": "stream",
     "text": [
      "Early stopping, best iteration is:\n",
      "[5]\tvalid_0's ndcg@3: 0.688461\n",
      "\n",
      "第 61/67 层\n"
     ]
    },
    {
     "name": "stderr",
     "output_type": "stream",
     "text": []
    },
    {
     "name": "stdout",
     "output_type": "stream",
     "text": [
      "Training until validation scores don't improve for 15 rounds\n"
     ]
    },
    {
     "name": "stderr",
     "output_type": "stream",
     "text": []
    },
    {
     "name": "stdout",
     "output_type": "stream",
     "text": [
      "Early stopping, best iteration is:\n",
      "[16]\tvalid_0's ndcg@3: 0.665196\n",
      "Training until validation scores don't improve for 15 rounds\n"
     ]
    },
    {
     "name": "stderr",
     "output_type": "stream",
     "text": []
    },
    {
     "name": "stdout",
     "output_type": "stream",
     "text": [
      "Early stopping, best iteration is:\n",
      "[68]\tvalid_0's ndcg@3: 0.698169\n",
      "Training until validation scores don't improve for 15 rounds\n"
     ]
    },
    {
     "name": "stderr",
     "output_type": "stream",
     "text": [
      "训练分层(1000 rankers): 100%|██████████| 6/6 [00:11<00:00,  1.90s/it, 模型=LightGBM, Fold=3]\n",
      "总体进度:  91%|█████████ | 61/67 [09:55<00:56,  9.49s/it]"
     ]
    },
    {
     "name": "stdout",
     "output_type": "stream",
     "text": [
      "Early stopping, best iteration is:\n",
      "[16]\tvalid_0's ndcg@3: 0.693491\n",
      "\n",
      "第 62/67 层\n"
     ]
    },
    {
     "name": "stderr",
     "output_type": "stream",
     "text": []
    },
    {
     "name": "stdout",
     "output_type": "stream",
     "text": [
      "Training until validation scores don't improve for 15 rounds\n"
     ]
    },
    {
     "name": "stderr",
     "output_type": "stream",
     "text": []
    },
    {
     "name": "stdout",
     "output_type": "stream",
     "text": [
      "Early stopping, best iteration is:\n",
      "[3]\tvalid_0's ndcg@3: 0.684825\n",
      "Training until validation scores don't improve for 15 rounds\n"
     ]
    },
    {
     "name": "stderr",
     "output_type": "stream",
     "text": []
    },
    {
     "name": "stdout",
     "output_type": "stream",
     "text": [
      "Early stopping, best iteration is:\n",
      "[11]\tvalid_0's ndcg@3: 0.670761\n",
      "Training until validation scores don't improve for 15 rounds\n"
     ]
    },
    {
     "name": "stderr",
     "output_type": "stream",
     "text": [
      "训练分层(1000 rankers): 100%|██████████| 6/6 [00:07<00:00,  1.18s/it, 模型=LightGBM, Fold=3]\n",
      "总体进度:  93%|█████████▎| 62/67 [10:03<00:44,  8.88s/it]"
     ]
    },
    {
     "name": "stdout",
     "output_type": "stream",
     "text": [
      "Early stopping, best iteration is:\n",
      "[12]\tvalid_0's ndcg@3: 0.704188\n",
      "\n",
      "第 63/67 层\n"
     ]
    },
    {
     "name": "stderr",
     "output_type": "stream",
     "text": []
    },
    {
     "name": "stdout",
     "output_type": "stream",
     "text": [
      "Training until validation scores don't improve for 15 rounds\n"
     ]
    },
    {
     "name": "stderr",
     "output_type": "stream",
     "text": []
    },
    {
     "name": "stdout",
     "output_type": "stream",
     "text": [
      "Early stopping, best iteration is:\n",
      "[9]\tvalid_0's ndcg@3: 0.672404\n",
      "Training until validation scores don't improve for 15 rounds\n"
     ]
    },
    {
     "name": "stderr",
     "output_type": "stream",
     "text": []
    },
    {
     "name": "stdout",
     "output_type": "stream",
     "text": [
      "Early stopping, best iteration is:\n",
      "[10]\tvalid_0's ndcg@3: 0.683974\n",
      "Training until validation scores don't improve for 15 rounds\n"
     ]
    },
    {
     "name": "stderr",
     "output_type": "stream",
     "text": [
      "训练分层(1000 rankers): 100%|██████████| 6/6 [00:07<00:00,  1.25s/it, 模型=LightGBM, Fold=3]\n",
      "总体进度:  94%|█████████▍| 63/67 [10:10<00:34,  8.56s/it]"
     ]
    },
    {
     "name": "stdout",
     "output_type": "stream",
     "text": [
      "Early stopping, best iteration is:\n",
      "[12]\tvalid_0's ndcg@3: 0.704675\n",
      "\n",
      "第 64/67 层\n"
     ]
    },
    {
     "name": "stderr",
     "output_type": "stream",
     "text": []
    },
    {
     "name": "stdout",
     "output_type": "stream",
     "text": [
      "Training until validation scores don't improve for 15 rounds\n"
     ]
    },
    {
     "name": "stderr",
     "output_type": "stream",
     "text": []
    },
    {
     "name": "stdout",
     "output_type": "stream",
     "text": [
      "Early stopping, best iteration is:\n",
      "[24]\tvalid_0's ndcg@3: 0.657395\n",
      "Training until validation scores don't improve for 15 rounds\n"
     ]
    },
    {
     "name": "stderr",
     "output_type": "stream",
     "text": []
    },
    {
     "name": "stdout",
     "output_type": "stream",
     "text": [
      "Early stopping, best iteration is:\n",
      "[11]\tvalid_0's ndcg@3: 0.674754\n",
      "Training until validation scores don't improve for 15 rounds\n"
     ]
    },
    {
     "name": "stderr",
     "output_type": "stream",
     "text": [
      "训练分层(1000 rankers): 100%|██████████| 6/6 [00:07<00:00,  1.29s/it, 模型=LightGBM, Fold=3]\n",
      "总体进度:  96%|█████████▌| 64/67 [10:19<00:25,  8.43s/it]"
     ]
    },
    {
     "name": "stdout",
     "output_type": "stream",
     "text": [
      "Early stopping, best iteration is:\n",
      "[8]\tvalid_0's ndcg@3: 0.664709\n",
      "\n",
      "第 65/67 层\n"
     ]
    },
    {
     "name": "stderr",
     "output_type": "stream",
     "text": []
    },
    {
     "name": "stdout",
     "output_type": "stream",
     "text": [
      "Training until validation scores don't improve for 15 rounds\n"
     ]
    },
    {
     "name": "stderr",
     "output_type": "stream",
     "text": []
    },
    {
     "name": "stdout",
     "output_type": "stream",
     "text": [
      "Early stopping, best iteration is:\n",
      "[47]\tvalid_0's ndcg@3: 0.65945\n",
      "Training until validation scores don't improve for 15 rounds\n"
     ]
    },
    {
     "name": "stderr",
     "output_type": "stream",
     "text": []
    },
    {
     "name": "stdout",
     "output_type": "stream",
     "text": [
      "Early stopping, best iteration is:\n",
      "[18]\tvalid_0's ndcg@3: 0.663916\n",
      "Training until validation scores don't improve for 15 rounds\n"
     ]
    },
    {
     "name": "stderr",
     "output_type": "stream",
     "text": [
      "训练分层(1000 rankers): 100%|██████████| 6/6 [00:09<00:00,  1.66s/it, 模型=LightGBM, Fold=3]\n",
      "总体进度:  97%|█████████▋| 65/67 [10:29<00:17,  8.99s/it]"
     ]
    },
    {
     "name": "stdout",
     "output_type": "stream",
     "text": [
      "Early stopping, best iteration is:\n",
      "[9]\tvalid_0's ndcg@3: 0.611878\n",
      "\n",
      "第 66/67 层\n"
     ]
    },
    {
     "name": "stderr",
     "output_type": "stream",
     "text": []
    },
    {
     "name": "stdout",
     "output_type": "stream",
     "text": [
      "Training until validation scores don't improve for 15 rounds\n"
     ]
    },
    {
     "name": "stderr",
     "output_type": "stream",
     "text": []
    },
    {
     "name": "stdout",
     "output_type": "stream",
     "text": [
      "Early stopping, best iteration is:\n",
      "[57]\tvalid_0's ndcg@3: 0.649631\n",
      "Training until validation scores don't improve for 15 rounds\n"
     ]
    },
    {
     "name": "stderr",
     "output_type": "stream",
     "text": []
    },
    {
     "name": "stdout",
     "output_type": "stream",
     "text": [
      "Early stopping, best iteration is:\n",
      "[25]\tvalid_0's ndcg@3: 0.648402\n",
      "Training until validation scores don't improve for 15 rounds\n"
     ]
    },
    {
     "name": "stderr",
     "output_type": "stream",
     "text": [
      "训练分层(1000 rankers): 100%|██████████| 6/6 [00:12<00:00,  2.14s/it, 模型=LightGBM, Fold=3]\n",
      "总体进度:  99%|█████████▊| 66/67 [10:42<00:10, 10.23s/it]"
     ]
    },
    {
     "name": "stdout",
     "output_type": "stream",
     "text": [
      "Early stopping, best iteration is:\n",
      "[49]\tvalid_0's ndcg@3: 0.665219\n",
      "\n",
      "第 67/67 层\n"
     ]
    },
    {
     "name": "stderr",
     "output_type": "stream",
     "text": []
    },
    {
     "name": "stdout",
     "output_type": "stream",
     "text": [
      "Training until validation scores don't improve for 15 rounds\n"
     ]
    },
    {
     "name": "stderr",
     "output_type": "stream",
     "text": []
    },
    {
     "name": "stdout",
     "output_type": "stream",
     "text": [
      "Early stopping, best iteration is:\n",
      "[23]\tvalid_0's ndcg@3: 0.636254\n",
      "Training until validation scores don't improve for 15 rounds\n"
     ]
    },
    {
     "name": "stderr",
     "output_type": "stream",
     "text": []
    },
    {
     "name": "stdout",
     "output_type": "stream",
     "text": [
      "Early stopping, best iteration is:\n",
      "[3]\tvalid_0's ndcg@3: 0.680435\n",
      "Training until validation scores don't improve for 15 rounds\n"
     ]
    },
    {
     "name": "stderr",
     "output_type": "stream",
     "text": [
      "训练分层(586 rankers): 100%|██████████| 6/6 [00:07<00:00,  1.31s/it, 模型=LightGBM, Fold=3]\n",
      "总体进度: 100%|██████████| 67/67 [10:50<00:00,  9.71s/it]"
     ]
    },
    {
     "name": "stdout",
     "output_type": "stream",
     "text": [
      "Early stopping, best iteration is:\n",
      "[21]\tvalid_0's ndcg@3: 0.638288\n",
      "\n",
      "🔮 开始预测...\n"
     ]
    },
    {
     "name": "stderr",
     "output_type": "stream",
     "text": [
      "\n",
      "集成预测: 100%|██████████| 2/2 [05:11<00:00, 155.58s/it, 模型=LightGBM]\n",
      "                                                                 \r"
     ]
    },
    {
     "name": "stdout",
     "output_type": "stream",
     "text": [
      "✅ 验证排名...\n",
      " 完成! 使用 12 个特征, 3 折交叉验证\n",
      "🚀 开始航班推荐排序流程\n",
      "加载数据...\n"
     ]
    },
    {
     "name": "stderr",
     "output_type": "stream",
     "text": [
      "清理数据: 100%|██████████| 2/2 [00:02<00:00,  1.03s/it]\n"
     ]
    },
    {
     "name": "stdout",
     "output_type": "stream",
     "text": [
      "开始特征选择: 284 -> 150\n"
     ]
    },
    {
     "name": "stderr",
     "output_type": "stream",
     "text": [
      "                                                                \r"
     ]
    },
    {
     "name": "stdout",
     "output_type": "stream",
     "text": [
      "特征选择完成: 15 个特征\n",
      "数据加载完成: 训练集(1120257, 18), 测试集(358948, 17)\n",
      "📊 分层训练: 6 层, 每层最多 1000 个ranker\n"
     ]
    },
    {
     "name": "stderr",
     "output_type": "stream",
     "text": [
      "总体进度:   0%|          | 0/6 [00:00<?, ?it/s]"
     ]
    },
    {
     "name": "stdout",
     "output_type": "stream",
     "text": [
      "\n",
      "第 1/6 层\n"
     ]
    },
    {
     "name": "stderr",
     "output_type": "stream",
     "text": []
    },
    {
     "name": "stdout",
     "output_type": "stream",
     "text": [
      "Training until validation scores don't improve for 15 rounds\n"
     ]
    },
    {
     "name": "stderr",
     "output_type": "stream",
     "text": []
    },
    {
     "name": "stdout",
     "output_type": "stream",
     "text": [
      "Early stopping, best iteration is:\n",
      "[17]\tvalid_0's ndcg@3: 0.70249\n",
      "Training until validation scores don't improve for 15 rounds\n"
     ]
    },
    {
     "name": "stderr",
     "output_type": "stream",
     "text": []
    },
    {
     "name": "stdout",
     "output_type": "stream",
     "text": [
      "Early stopping, best iteration is:\n",
      "[41]\tvalid_0's ndcg@3: 0.727786\n",
      "Training until validation scores don't improve for 15 rounds\n"
     ]
    },
    {
     "name": "stderr",
     "output_type": "stream",
     "text": [
      "训练分层(1000 rankers): 100%|██████████| 6/6 [00:08<00:00,  1.34s/it, 模型=LightGBM, Fold=3]\n",
      "总体进度:  17%|█▋        | 1/6 [00:08<00:40,  8.10s/it]"
     ]
    },
    {
     "name": "stdout",
     "output_type": "stream",
     "text": [
      "Early stopping, best iteration is:\n",
      "[20]\tvalid_0's ndcg@3: 0.670904\n",
      "\n",
      "第 2/6 层\n"
     ]
    },
    {
     "name": "stderr",
     "output_type": "stream",
     "text": []
    },
    {
     "name": "stdout",
     "output_type": "stream",
     "text": [
      "Training until validation scores don't improve for 15 rounds\n"
     ]
    },
    {
     "name": "stderr",
     "output_type": "stream",
     "text": []
    },
    {
     "name": "stdout",
     "output_type": "stream",
     "text": [
      "Early stopping, best iteration is:\n",
      "[45]\tvalid_0's ndcg@3: 0.722652\n",
      "Training until validation scores don't improve for 15 rounds\n"
     ]
    },
    {
     "name": "stderr",
     "output_type": "stream",
     "text": []
    },
    {
     "name": "stdout",
     "output_type": "stream",
     "text": [
      "Early stopping, best iteration is:\n",
      "[21]\tvalid_0's ndcg@3: 0.711175\n",
      "Training until validation scores don't improve for 15 rounds\n"
     ]
    },
    {
     "name": "stderr",
     "output_type": "stream",
     "text": [
      "训练分层(1000 rankers): 100%|██████████| 6/6 [00:07<00:00,  1.27s/it, 模型=LightGBM, Fold=3]\n",
      "总体进度:  33%|███▎      | 2/6 [00:15<00:31,  7.87s/it]"
     ]
    },
    {
     "name": "stdout",
     "output_type": "stream",
     "text": [
      "Early stopping, best iteration is:\n",
      "[11]\tvalid_0's ndcg@3: 0.698162\n",
      "\n",
      "第 3/6 层\n"
     ]
    },
    {
     "name": "stderr",
     "output_type": "stream",
     "text": []
    },
    {
     "name": "stdout",
     "output_type": "stream",
     "text": [
      "Training until validation scores don't improve for 15 rounds\n"
     ]
    },
    {
     "name": "stderr",
     "output_type": "stream",
     "text": []
    },
    {
     "name": "stdout",
     "output_type": "stream",
     "text": [
      "Early stopping, best iteration is:\n",
      "[7]\tvalid_0's ndcg@3: 0.68609\n",
      "Training until validation scores don't improve for 15 rounds\n"
     ]
    },
    {
     "name": "stderr",
     "output_type": "stream",
     "text": []
    },
    {
     "name": "stdout",
     "output_type": "stream",
     "text": [
      "Early stopping, best iteration is:\n",
      "[9]\tvalid_0's ndcg@3: 0.705158\n",
      "Training until validation scores don't improve for 15 rounds\n"
     ]
    },
    {
     "name": "stderr",
     "output_type": "stream",
     "text": [
      "训练分层(1000 rankers): 100%|██████████| 6/6 [00:06<00:00,  1.13s/it, 模型=LightGBM, Fold=3]\n",
      "总体进度:  50%|█████     | 3/6 [00:22<00:22,  7.40s/it]"
     ]
    },
    {
     "name": "stdout",
     "output_type": "stream",
     "text": [
      "Early stopping, best iteration is:\n",
      "[18]\tvalid_0's ndcg@3: 0.69729\n",
      "\n",
      "第 4/6 层\n"
     ]
    },
    {
     "name": "stderr",
     "output_type": "stream",
     "text": []
    },
    {
     "name": "stdout",
     "output_type": "stream",
     "text": [
      "Training until validation scores don't improve for 15 rounds\n"
     ]
    },
    {
     "name": "stderr",
     "output_type": "stream",
     "text": []
    },
    {
     "name": "stdout",
     "output_type": "stream",
     "text": [
      "Early stopping, best iteration is:\n",
      "[11]\tvalid_0's ndcg@3: 0.710869\n",
      "Training until validation scores don't improve for 15 rounds\n"
     ]
    },
    {
     "name": "stderr",
     "output_type": "stream",
     "text": []
    },
    {
     "name": "stdout",
     "output_type": "stream",
     "text": [
      "Early stopping, best iteration is:\n",
      "[29]\tvalid_0's ndcg@3: 0.698351\n",
      "Training until validation scores don't improve for 15 rounds\n"
     ]
    },
    {
     "name": "stderr",
     "output_type": "stream",
     "text": [
      "训练分层(1000 rankers): 100%|██████████| 6/6 [00:10<00:00,  1.80s/it, 模型=LightGBM, Fold=3]\n",
      "总体进度:  67%|██████▋   | 4/6 [00:33<00:17,  8.78s/it]"
     ]
    },
    {
     "name": "stdout",
     "output_type": "stream",
     "text": [
      "Early stopping, best iteration is:\n",
      "[71]\tvalid_0's ndcg@3: 0.71045\n",
      "\n",
      "第 5/6 层\n"
     ]
    },
    {
     "name": "stderr",
     "output_type": "stream",
     "text": []
    },
    {
     "name": "stdout",
     "output_type": "stream",
     "text": [
      "Training until validation scores don't improve for 15 rounds\n"
     ]
    },
    {
     "name": "stderr",
     "output_type": "stream",
     "text": []
    },
    {
     "name": "stdout",
     "output_type": "stream",
     "text": [
      "Early stopping, best iteration is:\n",
      "[59]\tvalid_0's ndcg@3: 0.73026\n",
      "Training until validation scores don't improve for 15 rounds\n"
     ]
    },
    {
     "name": "stderr",
     "output_type": "stream",
     "text": []
    },
    {
     "name": "stdout",
     "output_type": "stream",
     "text": [
      "Early stopping, best iteration is:\n",
      "[37]\tvalid_0's ndcg@3: 0.727658\n",
      "Training until validation scores don't improve for 15 rounds\n"
     ]
    },
    {
     "name": "stderr",
     "output_type": "stream",
     "text": [
      "训练分层(1000 rankers): 100%|██████████| 6/6 [00:10<00:00,  1.80s/it, 模型=LightGBM, Fold=3]\n",
      "总体进度:  83%|████████▎ | 5/6 [00:44<00:09,  9.54s/it]"
     ]
    },
    {
     "name": "stdout",
     "output_type": "stream",
     "text": [
      "Early stopping, best iteration is:\n",
      "[26]\tvalid_0's ndcg@3: 0.713773\n",
      "\n",
      "第 6/6 层\n"
     ]
    },
    {
     "name": "stderr",
     "output_type": "stream",
     "text": []
    },
    {
     "name": "stdout",
     "output_type": "stream",
     "text": [
      "Training until validation scores don't improve for 15 rounds\n"
     ]
    },
    {
     "name": "stderr",
     "output_type": "stream",
     "text": []
    },
    {
     "name": "stdout",
     "output_type": "stream",
     "text": [
      "Early stopping, best iteration is:\n",
      "[37]\tvalid_0's ndcg@3: 0.698988\n",
      "Training until validation scores don't improve for 15 rounds\n"
     ]
    },
    {
     "name": "stderr",
     "output_type": "stream",
     "text": []
    },
    {
     "name": "stdout",
     "output_type": "stream",
     "text": [
      "Early stopping, best iteration is:\n",
      "[8]\tvalid_0's ndcg@3: 0.654112\n",
      "Training until validation scores don't improve for 15 rounds\n"
     ]
    },
    {
     "name": "stderr",
     "output_type": "stream",
     "text": [
      "训练分层(575 rankers): 100%|██████████| 6/6 [00:06<00:00,  1.11s/it, 模型=LightGBM, Fold=3]\n",
      "总体进度: 100%|██████████| 6/6 [00:51<00:00,  8.53s/it]\n"
     ]
    },
    {
     "name": "stdout",
     "output_type": "stream",
     "text": [
      "Early stopping, best iteration is:\n",
      "[14]\tvalid_0's ndcg@3: 0.669835\n",
      "\n",
      "🔮 开始预测...\n"
     ]
    },
    {
     "name": "stderr",
     "output_type": "stream",
     "text": [
      "集成预测: 100%|██████████| 2/2 [00:03<00:00,  1.70s/it, 模型=LightGBM]\n",
      "                                                             \r"
     ]
    },
    {
     "name": "stdout",
     "output_type": "stream",
     "text": [
      "✅ 验证排名...\n",
      " 完成! 使用 15 个特征, 3 折交叉验证\n"
     ]
    }
   ],
   "source": [
    "import pandas as pd\n",
    "import numpy as np\n",
    "import xgboost as xgb\n",
    "import lightgbm as lgb\n",
    "from sklearn.model_selection import GroupKFold\n",
    "from sklearn.feature_selection import SelectKBest, f_classif, mutual_info_classif\n",
    "from sklearn.ensemble import RandomForestClassifier\n",
    "from tqdm import tqdm\n",
    "import time\n",
    "import os\n",
    "import gc\n",
    "import warnings\n",
    "import subprocess\n",
    "from typing import List, Dict, Tuple, Optional\n",
    "warnings.filterwarnings('ignore')\n",
    "\n",
    "class FeatureSelector:\n",
    "    def __init__(self, max_features: int = 200):\n",
    "        self.max_features = max_features\n",
    "        self.selected_features = None\n",
    "        \n",
    "    def remove_constant_features(self, X: pd.DataFrame) -> List[str]:\n",
    "        valid_features = []\n",
    "        for col in tqdm(X.columns, desc=\"移除常量特征\", leave=False):\n",
    "            unique_ratio = X[col].nunique() / len(X)\n",
    "            if X[col].nunique() > 1:\n",
    "                mode_ratio = X[col].value_counts().iloc[0] / len(X)\n",
    "                if mode_ratio < 0.95 and unique_ratio > 0.01:\n",
    "                    valid_features.append(col)\n",
    "        return valid_features\n",
    "    \n",
    "    def remove_correlated_features(self, X: pd.DataFrame) -> List[str]:\n",
    "        corr_matrix = X.corr().abs()\n",
    "        upper_triangle = corr_matrix.where(np.triu(np.ones(corr_matrix.shape), k=1).astype(bool))\n",
    "        to_drop = [col for col in upper_triangle.columns if any(upper_triangle[col] > 0.95)]\n",
    "        return [col for col in X.columns if col not in to_drop]\n",
    "    \n",
    "    def select_by_importance(self, X: pd.DataFrame, y: pd.Series, top_k: int) -> List[str]:\n",
    "        y_binary = (y == 1).astype(int)\n",
    "        \n",
    "        if len(X) > 50000:\n",
    "            sample_idx = np.random.choice(len(X), 50000, replace=False)\n",
    "            X_sample, y_sample = X.iloc[sample_idx], y_binary.iloc[sample_idx]\n",
    "        else:\n",
    "            X_sample, y_sample = X, y_binary\n",
    "        \n",
    "        try:\n",
    "            model = lgb.LGBMClassifier(n_estimators=50, max_depth=6, verbose=-1, random_state=42)\n",
    "            model.fit(X_sample, y_sample)\n",
    "            importance = dict(zip(X.columns, model.feature_importances_))\n",
    "        except:\n",
    "            model = RandomForestClassifier(n_estimators=50, max_depth=8, random_state=42, n_jobs=4)\n",
    "            model.fit(X_sample, y_sample)\n",
    "            importance = dict(zip(X.columns, model.feature_importances_))\n",
    "        \n",
    "        return [f[0] for f in sorted(importance.items(), key=lambda x: x[1], reverse=True)[:top_k]]\n",
    "    \n",
    "    def select_by_statistical(self, X: pd.DataFrame, y: pd.Series, top_k: int) -> List[str]:\n",
    "        y_binary = (y == 1).astype(int)\n",
    "        \n",
    "        if len(X) > 30000:\n",
    "            sample_idx = np.random.choice(len(X), 30000, replace=False)\n",
    "            X_sample, y_sample = X.iloc[sample_idx], y_binary.iloc[sample_idx]\n",
    "        else:\n",
    "            X_sample, y_sample = X, y_binary\n",
    "        \n",
    "        try:\n",
    "            selector = SelectKBest(score_func=f_classif, k=min(top_k, X_sample.shape[1]))\n",
    "            selector.fit(X_sample, y_sample)\n",
    "            scores = dict(zip(X.columns, selector.scores_))\n",
    "            return [f[0] for f in sorted(scores.items(), key=lambda x: x[1], reverse=True)[:top_k]]\n",
    "        except:\n",
    "            return X.columns.tolist()[:top_k]\n",
    "    \n",
    "    def select_features(self, X: pd.DataFrame, y: pd.Series) -> List[str]:\n",
    "        print(f\"开始特征选择: {X.shape[1]} -> {self.max_features}\")\n",
    "        \n",
    "        # 移除常量和相关特征\n",
    "        features = self.remove_constant_features(X)\n",
    "        X_filtered = X[features]\n",
    "        \n",
    "        with tqdm(total=1, desc=\"移除相关特征\", leave=False) as pbar:\n",
    "            features = self.remove_correlated_features(X_filtered)\n",
    "            pbar.update(1)\n",
    "        \n",
    "        X_filtered = X_filtered[features]\n",
    "        \n",
    "        if len(features) <= self.max_features:\n",
    "            self.selected_features = features\n",
    "            print(f\"特征选择完成: {len(features)} 个特征\")\n",
    "            return features\n",
    "        \n",
    "        # # 多方法选择\n",
    "        # k = min(self.max_features // 2, len(features))\n",
    "        \n",
    "        # with tqdm(total=2, desc=\"特征选择\") as pbar:\n",
    "        #     importance_features = self.select_by_importance(X_filtered, y, k)\n",
    "        #     pbar.update(1)\n",
    "        #     statistical_features = self.select_by_statistical(X_filtered, y, k)\n",
    "        #     pbar.update(1)\n",
    "        \n",
    "        # # 合并去重\n",
    "        # combined = list(set(importance_features + statistical_features))\n",
    "        # self.selected_features = combined[:self.max_features]\n",
    "        \n",
    "        self.selected_features = features\n",
    "        print(f\"特征选择完成: {len(self.selected_features)} 个特征\")\n",
    "        return self.selected_features\n",
    "\n",
    "class BaseRanker:\n",
    "    def __init__(self, name: str):\n",
    "        self.name = name\n",
    "        self.models = []\n",
    "        \n",
    "    def train_fold(self, X_train, y_train, train_groups, X_val, y_val, val_groups, fold_idx):\n",
    "        raise NotImplementedError\n",
    "    \n",
    "    def predict_fold(self, X_test, fold_idx):\n",
    "        raise NotImplementedError\n",
    "    \n",
    "    def predict_ensemble(self, X_test):\n",
    "        predictions = [self.predict_fold(X_test, i) for i in range(len(self.models))]\n",
    "        return np.mean(predictions, axis=0)\n",
    "\n",
    "class XGBoostRanker(BaseRanker):\n",
    "    def __init__(self, use_gpu=True):\n",
    "        super().__init__(\"XGBoost\")\n",
    "        \n",
    "        self.params = {\n",
    "            'objective': 'rank:pairwise',\n",
    "            'learning_rate': 0.05,\n",
    "            'gamma': 1.0,\n",
    "            'min_child_weight': 0.1,\n",
    "            'max_depth': 8,\n",
    "            'subsample': 0.8,\n",
    "            'colsample_bytree': 0.8,\n",
    "            'eval_metric': 'ndcg@3',\n",
    "            'seed': 42\n",
    "        }\n",
    "        \n",
    "        if use_gpu and self._check_gpu():\n",
    "            self.params.update({\n",
    "                'tree_method': 'gpu_hist',\n",
    "                'gpu_id': 0,\n",
    "                'predictor': 'gpu_predictor'\n",
    "            })\n",
    "        else:\n",
    "            self.params['n_jobs'] = 8\n",
    "    \n",
    "    def _check_gpu(self):\n",
    "        try:\n",
    "            return subprocess.run(['nvidia-smi'], capture_output=True).returncode == 0\n",
    "        except:\n",
    "            return False\n",
    "    \n",
    "    def train_fold(self, X_train, y_train, train_groups, X_val, y_val, val_groups, fold_idx):\n",
    "        dtrain = xgb.DMatrix(X_train, label=y_train)\n",
    "        dtrain.set_group(train_groups)\n",
    "        \n",
    "        dval = xgb.DMatrix(X_val, label=y_val)\n",
    "        dval.set_group(val_groups)\n",
    "        \n",
    "        model = xgb.train(\n",
    "            self.params, dtrain,\n",
    "            num_boost_round=300,\n",
    "            evals=[(dval, 'val')],\n",
    "            early_stopping_rounds=15,\n",
    "            verbose_eval=False\n",
    "        )\n",
    "        \n",
    "        self.models.append(model)\n",
    "        return model\n",
    "    \n",
    "    def predict_fold(self, X_test, fold_idx):\n",
    "        dtest = xgb.DMatrix(X_test)\n",
    "        return self.models[fold_idx].predict(dtest)\n",
    "\n",
    "class LightGBMRanker(BaseRanker):\n",
    "    def __init__(self, use_gpu=True):\n",
    "        super().__init__(\"LightGBM\")\n",
    "        \n",
    "        self.params = {\n",
    "            'objective': 'lambdarank',\n",
    "            'metric': 'ndcg',\n",
    "            'ndcg_eval_at': [3],\n",
    "            'learning_rate': 0.05,\n",
    "            'num_leaves': 255,\n",
    "            'max_depth': 8,\n",
    "            'feature_fraction': 0.8,\n",
    "            'bagging_fraction': 0.8,\n",
    "            'bagging_freq': 5,\n",
    "            'verbose': -1,\n",
    "            'seed': 42\n",
    "        }\n",
    "        \n",
    "        if use_gpu and self._check_gpu():\n",
    "            self.params.update({\n",
    "                'device_type': 'gpu',\n",
    "                'gpu_platform_id': 0,\n",
    "                'gpu_device_id': 0\n",
    "            })\n",
    "        else:\n",
    "            self.params['num_threads'] = 8\n",
    "    \n",
    "    def _check_gpu(self):\n",
    "        try:\n",
    "            return subprocess.run(['nvidia-smi'], capture_output=True).returncode == 0\n",
    "        except:\n",
    "            return False\n",
    "    \n",
    "    def train_fold(self, X_train, y_train, train_groups, X_val, y_val, val_groups, fold_idx):\n",
    "        train_data = lgb.Dataset(X_train, label=y_train, group=train_groups)\n",
    "        val_data = lgb.Dataset(X_val, label=y_val, group=val_groups, reference=train_data)\n",
    "        \n",
    "        model = lgb.train(\n",
    "            self.params, train_data,\n",
    "            num_boost_round=300,\n",
    "            valid_sets=[val_data],\n",
    "            callbacks=[lgb.early_stopping(15), lgb.log_evaluation(0)]\n",
    "        )\n",
    "        \n",
    "        self.models.append(model)\n",
    "        return model\n",
    "    \n",
    "    def predict_fold(self, X_test, fold_idx):\n",
    "        return self.models[fold_idx].predict(X_test, num_iteration=self.models[fold_idx].best_iteration)\n",
    "\n",
    "class StratifiedFlightRanker:\n",
    "    def __init__(self, data_path: str, output_path: str, segment_num:int = 0, use_gpu: bool = True, \n",
    "                 max_rankers_per_layer: int = 1000, n_folds: int = 3, max_features: int = 200):\n",
    "        self.data_path = data_path\n",
    "        self.output_path = output_path\n",
    "        self.segment_num = segment_num\n",
    "        self.max_rankers_per_layer = max_rankers_per_layer\n",
    "        self.n_folds = n_folds\n",
    "        os.makedirs(self.output_path, exist_ok=True)\n",
    "        \n",
    "        self.rankers = {}\n",
    "        self.selected_features = None\n",
    "        self.feature_selector = FeatureSelector(max_features)\n",
    "    \n",
    "    def add_ranker(self, ranker: BaseRanker):\n",
    "        self.rankers[ranker.name] = ranker\n",
    "    \n",
    "    def load_and_align_data(self) -> Tuple[pd.DataFrame, pd.DataFrame]:\n",
    "        print(\"加载数据...\")\n",
    "        train_df = pd.read_parquet(os.path.join(self.data_path, f'train/train_segment_{self.segment_num}.parquet'))\n",
    "        test_df = pd.read_parquet(os.path.join(self.data_path, f'test/test_segment_{self.segment_num}.parquet'))\n",
    "        \n",
    "        # 找共同特征\n",
    "        train_features = [col for col in train_df.columns if col not in ['Id', 'ranker_id', 'selected']]\n",
    "        test_features = [col for col in test_df.columns if col not in ['Id', 'ranker_id', 'selected']]\n",
    "        common_features = sorted(list(set(train_features) & set(test_features)))\n",
    "        \n",
    "        # 清理数据\n",
    "        with tqdm(total=2, desc=\"清理数据\") as pbar:\n",
    "            train_df = self._clean_data(train_df[['Id', 'ranker_id', 'selected'] + common_features])\n",
    "            pbar.update(1)\n",
    "            test_df = self._clean_data(test_df[['Id', 'ranker_id'] + common_features])\n",
    "            pbar.update(1)\n",
    "        \n",
    "        # 特征选择\n",
    "        if len(train_df) > 100000:\n",
    "            sample_groups = np.random.choice(train_df['ranker_id'].unique(), \n",
    "                                           min(1000, len(train_df['ranker_id'].unique())), replace=False)\n",
    "            sample_mask = train_df['ranker_id'].isin(sample_groups)\n",
    "            X_sample = train_df.loc[sample_mask, common_features]\n",
    "            y_sample = train_df.loc[sample_mask, 'selected']\n",
    "        else:\n",
    "            X_sample = train_df[common_features]\n",
    "            y_sample = train_df['selected']\n",
    "        \n",
    "        self.selected_features = self.feature_selector.select_features(X_sample, y_sample)\n",
    "        \n",
    "        train_df = train_df[['Id', 'ranker_id', 'selected'] + self.selected_features]\n",
    "        test_df = test_df[['Id', 'ranker_id'] + self.selected_features]\n",
    "        \n",
    "        print(f\"数据加载完成: 训练集{train_df.shape}, 测试集{test_df.shape}\")\n",
    "        return train_df, test_df\n",
    "    \n",
    "    def _clean_data(self, df: pd.DataFrame) -> pd.DataFrame:\n",
    "        for col in df.columns:\n",
    "            if df[col].dtype.name == 'object' and col not in ['Id', 'ranker_id']:\n",
    "                try:\n",
    "                    df[col] = pd.to_numeric(df[col], errors='coerce')\n",
    "                except:\n",
    "                    df[col] = df[col].astype('category').cat.codes\n",
    "        \n",
    "        return df.replace([np.inf, -np.inf], np.nan).fillna(-1)\n",
    "    \n",
    "    def create_stratified_layers(self, train_df: pd.DataFrame) -> List[List[str]]:\n",
    "        unique_rankers = train_df['ranker_id'].unique()\n",
    "        np.random.shuffle(unique_rankers)\n",
    "        \n",
    "        return [unique_rankers[i:i + self.max_rankers_per_layer].tolist() \n",
    "                for i in range(0, len(unique_rankers), self.max_rankers_per_layer)]\n",
    "    \n",
    "    def train_layer_cv(self, train_df: pd.DataFrame, layer_rankers: List[str]):\n",
    "        layer_data = train_df[train_df['ranker_id'].isin(layer_rankers)].copy()\n",
    "        \n",
    "        X = layer_data[self.selected_features]\n",
    "        y = layer_data['selected']\n",
    "        groups = layer_data['ranker_id']\n",
    "        \n",
    "        gkf = GroupKFold(n_splits=self.n_folds)\n",
    "        total_folds = len(self.rankers) * self.n_folds\n",
    "        \n",
    "        with tqdm(total=total_folds, desc=f\"训练分层({len(layer_rankers)} rankers)\") as pbar:\n",
    "            for ranker_name, ranker in self.rankers.items():\n",
    "                for fold_idx, (train_idx, val_idx) in enumerate(gkf.split(X, y, groups=groups)):\n",
    "                    X_train, X_val = X.iloc[train_idx], X.iloc[val_idx]\n",
    "                    y_train, y_val = y.iloc[train_idx], y.iloc[val_idx]\n",
    "                    \n",
    "                    train_groups = layer_data.iloc[train_idx].groupby('ranker_id').size().to_numpy()\n",
    "                    val_groups = layer_data.iloc[val_idx].groupby('ranker_id').size().to_numpy()\n",
    "                    \n",
    "                    pbar.set_postfix({\"模型\": ranker_name, \"Fold\": fold_idx+1})\n",
    "                    ranker.train_fold(X_train, y_train, train_groups, X_val, y_val, val_groups, fold_idx)\n",
    "                    pbar.update(1)\n",
    "                    gc.collect()\n",
    "    \n",
    "    def predict_stratified(self, test_df: pd.DataFrame, model_weights: Optional[Dict] = None) -> pd.DataFrame:\n",
    "        if model_weights is None:\n",
    "            model_weights = {name: 1.0 for name in self.rankers.keys()}\n",
    "        \n",
    "        X_test = test_df[self.selected_features]\n",
    "        final_scores = np.zeros(len(X_test))\n",
    "        total_weight = 0\n",
    "        \n",
    "        with tqdm(total=len(self.rankers), desc=\"集成预测\") as pbar:\n",
    "            for name, ranker in self.rankers.items():\n",
    "                if ranker.models:\n",
    "                    pbar.set_postfix({\"模型\": name})\n",
    "                    scores = ranker.predict_ensemble(X_test)\n",
    "                    weight = model_weights.get(name, 1.0)\n",
    "                    final_scores += weight * scores\n",
    "                    total_weight += weight\n",
    "                pbar.update(1)\n",
    "        \n",
    "        final_scores /= total_weight\n",
    "        \n",
    "        # 生成排名\n",
    "        test_df_copy = test_df.copy()\n",
    "        test_df_copy['score'] = final_scores\n",
    "        \n",
    "        rankings = []\n",
    "        unique_rankers = test_df_copy['ranker_id'].unique()\n",
    "        \n",
    "        with tqdm(total=len(unique_rankers), desc=\"生成排名\", leave=False) as pbar:\n",
    "            for ranker_id in unique_rankers:\n",
    "                group = test_df_copy[test_df_copy['ranker_id'] == ranker_id]\n",
    "                group = group.sort_values('score', ascending=False)\n",
    "                group['rank'] = range(1, len(group) + 1)\n",
    "                rankings.append(group[['Id', 'rank']])\n",
    "                pbar.update(1)\n",
    "        \n",
    "        rankings_df = pd.concat(rankings)\n",
    "        results = test_df[['Id', 'ranker_id']].merge(rankings_df, on='Id', how='left')\n",
    "        results = results.rename(columns={'rank': 'selected'})\n",
    "        \n",
    "        if results['selected'].isna().sum() > 0:\n",
    "            max_rank = results.groupby('ranker_id')['selected'].transform('max')\n",
    "            results['selected'] = results['selected'].fillna(max_rank + 1)\n",
    "        \n",
    "        results['selected'] = results['selected'].astype(int)\n",
    "        return results\n",
    "    \n",
    "    def validate_rankings(self, rankings_df: pd.DataFrame) -> bool:\n",
    "        if not np.issubdtype(rankings_df['selected'].dtype, np.integer):\n",
    "            return False\n",
    "        \n",
    "        for ranker_id, group in rankings_df.groupby('ranker_id'):\n",
    "            ranks = sorted(group['selected'].tolist())\n",
    "            expected_ranks = list(range(1, len(ranks) + 1))\n",
    "            if ranks != expected_ranks:\n",
    "                return False\n",
    "        \n",
    "        return True\n",
    "    \n",
    "    def save_predictions(self, results: pd.DataFrame):\n",
    "        filename = f\"prediction_segment_{self.segment_num}.csv\"\n",
    "        output_path = os.path.join(self.output_path, filename)\n",
    "        results[['Id', 'ranker_id', 'selected']].to_csv(output_path, index=False)\n",
    "        \n",
    "        # 保存特征列表\n",
    "        with open(os.path.join(self.output_path, 'selected_features.txt'), 'w') as f:\n",
    "            f.write('\\n'.join(self.selected_features))\n",
    "    \n",
    "    def run_pipeline(self, model_weights: Optional[Dict] = None) -> pd.DataFrame:\n",
    "        print(\"🚀 开始航班推荐排序流程\")\n",
    "        \n",
    "        train_df, test_df = self.load_and_align_data()\n",
    "        layers = self.create_stratified_layers(train_df)\n",
    "        \n",
    "        print(f\"📊 分层训练: {len(layers)} 层, 每层最多 {self.max_rankers_per_layer} 个ranker\")\n",
    "        \n",
    "        # 训练所有分层\n",
    "        for i, layer_rankers in enumerate(tqdm(layers, desc=\"总体进度\")):\n",
    "            print(f\"\\n第 {i+1}/{len(layers)} 层\")\n",
    "            self.train_layer_cv(train_df, layer_rankers)\n",
    "        \n",
    "        print(\"\\n🔮 开始预测...\")\n",
    "        predictions = self.predict_stratified(test_df, model_weights)\n",
    "        \n",
    "        print(\"✅ 验证排名...\")\n",
    "        if self.validate_rankings(predictions):\n",
    "            self.save_predictions(predictions)\n",
    "            print(f\" 完成! 使用 {len(self.selected_features)} 个特征, {self.n_folds} 折交叉验证\")\n",
    "            return predictions\n",
    "        else:\n",
    "            raise ValueError(\"排名验证失败\")\n",
    "\n",
    "# 使用示例\n",
    "if __name__ == \"__main__\":\n",
    "    DATA_PATH = \"../data/aeroclub-recsys-2025/enhanced\"\n",
    "    OUTPUT_PATH = \"../data/aeroclub-recsys-2025/enhanced_predicted\"\n",
    "    \n",
    "    all_submissions = []\n",
    "    \n",
    "    for segment_num in range(3):\n",
    "        ranker = StratifiedFlightRanker(\n",
    "            DATA_PATH, OUTPUT_PATH,\n",
    "            max_rankers_per_layer=1000,\n",
    "            n_folds=3,\n",
    "            max_features=150,\n",
    "            segment_num=segment_num\n",
    "        )\n",
    "        \n",
    "        ranker.add_ranker(XGBoostRanker(use_gpu=True))\n",
    "        ranker.add_ranker(LightGBMRanker(use_gpu=True))\n",
    "        \n",
    "        submission = ranker.run_pipeline({\"XGBoost\": 0.6, \"LightGBM\": 0.4})\n",
    "        all_submissions.append(submission)\n",
    "    \n",
    "    \n",
    "    # 假设 all_submissions 是包含三个DataFrame的列表\n",
    "    final_submission = pd.concat(all_submissions, axis=0, ignore_index=True)\n",
    "\n",
    "    # 保存为CSV文件\n",
    "    final_submission.to_csv(\"final_submission.csv\", index=False)\n",
    "    "
   ]
  },
  {
   "cell_type": "code",
   "execution_count": 18,
   "metadata": {},
   "outputs": [
    {
     "name": "stdout",
     "output_type": "stream",
     "text": [
      "完成预测，总计 6897776 行结果\n"
     ]
    }
   ],
   "source": []
  }
 ],
 "metadata": {
  "kernelspec": {
   "display_name": "torch",
   "language": "python",
   "name": "python3"
  },
  "language_info": {
   "codemirror_mode": {
    "name": "ipython",
    "version": 3
   },
   "file_extension": ".py",
   "mimetype": "text/x-python",
   "name": "python",
   "nbconvert_exporter": "python",
   "pygments_lexer": "ipython3",
   "version": "3.11.4"
  },
  "orig_nbformat": 4
 },
 "nbformat": 4,
 "nbformat_minor": 2
}
